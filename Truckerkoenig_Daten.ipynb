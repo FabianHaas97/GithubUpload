{
  "nbformat": 4,
  "nbformat_minor": 0,
  "metadata": {
    "colab": {
      "name": "Truckerkoenig Daten.ipynb",
      "provenance": [],
      "collapsed_sections": [],
      "toc_visible": true,
      "include_colab_link": true
    },
    "kernelspec": {
      "name": "python3",
      "display_name": "Python 3"
    },
    "language_info": {
      "name": "python"
    }
  },
  "cells": [
    {
      "cell_type": "markdown",
      "metadata": {
        "id": "view-in-github",
        "colab_type": "text"
      },
      "source": [
        "<a href=\"https://colab.research.google.com/github/FabianHaas97/GithubUpload/blob/main/Truckerkoenig_Daten.ipynb\" target=\"_parent\"><img src=\"https://colab.research.google.com/assets/colab-badge.svg\" alt=\"Open In Colab\"/></a>"
      ]
    },
    {
      "cell_type": "markdown",
      "metadata": {
        "id": "O4dq7y23iV2A"
      },
      "source": [
        "Mobility - in our globalised world it is one of the most important qualities. The immediate connection our mind makes when hearing this word is probably to vehicles of all kinds: cars, trucks, busses to name of few. Despite actions against climate change becoming increasingly important and electro vehicles on the rise, fuels still play an essential role in our daily life namely when we go to the gas station. Naturally, there are many gas stations in Germany which makes one wonder how they differentiate themselves from each other given that all sell the same product. In the following notebook we will be trying to create a data-driven pricing strategy for a fuel station of our choice. For this purpose we will be focussing on the 4Ps of marketing with an emphasis on the price. The strategy will be based on historic data. "
      ]
    },
    {
      "cell_type": "markdown",
      "metadata": {
        "id": "WAIhYTl0SnDW"
      },
      "source": [
        "As a first step the library \"pandas\" is imported."
      ]
    },
    {
      "cell_type": "code",
      "metadata": {
        "colab": {
          "base_uri": "https://localhost:8080/"
        },
        "id": "uUT84q8Qjp6I",
        "outputId": "1abe0513-c975-4109-db94-8f85bbd19e17"
      },
      "source": [
        "import pandas as pd\n",
        "print (\"pandas was imported\")"
      ],
      "execution_count": 2,
      "outputs": [
        {
          "output_type": "stream",
          "text": [
            "pandas was imported\n"
          ],
          "name": "stdout"
        }
      ]
    },
    {
      "cell_type": "markdown",
      "metadata": {
        "id": "JT0xFQOrL_BF"
      },
      "source": [
        "# Station"
      ]
    },
    {
      "cell_type": "markdown",
      "metadata": {
        "id": "K_Kz-nEkXADz"
      },
      "source": [
        "Given that we only want to come up with a strategy for one gas station, it is necessary to have an overview form which we can chose. Thus, the available station are examined in the following:"
      ]
    },
    {
      "cell_type": "code",
      "metadata": {
        "id": "1Wx1aWOFPgs4",
        "colab": {
          "base_uri": "https://localhost:8080/"
        },
        "outputId": "cf7ac6a4-d1e1-44df-b5d7-8539526dc9c7"
      },
      "source": [
        "!wget -O stations.csv https://dev.azure.com/tankerkoenig/362e70d1-bafa-4cf7-a346-1f3613304973/_apis/git/repositories/0d6e7286-91e4-402c-af56-fa75be1f223d/items?path=%2Fstations%2Fstations.csv"
      ],
      "execution_count": 28,
      "outputs": [
        {
          "output_type": "stream",
          "text": [
            "--2021-06-29 13:11:30--  https://dev.azure.com/tankerkoenig/362e70d1-bafa-4cf7-a346-1f3613304973/_apis/git/repositories/0d6e7286-91e4-402c-af56-fa75be1f223d/items?path=%2Fstations%2Fstations.csv\n",
            "Resolving dev.azure.com (dev.azure.com)... 13.107.42.20, 2620:1ec:21::20\n",
            "Connecting to dev.azure.com (dev.azure.com)|13.107.42.20|:443... connected.\n",
            "HTTP request sent, awaiting response... 200 OK\n",
            "Length: unspecified [application/octet-stream]\n",
            "Saving to: ‘stations.csv’\n",
            "\n",
            "stations.csv            [     <=>            ]   1.79M  1.34MB/s    in 1.3s    \n",
            "\n",
            "2021-06-29 13:11:32 (1.34 MB/s) - ‘stations.csv’ saved [1880990]\n",
            "\n"
          ],
          "name": "stdout"
        }
      ]
    },
    {
      "cell_type": "code",
      "metadata": {
        "id": "1C1r5HT4Mm2l"
      },
      "source": [
        "pd.read_csv(\"stations.csv\")"
      ],
      "execution_count": null,
      "outputs": []
    },
    {
      "cell_type": "code",
      "metadata": {
        "id": "kWqj5Q3FMpOP"
      },
      "source": [
        "stations = pd.read_csv(\"stations.csv\")"
      ],
      "execution_count": null,
      "outputs": []
    },
    {
      "cell_type": "code",
      "metadata": {
        "id": "WUFnP4DQMriC"
      },
      "source": [
        "stations"
      ],
      "execution_count": null,
      "outputs": []
    },
    {
      "cell_type": "markdown",
      "metadata": {
        "id": "JHH5rU1dXU_S"
      },
      "source": [
        "Since we live in Baden-Württemberg and Pforzheim University is located there we have chosen a city in this Bundesland. Due to the attention it has gained during the ongoing COVID-19 pandemic with its modell project and the headquaters of Curevac being situated here, the city that was chosen is Tübingen. In order to check what sample of gas stations in Tübingen we can chose from, the data set was examined."
      ]
    },
    {
      "cell_type": "markdown",
      "metadata": {
        "id": "RxV3rO3DM9jP"
      },
      "source": [
        "In total there are three available gas stations in Tübingen. For the price analysis and price prediction, the gas station \"ca944555-1ee4-4228-979d-8313690ae950\t\" is chosen (Aral Tankstelle, Reutlinger Str. 72, Tübingen) due to its proximity to two very busy roads - the B27 and B28."
      ]
    },
    {
      "cell_type": "code",
      "metadata": {
        "id": "zwciADv1NAKD"
      },
      "source": [
        "stations_Tübingen = stations[(stations.city == \"Tübingen\")]"
      ],
      "execution_count": 112,
      "outputs": []
    },
    {
      "cell_type": "code",
      "metadata": {
        "id": "fQDx8Bk8NChR"
      },
      "source": [
        "stations_Tübingen"
      ],
      "execution_count": null,
      "outputs": []
    },
    {
      "cell_type": "markdown",
      "metadata": {
        "id": "66nS6ldP1nLq"
      },
      "source": [
        "![image.png](data:image/png;base64,iVBORw0KGgoAAAANSUhEUgAAAZAAAAELCAIAAAB4fEcbAAAAAXNSR0IArs4c6QAAAERlWElmTU0AKgAAAAgAAYdpAAQAAAABAAAAGgAAAAAAA6ABAAMAAAABAAEAAKACAAQAAAABAAABkKADAAQAAAABAAABCwAAAAC953nNAABAAElEQVR4Aey9BXgV17r/H9077u5uBA8WAoRA8BZ3aUuhWJFCcS1QijvFHYIXtwQokuBBYsTds+Pu/8/saXP4n55znnP7u6f3Ps9lSiezZ9asWfZ+1/d917vWUmxsbFT4dPyvLIH6+nplZWWSRh0pKipyLi0t1VDTVlFV5GZ9XYOyipL8aZ2ikhKBFAjT0MBbSvxUUMjOys3Pz7eystI3MKiuqoqMjNTT07OwsMjOzuZCT1//wf37EomaT5fOjQ0KvKWionz+/IXPPusfGhrK6z5dusjy8oyMjfNlBVlZWTo6OioqKubm5opKCrU1Dbdu3XJzc3N0dMzMTI2IiGjRooW2tnZqaiqR+/n5KauoEENdba2KqioXHLU1NZWVlWRBV1+Pc4P8IJ0cYtY4E0zMck1NjUQiEXMtf/vfOtXJj4Z6ZalUlQIgPlq2PFYFyq2srMzU1JTPyb/SqKys2NAgRHvr1jVfX9+Kiopnz54pKiqT927duvv5+dbWNKqoCInKyyt68iQkISFhzpxZJ0+e7j+gl4GBgaqqWC9C/PX1v8Umj1uhpqauurqaCDds2LBq1SqpcKiSlPLy6rNnz6akpKxYsUJePApnzlz069nD2Fi/urpOJpM9ePBg5MiRUolyTY1CRnqag4N1XW29iqpyK0+3tm3benl5VVfVnjwb8OVXk7+ZMkVFojJ/4VKy062Dw507d+ztHQNOn50yZcqZM+dDQt5s2bxh1pw5CkoqYW/f7+XYf6Chtv7GjRtRUVHrNq307eaXX1Ds5ORmoG985sy5jt4dwsPDxo4bOXbs6G5dfYoKS5SVpdVVdUqN0rrGemX1ig4dOuhoaVGAJJIWVVtbS10rKSpzLi8v19LSsrOzow0kpqTU1dTeDwnq3b2fqYWRg4ODREW5orRMXUNSWCCbNGnizBkzHFzsdXT0SisqheJVlaiqSpPCk6kFzxa2Lq5OL0OfUwXNPJpTVpkZebK8QkqSp5rqklatPVOSExQUGpQpU259Ov53loAotKIwiwLZ2CBIGhLPI/5wAYKAVoQhgIgFXCsrS9TU1MC727dvm5uZcZ2RkQFkgF9gQWFhIZD19u1bMzNzfT192j3Yl5ycApxpa2sZGxvb29vTuO3s7SkWiaokODjYzMyMF2md4EpRUXFYWJiPj49EqpyXl5eTk9Oufft6efpIANDGd5WUlbkGjZDpqspKWjk3SUZdfZ08efwSZJ6DnxxiAPFafASmCTGIMCAG/SdngvEiIbmoramXd8GUgGJ9fQN4yEtArbq6OmeuRZySf1ahorzKq11rUjVq1KjY2NjWrdv07dtXU1OLGAoLi8LCwpcsWX769OnOnb1HjBhZV1fv6empq6fNV8gfUZE5DqEeGhVEBOROdbWAtnyua9eu58+fB2u4eetWoL+/P5K/aNH3ZKiysu7x42BdXV0XVxfwTipV1tHRatmyuZAJRYWqymqg39DAsLqyTLG+7uq1KzExMZRGT/8eRoZGXbt2O3z0aFhE1NixY+wdHIJuXwoMvAeGlpdXpKSk2traeTbzcHR0LigosLezf/fuPZiSnppuaGi4f//+mzdvZmbnpKenmpqaKygopaakRUZFxMXFAUZZWRkbNqwH2VXlOKKkpGJsbPLkUXDHrq3y8mRPHj/kfkpKEl8hpyoqqjNnzayurnr2/IW2jtazpy+laqrHjh/btn3bo+BHADTVoaKknJ9fUFlRXlFeXlNT++LFsy1bt0qkkrKyChVVKc04JSmnsKjI26tlp05ta+vqLMwtsnOzKyuq9fQMrCxtkhLTsrJkFLiNje0vly7FUT0xMTRayvrT8b+xBOAaJEsUWi74iUgXFxdXV9Y1gEv1jdWVNVUV/F9dX1fD77ra6tKSorzcbHqzyvKK2uoauruSolIw7c3rt7nZOSVFxdmZWceOHOVORVk5AVKTU9JSUtNT07jz6sXLnKzshrr66sqqzPQMzkF3A7koLS7h6f69B6IiPuTnFVRVVPOT8w8rV2dn5uXnFe3cvqNAlt9Y30D8stw8YiYA8XDmpnidl5ObkZYuRFUvMKu/K+6P74i5Jqcf5/3vwn/88+N3xftlpVXZWbLQ1+/Pn/tFHolQdGIwiFtpaXlVFcVFyQr/6Oc5QNr09HQuqqqqMjMzz5+/OHDg4F079xKgorwmOyu/rFTINf8qK+oWL14KRxg//gvCl5dXVlRUcdF05OXlx8bGl5SUkUuoVlxcAo+41tc3DAg4m5Geky8rbqhvTEvNHjlinBgnP+tqG2uqhWKprRXKraK89sb1O8WFJSUFhXevX0+K/bB13ZrDe3YePfBzfU05oaBpw0eMioyJffbqzZfjPx/0Wde+vTr4dW1jYiAtzk/fummti4PtuFHD9+3edf9u4KP7D7p19unfuw84I1GRrlq5xLOZK0SYdPItWV6xkrLU2MTMycVRRULvomBnb6Wvr29r40gbqypvrKot0jVQV9NUsHUw9/P37tm7q1RdYfyEEc4uNj39u7Rt31xBScHZzdbQRHvdhlX2TpZde3Xu0tPHraVr6/YtHVztnFztCOniZm1hpdOyjb2ji7GWjoKppXarth7vIt+W11Q0Ntbs2bnJxFDDykJn3PjPbO0MiNDRycrIWG/Xrl3jxoyXqKjaWpp5ujt0bO/x+YBunxiW0En+Lzzoo2jBYsLEa/gRHEFNTYIGB6uiN6brRhTRAlXkdIbuEbKgqiIlGGJJABQTNTV1qEdqqsietNFPgAPIvKqq6v3792FSJSUlYe/fe3t7083yukQqffH8OQy/Xbt2d+VHp47eyLO1tTWsgZTAnVQlKsHBIa1atf7w4UNSUoKJiQlNHDhAn3J1cyPNAtDKmQxgwSsgAqQJ3iHoelIpj0gDwUT2JOaOM3fE+5xFkiXeFAvhX5w/jqG+rhHSB2vgHBYeBmdUVVVBsyCbycmpkEGFRqXExGRNTZ3aWhLSqKjUSC7oumGUKGtGRkZJScnQ0u3bdsAyKM7c3DwtLU0YA7gHFers4zN79mzYSmBgELGhZmpr6xAPnEsmK3j9+jXfdXV1JcuUMOUJPdm4cdOgQYMGDhwYH5+ASnXgwGHyMmzYMIoE2oKapa2tIfDBBpRQperqhvCw90ePHtbT0TI3NYGgeXdoP3HyxAUL5iYmJPTp00ddg0NNX1+Pet+0cf37t8/LSiucnVx+/fXh2LHjoyKjHz1+Ym1t4+7eDAYHF16+fDnl/PTpUw1NLUhxniyH7JPH06cD1v+0KSAgoKq60qtdGw0NaZu2rb+YMI6Kfv8+zMnJsYdfr7S0VEcXWzTWLl284X5UtJGR4ffz5qirS4OC7k6ZOjknN6uuvlJDU03fQPf27Zva2prVtfVVlRU00aKCAkg3XZdUTYW+iwp1dHKgItDOJ06cTJxh78J8vLv+tHrtgQMHYbVpmbnz58+nM3j37o26upZvt55r165r3rwVRd2v/4DHDx+R+G8mf/M3qfgXDeLTo7++BEArUVyReSpbRCskjH6S+6AZ/yMVQICyChRdRVlJVQ5PaqL9qKZaICl09ciAvoHetzNmImbAEzKWk5OFYkjjw/bRpm0rYEhbR4e29fDhwytXrkyeNKVFy5aFBQXIG4+KioowYG3btm3JkmU0ZV62trZCdLEkODk5ubu7t23bmlaooamJ8ezx48ctW7ZETtAHKTERtkg8AETKyQiYqGegzwVPiZ9kNxWseJMcAamceSSemwL8i4umsuIiJiYObGrf3ovwz5+/RLhJJ2WF0KIUc2FvZ7tnzwE4FLnjo6VlBRQFj968eUP2161bZ2dnR6G9fPn63bt3oAwxEDL09dvmLZppqKvBQTjk3KoCwxaByS8lf+LECa6xQ8XHxwPNP/zwA8XFI3KBvQ/rD1qnkqKQqaysbFtb24SEePQ41Gce2dlbEyeILWRZWaVIVhwQcMrO1nrPrm0RYWFSNWU0o7fvQjE7UuCpGZmmZhaRH2IcHZ2KSoptzA3AF7T48PDIguLS1ORUr7bt/Px6ovUPGjQkKCiIWsZYBxDTqdClWVqZZ2XmJEOrhe5QSVtLu6a+0sLCzNTMyNHR/sWz5/Hxae7uTkZGxjmZsrj4OC1dJT7K8dlnn61evZoUOjs7RUdHg8XULG2D8qEFkhfoP+qnibkV94uKShrrBJ1AKpFYWZmnpiQ1NNTRTdJc6Upv3LyTmJA6ceKkwoISW2s7TU3NHj27h0W8Ly4uolUUFZeEhUXdvRPUrm17cNnKyjo3L1tLU/r69cvFixd9YlhC+/vfeQiwJDfiUM1QHsxGzs7OSHJtTS2MCcF+//49cijv/wmpoKaujoYPKOzbu9/BwUFPD2mpl0rpxlUyMjJ5ETlBF8jKykROiBOT+bHjR4EYBCw3NxerB3b0X365DEdo36EDVAjEQUvCkqWjrX3v3v2u3bqEvQ9DEsaPH79gwQKkEVF/9uwprfnXX3999eoVpneB4qmqAlggIHDAV2jiFC83wSzSJlUTCCDBSDm5o02LeRR/8gpPyXjT8e9UDYEJRvxAZ1DQvX79+lRWVmOXs7GxYnBBTU2qrIz1X1kP+5O2HoY+npJTTU3yrYbNGwsLr3fq1AnW8/z58+vXr3fq5I0EkkEixPrDUx0dbTnvg8sq8zWJRFVTU0NHR9fQUJ/IKSU/P1+sLQMHfoa1C+sSYox8kilSRfIocMqqrLScSnRzc9fSkkIlEFQNDYm+vi7xFxeXAOkC/62sycrM6NSpw87tW9+9CVXAYkkh1QkJLisrhbGgXINcUDYU704dOm7atLFHj54rVvxIZS1ZvvLg/oM5OXmPHj3C0j581Kh5c+cWlxQ7u7iQEYB70aJFhw4ehgk6ODoSYWpq0ofoD2/ehFZUlMKSaGLQyehogZbu3r2/sLDg88/7GRhB04oAdNAZvCspKaadALJGxgYwpuTkJF2ooJZGTQ3xOxobGxWXF5WXlJYUF9bV16irqTo52ddWV8ryBXNVfUM1VMujmXtWdjYcFgtaq9atbt8Kunbt+vQZM3bu2Dls6PCrV68Xl5Tr6ujfvHl73PjRaBJzZs9NT0/Lyc11dXF58uTxJ8CitfxvPEQhJGVcIPOoEvTeyP+HqCiPZh6Ik7KSEr0laEUrf/HihVSqFhISQrvEOt6iRUu6uDdv3hL++fNnzTw8uC9KoLm5GV1ut27ddu/ZWVRUCGa5ubtXVpafPHmiW7euLVq2oJP069EdqRRGZJRUAgMD0Zj69usHRFpaWKC/TJ48+dChQ3TpaEMccDsED5HgBUtLS5AIxGF4UYvutLqaxs1PIIlccI3M6xvoi1njLNIuLkABsQ4I0BSeXItY9u9UDyEJz0iok5MzZUZ/TsJEcMEYCGOqr0MDFSzuWNNzcnKdnWy2bdvr49OOyBsblCorqjQ1tJRVFF6+fMVo2rhxY1DxDA0NkEBUIa6JDaYlZ42MAwJwpFqJzoDXiVYikXJHGA0khNwAD0ryYkVFJfYmNMTExERqkIFdDw8PXV2Nqqo6dXWGMklVvZKyUkNdXXFRYV5eNgyuUJY/dtQodXXJrRvXzcyN62qqzUyNDQ3062prYqKj165ds3vf3j69/Hv27c3w5FdfT0JBNza16N3bf+bM2dgo16z5ER3ww4eY6dOn6+jp7d23r4AMF8JaihOTEn755SKFSrH09O9JNwP6ZGdnvHr1umcvP9TS6Jg4dTV6C4UdO7fVN9TQBlq3aUUlJiclYwVMTEzy8mr3/HlYZXUZ3Iz+LOpDtKaGOrFpa2vBvx7cu58vkzU0VqsoU84148ePoTzpkoqK8guLZBKporqG1NTUqKi4MCoyIvrDh7q6WoYujh079+bdmzt37sLiKeXo6HjGLyysrPft2/P+XYSpqYmSssLAgZ/Tia5YsTwuPvFvnPzfaRafwvyVJYA806b5IpBEf9i6dWtkXllRiUE3CAtk5MG9e7169aIDhHkZ6BuBNefOnfv2229NTc00NDQdnezKy6qIoKCgEHUAIKCTBNqQbVrzpMkTw8PDGX7CNAB9mzp1anBwMDwLogHLQPjRaDCO9OjRY+XKlXwdkxYG6fbt2wOCzTw9Xr54hYsDuhKCS0rwYICJCD+VlMpKS9EOUDCBM1ASZoHGRIKhZigmtG/SCYCSHvLFmTvkkS9yiHxE/Ekk4Bdf+WdlTkb4uviUd0EEAGvUKLBGuaqqgvt8l7RpaGgJYQS2KgQmzl9++aV9u47ogBcv3hw2vD8MlHSSJAYVgSpAnGCUPHcEWFJSInLSL+dwgrRziNgn2hhJAjdQkwnLi3wGWimRCJJF7igEMsXoKmrUwM8HA+jcJ0LMdCAaXguC74KKsrmFhV6lDgme9e10Bk8y0lKhXwDVh6gwK2tTqCEmtsLi+ojIMLhbvwGjd+z4ceKkyc+CH3Xy6R5w4mRMbOzy5StVJJLQN+9IulSqjtZ/8tixhMQEBnkXLlxIvT97HsKYw/RpUykolF/IztatVWi4egZaGMVwdDA21ivML/r55z20H0ZLkxNTGDoE7inAsvLyjh28MRf4+flFREZu2boJzbdF847btmwdN2acTzdvguGjQAuxtNU3NjJ0dnaEuGH6BGiUFME3SkAT9IeZ5ucXqihjL2vF+ENcXMJXXw4fN34M3J806+sZEn7OvO8ppYlfTzpy+FBCfOKmzRsOHjhgYW42bPgQobV8cmugAf3FB22aLzYJ2z/7+scB5AKjACKILV6UIiVlRSAGsoOF6/79e1ZWlqNHjcGMeuHCBdg75glMAOYWZmh52J4QG2ym9vZ26GUXL1709u40avTo7+fNQ1Z79e6FQoG/DjZjdXUNOzu7rt26gRctW7VYv/6nwYOGoN3AFIiksrLC1taGZkTTQcUAvAID79LISCoqIaoEKaTVkjweQbgcHBwICTBxB5NQy1atuI8mRnYIyRlQEM+gGMG4KZYG4SFufJefFBfHx6UhhhHviI84UzJt2rQBO3iDT/AUCwvQoKurQ3jQAbgCaNTVNf39e6mrYxastbGxMTI2QukCKXR1NRlJwAru4uIiVg4pRyknNt7lLI9E8BqDYQFPWMpIOdyN+0SNTketkmzuExsdBneSk5OxGFZUlEdGRmE+NzDQr66pAtcE/qUgeELgnoYm2Fhfm5QQDzxJVFR+3rmrTZvWL1++wO6Tk0tJKk74YizcDfuOtbXR1WvXHz78tVkz56dPn+3fu+/+vaDQ0PfHjx8fO3YsRvdbN2/6+vUgNXNmfbdu/YaDhw8vW7r8/oP7Xbt0wY4W9j7c3Mzcu1OXjIz0iMiI2tqak6eOYpXHqFRbVwakQhhzc/Jbt25JzWI6UFaCFOfHxiRmZsr8e/U0MTFNTU/HBezy5Ssjh4+El505cyFPluXk4rx71+74+ARnObeFNTLsk5aaAa2rqqxi3BHFGf2XQmIIVUlJpbys0tbK7sc16yLCotp5tdu954CPTxfP5s0pOl/c3+obv/9+LuW5efPGEyeP3bpzM/pDRDWDiYoNFD1t9RNgiY3/f+b8RyH8d9KBhQg5x2KFlQqoQs7lYGQCFlhYWTTz8GzXHj/DdufOnlm/fgPmhPT0jGnTpty+fQvdBBElPMYmyDbWLDjXrFmzIiPCraytTU1M6MZjY+PgXGcCAuhCiRxeEP0hBuMOcogFFy6G9QpQ27Jly5AhQ4CJs2fPcMaIAxWCQNHssAHBtkBSRh6ReZ6SKc70+XyO1guaiNkkMBfkJS0tDdjlZ1OBiG+JPzmLFwSGMXHmJwHEs/hTCPH7wSMxZuAP45F4m2CivZxvVlVVx8Ul5uXl9uvnh6lLIlFKSEjS1tbNk+WSTVtb67o6BjqEtIk4Jb/47cT4Afod5i3QCgkXUFB+AENiXWDQgdLq6engkIWnG8yCkunUqSPWNDgm8YPCGNRI1Yb1G4EwVHgVierc7767ePEC+L5j6zawqaG+tlWrFtU1lWVlJekZae3bt0tKTlBUwvreTFNTq6FRwcnJGZMZxRtw7jIse+rUaSYmZpx1tfWmT50eHBKcK8sDCn19uy9ZvOTzzweGhb+f+e1MuNWli5ctLS1OB5y8fz/o+IkT1I2tvbGowKLvl5ZU8EUsVh8+JKqqKNJFHT1ycuDAzzZv2TJr1uy5c+dpa2rPmj17+/btmOiqq8o1NTRXrliP0bJly1aa6hpZWbnQa1DPyNAMRZt/VZW1eXnFaL70Plpa2hUVNSrKajlZeWmpWfO/X3zjxp2BgwbTU1pYWNK7FJcKbqjffTfHz8/3wsVzlpbmvXv7//ogiBFMOgZijo2J/QRYvzW4//QfUQLFr/xNhOSy91/7NPLPGLugoWApqMPhMC2N0fpsdw/39PQ0rBIoemfOnEYM7O3tJn09qaBQhm0+PSPVxMS4tKzkwa/3U9NS+vXru3XrVoxZDOcPGTrU3MISa3rLVq11dXQZkDpz5gztBiWRSPoPGEDveurUSSy76IbACncMDA2g61VVlcg8ZB5c4OjRsycwcfky8mB58OBB3CbBLyGdgr9SOXorCgICo4MJR0Pjd2zByiPobpA+NEdUraZSEi8IxlOuxQuuOZrebboWL5rwTgzMWVDeBBv576AihMNiJfwh5diw3d1dMJEgtKZmxmhnIAtoxWPYB1jAxR8BiwgvXryEURx2RcTy2hDCcR/FCqKxfPkKUBXHAoAJymluydwAJcb+0JsBMopLVVkFb0qGddELN234SUtTw9HeFqfN7JwsTS3NwwcO0vG8fvN60uRJ78Le9h/Q79mLZ1k4gxUUgms1tbUlJaV0GObmFhFRUe3ad7Sxtr927dqBAwdOnjwFzwq8G/QuPMy7c5cnj4OvXLnWubMPPZC9g6OdvR3Owd18uwfeuTtixIjjJ45+N3cuKmyHDs0tLM0hxZQSpj0He3s0wfCICHq4169ewp0z0nMNDAzv3AliXKWuvuHilV8ioz5QB7Hx8UBwcWmJhbmJooLgdYyWiy4MWjU0MC7UUCArzcktZFjbyMikVeu2FRXVZWVV6lItWV7R2NFf3Ll1f/u23TZWDk5uDrSTt2/eDBs6LCY6ZuTwEeGR4cYmBsnJickpCYG3bzYq1DUqNFRVVFBcVN8nwBJa219wNInN3100/fy306BYjnyXlkJMNLTU6Jd+/vln7MSwLS8vLyMjqE02gvf27Rsfn86aWhoODvY471RUlGF7BW6As1atWkGI+By87N69e9OmTiU2AAXjDo0S66m/v3/z5s1BNEDEQF8fcYdQREZEwSx279795MkTO8Ta2rpz58681a9fP76OeGNGxR6Poa1jx46jR4+2trER0YqvwCwYV0IqADWGpUgG4ZFqvgjjwL6GNscdgInAHKQN+RdZklgs3KSgmo6Py4q3iEp8xP2P0Y2bTXfE+5yhce/ehUE2PT09hOdy0JFrc3xUZFXC18V3/whYmZl4iqdDUdEKiUoeP/IreP+vXLmqS5cusMV58+ZNmzYN0AfCRFpHZsigaOSCJqBf29rZ2tvbN/dsBi9zdHG+ef06+jtwlpKQFB7x3sHBDiMj43Q3b95QlijmyWSmZqaaGtpYoyvLq1LTM3PzZM7Ort6dfLp09T116hR9DMP/W7ds5+uqUrXNmzdj7mQmEJ8IDg6ePv2bxYuX4e4AjO7YsWPy5K+D7gX26dvdyFinprYyMjICe5murr69naOtjT1+XrNnzclIz0SbhnO9eROGsj90+OBcmQxlMD4xXl1Tg2FKyhymD3oCnWZmpqUlpRAofDv27ztsZWWHaV9NTX3MmHGWFlYM2jCgERR4DwQ/dChg44YNrs5uu3btnTp5xldffX3z7nWeAuWhr9/hY49R9djxI3379YFbQaxyc7Jgf+jlJIb2QDo/Gd0/bvz/2evfZeBvX/njnb89+ydXjGdlZmanpiajYalrqC5dujQhIR478U/rf+zV+yGdXHxCLBSGhlhZVYb+RXOkh0QlUZVI6T/xHu7u57t82TI7Owfw5dzZC0yGYLDf3a0ZWh64gKhidnnw4CG0iHhUJRJs/JAmZpkEnAk4evQo0ANlAH3gXzAIEBAGh8yIZnsUJZ7S2dKaAVYaGQcIZWFpiTSW4KlfXS2qhIACrVA8MFeBXMAWN5uwqakAKCUiAWu488cS4z5xEgBVl2tiaHoRKPv9FTiaeCkMEXi1a4WRGG4lN0xx/7fBDV4nfhJAbL9H0nTx2w1eB9Nra4UJRkTShGyU1YQJE9Bivvvuuy+//BKNGIMLUlZaXoJaKqYKBAOjIcXGxoYZqakk2N3Do6Sk6OTRI+3beW3Zssm/h9/K1Ssow9u3b4aFhw8ZNvTS5Yvqmpqu7u4MSNA5lVVVM8/ByMRk+LCR+MHu/nmvhrpmdU0tluiUlLS6xoavJ0/6+ee927Ztn/ntLDdX97qGeqZPff31VHRDHD4YNNy4fp2pqeGZ86fQN8upofIifD6BGyCGNpCVkYvxnnxdvnwVr+SOHb1l+bex68XExTCUbGFtht9wRXWlilS1qramUm4/pdMyNzW1trZ9/PhZekYW3U1BfpFETYofw/adu6qrK0khbz0OfhIaGmpqpnPj5rXCvCJtbX3/3n0a6xRmzZw1YvjIx0+eHT1yvI2XFz1obXWtv5//xnXrc/Iyevp3Z/xEz8zExtpOAX9pRWXBFvB73Xz6+xeVgFjmf5S9f/H5pmrCism4Um0tLi1MHxV6HppdRESEsYkhVu2bN6/36NEDYxN20xkzZlhYWL97C5687969u42tbVBgINOb8Y3ENuHi4oZXTquWbeiTly5bhrcElgsEtbAob+iwYXyCXnrR4sUkKSc729TM7P27dzgiz5s7PzIycu68eUcOH8bgQu9Ne0WAu/n64ngl+KwKY2Q1iBwOR1An2D5i2TQXGnG9efvW0KFDuQC2kGoGBwgGGSE7hPy7EgAduCNKOzgCMRSDwVa4z1PxkahXopZyk1IV1TRCyk3mv0Up/ymAFpLfBGp/gKe/xfnba3/4w1Q40okRiifih5ouquXOukwWQDMitRQC1FJLRxMOtXD+Aiw1fI4SLi8t09TSSklMNDMzuXHjGnOkC/JlML5FixY0a9Zs0YIFz56FALV0DHUKwiCps7NjcmqSk5NLbEy8lpaOp2dzqFZSEkN4ObK8fGoNJ5WEhKTEpOTFS5YCN6QQIrxixdIzAReGDh929epVEjNx4kToM/xl+LDBXbv6vHrz2sXV0tLKLDg4VElFQUMDBwulL7+YlJstwyh+89ZNfNmZgAXHKa+sbtOmZa4sp0FBaemKJUmJKXWNdb179x08eDBAzFFaVMy0QQ01tYS4BPwbhg0ZhoG/spqxBUVcW6joBqHbaJDlF2C6dLCzw9WjML+kpLDS3c11374DgOCF85dhjj+sWuvq5nH9+kWRk567cGrz5vUfoiOZDU4hoAuWFJV06NDpE2D9oUn+h28gOUgaZ8Tmo578X32VwHKpEM40I0QdBiA3vZehoHXt2qW4pHDt2tVJSUmxsdGwLTQ4DN5jxow5e/Y8LRvwQsU7E3AOGwdQFRLy9JtvvsFkTAvW0zUghhEjRmHMwjeCYcdHj+6BPrilo/hAoXC3oRvGwwvFE4q0Y8fuN6GhKETw/MOHD0Nt4PnEBmxhYEYBgXaBQcAo/qjACknlTPq5I5K1PXt/RmOCT3EHEwnEBMCSQ4AqwTiaygQxEwtFvAMOcnAtxskjcEq8FstTRDHxld/PYgzCmRnKYL38vkCa+BASxbDhRyxMuCkGkD+SX/7LE9WIVijnbr+Fq60VEFaEMy7ADjUNKYDFREtSTlGTqWFDhpLUpIQ4RieGDRuCSH8/by6G86+++gKH2lbNPcaNGwcFQ8tLTI7PzpZ17daxddu29+/fx+EzN1eGWxhsNfpDvGKDAtZ3tFJdXSiyvoW51Zo1a5gIjSsWYLdxw6alS5cvWbb0wMEDSopKOLuQO7wZiovy/P179Onfc8fOTRWVxdSPsalJWloGnrAKjSqYw91cPbEfwRYjwt8zVhj69kW7dh3evIt48CgoJS35hzU/jhk3Oj4+kZFoOxtbYYC4sRGrnIZUjdTQA509c3rQoMFe7b1oBiXCvyJDEyMKubSs0MrcQipRaahX0FDTTE/PbqhpvHTp8q49BxoblE+dPtmxfddz5y8CdvsP/ezq6nT+/BkmLRroa1dWlaP5fjH+C9z3f/553yfA+pdN8r/v4e8SIliOaKP8pNVy/DtfIDCHGLK2WpiXh4UYC2d6RjIaWddunWNjY+/evY3xddmyJU+fPsXoAHzQw3O4ujYTfbgEJ6znr359+HDrlq3Iefv2HWmOrFiCwNH+Fi1aKIgzH1GqWzB/PiwMCYEpAGSME07+5ptzZ8/Cg/y69wSqIFaoJ1AwWANGengEwYiH7IBZhkZG2KLENJNTvguG8pMAnOMS4gE+XoEuIcN2dnYkRtQTQTGgh69whwvyK1Ih3gKqADh+Am1iPPzE8QItkvCEpFSJTfyKWFBcc1u4RrLlCIXc/v5ISAnxcIh3Pj6LTz6+88drOU3jc4KfBLjadCYkP0X1FjyFZnbp5oPoMk0d2cZ0BTDhGAU0NtTVMD4LqyLw7Vs3mbiD00nv3r1fh76kq9Ax0HseHPzDGuhSWXpWOqVRWlrGsjPYwZjiFxr6Ni01d9P6H+ctWGSgq11aWjHru9ksL/PTTz/5+vrZ2dteOHcZMyIKFOvDJCYk2ttbHDt25ocffqDMXV3sHz76dcmyeXfu3gBkRo4anl9QNHTo8HlzFw0ZPGLT+m1v374HNejbfDp3ePnyZdfu3g8fPjWzMha4krKiLLuQQjWyNKChkC9ms1OmFGZ1GTqygokREwkqfH19k5JTMKJJ1aU0jMpabAtqaHay3By4qZKCcvdu3Sd+9c2Shcu0tXUGDBg9fPjIY0dPnjgR8OJlyIwZcw4c2qek3GBja6ai2jjz22kA1pJF696/e4bxnnR+Aqw/tsb/yJ0mWaLiaYXIG9wEeZPLmiBRyBvtUhRRLsSfcBQe8QrQU1BQRA9m6+wowdBTU6WqItm0ZnXr5i0wMLk3a7Zq1Wpjc9OzF86ySkMX384FhXnEjDWqsqyoZYvWgwYNq6youXU7SKKq/t3382bMmHnl6mVIx8DPPlu7du3o0WNWrvzBUE8fyq2lp4F6iG3l8KFDaChmZubTps24fTtw7ZqfcNT+8suJ8IKOndqNHj1y4sQvFy1ecP/BQyBpypQppJlBQNFNFBUVF1PyCISxpAlSCsDhQkn6374NpSiw7xA5KEMhkFNyByQhTgg5HK2prOQwJGA64MgnCCzGKdYQT3kFdGvCfV6HsolP/+ozbAcXrepqahBJJhk4YUFL16z9ASYLXdq4caOZuTlZI8HkgknXTCNHQx0+fPi9wFv0EPb2dpDiquIGVRWlS7+c27V7h42dDYU8a85cJSXldl6dNm/b+eDeg4cPHx89fhwLo7mFKdyNvOOqQt+Duoe3J5gYHh4pUVXDvPjqVaiujh5gGhYWlZ6eyUx2/IoDjpzcsWNb4K+3O3Rou3nb+ufPg9NzcGKIcnNzp/PjXSpCX1ePRvU0+OXhw3tcPVp36OC9aOFC1sYZNmwE0YJEdDA0XbLJDBssoYzzoHieOH4ckm5mbLRg4XxIn42tBTN+GhVqVZmPr6KMGYthH9R21tLQ1tFzcHCmI8Qz+asxk2gJS5evpJHbOtrn5+flyLItLE0cnCxTUhIKZLlammrUezFeXeW1Dg62nwDrL2rYtFQOhJMzkkazgCzw8zcW8HsqRCGEgCD/1BPOQU3SCMngpkRNmZVhoOsJMbFvXr3S1tTq5e8vVVNr2aF9ZVnpjl07m7dqrqOjcTfwzto1q6dNn6KppmJqYr5x49YO7b0rq5h23622vsHNzeNDTNTMmTNfvXjx+eefoy88ePDr1k1bMYv26OWHAohQ0bawU2Cwv3r1+oP7DwMDH+zfd4BWq6auMm3at4WF+Xv27AoOeVxeUYVLJCMA2E1QRbE3044xogPK/CQeWAxmMto3pvcBAwaMGDEMdQNkIceUAOKN7BGGouAa5OI+hUApcZMzaheRMGw/fvx40UrFTRGniIRipIwIIIZHkIjz97L8a//KAQuyAWwxQwWaeejgwdTU1O/nz2W9AVYHZFwiLT2dYiGpZJPCwZdi/NixzKQbPHDAuYvnt27ahCLfrkU7ZU21hsryn/fuLi4t/vAhUktHr1Mnbxa6Adhz8/K3bduBfy06eAMmawUFlH1GbEFA8JFyLikpW7tm7enTpyOjovJyCxi283Bv5unZAv/ydh28gh+HxEVFP3r0a0Z22qPH99esWxVw5lROXmZ2Lv4W5livcnOL9HQ03dxd3r99h8HwzJkjw4ePw3zOoml0qbSHJUuWUN3r12+knzty5Ai5YJgYHwig2a97d0CzKF+GFwJuaPoG2pjAiooLJOoSeiIU8qKiUiNDQ+ZvFhRiNKjv0L4T/novg5/HxqZI1VV0dfX6DuhPFh48fsAUCQ1NKSv01NVUGuob0KJqWBSorpGB6d9I8l9bt/8XvyaKn5hzJBMBlqOVYAOmKaBHIKE8pTVz0HPSVXJGYJFfOh+6tbS0FET4/p1rl86fbNuq2fARg2ISo1W1VM9cCSirK6lrKFfXkU74eqy2rvqBQwdwEZ4yfeqTkKfMh8NSQLPmox07tkeE0PVcXJzwmWeqhJOzsOIHHgx9+vTm5tIVy06dOp2XJwN9UNxIJPMNT5w41ruPv5dXq27dOyso1r9585ZpHmfPnTE0NoBJQQowGEOyAFYGCnmFXDCGSFNGOMk1srR48WKs73TCOGdNmPAlGMRsD9zayTXXZBykEgaAFBkiFMsB8GKytFA4gBHZF3EQeCJy4gS5yA5f5CAAN8E4Dh5x/T9y8HXhu4qK+IhgQgKzvvjiC7oEPB7nL/ge+zrmRcgj1DIsLAIDop2dw5rVP929e+/ZsxejR02YOGFSRFh029YdYmI/fDt5MuMY1Avm+Su/3FVVVg5+9JhehHd/XLOWLqqQZT9rqpcuWjx00OD0lOT6Ghb8SzYyMqBFubm5HJc7vk+dNv37+fOXLV8eFhFubWuK2d7W3kZJRXHcVyMdnZ3u3gsyMDJasGhx6NvIjMxCiZqkrKJGXVP3y4lfymSFD3591Ld/vzZeHlu3b3Nzcx49cuTXE7+SqCrPmD6lRfNmS5cwg3q/mlR14OcDTE2MHtwP8uncafCgzxkrYBzAWphwroeeLtf6cROV0AJ1dQwhUxJV1uFgAnwFCIvXMe41tA1TK52OPh6OzhY5ebKO3q1v37nWzN3J1dmpvqa+rqpBKtFSVdGysXL99f5z/16D6hs0Pvlh/dXNWxQqmqMcmgTLFO2Mm/L7wk84AofYuBFLuSQyLMh0Ntal1M1JjU1JSrpz+/bJM6eSU1M6dO445/u5Zy+cc/X0ePToAWsJPX0acjrgtE/nrszYBQ4KZDnjxo3/6quJAAQDNAh/dEwMI98sBAnlSUpKpIUxuPPo0cPyshK8q51d3OVj9gpDhgzG2R0lApME8sNQY+fOnXCuwb3r2rWrcChIFoqPtY0tcaIpoAMyswefLHmCGzDZ2NnZwZ5QCemWab6oJHIBViG/5B30IcsEhihxAfRwJr/ychBGP7kgZkISnoMvEobA4k/QnDA8bSJlPOWR+PpfXanCitWCXxLfJRkkCaGlisldbFw05QwlxB7UoWMnDDEwFO6gwm/ZsrW0uMzczFKxkZlM9d6dvN2atVixdOHJk6dZEZhZ65TYnDnTM7OyXjx/wUqLuLN06+r76MljHOvoJ6hoGE23bl0ZAsYHgoM1YSif5JQUzFVTpn5jaGSIuer58xdz5s5+++7dsmXLjp845u/vF/TggY2d1ZOQJ89fPN23f29dQy1rueTk5c1fsODrSZN+3ruXqdLxcTG3bj+sqavAlF5cXMjAYs+ePfbt23vjxk0+ROOsqChfsIBB5Pry8jIcYuDmzDJi8YmVK5aNGjXy5cvnOCqXl1dQDoVFmOnKcDq1s7NXQA9WUv7l8mXGH06fDsBQoCZtZEEuSFldQ/WN6zeD7t2lb8aLjcHokpJSbKzZWTnoksFPnisqqHTv3uOTSvgXtW3aLuIkfkw01iDtsAOG+7B2i6uq46yAxIrrukD4uUYgkUCssJBn6BWgo1iW8xhN7Omz8JjosV9+ded+0OOQx3hdt23d8tnTYDtLa0N95seomJmaJySkhAQ/6+nXnvVwH/76eMiQoQWFxQsXLk7PZE5O1rYd24nZ3c2Fxn316mXa3HezZmOp3bvvxMBBn2GViIyMQB6mz5gK6PBUS1MHm+5PP60nzctXrCIjF89fQh2DEeApig4CqPX0909KTGSgHasKQ9EkHkLHgADjgMAWjvIMFEIZKQqyhnoLR0I9pmli+aJlA08gtehuKkIV56oaYQYyMXDNBRFC1gAvfopQxU2ReUG7Pi7kv6hemz6DzMnpIkhNsQBb6OkF+fm4npBZJsowWNHDz1/klYyUMVxraWnKGhIsaSCMDSgqXAi4MHzU8MLsRPqGh48evH//rqqmktLesgVD+LtxE6aePxswYMDnGlpahw4dYZAuMPAO9PTLL8ZSsG3aelHgssIC/AwQ+Ly8QiNjQ9YaZoiDOu3Tr5+XV3tXF+e09Iy+vfqilS9bvqSwpNBAX5jiF/wsGDcMqo/Sw3SVn5tXVlyirqXcuYt3p44dLpw4TVfk6dl8/sJFq1YsT4hPioqKxoGD1otLIEsv5OTI4LW4mDG2Qw9XXl5ClxYdEwXFJiXwdKCQ4RHc9KkpmgT3WY+WRoI40KUVyDIoQh09/arKmoICPOMbcEyV5VV4NLOFM+ay4KICK9zj3tWoLtXAIeYTw2pqcf/xCyqM+uAznNEaaJcMn4lfpcqpP5ksD9lDaAkZExONnYL2x2rrOPhKJHLLpZJiaU72zp27FZRU9+4/9Prte3NL6y1btzG7IjkhKSosIj42/vyZsxPGTHBydIuOioWNd+vWiUg0NbVSUpKjY6Jx0Tp6/Bgez+MnTIAQpSQneXp6kKKCgnzsYjGx0U+fhkZFfcB8vnbtmubNPdt3aOfoaH/79q209JSXr55nZKTv3LWbJUn379t/YP9BIMPewQ7oYX4Zdl8ixycIPZF2j5IIDD18+BAkQsHEak6+BF8tZWGyDiYr+bUyKhxwbG9v31Q4dMGUCfQEWaU0KpmbKx8ipJvmcxArsJsL6BURin2AiG6E5ybo8B+vyH/0AdBKYFiNgn2NAifNoBW1jJso6yOiIpkYm8Eg6UsQWtgk9+oY9VNVqK2sy2NRU20tJwenCeMmxMeGJyTGhYQEC5lSEGY1hYdHdOrUCRRY/9OGrVu3MXXmx5/W3bpzawuOcgsXWltbQnl+ffirmlRNVpAPbOHLbm5uymIyWppa7h4urNNw+tSp8Mj3X6Kjfjn+afCT/II8Vw+X5cuXjRs7Hk+IV69fPQt5xtoPddW1BYVF9J6V1eX4LpwLOPPj+h8H9PEHhojQ0cEhLi5WT1+PrKHTMSv+0KFDsOwePfz69PHfsGE9k05LS0swXZWXY6KqJeVUBxWkrIKFURh/rqmpNTY2ASIBa7ocHx8f+qGG+jojIxYpkmpqsli+AuOGLEBkaWViZWVO+0EPZUYkS2uxjBpNRRjTWLVq1T8q/0/3/vtLAMGmNRMvtYjU4RwAE1FXU2eVfqjHuXNn8V1CvGkQCCfghUaAzZVKYo0ETE5Z2RkF+QVmFlYM91+4dOXA0WNTp33r59sTIdFQVU/Fe8DWrnf3nvv37IuJjhs8bLSygnJOdu6UKRPZBUZfTy8xMZE9C8rKyoePHA4Zqa6uunr1Cr6mN24Ik0KmTpty7mwA7dvezmPEiBEsgnzlymU8re7dD2KCblJSAtZTZODG9eu7d+9cumQZswXnfDeHKa8dvTsyU4essc4f2UH1kw9UhSO0/BTo2PLlly5dIlMwDoEwKtAEGzMzs1A8mTpHXw3zpx3TsGnKYBCtVt6mczU0NLmZlp4qYhBdOmJPE8cES4tHGPgo0A/SES1FCqn5n0IrIcWKAgSLAEqqGA8FuFHQkG2JVI3+CLsVxY7OSsLJIlKoCr2mLpWU0P4M9PS19LQTY6NPnjwYFPSYlSzgLK1btzh95hwDHTQbJi1jyMLq/PzFs2dPQ3bt2HHt6uWE+LiK8pIVy5czMYulEWg2pibGqJAjRgwPDApkbZnKqgoVqURbXyfqQ9TrN68KCvMb6quQ/2MnDqemJeMAUVNblZGctfbHtUyZ3r1rV1xcDPOu6eCqqyrWrvshKjLBzkKYzkVvd/bMGWcnx5SklLy83JYtWgwY0H/RkqVPHv8KW4+PjyVNERHh1EB5ZQFTVg0M9ZgXLeBRQyNTLOhmWC/a1MSM9FB9jQr1EEBXN5fMzAw2qqAlyBX8egoNUxc9s5pUwmSypMT4zEyGKcphrMz7UVNXS01L+6QS0mb+ooNmB2kS+hxlZdourRmRw3LE6sYYBbgPc0YmOdNJsrZG3769vby8Tp062bpNS0Dk0aNHvL583uJ9B/a/i4goLCn9fOBgGI2HhxsqZfCjIGZ4zJ/3PcI8fcbsLj7dOnp7Mwg+YtQA/DyZL8K34FapqWnNW7aaP3+BrZ0DhHznjh02NlaJSeybUmJjZcanx46diUGUKco4KLZq5dm5s/fzF8HOzo55smyUGlZ9mzd3QY8evW/euIMCNGjgkJCnT3Db4T5D2t6dO98LCiIvIAjtGOlizHvnzp2gMIoeU3xIg7qasGIMJgy4gKOjI3fIl5+fHwtFoD6QfYCV+7RggoF9BkaCuzyohKoF8KFQgIn4SRCGEuO+WHmihghSiJDxF9Xox58RcPb3Q86zWOKC8mRwEH8ONWHxP2gj/v34x9JjQWp/e4G1ZRRRC+tr3V2cGT999eIJzQMLUUJCHFvRXLl8raiktGdP/8oKhbZtWr1kuSsUKC0NFD0WFNy1e7elpQmOneiGeBi4urvhvlBeWYnjl5mFEUb61PQ0E6qDzcpkOaVFFc5uDsX5OSA7pQQKYJGE9yUnpzKeCJGtKK80M2f1rjozc8OU1KTKqtqWLV1K82TwWcYZsVLhWFNe1mBhYZSSIouMfO3i4TH7228PHDhibCwo7Bjm4E2lFVmoigwFQqXpnMgy8Mw6XC5urnCuzMxMfLK0dPAdw+euliEaFhOlQEByFqXBxkqPpq1NR6XE9EHKIT+/VFtbamxk6uTkDOtPS8v4BFi/N7L//F9IARKFssPYLVLKmBoNurqqjNpl60Dm2cXFxSHbVlZWNBHGB6lgVuYdMnQQI8esUsTiClTkgM8GI6UsaCVhDxQVle+/m6uAuVcYy28If/XizevXTFI1szCHnb149ZL5N1q6Ggg8i8msWLmSLbZYGIT1vGNi4m7cvC2VqC9dsgTvU1xPDx7c27F9G5bu+2rCd0x+xq6EAYLhP58uvosWzWZRbQwjcCDAQkNdZ8f23ZqaukWFpcxfW7NuDTN+Fy5cyGRDRtYBlB49erRu0+bbGXhv3e7Zs2f//v2hk8CTvb09JUBPCyWEkPx2VlBglg+uFSRSuKmgwAYJ6AIsEi9eY/1BVLCmETMmDJga+iax8RSwk6tXvznfCvRNzraaUOzjKhWffnznv/ka2oBCqoInt3wmNtMtMzKgmVADwSNX2C5ESDAjJ7QBPi1XfBkT5ZI5cvUK9Q2XL5wrKiz0cHOnA6DembLj3szt0fPnh3/eN3v2wjmzZ5w4HuDi4ort3MzCzK2lZ8c2reRkM+v27bvr16+/c+e+o7MDox95+QVsAjZ5yiQI+4FD++kmK2tYKaGE1gJIVZTmQmNzcws1NdUwcrEYsZ2dPb2IGQhnZEwb49MvXj6hazQ20aFbrSkpozVu2byN9PTty2KH0tC377jz5EkIZ5oodREXH+/h4QEYUTvaeii8Ens7B5zyc3LyMErkyPKrWXKrvg4444DaS9QY+VQGjmkPOTmZo0YNjgiPlsnyaVrIAlv0EBUJgLRSOgYGRvZ2zmmYJJIzyMsnwPpvbrf/LDrqEv0Io0ZSUhItBtYDgYezeLg7Qbm4A5sgTGqqsEgjP11dnc+fP1daVgw3BghwdcGwTePw6emvLlW7dP4cUHXz6rWYqBh86hzsnbawCvfuXes2rD9z5jTrYfn4eLNaE7sDsDMVvbGurhZ7KAQGBSEzvfr2y0jPjomNnz9/4dXLV2bPmbl793bf7p0/69+7vqHOq7UfStyyZSsYsknPyEAR2LZ9c5cunff8vP/7+dOAlVs37+jrmTg7u78JfR8Z+cHA2AALC0gK/uLwI8IQpnQ4XUBAAAiIDYWuHr8KEg/togUjZiA1rwBMpAdK1ap1a8qNKdPACtjEcm4hwcFYvthYFHbQpk0byBcBwFAQk0ZPhLxO8yU8QoUo/o4CQhP/h8d/GrDw+cYwJ3xaDseUACSRRAoL7XNP0BkFzKKK8ZDV1tJAjfp5965tO7cLgKVQX5iTxcIvgHKfAYPSEhJOnjyBETApJRGAEKb7KUGvWvbrN4D5N0BSJ5+OgYF3Jk78kvXRKcAPUTF8gkEVVw/3YUNHsDPFTz9teBwcbG5pAU4lpaQzpEFZ6RvpJ8Vnubka8hXwgmLMzs6tKscDWRoWFqlMR1LfyJyHKVMmP3r8vF07V3Ut9dLiwsaaBiqOHUz09VnbXmndjz9VVFfBdGJiUvnoqFEDT545U1ZcjIlg/vwV33039cVrdueV6GjrYpMiq69ehUrVNYuKSlSlKkaGJgLRKy1V1xTmJwjloK3dqMA4qQWr7LPRGYvS0Omw9xq1KfeJQecoZf1E3LCwx9E9Qdk+2bAo9r/ioInQaPgSlh0YB30IvRM3Fy2e17tPLw1NjZLiEhsba9T+1NQUDw93LAKIemjo65EjR2D2PnM2oKKywsbWZv/JI+fOB7g5O8REhw/q3xdDhq2tDdshaOjobdt7wNDKetb8eeyhmp6X7tncxdjUwNzY9tChgzJZ7qtXwm6XiI2JqQAc1tb2LPWHKnfq5KlhwwazYtLDX+9nZKaxsRJKYk5OLuOJ/Bs5ctTixUswuodHvDl29GhjY8OK5SsTk5I+fIjes3vv7dt35s2fB6wwQkTjY4sCXflWlzgxY6HbuHFjc1YKNDGxs7MDhfH/CgwMZLUQFr1hQiyLarJzAdtwWlpZFBcXHT58MCDg9LXrVw8c3B8QcIqdfvr379esmQeuADRusYbQIDiQNAAdLKBZQ6ZAK67BIw4u/lld/kPa9c8C/4n7v8UvkkdAqJ7trdRIIba12ho2cBZc7UgdBjt2OsIoaW1jDVn4cc2qpPjYR/fvcefatcs7d+5IiEk6dvxEbl4u3glv335ISs4yt9Dt1q3LqNFjvpky5eTpk4VFBexbwdIOK1cti4qKfPfm/YIF36trCH7nVtY2I0eOuXTxolc7LyZOvnnz1tBQn3XisVuzUm1KSu6+vVuqKorU1aSgKt1DdlZmRXmZuprG8mUr7gcFWlpYsKPl6tUbDh/aYWtj+/btW3a97O3f58WL14BnXW3DV19OYXDG3tHRztYhKzNt4MABebJ8/PVxUNiwYfPAIf3YP4zFojMzMqHwsEvUfCxQllaW9HM1LMJQV4sHKf2osYmwRi7mLX19AzKOK0hNdT2b2paUVDTUC7uXIxqQL4gpS44wPVNVVZEteCRSFf59Aqw/0Tj/zCv0hPQ8oqQhWqLxGLXc27sNRh9W4Hv+4jlLQdITI/kODvbbtm0LOHPB09OFRRHqG2rhFDiO+vp2exURzoqzuZmpcR8iX798xgTYpLTMmNSs6PTcibPnSw1MJXoGl2/eWL5gUYeuHdn+21TPonlzz4iIsKrqcmcXx7t3Ax8+etSmWhxDpQAAQABJREFUdVtv7y5M18OwDdU/ezYAK3tZaRHNYsCAz1ie4dHDxy1atGZezv79B4ePHDmg/0A9PW22KT579izzP9AdsJXcC3pQWlq2YdNGPV1dliRXk0ohjxnp6TDH3r17Y47BMoUYAzeowAANjoKcWT8EjkAnDy8j4wyVrl69+vHjx8j2zJkzx40b9/XXX381cSJD6bRySollNjlEOACPKEMQitbMNffRSkSQIoAYRjz/sxqi5Hkkhvn4+p+F/y/dFxfVEV+prqoibfIPsdqi4LmC6B4+fASDI3MJk5ITN/7004zZs3r36Pk69PWHyMjAu4GuLq4Qk9ehbyPCPyQkpHbs6MXclF69fC9cuCQvqDBeX7BgAWsHwpsSEuMLC2UpqYns0IXTSeib19dv3GC3ia8nTbx160F6WrK7R7O83Fz2tnBydmJUB3dWIyMd5l2/f/c6PoGtXpmYXJyXU+7qah8a+ubS+fMF+YVszXvp4iU0WW8f7x49/A8dPMTiEDgTAF43bwjsD6qVlycLDY3ECK6qKoz9de3my9ZbISGv2rVrPX3GdJwV6BpRCVsI26Cw+HI1NUgfJpPlKavgyCLUGu0ZnoyDFQWCnZRqhFiVFlcw9RoOxUiiVJXtmhpRDuhc4V0YIvAXFmweio2Yt37T//9LFfMp8J8oAaQLwyQv0o4RFSxZjCIxaWNAvy56OtqhbEHqCm3CgeAuhnZmL0tVladO/gILpU8n7xUrlzK3Y+vWzTg9MfZXVVFmpqetrKUBEFjZOZk7O3n7DwqJSr4blpyVVxG444R3G5fLz9/0aNV83rxvvBya019Bqaqqy7r38G3WzN3VvTlggdm7W1c/LQ3t06fPHD12YPasuR3ae2ppa968dSUlOd3DvbW7h1tIyIvmni0V6hRVVZQ3b97KUHdYWNjIkaOnTp0GHrXz6rhjx65fgwLJjl/Pngzpe7VuRb4waUESGQ2Kj4kGWTA5KzbUG+gaYuPphj9rZ28KQdCeFBUgFDia/vDDD527dmU9B8qHNko7zc/JprggZfTSjcrCJCGRZHET3EfY0Bcw9onKYBPuiDD0L6pGDNkUgPB/d6fp0Z+4GD1qFCZIhupJJEMN8GhYDJ9gwXb2dqXSIRf9+/dFgNlG5Mcff8TrrUHYq0LNztappWdLRglZV49tu1J08mzsFDHT4W9JMTGLmE6u36BBTPOcPn36hQvnFq9cPmLk0Kio8NZtPLFsmptaDBr8OSvqGRjohb2NsDSz7OPfjfq9cevO3j0/g/tTpk2NDAvH/OfVwWvq5Kn1Suw1r8wQJJuFYycEClOSEuzt7bOzZVQWBzOKSivK372NKC6pyM0rNtIzf/g4BCb4/UKmxysyIomdC6xh29es7BymUpxhIZhTpx48eHDx0mVcW589/UDphQS/vHnzxvbtW2mxSSlpX3wxvqCokG4Jl0Cs+8VF+D00GBoKLg4NdYwOs99HLQt9MX6qq62DUyG6CNsEY+/T05XqClsTWrEzGPs0MVD8iWH9icb5J18RSQEv02KgCYzTY8lKSHj/6uUriDEOljgHU6mxsTFQGFH8evfupaYuiYuL9fbuyHgcHjHpOcWsQETf7e7sUlxSmpqd/+L5e8Nm7b+ct/TgpXsfMooU1PUKS8o83Zsf3L976uTpXdu2AT5mzJj29Glwaloqi2QhCSeOn/b17cEK4+lpmV27dtu2bcuNm1exc5XgeV3G/nENbdu0S0hITohPnvT1lB9/XIcRZtvWrbi4Tp40cdKkSQMHDrz8y9WgoPsnT55C3SAXqSkp9MAsFAE/EuiSfK0FNF90Q8xVZBlrHejAQBKqoq2DQ1RExJ7duxl5OHbsGLKNUNNGCYOZhxFswgN8ABYxqGsKU8ThXxyUG6oE92GmfA4U4A73iVnkWVyLdfMPwYtgHAT4+OnH1+K7f+7c3dcXW6Gvry9+DOxEy9goEwPBZVahw3WAIRT2BNHS0qTm16xes/qHNW4ezXDLunPr7pGDh8xNLV1c3Bcu+6G6vDoq5oOmlra1ldX5K5fdnJ0oIsZJbl679u7de+B73ebNgTeus6JDdU35nj27KI21a9Y3b+7B3sh4ivTu7Z+clALyHzxy1MrKGj1dGFZettyrbdtLv/wSGxN98cJlnLuGDx0y4LMBr0NDiRBXMaZSs/JHeFgcwx36ekYvX75iVdVOnTpn5+S0b9/h0tVrsVEf4tmzWpa/aNFiZ2e3kydOLly46Njx48nJjOEawHkvXDjv4uJy9dqdpKTUA3t3tWzZvHevgWHv30K4cnMqDYy0evXyfxIcTGcDJGEyq+WMs4MEF1EdWBgdKnWiwS5gUjV6rfLyUmwFuB+CXAArzqt4rKSnp1N0DJ5+Aqw/1z7/zFvIBgIjSggXNBdiCQkJTEyKx4GbKsErCmhgdDkjI93d3Q3FkK3AT548OWDAAMawTwecgoOUliqrq6ppSiVsXaOjZ5BdUjXwmzmuHf2X7z5brKRfpapXXNFQUliWn5Pbr7v/lQtXT+7FrdRszZrVhUX5Do72fPHlq9ATJ07/8svVMWPGYQ3Gox3da+fOPR07tsZKGp/woVs3X4axZXnF6Cbfzp455ZtpX37xFat8vHr53N7eFjsUg3rMGrtxA28Gj7Cw9wwXMD3k0oULnw8cwnop7Tp2fBoSArFinwJHe3uAmKwxVgi+QBZQeNm1ac6cOVi4WEgLEzvdO+6LzDfEDef169ewS3DKwdnZUG5ZZ6olIkFbJ+WgPAgFtwKtgHsRpDhzCFD0Oxh9jEHifV5vKnYuxGuxCj++Fu/8uTMeFjA+qB+DmMSARQlUZVRhy9aN0C5SS+KBVowypN7S0rq6ooZdvvJlhZbm1qwYY2NjTz+2ZcPWTl06MJNp1OhR0R8iffx82cLW2MQMD3ULK0sWdE+Ij1FSVvoQE4kTArur6hvq58vykpKT/Xv2Qpc/ePCQq4sb9u+jh4+MHjeB4ePgJ0/SUlLh6QlxcUuWLtHT1qxqqM3NyXsd+oriZUCuDvCoq6upbZg2fXqLVq3Pnb+clpmVkJi0cuWaiqraffsPde3Y4fWrN1dvXLsbGEiyj5w4QQUdPHSYqX9Xr19HS3B0dGDWxI6dO1k3+9270G7d/Lv6dFm1cvn+AweBTgMDTWNT45SU1PyCfOoCxwWc59TUtKqFVZIklAb7VDQq1rFOFjvw4uiAiDBLB9jCUZrlgOBxiQnsi5jOcl3sBhkWnvBJJfxz7fO//Ba1JZcUYeSeZg1NwJSDpsOUYwzwEAq8z8ELpp7iiAxTOHLkCNailatWenp6sIglMgnAsUpR4AO2qntXp6ZaW1WXKytcsHCpooXb9oALJSrmDRJprZJUTUdHqUIxOj7ruV64W7M2DhpVrVu1HTxkANPB7tx5gpdWdGwitvbsnILCgvJNGze8fPkyJCTEx6c96gmDmKABbs1oEDevP8jNKY6JioPn0+DmLpit0Fj7/Pkj8AK9Buh0dnYGhlJSklh2eTT7+Y2dsHbNKjwwLl+82L17d00dHbRCevhevXsjEmQZrQF7ObtU8DozdTBRYT9Hx8QvEQRs27YtMbdr107YjkW+lgMFhZJlYWMPzIlgxJlyoBhFDZHiQouAf4mVwVPgTAzZVD38pDA5mh79XYCmkP+PF0Iy5Ds8s8wmyiCsMzIyElc7FD3wgk0oAAYGYUk5xAfjm1RFKT8vv7lnK+8u3owTZqVkYSH6bs73UUlvw8MjLK17W1pY/7B8OSUQGIhJvgq2kpSEpsycnuSgezcVleoow9i4/M4d3Jkw1X/Q4IsBglvJkcPHQfPps+cuX7jw4cNHRkbCrAAiefBryMxvJ23eubNesW7lqhWREWEYAy3MjQvyZIWFxWoSdbaSZgBj6pSZmzZuS0xKYSvWJUuXDRo4qIuf/7SpMwz1jOlF8GJRU5GwxhZ7EZpamH7//ffdunel3IqK8+l7wFkM8MWyIvrXlauWYsivqCxNTUs8fTaAdlVUUjh48NBmzZr9uHY9EMySytQjfFCBxdAwuStWYyMQ6qm+geqmi6pgaRrqrlZQrPF9FazyJeUqgNh/qP7+H6v/L3j944yL3Sx3fr+g7f2WhKab/36S6OkpaqISYxNfxB8PYaOrh8YzGMfSd1xjWlo1Y7apneW9dyG37t0RdKIaXJFrGZ2R6GrW1pX7dGpz7/ZNO3NLhpPnL/9BVlQ0uN1nIbiN5hbJZNVrrz96k5R1JTBIWUOzXqrSoEj3wzAZK7RI8BGQKlW3adFsqlvV8/v3SxNigcmp33ytpq/72bgJNcqKRfn5Ld1cynPTzPX1Cwpz5y9dbmBtvWbj5qq8fHS0nTt2Y8oFqph3irJ2+ZfrpNbc0pZ9ymnfdo6OoNKsWXNA1es3zrNg7rJly1auWE1LVZFoUHZVZZUNjXVY6J2c7LCLYRi+fPnSiZNHUWlPnQgANEcMH4X16n14GE6qkMuBg4cmJMQjxmamFoLky5slpYelA4M7zZgLSk9+/FaoFLK8joRGztpS8tVEcS2ASamJdSeOylH4wKX4JtdCaDZ1ka+bCOYizEAeMRLg48r69+u6KSTVSiQIG3coMXog0Jk7ChXCfQU1KYxLoiFsxchmVhAuqbrg948qhD1IooJ3twq+kpCy9j5tkpLSFy6cqqEpOXvuJElu1qx5dlauqooGUj900JCVK1czw9LOzhajFTLe0qk9bh+eLVrim9q1Z6/8vNz34eF+PXrIZDmTJk2U5ebYWJs/CAq0srSoqixlwuDqnzbSwezcvh32p6WhNWrkmNev37Rv14l1+2BSBw/tb9GmVXJS7JAhn7u6OUF52nRoffbseT0Dk7JStquIcXJ0ZZSmT59+rK9NBhtq69atW+/k4FheVt2xXfurN6/VKAhTROvra8yszHHNyc3NwXhKUVOHwJBUHV6sgpWgU8fODDTTbZfLyjp5d0hNTWLZovx8FnFTABmZR50Qm0LxsJ6qiqqipZURa8+z7iGmvf+7KiENtOloanbc4boJreTXwh0R3cSnH183vfjxBa+LMYsvfhwnbZfX4+JjMfeAVpgn1BTrHwY/Wr72B3ZDrqupMzY0Ki8uUWisNzHD7aWBftXM2Ky6svbl89Cu3X07tG939/4Lh+ZtGnRN52zeE/jy/aPXbxUlEqa01CsoKygyTU+YBCJ4KoKP9XUlhUX2RorGBkbRb95179y5V4/u9qzJZ2nFJgU6Oto6mmrh70Lr66uZu3PuwsXKmvqWLdpER7yvqallyylGu6HmcXHxrJzn4e7x6tVrRp2qqqu2b9s2oF9fiUQVnY4ZZJ7N3WfMmD5jxrdseW9pZf0A54V79yd+/RUDAi1aeDo5OcbGxZ45E8BEnytXr6xeu46B85MnTsMC0CzYoIXmO2T4cIqc6UGsiMRKqlh2wB1ByEFf+bY04gXqoFiS/JSXMH/llyJWCTmnfSP1BBMeoH/Ja0GoPOgVMsOZO2LM4BSkjzv8lAcTTsJrf/YgQgF0lJTwBsCMRTEwHEb8mWmptXV1ASdPkhmW1VdkWz41dRKKpgy6YXjiFaYoCdxBWZFly2/dvdmjR9e8vJxDB09raqqy4gL7IRcXl1y5fGPBvB+Ki/KnTJvxNDi4pLSkUydvsu7dzmfOokU1lRVenTtXl1ew3IJvd/abCGrTlkFe018fPIiLiXV2cpgwfvylCzfCwt79tHHT7duPv/xiNMyaccDPhg3v1L6DTw9/dVXJzh27+E9BVUXP0KiynM3E1CDFsvwcNYkam7Cy6U5qctqBgwf79uvH0C0uwfb29hVV5VRGYmISbJc2gJHBr1cPPz+/Ll19yE54+HscEcrKSilU3FdxUGCemVRNHV0Y4ya0kbxv37Tt7ds3ubnZVBCeWUA5BnhaIMs5Pg0JNjc3MzE1+vAhgp0yOnfuSKP9P6cSghf/rGly/1+AUdNbTRf/sG3/3vP//UM6fF7kCzRTr7btGS7DsnP8+PFWDqZXrv1SXVFVnF9iYWqiVN9YXVGkrNRYXpgfn5BoYmGbnJDsYGXz9n002pNXuzYhqbkthjUf5z3g5zNXo3LylbR1lSXKrMmnoIQHuQT/HxiFggpDwHXKDUr1lY17rj+ZNXaksqH1o2eh3377LRvE+Hb2DjhxYuzIEQu+/05JqizR0XwXHYnrqqW5zZNHz/HcgUOxPAhGKBYRZ5R60qSvFJUl5hbG7Fhx6NAhdmEh/itXL82dN/PqtYuZmemMdXp5tccUzleXL1/64mWooYH+mDGjkBmm4wQG5ezevW/z5vX4baH9ffXV15u3bqGcL1+9VsN+e1k5TGFREFbCamCWLA2aBVZhKLg7M79S3lHgzi6gjLxqBExpAhaKGhWCMuWpiFECw5IvfSDcZNEWeVCueQvs4AxP5My3YDpoZ5y5JoAYhkfi8S8aye9B/v4vaMUBbGGkI/1Y38VImEB47caNkGfPPhs8SEkiTN5GbtmjgZXUgVhzSzPm6IBW0dGxeK4YmZps2bQVue3azfvV62d4F+RmlRbkFjM6ZmPpMPe7abDa8qLS/n0HQMbxlmDu8aa1WzISEhITMWjqw91QQrEreXp6glk9enTHLAifzc7EX9Rl164tzD1ISEvHQL51x663b96xJqKGupavrx9L+yclJeNAsHH9pvkL5tk72qHlGZka4be5ftpaHW29kWPGfoiMatfWa0C/z1u0ag5/XL12zZDBQ0aP3U1J6xjoEskXk7/YvWtveWUJm5VgOP9u3lz8g3WxmpVXFBVWaWqxOBLKnrSspJRGigLIOpT4MbwLC4+NS8AwhxGejONiChGjG7t+86ZbMw9hXVy5bzCGeQwXxsaG/3dVQlqcXAZ+O9PouUPz5cz1x0324+t/2L4/brxyYBJuyJHr/weO8k5YiJnOhApASBihz06NOHE6IOjBo7KKSmtrS4mqkiwnleEv2l9yagZOl2pSbXgWkiZVU0pMyOy1eL1vr882HTxfp25YoSxtUJU01FQIa5Q0oAmyaQ3pR2ZrVZQV1DD4MJNVUmomVRrk6djL1baPV7OakvxMWe71Ozc27d42YGC/5OQoTTVpamKqq6tHRFhCc8/WuXnRuOSQTUgQfR0uyI6OjqzEQKuFwA8fPpIt0cFcCAK+7GxqwGq8K1aswEgPYZk5cyZ2N0NDY7pfHDpnTp+O19XmzZsxdWFTx+YlOJeWFmO/QB/BjoZjIfa73r36sPkyqWZiChLCtxBdhJ+p2vVsuaIorF/IF4EtQIdSFQ9mzGKFEa+ZHs4jxF7+E31EWGlarCmuKWcRrSj5/4+8swCP6k73fybu7u5EIUZwEoK7S3AptDiFIsUdihUKLS7Fi0OwQEhC8JAECEmIu7vLxP6fk2lpt3fv3t17d+//efZOeaaTmTNnzvnJq9/3+4KVZxb4iCthCggL4oH+SVpxkj/OuOQn/v5nxoHoO1uaW2AhxUVTDxBLjI8b5E0uQFVdyBhwYZJlxsXAcgd+DZsUxrGSomJKBZuppBM1V1aV9O7TC/W2bNlyfLHK8hodA8PKknLoHLjsY8cOM0eZyelOzs4jR492ciHjnFJVVQO2KTU9vb6hFuz7k8AHPXv2ELU2bt++1Y1KnSNH65pat27devni+bq6GlrbF5fU2VqbJKfmoCzhVty753s4HfIKc58/D/OfPJFjIsKDEZdU94wZO+Hq9duAWq6QcExMqKyu19IhUKleWV2rqqoG9l3UImA+aRCL1SqSEQATNTWV8DhXVVfDD0M5NPPIMJJ6acNbiWuwsFql7W0d+ZXyiuKammp6NenpaRDiRPmBUwXo09hQD/choGVxYy1hO/ja/u+6hCxKySpk3XxespIXPEtecADriQN4wfE8/niw5Ot/ekadS0wADv58mrafEhwTwT4QKqTYznIqKqo4QZpmxkOHjHCwsU38+LG+qlIk1SiSJcqoKCuS1tfSLSsoSYpLevYywsWzq4ah7fYDh/M1bfaduNCoqlEvo9gsowyBnWBYEb1qoVq4UUpGQaoFrxDoHS6iuKWFraxWXlKZV1bawcPjzfPnpbl5taUl4yb5d+vZ8du1qwxMDEaOHPUy5Fl2Rl6LSKaqplpVmchREyl4HAo9AMri+jlzvoDxiqSzp5c7mUq6JaPP4cAtKSl+8+b1+8g40uFZWemTJ096/vqVs6MDfKT5eTnTJk9xd+uwcMGCPn37FRUUkr2KjYmdNXuOta2toZGxpZUVVKH6Bgb2Do6Y/5RGN9U3pKakFBUUEG0xMTaiBykbnr7pMIK3DRpWkiTSJAwv/3DmWPcSC4vBBH/YNhEo4F8nBOnAgLNJmAheICAkM4Lsk8gpNPlflVZ8//Ps/2ly/8afnJylQnEChttniclvEWvv2qM7BXS8ycBm5+boGugRg8eIkNwJLWewFIn0tbS2UHOuKKMgK5CCySQnJJhZWXfx7kzlyqmTZ3bv2nvi6AkVBWXvrj20VDUK84smTZxYU1177epV8hgWlpYb1q9zcHEFRE7hqI6WlodXR7SXta0NUgR9gKl85KcjQOF/uXr94sVLPbp351vHTxyndjouLgZHnBJoH5+eZAOJv7FUYHOGhDYw8BFqbMSwQZAozJu7YN2WrQG37zwJCYYQecjQAVHvIgtLiqizkQPrCSRBGRXZCuk1HGakAilGaG4iE8qWEcnLStfUIo+aDA0MIICjOrquthacB1fYKJbKzctlbOob4LmXYjFoaeuQYxU3QI9VQtVhXHwsSsvcwowhwhv9vyuw2qSJ8PTHVShZ07zD4uMjycrj+bPC/OPBf+N126YSziw5PbuIaeOckvMj9SRbiO3UIKvIuzINYitjk/TUFN/evmU1NfqG+rXllV06drU0sdDBLWzn1ntovxpFi8v3np969ExOXbdZXqUF2dQsDYUj14o4hbaEq+b/JP8Rrvie5NBbRM1yqiatsvLl9bUvw1/79ej25mnYqR8PfQx/se/Q903NhMZb3V06PL7/yNzcEhmQW5Bva2WMSOU6iUpAQoQuJSaloqIcHPxk7Ngxw4cP/WruXCwaYhB8NHnKpMeBwThWFy6cnzfvq7yc7ODgoJCQ4LS01Ot3bvYUmhWKtXR0VVTVczJzsKTomKKookhhM2MLXRSDAE6hbZQAEDZDnoXyx28FKkobxAf371Of5NnRi7vjsLahE+xWydQIZyhlqKoROownE4RQaDNqfkVm4Xzxp2R+JQPOM0KKr/OL3J2ELYN3/sY8/v0f8UOcn1JHDFJ+mjWDncWb4FG4ctx//gR3RG6UChP2JzOETpI4rYiqyvIKgQNWRxdtlp6SkpSQMG78OKGb4ZEzDx/eS0tOo70brAzDh41sFjfdvi2IFfg8Bwwe1KmjV1RsrKebmwlQVZF0dkYGZi8KBvGJqUVkj6gZ62L+3LkjR4xCsgc+DoLrYueO7ampKWPGjvr4Mfr+/aeMHUARzj9z1kykWHxC4ruPMYb6+qtXr/Ht2SErMxvHzdjY5Pnz5xu2brWytLxx6/qKVcsfPLzHCoEQDbMRi3XFtytTkpJ11dWoAJMWNUN0A1ymrKKMuaurr6uphtW51dWlnU/PniGhr/T0tFlUWKPqato7dmwnB7Vnz66Ro0bgmaKKGEYFeUUNTTWyEMy+ra01a5uPunTp/H/OJZSIjM8LkT8lcoTF3famIFMkn/I+kp6Kdl5gbINCIC3CR386w+dTSV7gQwnNtf9CDAoipc1KEw5B0xP8ZU3jkrCsi+XlTLS0SHGX52aD2Vn0zRI9S1Maw8k1CkGovNwiCycvLWurO29zvjt8taC8oR5GPyW12hbFFmmIAQCzsNXFIqkmWakmWhXWSwklDLTqIn/Em9ybTIu2tLyoWaG5pSLP00BjZq+ue+dPbyhI6+rr1s7ZRlNX5/WLl/Exn+isk5SbWVJR6WJnSZ4Zv4zb7NLJu0ePHjhugYEC/p6erFw2yx1aUQpuSSYSdy8sqMIlHDJkEBkoB4d2Fy6eu3DhAlESKqjxdGJiPtFbbPm3a7kWjD4EqVhKjIiRaAJGA8SN4MqJRDkZmTjIGZnpcBVYWViy+clL4Fr2HtifH0K0cVc468wFg8m1cTBvYs4wcVwVKxs/C1+SlY0lw5lBVPAnRo2Qa/ptPvgKuwsLiwvgJ7ALhCn5Jz0kC4MzIwo5Oaul7Z1fFxg/wq/zDvMuWGEYPr+1HeMjQb60LZHo8Ai+DqYJC3fT5g1paWk/X7jA6I0eNVpORn7RwiVdfX0RQ7Hv3zM+3OPyVUsYjhEjRwKvr2toBI8ikpd7/eLFs2cC7Y+fb6/JUyb+cvHi0qVL5ZVV7ly7NmXmDMivqaOorCyNegdGtMSxnRWsHk+fhpGyGzp00OnTZ/IKimwdHC5fvEDQfejAHgTOli77JuZTfPsO7vMXLbl3786YsWMXfT2fQtf4pHgGmTXfKG6CkaG8tKKnlwdhAYB1oDd0dLUKCgu5O2ANMH+gJKhJpBqsSlj5wrBUV9cOGjju0mXaCBQkJHyiKTSwmDNnTgNLxEhHygPoITxCpWRZWVETfrIQnv0//GD1sKB5sMhYQ8K6afPjJC8YUDIpqanpqCwUyLFjx9hprLm/PWAoDbYHA912EuHYNmvr9y8JW49oEwVXbXhI6uU4tLKusVVa4cDJn5sb61pkpTTUdS2MTDAszFzlGuXkd116dOZmSFkdIBgNKXFtQ1ONrJJio7hREacPswKrW6qFADX5ZBL1Ajtca70Qe0ZK8tsN9QoKytWNLVJy6jG5pTdevZu8bO2n0PsdXcxgGgm+9zA5NXn69BlHTxz/Yu68p8+eUz0LHIE4D5Hj3Jw8egu7dXAfMnjo7Tu3rKysgC/ExMRdv3qDXQcobNOmLYoKGvB2MVYCCllBjn5Wfn6+69btQWnjt1VVVauqaL569gyf4syZswymq6crfhMRfZavo4MDi5teZPiYQwcNZgrIrAHVcXFydnV19fX1JZxR3zZBRI6RR3jQgifV9iB885uOEVjwiZgwd1is76IisHGwZviTaeXb8QlJBAGBXPCar/KmZOSZJl7/lxMq+bn/8vnzqTjhr4AGYeoxCP6Coou5V2lrRPartBKyJdhBbbCMtr477b082valYDi7u7tv3LixVdxMFlhFSYli5q5+Psi200ePk2OdP38hYwWIhao8Mrl37twxpahHTu7V8+eAqkpKy8xMTbhlyoD2fPcd3i+3MGzs2Irx4+Sk5azM9Ves+EbcWJOW/qxHT4o6QZPInzt/u2s3bxUtTXOqo0UtAwb069DB9cSpQ2nUddXUvXj9BpTvsOHDAgIeWtsYXb16hUaKleXlivLwXIsy04sMDTVcHNrl5mVu2brZ2cUBnHp8fByzJiPx10UtUAbSl5D8spasAHCvgLWrvvlN+Cvyqs+fhyF8cXspmz179mcmCCOLiwdiShk8y0ZbW713714c829rYX0WPcwT2wmNJ3kBLBuAIuPIcudNlhTvt611gZOX1wyTUHgpJUpNS8VXd2znhLTq1q0bFhbn4XjcOQ4THm1+EwXNkr/IiHGeuNh4nllqLFwUBd8iQCPhzxW06G/SSwiOt8myeswL5Bfc3vxPODHwQjGUfsXFFWGRH73799p1Puj4tTtyStoasmr9/PpJKTbeuRdUL6VM6ldLWSTT2lTb2MAdisQ10GLVKWm1wpUr11RdkCOtqs4Fy0jTF1joGC7EcYkqVJR4Wxld3DYn9smbjnZGu3etPnnugqqujJ6h6eljP48dPQEcGAhGxkwIHisrcAuD+g+ws7ObPn3q1avXM9MzaKMgGEFWVsAUp02bISuj4D9lSl1VJZVDsHSdPn119ep53bv3xA56+eL1ihUrlVS1jv54uCC/GPo3X18/O+d2LDvEGWbRwwf30L0jRw7nF9WUVbhO/AveR60izrChEFhhr14QtF68eClDg5fLaUFICyMJvUwdbakKwRBwd1gleBC8mRgXi0WGakEIWljbMJvUDyAf4ahgXjgtko5TSdYD70gWAO/8ix6kPQgAUGsCCEn4CcICTc1kAQQ5xfSAEYPnHuEupB2EpUhXhzanXppulEsWLXr9+jVLCDuXEvE7t+9SU02yYtrU6V98MYf4OuMzZup4aNW1oB4WBJ8g/trZ2MB06OLmxvkl2vLyzz+TuYMDcu/Bg6w2OWl5I33VCf7jzS0Md+7c7t7BDROJ7AYec2FxCagr4FIogJ+OHgFytWXHJupYqXY4fvwkBheJF29vL6roP7yPzM7ORExXVTT17t0lNyuXhaGtqU0XCWNjPe6DMX//PoYbJR5Lozk43bHUkKTjx/knJSXZ2toz0ZwtLaMU7cI8nj9/nizKuHFjzpw+tX3HVoAO1OVA5gEWDNwWs2ZpZs5E/9vGsP64ECWv2SREWyCcxVhFZjFMyCxGnIFjvMCJoIfbfAomXUSCHIVPLqxP7z4oTHYvo0aQmIPREdS+I91Yb/gXnEdizDNJ7AdTUzNOS/SUn8NP4ST8qOSAtvUoCEchatwWOWb1QJCgIORVhLUqQIkEq0iO4HmzsvL1Z3HbLz4KeBMtpwMPZKv/wP5DfDoYGBtpaai9fv1GTUF20cyJowb1HdDPx69bDx8vFwLv8YkZdIOrKy6ys7To3aVTHZzKNbXSrY3ikiIVWZlqOD1EskUVtcFhHwf09Dtx+MfHgbeGj/BtlRd5dfTe993BMgoV62vwicGQs6XpmIDxUliQT/Bi+fIV2PPnzp5H7sAN/uZ1hJOTS+fOXTBC3755vf/APkqIMB7Pnj3euXMnT+9ONrb27yKjJkzwf/TwIURuODjbv9vl4OSkD1GuoSFFhYin4cOGokhVVYVgalxMLJNCCp5Rramu5lPcUkYeUicfHz/4BtDJ6ADiVqCWkFyMFBOBzy4ZYcaceBhfhLxFR1/YvbBCgwthfpFZbB5FJWUGnZsSpuNv4leEmfjnPfgt2GSK6UyhLghK+Bu5gpb6BtIugsKSkYU3Sxrzp828unHpUnDog6M/HYp5HwVVGT5XdnYOu3T37t3r16/V1dVOiI/DHkGKIYUpDxg6dlzo44fgXTAm9YU2JaI5X3wB/yIf3bh2bfu2bWDbrGysVZWUkP4Mu7en58iRIyjqCg15ZGVtMW3afDc3BxQc8vT9h0/YXEdPnYJykFoxazubqKgIYBP3Hge+exd99uLFEhKs9MoEm4CXRhSdxhPAXxVk1VTkhg4a0tzQmJKUWFJYrKQmY2VpraKqRPm0lrZAgU0AHn9QsPtbpZKTk0+evFBSDCtqeV1dLeZnDfq2oT4g4C5wViKSY8aO5rInTvKH2A9PkIli0CSaJiMt/csv5/7buoR/Up6IEuLEbLwbN24xc5BesPoZC56pnFBRgddFeMCbTpKqorJCQ13AN5GnByyH3GEpEE2wsLBguVeUl2N3ODk5IcLYDPyQ5Lu8YD/Iysvo6mnja2Ln2NpZC+aY4Jo0A5b7VWzRiqKtYYHATtDYqKiizAs5AI9IqqbmWnGTrLIqxaCZDVJPEkrfZlepmberLS/UkG7u1dE58MolZRv7dtZWinKUPVSoyzfXlRY8Cn0FX7+zpcZX/sOrG+UeBDy2tTFf9+UcOD0He7sv+uFYZVGhl73VrKnTQ6Pe334UWtsiE5lV+WPAUw0V/Yj4NFmp4tTUmNCQFztfH+rjM1hapSkiQvCqWCfcl6KicnFhvru754QJE+tqqZmpB4yuraX74MEzAwNjGj3RL4BBGD9+LEErgllYOtTrsp2IMN++FeDp6UV8ZNd3exRU1DJTk82trUldk/lWVmLZ6yopK8+YMWPLlk14fH4+vuhbLCzWNGQDiHuTNo36KSEBOwIYRHW1QB+GOGPzM9R6eoaAtsgNRr2LwH9ss47Z+zXYVvj5fJ0QDxOEbQiHJWKXUAhuKYAvZBxykBlB3nGHEi0imcF/yXOL0DSXar16Aja1tTDJ/HToxwnjxsfEfRw6eIiLp6e0osIvZ05DyIPhefWXy68jn4ACJ4mRllaopIiHJ9enj9+HD+++mDWjrKwqLCz4/Ycomg+uWrXayZ08YDNu8owZM1mi3K+Lp8exU6eYuCsXL8KnWFVdD1t8REQ4PXhevX7BoG3esuXAgX3Lvl6I3mWgPD3a4Qwi8bMjI01NDcHTiWTk0M3Xb94wNjMFkRccHESD74zUtPLKakBVFlaWJkbG4a9eZmWnU/0nLytjZKBX3So6sPd7ami0tTWbRc3yagolJWXYShi1+fDbVEh5e9uOm+APXRK6rZQ+lxUCNMzCwlVODsiVVJNY8KALC/I4YVlp6fd79yGOwaA5O9rLy4pqapuKCvIgFGPeKyuljh07/m8rsBAxn+UIr1nQlpaWWEPEg5EwSHe8Qg5gevBO+BQHx8TERFNLsGaRVjgfTDACBauYYA1biNd8HY+SmW7bz2hxad5hF0k8FF6oqKq2YuW31YKwZyRsk6xX4kGcDcgSW5TzS5xKkO5MA7hzBfiSCJm3NhJWRnhCaPYqtnLGmt2VSlrK+qZVZeXQvvn4dlGSbY2OeG0qI+3h0UFXXbWULt4QsYnrQx4/KC8s6OXtsHzVWhtjI4Idvh7uCnWNN29c9J8wztxAPzoxVlXGzNJARgeIQF2DqqElZGmPPiZO6edV2Cqr2aqQnl44c+b8K5fu6pmab9m2Yvr06WyJV69fYo2zmAhX4ZQpKgghbSrs+ZNkk5OTFeU1JcWHr928RGMoGCnxOCC3ws7CIwPxPHjY8OHD7uTl5XP8+Qtnhw0d8UJoRyZtZG7NCHDjTAphVeLf23fsOH/uHCYVE0TbHuYFmUKMBpV79uxZjkQ9BAU9IUwjJ0+0XpgUQeIIbMsCUQ8H8GCMmUREG4nHmsrKixcvUrDi17cvv0U2jWFHK7CrNTS1mRdBWhHsI6xHoKUtpMhh/6qHjDQSAVEFzIrFxhqjbS3yiyqTGzduuLRvT2335YsXyeKpgWlQVGxqql+w8CsXZ7eKimq6tE2YNo2o24qlS0llZGdntffyJJBEG0HuJT0+ztLWnkbyBP6w9CnluxP48FlISEDAHZJueJEQqHFCou9LliwyNjZlNo2NDRAHDO+7d2+hb3d0dH758jnLGACcs7MrNTFcW1lFeUNTQ3UdF1s5f+GcitIynGtimmUllUDqunXpamFKJ1YjWqjmZqfn5eWoK6sRz7p7+x5RWVbC/aePa2uaPDt6aOsYJSQW7t+/FVgMTiVI4KKSsqp3H7GSPD09hw/vjVvDXdTWNJaVViAcr169ikEwatSIBnGdjbEFaS4a8BBEs7OzSUpKyczIPXFiZ+dOXf9tBRaLmJlgQbMxJM+4wSxQ3HUkBQBuW1tbdiCLCW+ZSMqWrZtCQ0OBAjOdGhrqdLUUDHYFBeaNbAVxKJwOTADkGhuS3cV2mjJlCl4MJ0dfsVs4hkWPnESjg+DGUcf3ZNzJso0bN4F9yPUIBZ5t+Skw7r6+vhRewFQGJYOSqEEVzKiqRnJiwqGLj84Ghas6eDXVNyk11Ck3i+VErZ2cnIryi9JyClSLsxSkW410jUuyC5pqa1qb6kePGsBC8ba3UZZThjG5VVzb2aNdYWZc0rt3LYMGdXJsl/AyjNR2cUltXVmxlLhGsVUK37hGRu3ko6dlRckz+nfz6zWmoa5m4PCR4ydPHz2+L8ia1PRU7oRthmmCIOZhZm4Clg9iGRzn2zduwr7cd+DAvgMGZ6ZEAuFJS0mqrarmMqzMraiD/emnI6lJqclJKbNmzQLd3qdPHz0jPf+J45rxPWqEghgBaiQtOnzo4IoVK8qLS6zMLbT1dKHoVFFTJ2TDOu7WoycJ+Eu/XEEC/vjjj7TnQQ1QTYaGQPpzJNqYGampqaJgjYDxhw/vOe3JkycVZGSZIGIlkCi9fPYsKiqqzTqrBluLr8TXEXbCRPymNv5VcuqP55WV0dHXY4Vg6JmbmR07fAQ8bS+fntikSCscnk1bNyNitmzdimgeP3lAr95jLpw/PGas/wRrOy7z9PFjSKtdP3yPpUxB4tgpU8ZOmrpry459Lw/cfBDYrRMF4x3bu7tBqcapMtPSDuw/ZGtjdv/RQ/TC/Nmznz0N6dK9C2zInTv3wIv/9DGBrREUFApHA+lgKBCOHtmPw7h+02ZGnioiyoAcnB1p3tzYXB/yNLiuVkZJVl7fzPhB/APqHJYuXKyqJi1IXmPBtVdRUYIGhmp4EHxstfikpKoasYGV+cbNO6CrVVQWzZo9b/tOGlwH0nigpLSqpaUi+uP1Mz9fNzaGS94cN1meUGR1VVFB/pNHgZzwaXCIb68eeflZqMy42A937wQwmyoqap29OyUnpigr/PuW5nyWUxJpJVk/EqsKtcMLRBWallXOn9D1w17EliAVyMJi9SPvOYZlRLidzjTLli4FQTN27FhcDDYAK55x/OKLL3r16jV37lw2NqIQHc6vZGSkokVRSkwSRxKnXL1mDSsJHQjGl98SPJGWFhQgyTKskiZRCz3fi3IyMtKzrM1sDPRNid001FZWZSVqmVk1VBQ2llc4W5trK6kSll+7bZecbG1Jdp69pTUkIMpysuLm1i6dvYlOiiqKf7l6JTLqfcdOXgZ6Wnee3MlKT2qqrzXTUIeAFiQit8MOb8Y1qSiU1dBulVEWN6mFfcx2NCvq2t4R2LGmjrKuqX737t0PH/4Jk4oaLnoHIDuIamMHsdXj0uK6de164tSptSu/5V6EmG6r1LffriK61NjY8PXSxSAEnz9/qa9vSN1ZNtBnkQg3Z9LkyfTXwPSHc4Y8h66+FcOOUYDlBb8oI8ZEQEYKOIsNZGdvj8PAwuWY3Xv2gNkZMGBAWFgYfQ85UmJNse2JPaN+iPFzQuIjFy9eYMCx74BcjB89ho1HZTUDzvgjPdFAQlRLJATp+S7rARuNWabb1m9JF8nq+Jc8S7xOYPggSDR1dJbMpzpKqL7eueu7I0eOEGC6+suV9m5uh0+deh0WRn6WkoCrV69Banjh/OXAB0/JzWioKY4cOfL9mzdunbwZcHqTJMQnUYVK+yKuGFuSlUmXEFZjVy+vyHfRK5YvxqmXamx4EhREwGjEiH6oRhgdPD3d6Wjfs2fPCVPh1dhOdZ6RkUp8QoaOjoGJiQU486JCiNSqWMUYg4qKVnQDI7rU2qSoqqImamrZv3vv7t170OWqbekRZBz8NrAS1lTVjhk/Dkhg1y7d0jIzRo+agC3c0atrba140KB+Skpq9MV58zra0tpUV4fOjOAD83muKK/JzSlkIqoriuHmGDOmH1jZGTNn026uoaHFzd3uxvWr8+fPPfPz7erq9IEDe505fX7q1Bl79/zwb2thSQQWMyp5wTOvJRKKECwmKBYpBVloXTYV5pKHpxv7BzebBb1w4YJly5axSydOnNjSJIUV3bt3bywFVBN7gFMh2qAZ4IuSfrm8zxKU/AQxUaww8s2jR4969CjQycnxXVSkra0dBxAsY+GK8UAVlMiLUfAFddHMOZOkpGX1zKxkFPVUdLQoBPz5+Pbvjt7csHa1lEqzrqp2RVP90F59tdR1b91/UNcotlFp9uzSw0Rbp6Kk0EBb90140oHTB1euXG6s2hr09FFphci9o3dVXX2PXn62NpZ14jIzDRNjDS0w8LX1zfT8VtRQkVOXqRQTfaOVrhq1qFcfvdNV07PQFvXsbNO/X08/v14IZaDjpqbG2ZlZFZVlGhoUx9WlpBQgs/DUmhsbETHsqNLCQv8Jk0RyZaBVMTkZTBwZQegfPU6EhRcUAKMJWNTHTxyjDnbo0MGIclUVFeQ7dSg8Q9NLwHicvz+DgzDCAiGbwaloCGpsZAz9zY7vdnbt0p2GFELkq62TEIqBw5KTktasWUO06+uvF3Meaq+rqytCQkJQJEgBsDwjqE+EfQkiBEXF5HdQm+sA/cBDl2gv4ecE+Dvm7r88iNVE9aYU2dlGLHACZvsPHaQuXQgPCsFNlmRrVXHJk6fBA4YNS05NGTJs6L4D65EXAOy4O+oeB/bv28fPjzhGelomjtXt27c+fIju3sVHRlr27Nnzy1au5ZaRzuMn+xN5QFrp62qxvPHmcNnKKxqtrfVpUPjoyWMzM9Pg4CcwcIwcNoF79vDwRL7jYSUkZIwd4z98+Aj6YwLA0NTQqqmt1NIEziaNh25ubnb26LUyUWn/gQMKcws2b9qIDRgS8lhZRam8nHhUKTHEKRMnMYwvnr+5ePVOTHTEjt0/dercky4+uK6nTp3gDtt36Kij+7BBTCQGX6RaXkGZUCOzmJ6ep6EpYImwMl+/ekE5hJyMlLmpmZQICgAdPEF43GwsySGppKdg8aeWFZe1s7X9txVYDIREgrA0ec0DsYLAevIkBIOWjOmVK1dQ8vhrixcvxKmmrpjthO2Nxr558wavgSbguK1c/i3aGM8OhBEWFuuDIAhKG88IaYVFBiuQEJVoasIyHz9hAqKN49lXmAB0uwp8+JCPkIAnTpxEeQK/ZPMQL+BTFhbbddOm+IKCsrFTvkhNzFVX1LazbufQwXzKhJGxWfG3H4dIqVbra5p4uTpk5lQ+eBxM8tlEXOzu0dXJsZ1fz57IDmUF5YrKGuqN500ZNGbsyJ8fvbNuZ5ednVCU/slYT6OsqsRY11oLZDkoL3mZzNycirxsKqubZZSkFDSaGqXqmxUKquqXrd12YOOCDVs2L1w0b0VKMleIg8sVFinma0qTTlWoqCjjlquqah4HPsJNJncxbdosBoRYXuSHx8TmGGTE+qWLV2kxwdDpGhoy+pOmTycqnJeVlZOTxaf9+vvdCbg1YABWJg2msDZ0TExNGe13ERHYRyPHjK6vreWjGDjh7GzhSEKjcKqqSoEQGd3AVzCHeZOQInKQucPT5CIxmpKS4tnkOPiofSwIXEis1DHjxiGYuAy++Jt0QIgJIQImkfUg2D7/8pA72T+KEPBHBaAGC4Of5Bqw9UQtrTCX7d62nbibt3fH7Rs3sj4nz5gR9uLOx48xri6e+XlFrs4Ot+7exTakk8SUqf5y8jJkM44ePVZXLabv0cuoaKnGFj8/P4x9BJaVlVVKYiIr9vyFM4wYA4t1nJObZ2NjSYkmizAnpwz/ur2TN7nvMWMYHHkTEyKi0mRsIZ4lMYDVzLWZmJiZmBjnF+TkFWbKysqoqajkFBVJwaPIYLY0soZJZdChvi2/IW9pZd6xUxfoVeOTEm1sjO3xz23bfYyOxYJWVpZH+/J4EhQCT+HQ4UOYZeaF2yTOQHbqxs3rxBkH9u2ipqahpCDoQjMzY0x1MBMrV35z8tRhMmCKRrAfaZeWVHKbmhp6RoYmMhs2bhTO+h8e//OplMiJ//l5/sOl/V1vMC4SgcXRyCmeWabMh6mJpb1dO8ZrxvRpY0aP8XDzDA2FEy8uKzMdiRMcHEiCb8O6b3/68Qd1NaXC/ByIMg4e2t++g+vJEyeoupo4aQqrjfxXbV1NTEz0Tz8dSkn9FB8fnZAUU1CYTrJeV0PvXWSEbTubyrKSZ89DAh/dLykrnDpt0s1bV/MLcyZPnVhQmH/m9AkqTJCVhDwNNeRtTS0zElJn+Pu7dXAIDb2trtxiYaCg2lxZm5+bHJcoq6L3LCH7UWJWgUipUc+yRFqrXEm3rKYh6NkbB+9ez2LSU0vKk4vL3PoNKmqmGL516FCnCwHhl4LeBUZXfyhWnzTEuaKsQF9R2gZK7FaRib6RjZFJU0mhqCTHQLpeuiq/4EWgvauluCb/0LbVuqrS8+au0tJUqyytHDNybFT4e/f2nh6uXnLSilbmdiOGjunp1784v2Tz1p3uHl7+U6fHJyUHhdxR19JAFcNWU15eqKAkopD1XdSrBfO++Pgh0t7OknscP3Gil3fHwUNHAqJ68fLNxKlT4HnRMTBAhpIkpT42/uOHXy6e9ejgUlycZ2FurKQqHxT04OTpw+fOnyIJCPGkl5f76dPHp02bAvhw66YN/pP887LTqD8bMrhvRlrSudNHC3IzQ57cLy3OFcpRWhprayqcHBxUNVV/OvijiakJGHGklOS5bWGwNvlHXbRQePl3raffD2IXYpjxQBP+vroJS+NgSo4CtdsqEKIJx8i2yEoDGmsC1QvKr3Xrpk0+fr2oVsnNzzt6+CearX2zdMXhQ0eOHTlVXlz99YKlP/98lbbwzi5eZG4uX71M7HT23FkiebjCqDCV275zW99B/QLu/vLw8d2oyOC16xdraIutbXR/PnMgMDB0zDi//Qd2AUqxtrbS0dEsKCwg0AEkgnbNyYlJ3t5uFMs8CLq2YdPu3v06qqsrFxTkHz9yDJ1KciMtOVVbQ5OIhTH11VXVBXkF5UBc6posLQ10ddS+/mZ+YODtNetXP3vxFIZC6n1KS2vWrdt66sSFdWs3R0a+HzNmtKWFeWlZUfirt1/NnSPJem9Yu3Ld2lVpKQlmJga+Pl2dHOziPkQZ6ekY6+t1gJZSXnT7xlXI2tmehHFrG8pU1cG0AnFuePEyjF6H2loGahp6iYmZ794nQ03aCj++EAT+zQCRjPXn59+n4vNb/+CL/78Ci4tFPPHAT0b9EhbB6iFeSwawurpeVVUR5WNsaER1RGNj/Zdfzr5y5Rf/ieN9fXsePvyjjZVVQkI8mWaMoHkLlgBd6dy5a3tXN0TM118vJRZPlg0HPiUl6fvv99nYWjx8eH/BwvmknDEQNq3ZwTMd5Yga+E/2p0bBw8sD0wwM6lVIp25cS05OkZdVoA/SoUOHThwnchHw7Hl4q5Tirdt3iQi/evVi2oxJBw/uP3Pu0oy5S1LyavefuGLs4VPcpNSiZSDASxsbWuuq1RWkgfeQqq9rElPbSpWHhpoSXZSU5UWW5hbpGXn5RVVNUiraOoY7vuoVcOOWqLFx/PhJUnJ0zFTWNZZ6cD/64rlTINByP37y6uXToZ21lmLD+5Br44b1VdXQBpRoYmSAFQNzAPmEV2/C165ceY4OU+fOdenWQ05JRVZa/tbNa44uzmjpseN6kq8nMkFkFKK+ksISvgLVEQ4FrJUW5lboBgdnJ4Im9Mu7cuXqpInTwF5BeELMnp1PDz4zG5tp/uPR81OnTaFUny/bONiSYlfX1MCeOnP6bNeu3ZQVleLi4oknbtiwkZlN/PTJ3rHdh8hI4PW0unsa/KSmtgoljMVKNgrzoZ1rh8A7d23bOZiZWsgrwSlI8TNcgAInBEuC30WZoTM4FQxxPP8jjzazoU3MAUX50xdJLgsWXJuzx0cIR+lW2aePH/v0680f795FDR8+lKgCOIzTZ88W5+cX5OY5u7Rfv3o9xuOIYSOJM0orSNk4OnIw/+rFdfsPfL9p66bRo0fevnmzqgZiKVRv69OgwONHj0B0geHp1dlZsFauPzYwIKfmzu3o6OhlZQo5H+Yx8OEjJoIDcOVu3wsgmercwb6oqLSqSqqDi82MqbMK8kuamoAcqo8ZMwY3PyLqbX5+nra+prIqvZiFxnRKclIkqbR1deAaMjQ2xt7Nyq7Q0lLS0Tawt29H8WBCQoqyigwx8mNHfvT29iPdeeDgwZysLGobHe1twbti9mLzVlSWZ2fntjZLTZkyHqKYlNRsMzNdbOTX4a9AOQCzU1Wj9kOWKD4mJ7Yee+FhYMi61esuX76SlZXLeBBH5aO/YmEhqv4srX6VPUwwr/784Z/m7POff+U8nz/717/ABmZpsg7w4BgRIh3c7fbt2ynRt7Oz5ibU1dXqamugqsVtMTY2evee9sKfMHddXJxfvniObQugkRWGDpw/f76mppaTkzORcnl5yDFaPkLZn5TQ08cnIuLt9etXUa3wDjFnBLCaxVI4mPQZxGOqra+lOC4xKYkQPlGhGdNnBtwNoEqeWnUyj4SKHZ0cHzwM8J8y6cv5c9++Cw8KeTx81DAOoLsEnSNpB6+srurq6fEmIlLHQF9WBlrk+lvmXYAAAEAASURBVBZKLCDYpK4dHIS8rFhOvllRpUlajiwM+fryypoSIXDaIK0kLyVLW5a6YEAPjS3pRWWBL98Evox4GPz8zavY96/CStITawoy4V3SVVNqZ2Opr6E+oGdXf//Jru2d1q3brq8HumdGSPBTKk7FtXWdOnWmPomss519u8L8AtDMxGJwwRITEh4G3oKEnubjVpZWhBvSMjJsrG3YAC4urj26+xCFjYyKhpOC0Dte4dQp0wmH8S8yMgKcoRKWhoz0rOnTEFVMAfRyNDWoqqq0srbatfs72reUUSFdUrJ4ET67u28vXzkZ6U0bN9hYWxIZvHPzxpq1q8pLS44dOYy0or4HK+/Nm9ewXzo62FdXlO/buxe+XdrGEC4CVwLriVAMLLhk+FjC+muD7v43FqnEvJLsAsnzr6tZsLjaBOJvlpagM4EGf7vym+SET529O8oryK3dsAFcFeqQ+BmK7dnTMM/OnT5ERS1ZstjUxkpbXVVbX0cArMtKw6Af/eE9hHzPw54GMsq3rxsbGcZEf0hNTFi7Zh31PTh0EP5paGlANKyhodqju++H9x/37jngP2GyspKaooISzH/x8UmoE+oNrKysf9j/w+bNW5NTszp0cMaYZdYyM7Lw0Xr79SZ2fvHi+bdvw+ksMHfuF4CZi4sKVZQVKWAGQt2G8KFEswWAFekdV1dnsjGUb6empOGvXbp0ce2339bX1k2YNLGqshhOr56+PZd9s/TevYCAgNtp6WkEc+ctWvg8LGzbtq3jJ4x9+er1l3NmJyZ+unXr9ozZc85h3KXmmpsbaGlqMSXAVuRklbS19M3NrBI+JW/cuJOwJlWEMLwDMcWV/+sC66/LkzbU6d8vsP76Sf633sUB5MGvETggfIDeJmZMiB1rGVm2detWsKNU0r9+TQVpmYWlmZeXB2FjIs0Qbzs7OXAMHYrw+6CFBfPWrVt3+n1iHBE0UVJWaqivQ5GyPTCsKFRGKenr65Fc5yf69xmEAjl1+uS8+V/dvX8Xa8LSyorAipKS4g+HDowcOYq4DOyalNGxaktLi61sra7dvPEh5kNWfpaxqTFsIRoaWrExn0gYsfrfR0dZWlmC4ot+Gw6NFOZig6J8q6iVdpOUhIqlZUBFtEpjOICokJWH9E5BmSL9JnaMPG2SpFukxTJympViqTqRTE2rtFhKpCAnW5SRUl+U3VKaO7JvLxmp5u7dusDooq2mamOkr6WkEv7+VWpqfFRk/MSJYwm+BgW9SEtNBAJCLPy7XbvWrl23f//302fMgA8ApY0d9Db8hTSX0QLgQBkiLYpgYRHBrunXrz8Y3YjIKDM4TSwsR40cEx39EccmvyAbw7CqsoLQ2ID+Q/AigZVwp8T9lixZn5D0wdHRYfeeXWQnmDKi+4pKQj90LKnx4yYkJsTjvx89eiQwEPRJ2Zw5s3Eq3d3d9PV1CbvcvRvApPTu3cu7Y8fQ0FDgC4TtoyKjXF3bJyUla+tog6ZokylIKmEVos9wRrj4f3BJ/qcCi/MI5pUQpZLYbsJPiKQboQM9fOTHCf7jdKl5amnW0tXr068fSI7m5qaefr0zkpIePwocPHggQkpE2FlGuiAnO+AOLUImECzKgK44KT4hOcnaxibw/v0vZsz64cBpdVUFlOin2E+QglXX1hgamtBXIiEh2cXZ/cmT0C/nzM/Kyj536crMabOKiug0nnH253NPgoKfPntVU1Xt4GRTkJNvbmYOvqe6qhqe4stXbjwJDmnv2g6/DF7mjh29klKS9PR13n+ISUrKc2/viLBj5I1NzSgkWLBw0fETp+FJjIiI/Oab5di/ZibGB3/44eDBA7iWL1+9iIz6sHTpig4dXHR0tDdu2LB77953UVE7d+w4ffp0Oyenndu3X716q1vXTqCLqR9a9vUK+sIS0mIGqaDIgwWppF4Jo65VJiT4+YMHT2SEmhMpev0Swi8pKUQj/hWX8C+0xq+TKZkkyR9/NoP/Yr5/t8U+v/03j/981D/7BdY4y5GwK2uIcyOAEFuCvi4pIonOO9k5mZrqGps3bwIrBFEG6h3I9YyZ052dnSPevOaLNrZWwEQjImN5x8rKBvPb2MgUv2Pw4MHoRpJW8fGxyC9EHh6ljq52QUEOHR/VlVQJRUMGC7BenliikpKZhSliiyAonimFYKTbcUV9ff0m+k9auGjBxCkTM3Mzly1fAtvGxImTigpKTx87P2HsBPAQmB9mNhbhH2LGzVqYkV8bEh7v5t7to5QSdqPgyAu1HcRBuTt2oCzxV5iVuNemZjqRwNzQKCXbiMcv12TcWFMtpdAsahHLtzTL11U256aq1ZUunDJq+6Z1w/39J0ydVVFTRxxYq6XeREtj9uJpaF0C7LiE9KUC30DbEjIJyHqi3bdv38ZKdff0ALlG1Jxj7gXeEixZUSuKgf4ZNF9A7mMEYquCiY+Nzbh69SyVNwsXLk5OS1VVUW9nZ4LNy2AyBYmf4vEiSUqSEcMK/vGng4d++omxLSgqJMsBMosj87KzgBpyWiByTCKOYU5WNv4L7gPzMmgAPS76oX6uXb8SFRGJVCUHwsVzARQ5FhaVkBygiYGsgrLgS0kjsISCZ+ZOWG5/baEL7/8Xjz/vBcmS50tkwQTzTVhvbcfg//BaXLpmzTo/vz6M5KzZc1TI2Aq16lxMm6BsbKTbEHJk6pxZdaVlKIAjJ47hAVG8tHz5MtwCf39/IzNjKpMwwSgKBVa2ZdPm+/fvw92O04cLqaSpkpiYjGSPioyD3IrzXrxwGYL2vXv32VjbkTkl/o12wcZnuEhQJMS/Z7hmfvWVl4tAHEoBJlPJ3DXSzrSlZcnSr5EdEyZ91b27CycnEO5k58z8cvHGpkYcUFRS3rdvfzD0Cxcs8vDwevjw0f37d8PCQlWUFaqqK6iNLK2q1dHR09JURxExJjiV1dWNFMLB8lVUJEy6l1cHcgLx8Sma6spkP7V0tBMT49EudDPhU2qrWNcqyqrlFdXqqpqhoWFk56muh9Fh/fq1RHX+Tgvr86Rwzr9jnn+1xTj47ztecuA/9Zl1w4bnGUXNiHOrSAr2UlDQYyyvkNAnzNaD+/fQVFeuXgbNAF0ZcwYyGzonNRU1OztbNzf3kpJSB0dnIAhv3oTjXNBjnXd6+nSHBuiXXy5duACVCq23GuBo37BhXUODePnyr38+eyn6/XuMpvhPnxqbm9jnjU3wmQkVi1wDL4QmpmHPKisr+vbtDfhq557daNrMrDTgxfGJiXTEHTNy3KhRo12dnJ8+DaJrgZqqCqLQ3tpGTVEpNT6mUdNI2BBsOYG7HZmFNSWSJUBDE4NWKQq3qK4gZCNsH8olyNzXqbNt5GRFSjKtdTlp4vxMpcZqa21lMx2V4Md3S2oa4Gwm4wyP0vrli6vLS46dOsIqT0nJtbExHzZ06I0b9xYsmEfwjvQQcB13JNS9e6lpqVg9yLWgoGcGRjqGhkbi+kZqj4YMHS4jksXvGzF8ZPduPXi/a9dO27ftPHnqlLW17fUbd1nQoSGhaWmJ3P6yZUv1dXWZC/KzWEnrN6xDGtK9DpluaCR0VcnNyZYTAtWCA3748M9ZWSm1tXVicYOlhUV2dhZV/iGhwVT5sCH37N01bNiwSRP9TU1NNm5aBxUqugH4dQc3N8jqPsbEFtGUqrREV1uXchLBBvo1S/jfq3z+T/cCE9EmrbCihHAEvwM0b+qUUdeuXQdlTrISZ9jOzl4KRgJxEwURAbdvQ4T/zdKl3bt3befsrK6q9ebVs9fhL21trbt08f5q0cIu3btVlpWq62gR7Vq1ciXFYefPnkMFRr//QIw/WygzbC5AhJRVXL92Q1tbKyQ4DGuLIipW7Jbt3yUnJkJxRWNBFAnVNviADCCs8KmpKaeOHlu3fg3dH4i7ywkQFhMjI8j19N9GhIN6g0o0Li4ZSVRYWPTg3tOWlgZzc1PgKdU1NQP696+tqy8pLtmyZRvt4AAqZmZmYKS/eh0pLd0IaM7S1jqTlhLpue5uroSA0TFYTGQDYRAk56itrUHyncGZOXMaq2vRokVUhhLZxIKmWlaFShFVFb9evePjEzGyqmqrYSgiGmNmabpyxfKSkmIE7l+JOEom5C/F0t9tJYn+qH/+qRLoHzwZ2kCyelAOvGAbIL8YKTs70r1lkydNRXZA8ZGSklpTXUe4ERhniuCT6wCTI8obHv4mMvId+m3QkOFsAJq5A9U7efIkwT/kFH2PAaHcuXMLRPXRY0ewNYSwYkXFgQMHpk6cYGhoeOzIEX4UuwAIH9KD30LtI7BA2JNblJUmBtzYubM3xgWVzBRPGBuboOhmzJiVnJSOK4oVjV+grKiYlPBJV1+/srj4eUlZnwGjqwrSKSGUUdUA+Mi6F4RVc6sSQqqlUVpWDpkhyCspHDTpZtw0BBjZ6FpgXyKVhrrK/GSpkiylptpLxw9WZKcuXfjlxm3rNQ2NU/IKahrE3bt3qqgtK6nIozcvzXJ69+6OfGffcb+sqsePHyMCZs2alZySmJ6ROsHfn81z714gcdMJ4/0pAOBmiRNNmODf5jyql9AD1cAgLjoGS3DN2vXRsTE4iWfOnq2srFq4cBZpdTQq+Y2wkNB9hw5h/T4ODLxx/RYhs6+/XsZAEf6jAtHMxDwrK8fY0AShVl0pgBgwVLG8ADQWlxTKScvMnb+A3YLicWvvnpWR/cP+A2xUkoPLli6OiY0fPXps4IP74eFRnTp311DV6NKlmyJ8CURkGJa2MlIR8SXW+t+9tP9yAf6nX+P8krXXgN3a2oqHi3AnDvDN6tWb1qw7cfSkna0jLhsWN+l8LgBBxmHfLFw4oL8v0U9jc6GGxsjYELJYiqJNrC1bG+oePQxs7yJAYS5cuMhKa6iTsrO1oMMuXcJOnr9sZWUcEHAvMSEZAxPTlWlivakoq/HM1Jw9e6ZPn34hT0IoKmC5Xjx/xNXFCYVx/fq1/PxchhSxhcPFRWL4ZGblUlRAzNuTlEtxZWuLrLqqSF9Xp3OnjuERb03NTTBsgRNmZKYJWBYobpsaIt++BQT37v1bGxuruLjY2JQUIwNDD492tvaCU7Js+dJfLl0OCgpm9CprgKdUYzFpqGuam1mwO+gm++2aVcStiA9AIYlNRxrn2o1bfXv3XbVybWlR+cOHD8ly2trakGEAD8hc/xWX8PPE/KXM+vz2337xHwXWfzq1f/tE/8NPEe24dZyEZBwGAkk67haMD/gp/mwT/Arhb94AGdXW1mQLkT9GtyirKBI4fxYaQmHHyFHD+Xp7N9oupSFNGE08IEaQPfny5XNOAm8TYGtw8Chs6sKolEZBuDm7sbfPnP2Z2LmqhhrPa9atxqrCFyVfCaAJI7kBWLmmJi4qM4raQ8ARD5ZXVOaHKEYtLijiAGSPuAG1rIxUUlRWhfW4oVkKcPPGSxHSGjpVqjoNcqpSrYqyfNDUACVWo3QjXd3racLQSiUPLb+I3jWj65WrxSoyLXWFydU58R7tzKaPHTrMr+ez4EdTpk764fgpTWuHlNwiwPc6KjIzB/soC8H7OiMDAwDijBVts4jHFZSU+HTrhmFFQQnxFG7Zf+JEsj++vXoypJ27dqfckkFoqK2j4HbIkCEEcbDRBgwZ8oI4xY1bLDgZeUWcGsIlaODevTxwkeztbTds2LRw3nwTM4vZs2bcv/9w9uxZCxYsqqyptLZzaG1qZPstXrIQKvHEpBgKmzw83KbOmMntDB82jGA/4PuI8NfYGoC8gekqKQjALtpWM54ky4SCx7q61d+ud+vgeeDAjxqaujPmzKsoqVBSVBU3wZgsojznV6+QCf6HV7lkhf++qn+3uDg1PqDAu9DS1ED8oYjRMDejpkLNybE9vAXsxlcvw2kJtHHjJm1t3efA2b6Yef706bDQ0H3f71GV4MWkGy+eOUOKA+8PDwG73t7WDkMGRYI8Iv2KrF+6GFzzsjNnzqxbt+HF2yhDQx2wspyNOAOrC9+ZLGTfvv2QiXS3X7JkydffrJTspqb6elkFwgVSwwf2Cwl54+XlhAHLV2Ji0vv1647mrq1vgOpTXV3T0MBUS1cnNjaupjwP3AnWtF07+3kL5qLpybpWlFdzPTraegUFBFjaDx4yMCUl6cSJ44lJ6bQW6NSp48uXb3GIf/75mLGx6caNG589DV+2bOGuXbv9fHqxR+TlFBCU+BxIyYTEBOhosCfYX4WFxR8+fMT8rKlvgrMQ/6CpoQWZS/Es3XfMzY2JKcusWrsBVQ3IgXlg6NsYTv7xSfx93pl//v1xEoWxEibyf/eBWkZx8btMOfuEP5Ff5M4dHZ0wy21t7RAi8Apxw1iwlFRhFRNJweOLICWnrUv5Li+WfrMy5sOHwAcPh9JxT0bm8qULdB8hh1hUWBD0+DGk5wZ6gNkMaEX0JCisIC+nf99+GN6YJHv37YXOAVAyq6WsvDwhPrGqiuapxXDFkme0tQH4LocZzFW1CGxWTI1iUUG5qpJ6UnwqqRmYuoyNDLR1tOC9Likqw7cSQv6Jn/JyU908u2cmJ5E9l5eDHkcB0QaLVgsmFsUvUGgr4A9KQ/skzEIjxfMiU4oIU6IVK7L6eNirNFYunDkpOur1iFFDe/fvh+/QxWcA+5npaq6t8nS1rqnMW7F0OUnPYUOGOTk6FpUUv3v/XkVZRVNLe9Cw4Q7Ozq60Ywl6nJKc/O2qFWPHjKXlF6RxM2fO2rtrDyb9/fsP3rx6U1RUiFZgE8KTZWpkoquj+/LFSzo3tXfrMGL48B5dOpaVlJ8+dQpUVH5R0dGjx0mZ3733wNLaasDAwdUVlUX5ha7tOxzYt//C+VuBDwIg2g1//VZbS8sUnoDX4devXp8+bfqVy0JvdG1tndrqWod2jnguOA7z5i1gwxmZ6KekpjDvlDoFhz41MTFX19Qx1DeCOSA6OgaABRhrIvosRqF7pETE/EMrU9ghv4btJd+TrHiesWgEX1NEuXUVqPrmJrGVpaWaimxsTByO8MfouE7enQ4eOWGkqx8ZEens5BL06Imfnx9AN5+ePdR0dYWoFvtGuhlODIxx5HIGrd8zMohXsJbKyytwEch0MvhQv8I4NvfrpdNmzQbphudFeHHLjh2DhgyGQSE6+gNZ1FWrVjp3aP/1smUvnoWpq6nQLUwk8L9JSck2RL1+kZtLJXaJWFxPnzEgcozH0qXfdOrcNS72U0DAg8SE1Fu37rx8/lZRXrm5pZKoYk5etoaGetyn2KLioozMTFMzU0AnWE8kx69dv4p7HnD3TkVVqb6B1rjJk7w6er18/XzzpvVNzU1Xr1zhJxQUZV6/emNvb7fzu92GFAQpK926dZO0IF7LxUtnEUbgHNXUVGkqDvc9JVN9e/uhxTt7d4YCkNAV6A/EYmhYyNmfT8usWrOWnIZQFUbTC2ZRiBu2KYm2SUGKfZY0mNI8UN0cIXnmzz8Kos9H/lFgtaVN/vCJZJL/9c+sxbbLE8poiP8FBgYy8ch1BXllskVmZqZIdLb47dt3Tp08BWu1ibGZs4tzz54+paVlMPR8veybHt16NDc227WzvRsQgDbIzQOIcLF9e9dXr14mJydC8ITRhPIJCnqCRS0nJ000moV15vTPlEo8ePgABBYxC0FK6uvHxQGKmYX+J7mOiGSnZWVlUmWqqKhUX1NNkyXpVvmMtJzCwrJd3+3Kzkrfvee7gQIKzCgjI8vPry+8VN+uWvk28qWcnMjMzEpfRzMuOlZNVUNaTkkM9lFOpgnGLfxMOZlmvAWpFhU1FWmIa8R1EB2VfQrUV27p7mSWlxg9fdwITzen0rJiW3u7huaWQwcOzfhyoQhyeDn5nPSk8LBHXTt1PHnsZElJdbdu3i3NrTt27jMy0mO40IoE44ACdfBwnzJplrm50a7du44cPvzkSdjMWbPxVkzMzQhSfLNiJWxKBOYA9BOvhUoFY/7O7QASrwwsij0zM6u8pHDt2vUYtteu3dix40cfny5AN1m4VEpjK3l5eqGQ167ZkZeXOWzYQBq1Z2Zlot67dOkK/jstLRXLou/gwXra2uT+zEzNV65br6GqJggsDR1sQD1dw9FjhoKrpqlidHRs6NNnBAYyMrOcnFyos3V39xSTDRHTGUFgYWSFtO3g/9Za/A8rGmmFlGxtaQaaHxsdjYC+fesW1cIJ8TEDBw7y69WHLCpm+OXzF4k5LPtm+bx58+MTPikpKjo7uyioqvz4/f5N69cV5ec72NksX77i6pWrtL0ipDN/3lz0KJLKyMiY8WGbcioMW8BTbi7tMTBd3Npra2pi9SOO9uza1cvPp7SsZNu2zUrqKvt275wwfixkJGXlJVSeEV64cePqjwd23gm4jUuIWmoUN27atJm0xdrN2zLTMlauWG1qajFyxBhfv/7Tp87QUNfeumVbenoMNnJCYtz76PfcY05+rhz4rAZxVWUVSMPq+pqnoaHO7V1KS4p69vIhvZ6WlXP40Bk7e0tFJcVz586T6ISrHoxFTm5xXS3MKPWsBIqFnj17tmDBfGhnzp072atXLyIwiYkJVVW1CoqQL0kRhvfwcD927GjnLp0nTIDhZnqXLp3APKakJItKaxtotsN/xD4EjIogg4SHPDRnrP02gcXe/+2fIAYE5x/IKcqA5za59rt93Hb8f2sJ/PO/9Fl/4ovxGtuSB1WUlNSAACYW2FDfRGQEQAPsKPgXWEooNJxBsjgU+mGOsfFsbM0JV2EyPH8R5ubWYdSoEWzFJ8GPiSOiEKqr6WfZDYi8sbExJanItZPHT1OlRV0Ypri5pTXlzTh9nJPcInU/J04cA4ZnoKefl5+LKY5udLGzuXE9EE61zOxCdtqAYQO+Xbk4Oyf9wuU7r1898fToQtXYV1/OHjJkwNNnD0NCg5zad1LTMM4rlX6RkF+nZ1Wvpd8oD1VyoxQZcQD9GMrNDfDvSdXVG7XKVWTm2OqldmzfXra66s6VX8rKa3r49nDv7L19x65PifGu7TteuBRQ2yDV0NQsL9O0YObIB3eu7du789Wr12AOnzx58v5DoqOjtY9PLzYGICy2zYQJ49TVtUi1I/1Hj5585crpkWP9r1+5woZxdnRCpmMXzPtyDu4MUXCG1N3Lsy3qd4FUo6q6yvz5C+2szSIjon65chkQUHFZKfFBBoGM6rp16xgx8obo8wvnz4GuhBdYsvoEFKWMzIfw8AcP7n3xxRdEDBFh6CFGVThGJDq8f7+fX5927V3uXr/53e71YA7bFrHsiFFjunfzXbR4aUjIM1o3Cuw0jYIHRAYREwZfG4HVtpD/iWuvhYrhm9euhj196uLijJkwcuQAIQfCvpGVy01O5wcNLa2JPHJHLSChsrMYqJevXyHLOnbuhBN35OhBoq78iV/MonVz74DDS0KQ0JWwuk6eKiosYS7O/nL1h1178Qo3bF7POXNzaRa9ktDq5MkTySEGhzxhzeNYHDt2jKJXBByKE53NPIrFNIzQwK/kdejTsIsXL/fw6+/ZwT0pKfXa1Vv6+ga0EaipqRs9apyQ0WmRSk8Twia5+VnMqYa2po6uHmIrt6DQytLm1q27RcXFLs7Oy1d+Q1w/NT2FDojJWTmMMNAcNRVVPL5a2o6JRHyP0CQhUVsbG2Y2+t17CwsrlhPBk67dvDjhnTu3bW2tCVTxFSMjE5z3Xr164+Wgk1RV1TEs0ZepaSlFRQWi4ipaV/4qpHghCC30j9Sv7bwlM8nAYXRhh/EZjVogm2uTacITWDxBZv0nYuuzyOA8wkn+8OC7f/jrX/6SQWEsmHJgKfCBkaghuwwpGcEXbFGCweoaasCIAGcJKSQuVSQa2K8fccpefXs8fviwg5vzzJkz9PR0CDkDqnr06CHxLCym7Oxs7gvOaVZGUmIKa6Wmqg6RdODgD8lJqTduE5UfNW78eOZAXk72+/3fs4aICt25fVNyMXz36/lzYz5+Onf2yldfLrC0tj1y9NCZcyfS05PJMx48+BPGua2N/aOH9zOzUgLuXXF0tAOrqaamL69gnF+vEJiUq2TfvpqVpagu+PyUzMpRatvYWFWkIy3VlJzmZGSmofTp4c1HrU1V5PWHDRj0KPiZq5f7zt17fHv6durcY+YXi1XV9VTUtDLT4gOunWiqq+jdp/vu3ftDQh6/efN29Zp1LPTKyobNm9cRZWA7FRcX+vkNbGqt/eXChS+/nF1eXd0spglGI3W5vr194+Pi2Jooz6AnjwmpIrhTU1M7demKPILbr7uvrzDNzS2jhw9/8iRk3749jS3NCDgwCufPnyOBy8jYWFmR6Og7aCDoDLZ0dXFxWUUVs2bv6gI7HxuIClDOgcxCLQOL/vT+PTXqxBMxQnv27Xvx9Oknofc7depC0VmPHj619WJjE3Mw+rw2s7BmY1NTgvIlKM5ukSzHf+IqZBygbxRczcYGmPckfsbureuQAsQfgA5s2wI51Jzjx07+8ss1GDUVNbTSkxIXzF+Ef2NlZR0b/0kISGtp0ErryJGfiKmrq6jSM41NjueFwNLS0/Pt3oPlB5Pi+vUb1bTJHhaR7GMdBgcHQbfv7z8eQayhp0N4ABNv/PjxBLMfPgxydXXMzKRtjwK5WpAG3D64LXpGUIeQmJLq6OCSnZO3a9e+3n0H1lXXlhSVHjr4E/IFcxh+pK7d7AAcnL9wlvAiWUJXtw5spZJS4HOl69ZvhDoNUcLcmZmZVNdUsqp79x/AXdAPlZVDvIJro0uQpaXl+6hPc+fOOnPq9OrVa2lIjvL28/NjGQAQUlWDeUnk4uJEhJQN5evjl59fCCR15449iYnJ1L2vWbMGb4YCRuxKUVG1QIrCQxA/gqgS7CdMW2ZX8r7kWQDDUXjFfwIw7vfjAeC0fU9IvEjmvk2c/f7Vf+KC+P2k/8grhAJXyDeYJ9wBNA9+FqirM2fO2tlYE29iz7CviBODz5LEwiE55J2BbY+IyFcGxsY5WalhYU/xBG/euo6NjeRixTOI5Fmrq2tR7+SnqCBl58yc/gXT1q17z/bu7hjeFKzgqmGRihsFhl+ugQC/nY0ty5dFwF6Njf4YH5+I/KT6J+JNuH0724xsar/Swp4/Z04IKHh39PZ073Du/BmHdlbA0KMiXjeKCUeo9Bw8Jjg+OzavXN29e720srimSQhQtDYoS9c3VeZWp8b3d3OtK8wPe37DuZ1V/x49tm3Zrqii7u8/JaegAD4YVraJud3Q0VPKaoS+0U01ZcvnT9q1af2xUz8UFVUMHNz/5MlTGpom3t4dSJynpKZJhnzG1Cnc6fZtW0EiuDg5nL18WdiWItH61atpyMpSDnsaamVlhVxDjmB4Yik8e/F+4cIZu/b/kJ+djT1VUlCI1fnFgvlhQUE9fHy+/PJLaOBnzxmPQKSwpmc3yG0OFxcVuDq74LO7ODpt3PoDtuOECcOxYXNyszB7QWyxASqqKrHITC0tBWwH89vamp+ZbWhhAeQuNzvb2MyS0RMisgKkltkXOkfJyJBdgCgTwDy5JsK2wqqQJQT4T3mg0wUiWc5F6hZAiczGb7/d8d0eV2cr1B55TzQc1d24UU3i+t69ey9fufLKlWsvX7/W1dEvr6xKSEzBYSkqLNQzNhFo/Vsgeyn4bse2fT/sb6qrQTQzzgWZmXZ2zqNGDaUFIMlu0o78WGutuF+/fh9jqFN6C0AHH6Jfv74+Pj2wtRH9xIDE4qb27V1evXoDsJnV6O3tQYkMqohdMHX6ojVrl02cONXS2gYGEVT4nNlflpeUshEQVQQxV69eLStfiwDKyMy3sjEoLCk0F0ZYCjIiXL38wqq5c2cc3H8w4l3EmrWrg4NfurhYd+rWHRcE0CMmMNuN6i55GTkMcAyu4uLS91EotUgHB8cRI4bnZGbFxsYD3HV2dpRXkE5LSy0prYbcxthY0dTUnPNT6cGLObPnnj13kXw4yQxwwqLCKgK0v0oryYvfnoWYlmSr887nB7z2ba9//5QgL8JKciTnFdQYFU2So9oWy+fv/n98gdji17myjx8/EBuSlcWKzqeGA2WFtYUwhkcFy4sFB6SYPZialEQpDziGH3/aj2tD1JCwF1MQG/cB1g0mIDIqgmVHdnbnzl0ciRsCWQciLOTJU35l95597EAajYwZPc7IxATnA/oBkEr4/2BneOZiSJxBAsVeEoZFwEa30mf57evwrr18C3Py7z96jDWB60ry8dHDu2P9x7Mhvt+zZ/eO7eAAAQEuX7cx7H3i2C+XtRrYKhnZN0kLKWHZxuri5A/S1TntDNR05Jqyk+PTM6m5F00aO5xENZEb8MRTpky7HXB/xbfrRvvPGDB+Wm0L+6R4cK9untbadGMdOawfCA9VDfXElAwvd09UpYKSyuTJU3AiZs6cqamuLRbXTJk0Efl+L+A2y7q8qpxUVFF+wYCB/Z+HPcNox2h9GhaSnJyjo8O+skOmf4yJIftpY2/DrxflFtKKatiI4cidfgPHKClJdezohqONH/H993trqhrtbExxAaytrAB443ePHjMJbQwWFz1MSEhiZFEGEBwaMmnSlHlffw1RFBNEVQqWHbts/pIlCAvQithcIjklnC8AUeIG+gAKnYpwBoVlwAQL7o7woBtE2///x0/CKXm0EDJ//y4SAIFHhw7kiGWkWxgEsHtnLl7k04gXYRmpKWT07j64D0w0Ju5TXGxialp6587dN+/cxaZslaJOmwObYA2Oi43x7eOXm55qbGI098s5SH9kEN8Fm1FRUTVp6pTu3Xr27zcI2B7FUiAnvvtuB521Zs+e6evrW1ZeBLUDS4UQGGI6PDzGw8MBJxq9iAEVF58gJa/g0cHzbXiUDJzu9eSv4a3UwFbq1q3LxfPnhw0bIiQBmpvt7M2wrX16+bR3b08vQicX57YYfAE40zdvI2oqxJ6d3L76ak5YWOi5M1es7Y3JiQKPAGXGYegY3FsKmk2NjfHiM9OL9fXVFi1YOG3aNKxv8IYPHgTIyqiMHz+2qbnBzd3Z0sr06dOQqqoKNzeP/LzisWMnqKlqLV68Au+EnFl9Q/2c2XNE+ZWChSXImD88C6IKS6ntIflI8ppnPmmLbAnTzUdtQk04sg29K7yDjUbZVtuDPwVQkOS7vCP5iuTP/7VnjBp+WmJn8Ux4iPg6W4JLhpoKrcsAsbhhvGff6unrRkZENNY3MNPgGwAxvH7zgmnOzEpNTk6qrCxXVJKldzZtbBFizHFmRpmxsSYZK7RHRTnsl+2cHV0BKL//8JHlWFhSym8ZGAH1xLpiqwhmK2JFWNZttJnY7a2yNCBo/OXyz54e7Z2cnMtpLlNcEx+frMHS09Jycm538uSRMaNGMv1V5TW7duzq1aPP5SsXHd2sVkGY1Sy7dNWWU9dCpA1sNW06lNfWl2WlSCV/7NnJYe70kfn5Sdt3bigqlDc00V+3Yt7m9StPHj/qYGsXGx1398Hj89fv2nfstuy7QwVVtTk5WUN9vOOfXA1/fG/w6GFLliwdOmI4ENbAx4/Ly2r0DAyJW5NsZum7OruOGjnsbsAdqgKwFBgfkXQLxgtpDUYJ7qZP8bHgtq2tLQkCVlZWnjx9CqO1np4xcoofYzKNDJWrK2s7dfKOfBdVWdl0+NhehAh+NOGVCxfOYRTMnjlr5vQZ9DiwtrSysxa6dd268wDFgJcNzMLdvQPmpr6Z2XR/f/YntgkeBHynbAa3Dh7+kybCOqBnZDZ61FiPTt7ZGVlkMGk7Sot7AcTQpkFxvjC6xC3kKkQsUhahzD9c/PzXV25zYxPnZBcQMMrNyZKRkTa3si7Nzx87ZtSpUycs7G33btsc9OSRloYK+RaxuN7KymrA4CFJySlduvQIffoC08be0RUsvpRIXtxAIzIZmEL09XQO//gD7h5R1NiYj0RaV25Yv23DhqDgEHBqNra2K779VqpJrou7O/b7yZPH3TzduZ/unbxwGmpqK8CsIeCINmL5oh4wjYlbfX/gyKlTp8b5T7S0QOl+QCH16t2XxY+kHDx42OBBA8CL6mqr5+RmYyD37t0LH3bixIkzvpjRp48fHZ5NoeXQ1IDOgVjHug2bIGtMSUxWVFHgzNRZsJWQENhWbDRM7GVLlhIKgAgMfiuWvri+gXjl27cfmsSYURqjR45kRUW/T2FD5eZlhT59ZG1jBiEHpiJ2NOn3uwFPCcBjA+3Z831ebgFeKja1KLe8gYFmEv74zJ/0mJa888f5EbZ9W2O4NqElfMIxktp0icCSvCPRYJIvyrcJvs8n/9MLyTH/6meJtJL8SnNLA2PHO8witSy82XZT0rBi8j6OEjkRC1OzKVOnpqfR9JG0rhjNpq6hTCIWZ7BzF6/Dh3+EBNnGxsrY2BREJQgqpBsDE/8pkRDV05BnTJJ3py5DhgzTNzJ0d/NasWolGT3aN/CL2BHUAJ8+eYojwTExGg2tcpERbyZPGr5uzarigvy1q9dXVzYbG1kqqqpyPXkF6WfPnuGj+loxOocgV2u1lEhF6vnLR8bG2tZGFvHxWQdOBlwMfNNsZltTK6baZcE38/s4Gsu3lPQZ2m3KLP9frnyCpHLYkB7fLJw9ZOCwLp6OWzZtnTx1tqWrp+/oyVLwuwuliM36MuKeVuoLJo+O+JhhZqYxetx4bifgXqixkU69uKmwqBiBhd6ODH+DGCXYp6KChwHpbe22bd8uWLAACtdFCxa8f/cWZU654r0HD8pLS/EIzC3dFyyYOGDQwOnTpxNtxddwc/Vcu3Zr775dWdYLlyympiwk5An5Lx/fHlTV/D/qzgK6qmtd1HHZcXeSHTcIQUMIGqC4E9yhxVsciksp1lIoUNyKu7tDkEAgQILF3d39fWuvZBPknHfuG/fcc98aGStzz+Vz/vN3MdTTW7F8ub9/O0QJENbdu3f79h/avE0bVzs7tIStv2uPgm7vrl2ETGGQZUWtWP4L/ODFi5dB6BGR0a06dBjYbwicgq3UfsGiJfExMTZ2aG0U8Gij6Dm6e0wSAgTKkBdkg0P/XQhLxrRxP+GeOCag1YdwZyYnG6FRUqg6ffzo0qWLqitLx38/Bgs9si16PUICKBExdMgIRQ3tJfMW3n3w8Patu8pqusIqVVYg5rlZU++7d++sX7uKUbW2MoczNTHD4vwWlf3+/ftHjxkHPnr34h2Cm5u76+o/fudBfbt1TkiIZWznzhMie0ikl5FB1cKR6ON5IopFe/fGLO5J339/8OCR9b9tROBCtx8U9AyMFh7+MWBAP7IDYblu0aolwjW4JytLKLbWf2Dfq1evgdslRERbWYHtc/LzqDiJ9sPV1Q3VBxSluCSfJ8LOwyKwMSOmRiboHyFgjLmaigo4OiMtnSUA5mrcuHFyYuKrVx8pA0a92D83/07e8tFj+6CrSUiMLSmuatq0Seib90aG5suX/UKiEcrx4qbHXAsIiyEWZrF2LzZYxl/08JMNRCY2hHbtzMsur+Gk6BdpFw36azReNW3hUtnJCjLevPZ6oZtNBCCx/a/v/2ssPZiKF0CTxViDnpB0+A7GF+wgfySfjlcRZnKWhIUF2RcJccrFWbF9Wz8cUKOjo9CAMkMypz5n+IurV69Dxw7sP4jis3uvLvBZqBWgMIcOHpk+fYa+vp5UKpVoasJzoS328/OLi4tZu3YtFC8uLs7MvB5ghFJAQ0NCGTH8Cd+9F4KNEV8Iv2BWoNXsiVkvKSrgTU6fPoycaCd10NbVZyixTGP8IsCINOpQpRHDh67/7Te07yPIN6+nB+tx+twVtELUoMfCsHrNSjid3Tv+9P+uq565zZ5Dp6vU9JVU1Mnwd3Tfzh/HDOvUrlXDho4REVHwjwwOnoqMFQ0odkC/AHSfaHxh5vmKXr16YRbkiWcunUQWi4iIdnFxJMC1vrc3L3nx7FnkAhQ3MAUsnrFjxzIC9x89OnXs2Mqlq7ntnPnz0Lagr5XaO587e5Lld/v2TXquXj7P3cisBLjHRkcJPKZ7E5k1tgD3VImhXmlenrqedkVR0cOH9/kuKAfjT81EBE/ChtGevHzyzM7OHgWMro7B+4/hK1avpwIVC4zyf8L8yia5FoIFeEOHIfT/2zacbxkBVKKQK8wWsupewsMKc3IZWDhT5Cbh3SoqsJGh4ZowfgSQY+Mo4NmU2Gjs1KUlhUCX1M1l+4YNFy6cgVWPjPiIpRtcj17s3Lkrd+/ctrOzmz17PlR22rTpr0M/mhjqYVdBJ3jrzk3Ihq6uNlC3cs0qgEmhGoBXuHD2Yt9+fefOnsXUoOdC4nZ2dUYAYDiK8vMlujqcwxrhDfHvw74R+OCRl3f92XNmAuGlpYVEKWvrCVG6AmOlTCg7BeQwiZABRVdHkao5mRhKsBMaGBkUIUoQDV9RQZ+BLjRYpaygDG+V4rwSZv/o8RM4KkN+sKhSGayBp2t1dcXjR6+oiObn24TB4R0ocJ+ZkS+1cyZ7OLGoyjPmLuRJInoS9+JPEa3QZhPbtT2fEJmcVMnO+tSPFkvWI+4+9dfpFFAVeEFG7eQnC2f+18FHfnnd2//DtvhqfClIivlAJBGAtvYbaUCHGX0gDDkFnFJeVoTq5OcF86Fjfr4tFy1eOGbM2JYtfeH8//hj48CAgXBS4BcmCf9AdC45edkLFi1G1sNxkcsXLFiUlJQokWjfvnXzr63bw8JC8c/q3r3HrVs38WaGZxkweBjr39zC0tjEGLcs7CBU7mNfWlqmro62XjBaEpKGIyJxc8B0cXF+167dr12/3qN7D14SoYmrwI/x8Qkjhg2fMWP6SiE49hKeTUgEm/7cyqLkJSdPnUwUGA6EKJ5atsRo1kZJTWvrjt2eDZvCfRAD1MqnWfdObZctW2RqZnj8+BlTc2P0Plwr+D6TeDu/4OWrENQTONfguxgS9qaBR/2mfi2lUumSpYuxZGD5trKy3rhx06QJUzPSUqfNmAk6u3z5Srt27X/+eQHOuqjksA9269rth/ETtu/di3MsixCr9qKFPz969Ahqce3aVWgADmJde/bEA378uHHYpHi3gSNHebq5BAwZTHkbYbXjHKumBidsbGDI7LX0bTlk8JDOXXr4+VEa68ipU6fJPIHL1cWLl/r27Tdm4iR0WCgQsQrjNyzM82fAIoPMz7v+Idz8vx5g1bCkWdggfeEd2GRwH/Ly5dw5cwEAjqKdBlmjFmRAXF0c7t+/b2FismDevIBBA6FzDx88aNy4kVt9zybNmt25efPlyxcG+npwW4hIFy5co7wzhGHDho0mJqYHDx1mLlAYoayAq4Uvk0i0QsPeRETgSSuwGm5OTspq2tu2bP/xx6k4Qw0bOtjAQJ88+kZmJizF5YsXr1u3umPHTuoaaseOHQ8Ne33u3Hn/Th1YJocO/43uDMexF89et23n5+1d38zcjFmD3rPHu5BzoEPstTXUS8tK8CSAhAg1LioqCwsK0ZHp6+qMHj1WU43yRWVFhUWZmdkEkj0JDOwX0B+X7F9+WaMpUculdK6+XnlFvrm5sZ6+QUFhgbYO9T3LDQxMikvKu3btERUToxifWVSLiWoQkzg1vIfY+BxbfYPDqr1coFfiJnJYtf1Cn8hn1d5K1iPDEfTzIPZy3CcoRf+FTY5b6z7lX7iOU4T3hNyxga14usyKWAPIYCu+u7JSSPh96RI5TPI9PZxQ+k6bNhWdEqmQyc2Ar5CHpxvcL9uTRy8mTBgL8SflNvoUMmbcDbxHytolS5aAe7MzMjt2/K6QNP14YFuap6akbd38J1ZCvLqIZpg9ezZijqmZVZ8+fZJSyLee7VnfS8TYEBbULmgZiXYE7PCZxjk7JSERB87Ll0+TCf5R4NO5c+f5d+xgamKmLisKkJaaAfpAtsrNzsbG1KxJU9JU9uza9eLVG7+t/23C5Cm7d+2YNnVqVTU2lioVZY3CyurbgSHvY1PUNXViIj4snT1Go1LBUCJxb+Qe9CR46fJFN6/dCA55SXUccyvL6IhItA/JyanMVHEpGewqczNz+vbrLdHU3rFzC1oqXpLUydOnCsmmiW5FAIQXA5muWfvHm9fPYTlRvno38rl75xrhuCwjyMLb0FB7B0eWK6OBEEdF8rehb9BMUfocxjM3JwuyAYIeOGgIwVVTZsxIiomxtLN7dPcuzFcjHx/wTHa6IF9Y2NhMHPcDKBu8T0b64rwMVRU11DRSqZOvX2stXb3qSpkeQ4TnOggLNhpI+HdzWLWiYi1sAriCXkXp2OHDRGLNW7CgqrwcL1bsg8HPniOXjRw7AlexWTOnozRAuYPCftrUyYiB27b9hW06OTHeu1mzlYsXgqRgduB28/OFWtZv3oSioDh89NT27duGjBljRajGsKHrNm3q/l2nevVstu7eEfbyJeH6qGUvXLlLCqOhQ4cCvcqqAgK9c+PGpcsXsC9Bg999eGcrdSA9VmJiEskm9+3b37l71/Vr19+8fRMUWUTNVyWFZ88eYWx5HvwM7oxHC8JKASVRBezPdFSV5bOmCFrGAIt/KfBLoI+2rh5v26Fd+27du1ZVVOpoS1CbRkdHkn+5sKQaiQEnL0yoCMKmpobomMhGyQKsrCzHCamCRJQS3a5dem7fuac+CwSEJf4lZBXX/UNUFP+Sc8v4Qzcv/mFVFP/wh8jIL88sqKj9K8ssEP6yCstzCstziyo+/yvLKy7PL6ngr6BU+CuU/RVRYBJuAkVRVSW2Ov5kE/qv7uCS/tVTP52H3QhkRV4DhHexzV7YZEgMzkto5+dTAFnYKsqp/MB8lCclxty6eaW0NFdXS8W/bXPf5g0cpead2rdo4uXGtOtqKg8N6H3i8L7hw/u1atU0MPBWVSW1CMuqK0sqywplX1Yq/KwqwxZ46ezxFYvnzZs51bepV+OGHknxUcIh6jOX8yDCpHMRV9l4OhgzKSExJzszPy8nIyV5ErrZsUPSkiLbt2q+ecO66orijJREBISU5ERGjqIOB/bs9W/T9vrFi3wMD+3UrjVG/OVLl4nDtHTJota+zXmBX1Yu92nrf+3x65U7T+06/3TdnjMvPyTiVJmRECdyIZcvXRg7ZhTX2trUW79uDXgTyyY+d0cOH0xPS9m0ccN3nTpQ10QYwEo+qvzaxXOyb6Q0lPix5RPGjtJQVlixeAH9+3ZuU0OvyfSWFednpYmDUFqQS09ZUT57vqK6vKS6qmaIygqzu3dsE/zodnZSdNDDq13a+7wKurt2xfzFc6ceO7Bt07oVH8NeFuakFWQTBBSLYki4M5fjxF6YV1GSzV9ORnxeZrLQj8M+Hy//k82puKtCWhMA4N+8iY/mUfJ3kDVYt2Q/+NRJqXHqNPA6pUV8yNI5swozkg/v3lZdWVRdQU/BpRMH9NUUWno5hD29MWPcQHOJQsK7x4+unmjq7uhb36WBg02HFk3vXb5YRn3mnJyQR4+f33+A52F1CdeWb/h15YbVy69ePKGrrtCzK26inscOHWBwtm35w91JOmxgv0b13Vzsraf8MDolMSorHddC9K2FN25ezC/IqKgu6xPQS0VTSU1b6fzVkzPnT1VQVYiMDzOylJja6Di4W0qdTK3tjU0ttTFLq2spGBgp1LPTdHYxcXQysbTUtZNa4PUObJeXl1IBWE8flhFBkgKdCg6Oxh6eljb1qMxpqqWtbmika6CPZlTB0dHS2dVK30jJ0ERJ6mjg3cTBykZfV1+1dTtfW6m18qy5C+FuZH8Cc1z3TyAOglHw017okemwavgaAavKN+FHDQ8l76ttCKr5T/cWemUslXDv2n6hAZr+XJyUHf8nu/86fwXwchFAKmMhhbcCT9Fmz3MEhZEidUsLoHXIZVpaktu3bi1duuzDh4/oC+CTnzx+cvzEye07d1A0pFEj3Lirc3JzT5w8unnL1g1/bNy85S9iROfPW9DSrxUxX7AYW7Zs1dXTv3Ll6t1btzBaW9erxxg5ubnCP2tKtHr07PXw4X3S/hIMRMyzUFYTK5GaWlZWJo9GfC8qKtTT04XiUcsYB1eky6GDBpHluUPHjn/9tY3paObT4syp039u3ETEn3v9+g08Pbt16aqlpU3l93r1bHdv3xETH08IWPMWLSzMzf3928+ZNfva1SvLV6w6cepcakau1MkdPo4MEJ3b+xbmpmtrqK7f+Ccah8VLlh74+yBZpPv2649f9YWLl/UNDQiTbNnSj5u3bt1m+PARzs6kxldOT0qhmCD1aQQHgooqKgvyCZ3a+58+c+72rdvDRo7+cfKUZcuWk48pKjzSytIaN6jE+AQYKwZcVU0Vb6iYmFgTMzPBgqqkRMwwzBfsmKW5pZQsBPVsK6pKhCLpKKIVFXACqt+ggYOjEwVbMFQRP6imhqRMvjdB36ekrK6sqk4hUkIsNTS1sPwKLub8iZsI2Z9gCf0gfwDtf10J8ekm/0KrZkXVwDtepSLMkuqF8q4AAw1qLCJAwXYJFXcLCygR/te2be4eHk4OTgiGiABO9vbfjx+XkJDWskVz9FzRMbEdO3Vkmh4/CdLVN05CQ5majpuOo6MT3xsRGdWibXsLUzOyG+3eswtBEiny4qWLv/z624KFcyW6kjHjRsfERZ8+eWzr1s3ejRoeOXaEqvTpGWlx8bHrfl8fHhGONXDe/HkXL58/duLo6TPnL1y46ORsD1hevHgBrWhVRfGvq/4wNtSBjJFoFO9Q1GQEdbJ2igqqrG0MzS2sqXtQgEiPUF9MwHIh2bVTkhPiY2MwiKtpCJGDc+fOpOhhVHQGmlmICt5xnh6eMGYIgMbGpngCEbSYmVVGFhofnxbl1ZUpqakEaTk4OcqE6m8NO0v6W90yCbz2AJNQ57Q658swgniWOD2cJqIJ+b72HoL6TDwqw5oiCpMf/O9v1D5LdHQQ7i++oaBKAOpl2ncaTAw6IMx/Mv23iui8i7zTt1+/M6dPhb55e/L48cjIcBbzrVu3Nm78kzg1VM6o4Y8fP+fs5Io6Bq0WIj3TjHconl+7du2oZ2W9ZtWqaT9OPXbsGEw+siHxKPPmzWvevDmWE0QACmrevXtPYI3Ky5OTEqysbEipQdYavJyQlfAhQAmNjEAP4merVi1JhUomgDHjx/KSRIH8vm6d1NbO3t7eq3FjTHKpCQlw2kwjdsagoCfDhw4jOSqxFJiZcR28f+/G8rU7MIOiHVcn3acKdcCKS1QpmNgG0yfJQgMDH4NTMDX06dt/4sTJebkFpAab+uM0oBPMQrkLeALWmKmlNWP48WME36gjlIdSHDZoEJl5cDdjZFcuXUYYLRIxqvucjIywMPK8hzLgrE97e8dGTZvAozk4OBC0QT4v8A6RMxmpqUbGZv0CPBnzOTPmrN20mlRcqpqaJ44cRaduZm5JZEkLv9b4f+jqGaDkUqJCYjUpdGsgmRvh7iaDGzCRaMGW/fps90l98Vn3/9gPIcMqxlkQZjV6CTbAkoeT1Vxdw2D9r7+iL4cw2Lm6+LfviGMBlmvs+tTkZbL827YdPmzkzZs3EdJRQqekFQQRn38BO8fZYcNGoGn6YcIkhs6sno26glDEgBU7YdLE3n17derUYe68eUdOHB41eridnR0g1KxJk2k/Tr5371ZefvaLkOfjxo57+jwoLOzN5Ml3uE9KWiqatR49AxwdHcQVgTyYnJBuaCRp3rx+fn4eIahYXbDc6erqmRgYtW7bZse27VevX0Ufkp2dzxdZW5hjfEfSzMtO2bNzs5auDhIf8i+i7o0bt2JjcpcundWrWw+f5m3U1StYMlicygxIaYRjYFZpebWGROnSlasFhfmgLiMq4BWVa0hUFRMzBfX+15s4guJiFvfiOciZ8k20EtYe/QQEn+mwUHoyMSJewFO+tl1rbJTpEeit2YSQuP/rJrtHzVn/VQwnoiQuljdEFEYPYQRMDEiBHoYPTUrLli3927UHR3Tt2hX8NWXqJLyBcHhBq8J8r1ixfPuOHViMWX5AAJEQTNXocSMm/DApKysLjTvxg8tBBorwAABAAElEQVSXr+TaObPmfNf5uzevXy9duhRPIhYeqxSvQmARnILFDeUlSgRUNvB/ISGvx44ds3DhAnILv3z+DJUQ5hIMiCOGDsOaRhbdO9eurVxJ+ZVlbh71e/To+SgoiLCbx4GBuF+s27Dx0P795iam/kKJBwV9iSSvvHjBz3PmL1x87MjxvJzcH3/66c2Ll6SIyi8rvHwr+F1MImCEeKWrWjFhdABeREOHT4QbAtUC6ywqMDJgij8hd8Na17q1H0MkM63SITMkweAoKER++IBOpD4Of15eb8LCCvPzUVRt3bTpx+nT0amhrOFWYDouLC4tAh0rq6njt8UUpKakG5mgkjZhTqsqqp89e8q1bdu2JQ8P/h/t27ZT1xEcZjA7QE2wi33XtTvaYqkUtGxPDxxWeQVpW1Rhhxk61PHVihWopYTVL+hFCdkQlJIyyUB44drtE6wKSO3fuYlkHCiVg5n8aYwD48xPOSgKh2R5cY2Mjc+eOtW7f1/ePj48vGMnf2jhgUMHEQH8mjbCKAwBIxTJtZ7tb5v+6tanT1xEJOwMagDU9thKGLpZc2aiBNTS0szMyiA3ZEjIi1mzZgDbb98TLSuR2jlA9uxt7dGckp6UiLTo2Djiefb9vW/Pnn3mlmbMeEkpEnp1VmYhmDExMR5/4IbeDdCdVVSU47aOsoJMig8fBO7dt2fZ0uWlxcXJqWnVlVQXAOjUNDVU3V0d58+b+ePUCfp6OpgpiTQS0Gtq5ofwqNy8KkNjvbT0XDIvLVk4e/6cuVmZ+WQNWUKsz1gyylfqGeifPncKj25dfS11Yne0JQAPG7AneCR9cxOHlUM0xH3dHrEt7xHvULeT9jc7657zzRMQsv75H28k/6t7t//nNqiSaxkOeCIYK9wd+QnywliDIwJu3Nu2b0fbDcTAL+Hl6O9P0n5SCIWyzDZt3BgeHg53htIX8x/aZf927fr174NqDl8bAiZw13J0tIcN3rd/zw8Txjs42pI1zdbW5hciZVYtT0tLwm59+/ZtbstiBh+R8rGktADHFr9Wvs2bNUWLz1sJmqzEROAGjLZswQLsTcJ6tbeH7AA9eBIPGzqouU9TQMq7vgeuGHzF1j/+yE5NRSblW2DEEBvxxIGS9+raDc+D0aPxA+xNlghBEpFV7iNz04jBgxRKi0HEzAsLCR22wOglJkTgKq2i6uTkQElPzpdoqldTClTQWBOmhcoAdFLh4OpU38urXRs/EHG5wPZrhL56AbaaOmXiuXPniDLDoyoqOsLO0dHN05OgJbyoqEyBexoa9MREnELDmNP4xAQjI5OGjZrk5OXB4hH6qa6tw0NeBL8qLCSwSbVFy9YQvsaNmzg6ucCTsiDh8hh8JhAVG+EdaIpAQLgpCQ3ZtKKKqPVcrgsg/14kVfdJYpshFcGMn7TBUDTEHmERkmVI1kMbx2JyH4KYfP38/tywoZGnp4299OGDR+QCIXz66tmzLXxaPgsKBtjQMEAgBXY7KiotjcIzhcRgMOOenu6/rPnVwNjw5cvg6JioI0cOzZjx0+rVq3R0tUtKCz08TMFi5G4fNXrEvft3qRQZ/OJpalouLg6XLl3AU4RyHniWMPWMYnFJIQ3INgm2zp45gxGc8kUwVmSkgIRAcviK3Tt26uvq4pzh4eaqpga20pFo6pqamDM748ePzcstqqwoJq0b++zs1Iz05LycKgJDCGmWSqVnz1ww1DI4efRQdORHVcWqmzeuO9hJSf+wdPESK3NqFJYX5OWTu4ki5KYmBlJ7GydHO8X4DBJg14wdDTYGlL04mvJRljdkpwg7egRwlYGF7KdIS4QewEHeTzzKp0vqeM/Xclg1txLP4SpV5brUT+gW30d+Ag3x5uJeoJ/f2mQfwZlfHpPTOjkMgX3gpzDMMx+i9QTcARyAs+AvOA2eFkjKyMiArPETgR8hDmSEzWXUqHGWliYYTUBzeCHgF1lUmoe3ASH42Fnw5OJa1nD3rj3AI6tXr+7cuRNsl5ubp6am2owZ0+H87959ACrErIa7KS525MDDHHPv3gOl6qqFCxenp+d17epPIA4MPysTpPMo8AFvi3/TkOGjBL9Ec6t65uaLFy8ZN2lSQlQMrwSLXs/OHpdCYEJNQ41spMHBjxp4NSJVMRLoiydBY8eOf/nmjZ2j1/dTZppJHXIL8vW1VD3sLaLfPNVQrty+/yQMIBIlUZY8xcTIgNB8ibrapauXGnk1vHL9WqOGXo4uLvfv3CGLDtGWyIxkX8BV+uiRY8dPnJ4xfVoLXx8lReV+/QcWFuSqSzT+3nege49uaCScXJzkOm7CQYSJQQYso0yGmjiJDx4EEiSM90ZCfDxCTZfOneEv8vMpD1YAgwYbVlRcwPgzqdCPuvNaA3myLjgq/n8NFF8BAmeJkPb1uXXv/d/frvu2X99dWBeoU5UUp06ciFvTL7/+GhPxkaXr5O5ekJlJzBPcPdEtzZo1wcSMEFAoy8QAvenbf2BcdPTDh4HhUZGwYNRKJmIGt01EZGoLYKrW0RE8sGLjo1RVlNF1kpQNmzI+a2/eQC2qqVwn6G2rqwBy9Iy04VNjorNPHDuAhEGkUWx0KjEaVhbMQiF0C3qGZwm8c0JCRkBArw/v3oeGfjAy0q1QwHevOj0tiTBwPV38sasMyWJfqWBmJtEgHbK2HiBdXF5dUFiOll5YykVxlhb1zC1tL1+56eDoeuHS1f4DBhIHrqSiWFRSgJIefbyGlpqWpgYZZUgSKSAsOXIRh0+AiVqk8M2GeBpX/SsIi6gU+f3l4T7CbT9Ddp/A6WuEJT7um28ivMOnS7+BnuTXyhucDjMFB8GV6GjAAhxCVgclIcSJp4HC+MmqQMyB9NGAfNHDyHAhFB2Jz5IkttVV1MuBw4LxGTJkpI2NKbNYpVSEhwEsDCkcgoODATX4mgYNvIyNjUjFzRMBBYRE2A1OhnvKyiowNTEBRZJUi/uQW4psnETJ1bO2XLZ0BQGJBw8eJkOInUzkBEBx8Bs2eDA8F84E+w/8ffzw0eEjxsVGR5jXq7dwztwZM4SyiUroQhCWtHUATRDWsmU/L1q07PKlK0T/Y/XD62fgkFGjfpiqINE1srCF6qkqlR/ateXPXxd8eP1i3tK1aDdJrgYCnTdnFkou4kjAuSg12uM0UFJE5Q6WAfXT8b1JSUrqM6C/iYnZ/v17d+zY37Fja1wfMjIQYbM3bFg7eco0MMe61WsnT54o0dEjVaFM3yTUcoJZgEQjxMG0YvxWV1dD9Q6jAaFmqB8HPgS/47nE4JOiHgKYl5vPm4D9GX5KVMBjwibI51R0UBB/UiGLxtdIqA6YyK/7X42wcNowMDK6eP68m4sTkCk4cyoqPQu83xTOa+06UrNlZqZ/JHt6+Aepi5uQUEhNbcfmzWRqvR/4EMKJWLdjxzaQC3hKz1CPoG8dXS0ATEW1Gt48JzOHwcRekZaWgRNCQX4RhEdFRQ31PaDIpHjWdyf0B7WpUpUqWCkvr0hDVQnmCYd1ZTWV1KSM5s0bsWrgx4FMiYYEURSajUorKT0XEfDWjavTf5ryMvgJjGPTxu7qxJurKrHulFVIr5z47kOau4d90+a+hGQ7WlC1QD8tNfth4Duqc5RXKcBPNWnaNCYxjiC1/KJsZcpCKVWRTIXQCtaL8sy5C+QTSEPEVvIeOT74ZkMEAvGQHHHw86t++GEZiqqLB2XPqD0XXFMDUYIeUoYwOVd2OrD3WUPWKfTI/sSzaX/aau/0qaduCwGBMRcfxwoRD7EYMNvJT8M9C7ad03ARGzCgf2RkRPv27R4+fPDu3Vu8WjgTeVBdYI3V9CEB2pqPnzxycbV/E/q6iEqHpXmq6mo3b9+PjonU1NJEZmH1YERLTIwnRA4NYqPGjeykdiRuz0RwL8jDxEakGD5yqPoKCvKdXZwJXsfCuG7tGtReJibGeHWFvX+7dv3vFDU4cepk717d2rZr26N7t2GjRvbt3fPYiePOjlJQ6uGDB2bNnIX3wc5du7HlaerokMrj2tVriG9r168+eux4THRUWmrKq1chzk6Ok6f++MeWrc7uDUqIZVcS1JIG2pJZP01KT062snOKT0isrChHIiaUBRUpKhbQet8+vYcMHjxvwc+DB/R3dJAOHjiwK/lD+/RB7gA5Tp8+Ny4uHIeMvw8fPnf2NGgFBT/OUNv/2gJy79WrBzoOTW0JdRWVlTWwJzLUBN+pqmsI0ZQCp0NcwUXcIzU0qDtPiYpsr4YNqOpINkkhDLAauy01L1L19PQhALwxpzE7svkSrpX91cyeQCDlEylr1ADK553/lyPfOPm/resfv4/wCAJbkAfxSrl563arlr6QpZ69e0p09fKzSMOX6exZv3vHTpCNc9euDh86VENb5/jhv4cMCIiPi3N3dkWY2rJlc2JSGgVpiC6ENDo62KupquKmi/WGoh60JZoqUCOWWHZWztjR444cOT550pTevfqSYy8sNIyF8OF9rKmpkaWF5fXrN6hJH/E+rrgQ0qJgYUZ6G4pDGaLEMEQvpa39LOhVPRtLqZ304cPnBQWlHh7OLN3C4lx7O+ufpk/Df+H4sYtkwM3JzaeG87v34RoaOm/D3js6urwLD3v79k15eXEKpe0MtVlmI0eOIfiRmSUvYE4easy80nIy96diQNTX1zUyNEKNhdfPD99PqJHXxAXM82jUxVliD+Mob8jnTegRsMaXh4TLZTij7iXytrwh3kf+s25Dfk/5y4ivJ3903QYX1vn5CVa/RlviiQLRJmBXSC7CUhVeXtYjfDUN2Ci0KqwKmF6EcHhmUjUiGXEmkQSQCK7CGsgJoW/f+LRo7unuTsYiXOBATw28POGSBEuPmoaLi1QUZKBjoMVCMiMrK6FfwNEOMRAfYp4ClwR8YLDHNqkjkTBLI0aNgAuztLLagdZMT9fKyhIS5+vbMjgk+OTJo+jCMUGePG7k7U2KZ0cksNPnzztJpcOGDSGv3pUrV0h98yLktTolfQATBQVXN+fScjK3KcyfM/8ypFJJ2dLcjLJYeW3bvr5+qXETb7juahXF2Nik79q1fhfydOCgYVnJseev34PHkTkElmIjh9mE5CIkGpmYkGQeXMM3vAx+QRgmw9Whc+egoKCNG3dMmTLW0sYK0fWX5UuDgl58//0YUk1A542MbLgbAnJg4AveJD4+qrggnQFS19RgeNMyshhwCj3BtzJKjM+UKZNwI+xOkT7FavLr8xXFuEmXCNIKXAYX4g9dlVfN6MkmHWwFyWH/ad7p50ddmJCd+f/NTshRA51UUYENRz+AukAgq4oKf+MZkJLi7d0QleLFm9f4Hn0zs0d37ixfvtzBzhHqsm3bzrIKBQepNfMFTwQvz7hFREQRulhcUkA2QAKVcURISI5ApcC44XmAjeTCeRwerqBS8PJqNGPGbOIxiQxt2Lghtu+PH5MY5qED++w9dKh/z+7MF6IlpMuQMjZW1igEoB0Qb+aXmbW2tmB1fPiQ4NPSRVNd8vtva7AdoUEls6Shhv6H8DglJY3Y2FTMicSQUQqoYYP6W//aTK1y0OmHDx+JKmnXrl2fAeYnTpy/de8egYoqpZRpVDEw0oVmw1vhxqWsVHH61DnFxAwhQk3ECOLi/xwF1OF9RDQk2F5q4EO0EoqwAKKT94tWQnm//P7yE4QeGUyJPXX7xavES+iXH2IS6xySN7kP8Cps4pl1zhe7hf1nOE3Q2cNkyk8U3HORYWBkGHqSzyCMYNcHUJA7uBa3Vmp/bd78p7u7ByYV8AL+JSNHjiThOsryqNgoLCCYYGCdOB/0pKYBwVABozF/TCe64fLSsoL8Qm0divVKeCrrHH9JeCJASng5dQ0kcxSimPAaN/Q6fuzc2rXLjx89hptCdnYuXDcUb+z44f37ByCjgQVeBAeNHTWae/DCa1evQVvPbVeuXkOJGvf6DXUl2nfu3DUyNrVzcNq/bx9WyKqK8q7dOplbWqI6HTFyeFZaCg5la9b/0X3AsM079pvZe8DupCXFnz1yIOjWhdy0VN+OnUlZpC0Ls8jPyUbzmpqcgnb/0P4DfXr3zMhI19fRffrkEeFKRP/gmeHfpSdMWGlFCZ5iZK3ghUl9uXDRops3bnTu3Kt79448jhUC8mJ4WXVNGzYlyMnBzaM4P/9FyEvu0MC7IaIE6wFXDyQX3lPfQF8YGYWqvGwyWZK+Ug9tDuuWLCCyftmMfoKHGgCoOQQKA7RqT5R1init9vj/8P+vcedn7ya8Td1TMJbmZGcX5uVbodIWHNNKVdRVlyxY0LVrl6uXLiOYo+rW09UGcWD8AYMvX7oEO+zH6MS9u7Zhp372LJjF/zAwEOPywCEB169f79jRHwI2fMQwTW1NPLzSsxMIFIN7IiHPo0dBy5f8fvzY/l59+69e+evBgwclOtpoYH//Y8OI0aNzcjLRhBppaR48ceLutWvMnYubCxquiIiPKGdfv45u165Jbj46NOI785mgdx8IhzB0da2npaEV8vI1hVo1tXRtbGyRBnFzwUCZkJBy7vyxLl06MUX+bVuGh3/A96WtrzeJf58GvSFhiptHw569A06dO0c4bXZuVmFRSQNvV2NDfdwSWXq52TmoamoQFqMmX8F10Za8U96ArZKf/LkeShh28TRBiqtFaoKiS7aJPZ/6a2fpi37xZPFWdQ/9E4Qlv6f8Whry8z/DVriGyqRA+G5RHAShvH0bylRhB4Eu7dy5HbzD+oFZwOEAab//ACEJBngK+o9KGGfFzbLI5/4D+rVr12b2vNmOjvZIdlAAXgMA6taj+6tXgMJDfX1DfqJPys/NwwDP8gNDCYtORUldRRV0BpeLHZqkZAx4GQ5FIDsV5TKCpsrKwFYGevqwYAjtBQUkuiZSQRlnSfb9+/XGGoAyKyE2DtYvOhLJ62huLpadh+QIJeNKs2Y+5LG1tXf88P4jX6EjUaanfQd/LtHW1mjh0wy8kJiaQbjCgOHjE3MoAqaFU8L3wwdV5aY6WlvhmpmSlMx7VgkRYYKvwZtXr3v36uHt1XDb1s2YOMM/fsB20qxpY7RmXm5u76Nibt260bRp4+bNW6B2RXU19cepwc+CKyvLN278E9mQ6ArEw9iEJEbg7ZuwSeMnwLf26TcAPTHlD/QMDbFwYUl88ODBuHFjGjXyhrGChHD5L8tXwG01bNQCWMcwzpzCFMh0iIR9fIGShI6arRauhJ+fFZ2rEf9rz/uf+l/3fcRn/lOEVVpcSMBNTGSUCIco9ShKiqpI6uSIIxtFOoDSwoI8fNNQSCEwStRU3d08UbZOmTLNo0F91FKw8KhHvZo0JvmHsblZyMvnd+7cmj53trqS9nfftTS3NoiMjBozetzQEaN7du4O3NnaOmzftbe8uOT58xf4yQEzjZo0zsxMt6xnw/tePnkE0yEPNbMw19bWYmqKSgpDQ98T7Dx6dP/3HyMwRikrq4SHx6hpKDGnD+7cyM8vdnFxioyM1jc08mvVBlbr1av3+kZaDes34OqnT155uNmAQ8GMujqaLo42aE3yi0pIsl1UVmVoZHb42EnkweKS0oysNJ+WzVg+aFHJuMjUE3UouDV8MXUsPPnGIbFdt0H766vEm/yjfvklX58g9nzRz0PFG8r3dMj/ZHcT+Cb+vj5TvKSq1j3iizuDqvjDAS8/n9qNQgPpbwgZf0aPJoXTxo0b8SRggyOAaIBi4uNjQ0NfE9EOHJhbWsQnxjs42hMF2rNndzIuABlwZ+A+Kn/wR8m87dt3JiYkGRoaYylD2CMMFR4LTRFWeSgb0iIojIDisopKcr7ir12IHQckSup9lDqVZbiroE5mOhFP4SwGDAxo07YtCBQMwjyZmZtTO4RkD3AiEonGxo0bXoe+cnahLN0FnODBC7gIampJbB3sYTESk5PAOEWF5fimAv0dO3YketHBwSE9PQ0/UhTnDBS3BQ7Ano8ePbGxtSsqLRs1Ziw6FD0jI1KcqEm0fVq1kTo5BwwZigsfMXkeDRp26dK154AB5ja2XE2uIdjEMaPHamkZhoV+oN5UI+/GO7fvxDEHhcGhg4dJcUkhg19/XXNo/9/4wVOQDlkjJimJL0TDhbPPkoULCwryjI0NUeS1btMaHL1v375BqMns7QIfPViz9tff1/8aE/UhPy8bt39M6oJ/qSI5p4o+aa4Yl7p/Mn8LmZwoEAnZXw1E1GkLPeJF4rH/0f1XDwbW5X9EuTdo0KBfwID2HTuQ34qRIYQ4OiYmKS5O39jY2t6+Vdu2nTp/d/joEXxoIKgZaZmEtZ+5dg1JbdjgoTN/mtmjV6/RI0YHP3lmbGLBAMRFx4e9ft/Nv3NqUjQ1h4IeP8W6d+zIkSXzFxDZ/v7tB+8GjV4+faaqptmiVTtDPcMWfm3u3r4ntbVXUaT8ripeC4TTS9HdWlmhiiXtDxz3xB/GublZQ/lYPnBYGhJNmCawJwao39dv2rp5a15uIcrZuITUj5EfP0a9t7QxcHKRZuVmvPv4zsvbKTM7BxHV0qyempJudGx8YVmZnqFRambW0+AXN+7ccXBxtbCpN2b8+Ni4hJiI+MyMXBIjq6hJVNS0MHopz5gjJFr9JlYS+8W5lOMFRlveI4xyLWap/S+71bf6uarOyfLThZt91s+P2oN1G3KOifPr4lghlka2CTeSbV9gKPlNOEhbYBqqBGYH453YY2CgD6PL0gVhhYS8xGyMdQ+WCmkFWSYnl8Jfz2FtTE1NTp0+w7KHMuBkcOTIYbQqmhJ1kvlxPzTHGDV4SQN9E9Y/q4FHgJ6QDVnYvFIpeAs1s6pKSQlOEuW8A3FkaHCUMKDANKuqoKS0srbChEdxJPyDM9IzQKrhERGww9zK3NwCfMbdKGKekUlChFSYDphX3C9Qf+bmYfvPj4qKRtcDpkDZYSe1X7p0SUjIK7RZTZs3HT1mzIED+6ZP/6lTxw4Tpkx88yase99+lUpqhaVVmtr6oa9CIj68i3r39taNaxr6ht169OzXt0/3Xr3btmnj5+uH6aBPrz6kAL1149b9+3ewNtb3cCdZmK5EwtIiQwA5RdDpUqEj5PWbejY21GnC84uP5d1w3GecbWzq9QsIwC9xwIABRgaGVubmmAU6+Ptb2djAvY4aPWrPngMqKop4b589d5rhxdV//Pjx8FxQbH4SEcKSyM/PMzUxJXaA+cdTlMkUZlu2ExqfNjmEclRs1z2pblu45svfn+7zb279wwcLrIQAqJSWiI+Ht2IAUUvVs5dS/5kUtY8fPDAyMuTo1JmzKExKEm1iXsb8MCnwzt0rV6/GxsbZWtu1a9d+0OAhKhItLBCHDhzARyT8Y4SKKnmicxKTYzQ1teBo+/XrbmVh9epVaHJSyu7d++JiYqrKyufNX1BSWBT4OJDybs7E/kntTQy0Ecd4Ad6X6tmAloGhAV5g72VGbXJ1YhwEsg0NBYGAM6tKqtNTM96+f9fcp0VuXib0GLGxobeno5NDRmZmYWFBh/b+EPLC3CKCNEgqHxEdbmVpkZ6VIzBrmfmQQOIM3717H/j0MfkjDx8/hHBw+uQpgv9ZNBSdVsQMKc6MuLDrLm/5jH3Wie1RtgmdMs/1WplP7P7kyy6eJzMQ1txJfh8arGHx5xd70rJy9hed9DBDIiaqe6FwmuAr+I1NyC1Zi/jEC7kDHUFBb8BEgwb1S01Ls7IyJXZJQx17U1VsXMyCBfPxlMMzYPPmTciD2O9BPeWV8My2ojcpKTvw7QTziO4O+G1VV1QDDcSFcHN0NCA+LCysMWYOHVNLX1+05jgQoaChPiW0iH7eSoNQGJkrOT2aZiaw2SQZh9GjXhMyICoAsJaWhuaL4LeoLbGS6Omjs6guKs6Ho9bWMuJMFBmcya14w7y8Ah6B7zLiKioknAzIDIOe6OPHiG7deitWq5JVefLkscGPH2/ZuOnwqbPk5Z84Z0GLLn2ikrPMTCzQ92/b8RtVWD8mlhSXq1ToawoJDCqVSM+GfUJVRZNv19DQ1DcUvEwJROCJBJBpaEgMjYzQ49rqa1FgSV0DGbLSytyukYO+j62CRJwTQUmnnBgTHTB6MLkiB/TrJ3A8CoK2nrABpAwKTN29c2fJ0kWMA0q93377jcQYKF+xXeC1j6MsqZA3/vEnIiHcBFgbCZFPZqiBD2DvG7MudP2HRL9/8DYCI8dWBz3JOwRIrj0A7RKS5wCIhYUQS1Lu/LJuHbl08IitOQVxQFExIzkZYvDXjm1Ed3Xs0uXEkSOuDjarVq1KSEgExkLfxQwd3Hf3ocOCEKGo9PQ+YaqLUAXgSMLA7ti29ciRMy5uDQSeuqJ86dKlW7dvhWDgRQhXC8DkZmXHxsa8C3vb0MuLuU5OSGS0sfympmb0HdAH9ZmekQFAriXTbxLvibmQuQDajQwMkDMI587IzDMwFvSPAD/KezI0YLK0s7bYzbZnJ5gXjSoroqq6XCqVWliYcebL57EpGSmOUidUsStWr2rVqlX/gf3hvsGAasAbs1xdPX7M6L37/vaq7yaInzPnzOcyNl5Ovpd1fNqJh2p/14y90ClWoKg9IPv/CQ3Jz5Mfl9+n7rO+aIvRX190cgd6vugUf9YAhPwZtQ3AouYEWY9wsbAppKZmBQc/Cw+PbNy4EYIV1nHyn2GtNTEx7NChA/Ug0adER0ehL1dVEfKrSe2lTDCEDm0CJAJWKzmFLCuKKDXhIAi/Y6XBCAAuNFiKlBhhFmG+AMdHgYEQFegl0iU1e+GPmG/2jAxLFKrFOUoaqnghFRdixwEPFjCiWlrkEc5bv/63Pr16CqUr09PIdJqVlUteecz54DIPD/fKyor4+LiMjHRDQwMeLZFo4sv69u07Xo9OslZdvnwJ34vIyA+a6joLF8wj91D9xt4Pbt1xktrff/zox1mzUnKLkFZhWPBa1tfDydQgMj4zYNBIFVVFS1MzkulqqqrraemoKyvpaKpT7rCqvCQ9JSE3K52EC+rKuPDlwK/Hov0KCXr+5GFM5LubVy4Sgnj66BEPW3N7K+ML58+RMOTimdO6+roLlizp0acnRSI6dOqEcMwSAiV1lgUP4SU7eswoYn0ZfEYJTSJ8LmoUtMUMEY6p/u07MNSIG6RtYtxws2CQBfvu53Sydtr5XwN3dXr+FzS/eimxowZhVVWhoUiMj8fx6jWJVkpKqGbGN16/ctnOxkZJTbD5As0s3cz0dGwdV69dZUxQemItdfd027NzJ3iHscrISO3RowelIVcuX/4y6Bn6Cnt7KTJcJjCRnk7Qe4cObd3cG569cJ4kanZ2do+fPga20XUQ84SdMTI8AsU2S4Ki9VApbYmgsYpLTDY2MerTp/ehU2fKSoqOHT+7atWKbdv22NnZoF1lpRCrjO8OxXGzcgo8XJ0JYLayEoKuli9fAZ3Dk+bShYtYAxLicQdOePQ4qLikwsgQ258piystLT0uMY0Cg1jABw0d8uvqX0eMHj5kyFCIcbt2bVlHY8aMArH+seH37OzMe3cf6uhofYmwZCPz5egKC/3TJmsLvJXQJUMCn47BrtMDjROYGXGTN+pgEOGq2n55W+z5JwhLfNwX+3+EsGownOwp4p1lD1KgMmizZr7NmkNDVEJDqbV55/Ll80+fPmGZmBgbBQzoTzWhjPQ0ZhTRjImGvKNCYi0hvmXnCMnL3dzdmQAh2KqkBPrz9m10eRmWQ4ytgu6cSUJgKcIjq6iYpBiNvBu8f/8BbMXTtbS0UI0RUI2nKBvQBsqjAA7OFKQDlRAIRywfeI2MeaVluFA9eviQfI29e/Xk5IL8HHpRGhkbGeXgQpOTpaOtZW1tyUTixIxue/iwoTbW1lu37sAfNjs7Kz8v19jI8MP7DzAmKIAaeLlamps62kp/WbVq3vKlh46fsXZ0jYpNpFgnj0CgS07NjorPaeff3cnayM1O6uHoZG5g4OXi7GBt0cK7gYmeZnZqjF+zBi62Jkbail06+LrZm+emxXq51vN1d+7q75eVElWen2NkoGdrrJ0e8cJQU9HO1ub0yZNSGxuSXkn0daX2Dn9t3UYyhrPnzvTr15fsYBQKnTRpgpubK1U2EIHhp3hVEBPGDcZqxMiR/fr0xzkIFAz0A7sgd+QCFq0wm8KfyKnUQFmdf7WAV6frP9/86qXoED5EpoWllYclJSeHAINrVy4fOnx44IgRRXl5wS+CHZ2cMJWqoeYUWC3FrPR0UEynjh1hx5TV1HQ0mZek58+eCUkWCwpWr1kbMHzkh9CwwYMGQRtAgm1bt75x/RpFfwkyt5fatm7das7chTg3IexPmzXr+3Hjpk79Eb37z/PmvHxBlv08UusBlqhHCfQgrSP2kF9W/7p06TLS2L4MDiZFx08zpgsWu+zsyVOnkGPy6bOXeCsiDIKtMjJShg0dtmHjRmpQIjkOGkiuav1Vq1brG+OZYBL4+JGtnd3+A/vGjx2TKiRKLktOScGePmbkxOnTZwQFPycGbv7P8wD7l69C8NQnMxeLavSokaDaeT/PB+z3/32Q5L2fEBaTKoygbJM3vvVTdk6tEwNnfj4XAjzVTEbtxeJ/9vJzv2iIP8U9COuLo+KF3+wU7vw53HKauPEw2YXCTjhN9nTZmylERERi/cV3oXv3rghcWAnxfqQI6MlTJx89DoSCkYkFMZBZQUUNL4Dym1FDDMTVE6Qzdtw4yNG1y/dU1Sg3q7rhj7WXL13CPZJFxSUwULAGGRlC/jkUOlwLd4ZSH4shfDL5HmhfuXyZdQiEsUSJ0SkqKKBamqWlBaIlqqsSUuRVUNuJovYaSHmJiYklpcWw6FZWlijLMO/iHo9cJui/ZCpzFPy4iSclpvz+20Yc6K2t66FTcnZ2Qc0fHPymrKKquU+jkSOHgQ1xnsJR60lQ0ITJU5NzCmNjU7QluhBVYlkjIuMT0worqlRTEqKodocqNzkxBUqblZ7BhZHh7yrLS+rZmJeVFujrapmZGj64e0tPR6sgL7uisIzQSIC1qCDPyNCkvDB33bJZB/dumzN3LssPty+yFcMZuri4IjgI7qY9uv/04494jRgZGhIItWDhQtYbIwNRjY2NZegYFj5WXUMDxSAMKbMJzcd9VJxW0JbAXgnT+fnEC13i9jk81vb+h/9/9VJ0CN/Ca8kAFbgyNTenTVJQeCVNGfMP4fHyaggiA4n8unJlQmwsPiIk5Ni+Y3sDdw/kvpvXb0z/ccrJy1cK83KDnj5PSEya9dNP3LZn376Xzp9H0AsJeY4IBsMEfb39KNC7cWNFNZ027do18/WFyQcU373/0LmTP+N/+/btRQsWnrlw4eO7dyhPeSh+idnZeZRQGT58ZP+A/t2790xKTcY3yrdVK0+P+jNmz7p95x4mENJHUgiuAz4OTZvcu/fw78NH0HXCTW3aus3OTiokc1JWdnNx7dy5KzlC0EJ6NWw0cPjwS+cuRETHpCSl5+cVrd/0u4EeUbEV02fPaN2q1eUrV+APcG2HTl++dJF5JxHAmdOnkTMABOWZs+bJCJawrOUNsIC8XbdfNr4cE2BFACDZabWggE5B0G+JvBUHxX6U3LI7CHt5+4uG+FO+r72h8Igv2nV7xEMosWRICzQnTj3vJvzB5olXy/Y1R4VXrlZYtmw5/lY4Dnt6uH348C4zMwOdNxkUcVN485o6Itk4qsErQdWQziLCUUaHY5+qrKyytLLs3Lmzi7NTTHSUk5MtnA4ghToJP+MWLXwSExKwu7u714fRRbQhHxA6y1GjRgcHv7C1tWMGUHnevHmD1ybHFqgNFMaSzspOx3VUoikB0fEpOto69Wzq4e+L/ic7K5fwFzBUYlIiFtFSimOWg6Q0y8rIP6Pg4OCan1tMVZvionIyiFKwd9asJSjRdLUNjx45OXToyJjoBAzYFtbG4eHv7t67DS5o0aZdx06d9x444N+tZ3xKZlZuEWagKqEkskpcYmp6TrWBsVVuSUFZpXJBSVU5QUZlVfnF5RgUktMyYXKMzcziEpNsbKWKqurObp4fwiNV1DVbtuqSkpX94PGT7MISZVVdiYZaatx7Zwe7/YcODaQ4mIYEk5azh2tMXMzqX6iHHk25s+HDh/n4NJ84ccKMGdOVVZRRvjIv8FZAqZZEB786EC42ChA9ZMDQSB/LICIwZwJ4AvcugJK4l0NWncYnkJGd9b9k99VbCW8sgGadA/zEFoRKVUmpha9v127d8FAjCQcKB/xpDh88NHfOHCwzON8RRbhv795BAwc19vUdNWIYn2iir29laZWfX3D79oNnz1+cOXmqTZvW+HZevXKJZW+or4tMOGXCD0oaaoWZlJcv2LdrV/9+/ShQMChgAN4kUyZP0lBXu3HzOpHt2lpagYEPqCQiqHyVqh8HvdiyZRuJZl68fDV7zpw9e/cHEXsdHBIRGXHh/CXs5iTCZuVeuXodvRup4jzdPWbMmIXS/ZcVv9y8eYtUEJYWFlu3/kX+soULF40aNYbod7Rdqanpp86cRS8W8vr1oIEDP4R/mDlrxta/ttg72KdnpjPL8GhoV7CQUiG8iKjComKK1JKzRDEpNUeYfHFxf6tR9yht0Q9L7BQQVu2Fos0YcBJ75P2fjtceqntD+cny84UEALWbvLPmcbJ71e0U+j93HBXPFG7AKMo2CA4bTS5kwxsNGq6rpz19+o/aWppDhw7ZtOkPUsR6edWXSqVxsTFwNOAOaJqdnR0038LcGr3A6bNnEAapgAKlIuoKORENEfIdGwpCAvRmzpw5f948rurYqQsKe/QCKBHbtm6DthiFI9Yx1MzwaCBKzsGxlqNY9ODgUlKF4qC8IUwcZNaKCsVSp+fBr1AQpKZkkKMKjwRDIz24Cur98OaQLFIaoH3nWzB2IpYKZEeJYmUEsSuVl8tCIAtL4E2g3+BEJdUKOKCsrBRtdc3q0qq9e/6uUFFdsnbDiEmz0rKLtTQMuO/iJfPdvX0Sc9StpO7VmuVKxOpUKiCayTLcwQOqw0nlF2T7+DQNevbE378d3+7u7o4VD2XTzTtPPrwN0zPUtDK3eBvyzq+Rh7ly6rWT+9Gp/bZmdYOG3q+fP0/Nz8HP9syxE4Y6erbOTlTHIUsJ49mzV6/KCvz8FYSIwuJiLPpkmEFLJdZAY8pQvjBTDA4cJeMGn8Unw1ZC/Gv4LHGO6+7rYIC63f+xtgjOdd7qsw7xB/BZVYVqD62TlkQTRzySWwAVVtYW2OwAreNnzyZERJI0ZsWy5R+jorw83Zs3aUqg8rDBQ8aMHorV70NUPKaj1evWcs6p02cBy81bNuHBe/nWtfHDh104dxashQCO6n3qtIWkM4KgojT8a9cuFkOv3j3gbgB+2P95c+YxUK39WjDmIgw388VB1X/Tls2vQ19zCDKsTimpsjLSNaIUJ/aCMAsgkCQ/HEXtiwWwvmd9zCnrfltHmBSUGJcxCvagmoRrW7129ZBBQyoqyo6fPI41sE/PXrwwUA2wxSXEQZO4j2AQFAJOhHB3BBFW0J7dO+fMmXP8+AlnZyflmbOFV2RjAcj3dRtftjmz5k9+fg1vJU6K7D4CRyNu4m2/aNd91hdtxPqaK2tfSf6ThvxkEQcJPbWH5YdqOmrfoG4/bdwgdHQkUZERT58++v778RTFbdK00cOH92OjY+CtcIzE5wDMggad+7BITp+CTb5A/AKLH60W2nRMFVB+xhTdCt5MDCL8e0JCPNpr0N/Zs5cG9A+AmbKwsJRItIyMjJH8Dx48hCML/BSS0cCBg3S0dNCpczQ+PgGvZTtbOx0dXZRfltY2rF5NiXbIq9CqKtzlq/PyoJpFhLC4uLnHxifmFRRJtNT5BrJKRcXEKwpFH6vRaquqq+QX5KKSx0MC6mRmYUY9K3zrsWQTKYSfeHlFmaWF9U9TZ5w+fd7U0mLvwSNFFYrtOnTOzcyC3Alh4NUqEXFZ5VXKsekxKWkpgudERno2IwIPmZ2Tj62gohLLHhUpCgpKPDwbYoF+8SLMyMjap03b1PQseD6betLE5EwN5epfF0//fc3KxMSkRxSwv3v/z62bM3NzUKaPoAjovXtBL4JxhoDJ0tTUAA3hnAFlefjgPvoOoBYxUKYZzAedgctgsoyMDEWEBewy1ww7JlkYLtQftTP/+X85QHze/R/+9fVbicq4Wh2WIB9WV0OxAFuy45vhRGNsEhEZTo7Nvr37oK7q3rnLuo0bSYSOzEgC+CvXb3i4ujZp1Pjx40c44nq4OYMmoiKjVJRUQ9++BwpWrFg+dMyY8NBX0AbiSTHOIDSggngeFLJn1678wvzr9+7CfsyfM/v+vbuEwDZt0mTSxIko0SGNvi2ao71i8vfv3zf1p5kNmzUdNWwoibIgtPDpFmamKLxCQl6dOHps8rSpZJS9euVq+7bt+vTu046aGqrKsGC42lO0lo8rqyhDcgx58/r27buRUVEoc/GH4CesDkqNiMgoXz+fESNHuHu43757e/bsmePHj8OaRMp09F7ZOVlYwx48vI8P9v37D548CWISazgsoSVb4eJe/pPGF22xR94pO18wMMv0CsJBWc839FC1h2rO+eJB4k/2MhFPOIdNfk7dn/JOJph+ebSG2C8/KuewOEc8UzwEdocgHD12mPCCxMQ4e3uCll+SW+bli2D8KlFjI1WJ2ijWKoQo5OUbcmtk5WTHx8cTHcCyQUsF8uIoN6TQcUV5pY2NFT9trKzpj4hIaNu2LfOKFvm7Tp1QDZDvJSTkzZ9//j569GicmHGquH3j5oEDx5ctmw/KmztnJmrUNu3atvBrSR3pK9euk2SjUWN8WIrQIBTBSpEmuYiMGnjBpHPb7OwU9ijIAD5yRfAtvAZbXnYubVBAVWmVsjoZOrVw0iGwEdO41NGORND2NrZdO3Rp1tTXwMxo24HDqfllvfoPz07Lgbbv3r3d2MYx+GOOsqaxql4RDi+UxikuFCqP4WGMhKKJoUqxqpjCh2WURCnNRVIzMScAKDU5rVxNiBmQEMFKeutqNV3FsiEdPbydLSHLEg3NCydOSB0dAp8HLV6yaNSQIVs3be7el8Kie1hjjBjkGvQEAYBvxc0apqx7t54wlDCeUFRy6WD86tylE9/FDLIXwYDhYtxUVcVwQrGvzv5r1FDn4H+g+RlDJTz/s45P1FmWVUbIHVIlC8dR58zczHR0oAqy6plL582n/vjcRYsY7t6UXxw4EA+bq3fv/jRx3PHjJ8F0mnjDVJQjSZE9LyAgoH59DyAWaNfWkQQHBxXm5zJo4HoM0eRNK60oJ9QGQWH79u0Q6e+//8EAB0ITE+LSXF1dU5MT0fAy4AcOHHjw5IWQzcanOdEK1HZ0cXGD4z55+iyvFx8TD/87f94CYl2zM7J9WvqSY9LYgmxL7ugd46JigVKU67EJ8RSUIlefuqqGZ30PpJbKKhyqc+HjCc1RVKhQU1VD2wEUEdo1duxoPJ9BskgMyDrYAchziSs8bBqV6+bOna+YnJYtjKJsA+5rm5/+i511DslREwhFGO/PxUChp+YS2WTQFn/K+8VbgxTERt1+2akkh/sSVcnPlB+S3/Ob9+F6TK0gF85nSeCAi4iEUMaUdOrUQXa3quiY6DNnTuL74+nh4ubmRtUWGGbsZYhm8KKIgVHhEYzXw0dPmTaQ1Pr16zHZog7OzBbsJDyXO3vVF7xaWH7I+9999x28w/Hj51lyrDT0oy1b+JIDCxN1YGCgtY3loEGDkBZBiAvn/wyn0KtXD0KCSsuK4Sxi4tK8vT2evQjTN9Tds/fgH5u2lpZVGhma4f3EUUUhM0E1aSFxptfRNgCSqsorEB/wTuXFxAUMNPM+AhbIJ7s2GdOriGlArqwozwFkEae6dukS+Tby3u17f27fsuPvv+My8gcNHR0bEZtKtE3E+4iEzMgMxSFjpn14dYHLEc3KS4RyfqToIpsRESGlJUXUs8F7szC/sLmPb2Z6Vlx8oqG+0bv4j7hg5RfkGBsaJcSmtPFp6OdqFB/+kuTraSnpY0eM0TcxNrW2qlCoOnn4aEVJaas2rRjt1q1bE6fWrWt3zBcoAcFHyLmMPO8PzvXza02Wd4wXvElE9Ee4Wh0dPWHWgE+RJRGWtSAnciEzIqSUqN3wxxWgSAbJdQlV7fH/8f8iSqqzsD7rqE00CNkQ5FxQc0UZ+xqchR8WaLqsPJooFm0dck75+vqeOXVqxbJlwG27bt0YkCljRh44eMTV2SEzI7thIwqv3tv/99/AWGx8LHkT58yZVd/TPS4uFuDxbuTFQnj/NlYQNs0tsHKQyHTp2rVDevfGZ50AdTCgoYkhUgVYD71HaOjbadOm6OmZbvj9d+rlONo7RkRF8JoYB11cnBs1ahQeHok9cdCgIULmrKjYm7dvkRxpy94dkHBWB1YgRArBlwq+uBwORpYFW1bUlnWE85BUaku84cGD+/C9Agy279gpaoPU1CgbWu3p6Spwjh6erJ1Tp85A6ZctX4nQ+t+AsMRQZxFERPohtkUNV22/ACjyNg15+4t+PIaEU2s3+WlfAJ+8/x8hLLmsyJJ+9uwZAwRrs2jRorNnT+PD0sK3OT9JY8Jq/3n+3MLCfJRhcEaMC8NHWMzdu/dNDI1AKxJtHdBWYOBzS0sjVIwQDbhcUAPvw7VwVRjy7KV2+XkFIa9eUqahZ68AfPBgEHr37kVmRzisxYtX/PTT5L+2bUHvw+Xv30frSFRkOQERORVgfQcPG44+i3hjU0urHTv3LFmxauy4iZoaOjxKXUu7NDNHgWRoqOQZULA8NInVCBxTHkqHKB4Nag3gMsP74HeKy7m2REIb7TVUVxsddnUhJBEOS09bR0NJHe7M3tEuJScXpqiiQlmXepjKinr6Wk/fRDx5m9Wt/wh95VTyiwoVHKoUCcF9/y4sMz01OzOzpLiwjV/Lx08Cu3zX+U3oW2yIxaVlDTwbBIY8o/5l2PtQpNqU5CxLA8mDMzsUFQqePAz08WutUFxVUFKsbqCvpKDk36aNg520WfPGWGCJ4m7fHh/mjgwUP8m+evrEKTAX2BlhnJeMi0vABoLBwdBEX+CtFJXR7KDqQk7k6yC/ujr68JjiLAgIqxaRyee9FoL+0/8/w0/Cy4gdogzIlPKxpFgDSqGpmB1UNdQoPYKeSDhPcJtUSImLmzdn7r7DRy6ePEmcM7Y/LEfXAwO5lZ+XV0l5CdwKyWMZCsr2YfjbvGfPotmznwU/p5S0s6MtuF3fQDcpIYHTCMHAcg0Z0FAFkwhumVCOy5cvA34i2YiJj+E+YDSIBzoPpPBicvwoKjg6SvkJRwbVh5wTh/Aq5PXho0c7deoYFoarYDqZI+vVs+NbnoW+hCC1atWGIHYc6AWdo4ycoLxAWUH9cCw8NVOiCFCXpaQlI4JQMg4v0727d8P9nTx5RkNDSHhLWQ0ePXLkyICAQR07dQK7NWnSpPbimnt8+U+OF+ocEARANg7JeStZR81E0C9iSvFaOWkRf4oXCnvZNeJO3pY35KfVOeszfFe3/5ttGGARl4FWoEsE09ADoBMwjKcC+c/s7Oxyc8jZmezo6Hj27EVXV/uU5NSBAYOwta9YtrRDO3+0knfu3LG2FRKkLF22BNb0+o2b0C7x3ZgnCzMLEjk8efKMMGEKROMbhbB94rhQogIxB5EQq/OoUaNCQ0Pwi1NX08zNye/Tp8+a1a3HjBpBg/whVEAh84ybq8edu/cXLlqcV1ScnUeKSHUTMysCeJp7+7z98NG+mRvlTPz8fMPC3gBhBoaGqVQuqaoA4LKyMmHyUXqQ5pTPjEuMLo8sVlGXVKCA1yC1Rxm5JlQkOiBYEBbKdYUqZSSHwsIcQZBWVFHUMyJOAJJOvfYV67fef5X08OF9TcUici6zkYqE4P7MjCwqRJRUKpdVK1JXA7dX/lwaeCSmpURGRPt/18mprEGDxk0Cg4ONLQyUNcoKcSOrVPh91Sq04vUbNCHDpEp5JaooBp9h/GH89+WVZS1bt0Y1yzDCijIOKJhjIiNbt/ajB/LO1Hw/caKTUPJTBYYXbAViIsEF2AoehMUmUgvWFRAlEnCZ3QXYFqCKfv6LR+UgR8//wo3Xw3GEeURFhTmYz2TYMRSCraqoHoTsoq4SHhZGrlGshG+ePeNMnJXgN3EfXTh9enxsLJiirX/bEydOKquogevB3w0bNdqzbfvGPzeXVlaQNo9QmwU/z4uPT0RV0N7fF7eY1y/fsi54NM9CisfSRzpvVBnv3kU0a+aNYwo0Na8g37NBfRhYGN7WLduAKaC7PN3E0L55EzJA3Jw77+eNv62PiYokrhA3C16J1TF93lwi1SwsrVF0oqjCRsknCNMhoyUZGWnIE7wzKwhShGBIWtGL585n5mVhgPpr22YC/vfs3dWlS1euInQRwxeeg0mJaXt379+9ez+dWM/j4hP+GcKSz7e8wWXiJvZ83V97/BNykffUvfCLzro/v77nFz3yn/JG3cvlbRFbieDLmdgaQPkCqxwbyzoBm+Cf4mhvj48vsQXDhg0S+BFtbfjkadN+MjU2HBgwePny5Wh2dQ30YAdgWVknXAg7AJQg8fEgjg4ZMowpDxjQb/jwkUSfYPLgtkwtz4VkLV60+Of58zH3oqRHLGfdQrv4CfZkjmHloEX61YroKXx8SHUQ+sfmLdeuXYuNT4IYqqlr9+7XX0p0Xj07Qq91dQi1t8bIOHT4MKLnx4wZtXvXLhAxYIE+1UBPD1UXVBq8QL5HhH80+owAaSGK8kuV1QQih3Kd4ofEu5upmlfirKpCFGQJR2CdKC4IEeaLwA4VVTr4DiACFuZnE6KsqKCBP1deaY6KqpaqrlFeaXVeedXTh/f6DxjyetWqaw8Cm7fulJRdlJZbqpKcmZCc3dPfV+ri3raZB96PSgrKGUkpz18Ed+ze7ZdffzHSNxDcf6orrly8yGhgNkJdAhCzGlF4ISEiQTBB0Go3Z+egoKDCjAJM2hbWVnwU4wlhZ8h5Q2aTOASWN75ahDTaSaU1ky4jd/8cKuTg8R9viO8JyPEhvAzyLxGswIOJqXFuRiZrWNCYlFWDrUDDwBIfHhISgrqEiItBAQEMSPDLl4wMmAK7BDcBuXBo2vTpa1avwSpnaS99cv8+Otb2/h0BktOnD7Xr3CkzKalFc1+sdWgJQ0PfGRsbVMPNaQjR746OtlAUsBhtwipoFxYVYZa9ePkSigUIiY+3DzCGAyPJqhq4u70OCyUZQ9SLF2/C3rZp0+r+w8DpVFSrqpJKpWQu5d1JtgV7Jfj6KoAWz+/du3fZkiVIecgZ2OUz0tIvXDqPDGFRz4KXSUiIv3fnARVe+/XuNWTIoMTENB8fb/QA0dHRI4aPdHRxfRT45Oat2xpUpPikSfqC65FRLB7GJoMEWQNTuqynLm9V50T0WXWsfDXnClfLpkdkwT7dTHYncffNzjrHa5tycJQ3BLZZvslfpbbBf5ldSWXs2NGQDsadot5ECwLoUyZNhsHxbth4w+8bSZNw6tQpTnBxdNHTNnB1dUZs9vfvuGbNuqjoD4AL/BT36U3Fq/79N24kNxbLzfPd2w8a6pI7d+5hig4YMLB7167kb5wyZTpFmUAZgwcPxYDAExG8UV3NmTMXaMBYhnZAS0vn7dv3P/zwA/zF/PkLyC1FyZd9+/f/NGs2+DQlLRNcA34kTxZZTVOSEokOfRL4yN+/HcmHnwQ+ryxT1NEyLCmucrB3K04/omFm7enhzcurCKlDFVSVlKvKFKGK3AEzopqmENhRrSTUahdspELpTkE5xefgp0rwTWlhAWXHK8sqyThYmZCkqK4nrBYl9Uo8HiQalVQWrySxg4aWump0en6VlpE55SZU9eJzSqq0TMJi09NuPe7Vq2dZtbqixFBBs1xiYNZn0Iio148mTp3Rzq91j++6oKZNTk0GW5WVFiuQAlBdnWCOg0eOTfrhBy8vbzs7O/DvrLlz01JIF6eBCwheQ6BbvwAAQABJREFUVxMnTdAx0CPhZOCjhxFR0ZjhIRWI8OhNEJqohFVUWMgnEczEZ+KozXCpiNWWADEZKH0CDxmRZ3lzjhxM/jc0QDFwiywMXkzwEqisJEqJKdu1Y7urs7NX06a4g5AbEl9fpDxoKinSgJ9Rw4Yhds2dPy8mSihEhJOzf0fB7XPH7j2lFVXV2TlenvVbtvKzlDpUlpb6tG7Ll0q0dXcfPMgyyBIKFJkuWrwUwvDo8UPIJ0d9W/mRp4jBJBVHSVkF6aeh5X5tW+O8SnZZxDELU4uLFy4DXecvX3eU2g4cMHDV2rUYcxPPnd+y5a8LV6/O+GnmlB+nLF++khAcBLqSKpwKtbdv2wbYs3BkToKKly9fHTJwCHZqwNvByXnjpj8/hoW19GtRXFAYFvURK7yJsaGZOYmGss6ePUcI2tkzR3kNqpkxr7t27kxITF66dEVqYgpf+s84LHFe5XMvb9Avb8saNcKgeH7do/IesSG/6ov+uj+BrS9OFnvqXitvf/Pp4uVcxSaAsgzH04Zn5hDYCrAQA9mwSoBK0KlzlCIi0Csqs8NAgVNQ+4FNjh49/vpNMBwQntksJxjj8+fPg26WLl3647TpFETiVgiYZIxSU1N3cnQ+ffwk2AelAMM9ffr0lr4+AAcEDa9IZCxoi6WlBW34OFYgCjXUq+SGZ9Vl5mQ29GoQFvp6//6/l678FXbI2tL28OGDsbHxUqkU1ql/vz6nT58kA016emZqUioZbJAiSAbStGXrsLdvrqRdxR4k2OmUVEgzAiUE6YDsqG2M8FiObyjSoCLlwwWMhv8OCRWqlVTQOuVlETumVoW2QonAyXRJhVapYrpM+QjyU1RXUy0txpGC+2DGqSbgMS09ZefO3ZaW+MomKCup6enpopXHO9HC0hLTIWWy0XEEtHXdtHLegkWLsP21aNyUoVDX1UHEszC3UlBVj44QTBkLZb45DBGftnHjRvjfEWNGcQiUBNvVuLH3H7+twykC5ovhYuKYkYcPH2JGFGRAMG55OfI1ndwWzKsmy7AqzjsMApMOLqgLJPK2eM7/hr2IQEUVD210CBjsGAeP+p7bNm1auXIlI5memsKaB3dMxXVt8hQiNXfv3AkthA+lWLqlsTFoDhFh27ZtDs4upPQhgzZ2tFMnKW/THPOQ8JkVFf4dOuGQfOXKFQYQ1VXvnj3rN2lCOQ8dPV0UAqiK0BXAyGgoSlgpyGVcBJMLiKJkJOWWu4cXUBoc8pJC3wR43rx7l1XQtn17PR2dtPRMCkas+m09l2zbtUuwvlUrkNWBFTz9px8HDhzWvl2Hjx/D7e1tNm/eCnLOzcSSXi80+AWPw/greaTh5e7ZpnMHArljYvJKSqpNjbSoPmVXz/bJk0fm5pYsup1/bRk79ns+sH//gAU/L0IUUJ5d64fFU+vOq7wtNj79hC//xL/IOSOZRljez9IR9VgCwePSmtPkjX/yrNpzOUXY5Jf8w0btg+qezGUitpLdo2ZHj3CO4O8gCPFJickQ7Xv3YJvTJkyYuG3LVvL4mJqaeXs3mj//Z309g7dhb/GZcnWTMqCgPcTA9PQMQApeGULRrVv39u39mUJMt8TTgCk2/7k5NDTs6bMXAwYEjBs3FgVh2JswHNxT01JYV4MHD/Jp0YJMKcAEzI+fn5+Kiuqb12/GfT/2/xB3FvBVHF3Dz81NbtxdiRKCB/cGK05xKFaKU9xqFCulBUpxKkBxKQ5Fi0NwJyECJCEh7p4bu8n3n93kEkIfeZ/f9z7vlm7mzs7O7s6cOXP8vI6MYs3z/Dp+/pHR0VhjnTl+AmNKJJS4/qSnpxWpC69euoi0iZRVaelpcFVPnzwuyM+7fu1yaUkBwRLwXjYyVBHTFGklsVn4RxvspiE7cD4gbwr2WXrIxkBhYlyE1WVxGRITlYmBSXZmJhtv01Yf3Hn6Ws/Yws6sSLc8v7w4R6c0V6VTqlOSa6JfbqTU5KYlZSTEmurrJUdGpiYk5GdkK8s0+ekZRTmJFWocqZPNDBRlRerGvu5nD/42b9okF2f7L+bPL8zLB5exb8S+iUNg8emn4xDcDug/YNq06QsXLiLkE1QSkjgY7ZTkJNBQeHho06ZNCPoMZodwu379Wlp6JtwihBUGKCAjbCwgSmC6zUzNwUpItwAMakTYIOnIF06dTLAQ03DIlf/35/dehHerJLKASV1dc0tLTw8PZxcXRJsD+vf/dMwYczPznTt3gJ5Sk1MCGjZEgICy6OfNm6GwcBJ4E/P65euYGdOn7du3t3GbNv6+tT8Z/cnWbVtJCrn3wIHrN4L+OPBH3JuEBgGNCFn54N79Ll0/fPb02cUrV4lrNX3qZ1t++x23CfYtF2xxDFXY3IH9QU8ZmWShzkpKySajNq58Z85cQo3Tt19//Psgh2fNmTN9+ixbO/s1a9avWPkjXqJm5hYxsXG2dg7EcStQoxVBwqiJjIwm7/fMmXNwEfXy8iFlTmJi0pof14Q9D9PXU/nVrv3kyeObN25CBwwZPERhoOfp6ZmUmNCwYT3Am0wZN4Nunj11UVGh+eOPg2Q58atTd/269d8v/x7Ho4EDBv/PEVY1INAChAQab+dE24R6AEcLLtXbayspvFsvoZVqd8kt323z9hYtZqzej7gs9cDylAtShVwpmNbISDS8rwjkhH1HYmICCl2ioLGTs3swjrNmzv6gU6cH9+/3GzAgKOjy2bM327RtjnUCVo5wglZW1vhtQZpRGDBgIJB04a9LLDakj4T+sLW3Ky0ts7UVGkYQE1Itvzq1CXeLNRXbKXsjGx2xpahHmYisKrBjoL21VZt2bc9fuEDIldi4+IaNAu7cf2RobAKHjxkBQ0gwdRZnfm42Mtq8tLSSivK8rEx1Via2B1j3YZSFmyv/iotF2nm1iB+P5SCzL4weyhC8i2AjghXUQQSCclOFPF3XxNwin1Q0Bkb4WmPB71e/aWRSbrvAbk3q2fkR7MPTzaeWm4+nu5WZCbFHM5KTSopyWzRpDIUGBWRhYt7Av15KYpKrk0s9P7ey4vzM9CRydWW/iQtoVPfn1Ytz0xLyC/NIGWBrb1+iLkbLjUxt5Q8r58yc1bp1KwIKspEKb16dCh9v7/aBH6CFfBP3pluPHsS6vHzxIhawxCBDIoMgxdEJj5M89LzosyABoH/5JkQ/nCVKSjLREohZgAmfiHUAvBIttQDwDmCIVv8Xx9tFUPl0Knh/VJ8ACaQJy0QPmkihsLeyAnc4e3g8fya8xMZMmrRp3TqsOkH0WBt8t2wZII2FGhqhTVu3diKm/q2bX8+f7+Ts0qB5izU/rQ4JDhs2/OP79x989fU3SPoe3Lt349oN5J4ShOQiBPh42BBG8six4xvXr9u0cSNBKFNSkhlh+IDk5HQkaDiffbXwcw8Pj8ioqJSUxGchEchbT58+hw06IZKOHT8O1Y9JcG0/f29vnxeRkR/1+2jFylV79x1ITU+vW68ByuUWzVtiNjxp0kSMEpo0bbJ+w4azf565e/fOhPETzp46PXT4cAs8OlxcXr6IgNb+49hhgOHmzSA4FWIoO9hZY6Z/YN/ue/fue3t5I/kaMmQ4FNnWrdsPHPrD3NRckZAs7LDk2a1ekMf1/XpZBfh+ffX2XNU2qM5zaiul62/nsHq93E/13pBS0YB5qlYpauSfQmpW9f6isqpevvr+GZ0IaILpZ7AYI+idAQMGYFfdr39f6jGbogZi5NbtWwS6Qn2bn6O+dOkS1Kmbu/ud27fhYpAQ05LlBLKDAUTsgoEVC4zYfoACAYEhszHCWrRoEVIb3CPMzU0RpXvWcocD/e23XyDrABr4ncGDB4Ii+/bsSfBZlbFB9Jt4OzevojKD6bO/IS4V/npFiGfKi7CiImg/FFxsdAKAnZ2OihCv1Cx2Wg7ehJEB2tiuIUA4cHTgjJSHYG+FmZl6uqVlSHwwU0C4K4mQ9AxVxNYjNLNY5CpDHXWptZ//rPlfbd9zoHXb9nllCly3SCqlp6fKx3ffwCA0OJjusMj/sFPHE8ePdA7sePb8hQ8+CLwM+ZOS5lbbn+Q5m37Z2rRhg/Cntz9sVsck5+Xevb8/DQnVVxnW8/fCy6dCqV9Sqqhbx9/OzsHdww1BOyiF+WSusEzAHhUTR3ZUqFd1Ye7jBw9B95npGUsWL2TzmP75dEIqPnz4aNfOPSWaMrwm7exwE3a2trYTk8vHsydJgXMpgALER8mgAglTJrwRaAVgCMkAz5OfKp9l4HgLhvLv/8/nSqit1mvlA+X3FK8E4ybZWxUJAZ9Q/kvvj3eVIanMFIo716/HxMR8PGoUAfxWrfgBpQ1kF0IJbBHg/W/fvXMj6BZ9Dh82lL6YfehpaLHF3y5jdxs6aACQ5uGBZsLzSfAzdOLYWyHaX7jkOz8fDyQFbADw3a6urvv27Yf33Hf0GMpl9lQikWHQd+TIkaVLlyFE4/UBewcHOzQD369cgTMj0RROHj8J+LFesBQFqqGC2Ui+XLwYLnXfnr0gWVzKStVlCEYAziWLvkat9CIyYv/+Q0zJhInDY2NjOnbsOH327LFjSd5zwsnRFg1+o4ZNwF/IWO/ffdC6TWsA/uqVqx8EtmOUoKZZWZUIixfSogBtQR5k7U+5ICOsv71UvbKqMWJfMWU1OtHWvF//fifviNUru6qJsN7vUO5HwOi7B9Z0oCcwBa5bwAGsGUF7MV9o1Biz9gaQRcwBAnjUWPJ9505foDEqKrh6DCCYYOYe24KXL14wQ0DPgIED7965g6QG/SBU2+gxnyB0Z3aZdVg0UJ69va2jkxNIByqpsDAf0enp039e+Osv5hfWMjM1NQ/uTp2fkpXj4lkbVLVt59HYhMyisnI7B/tyRSmR1DWa0jq1/YcNHZWQkIT7De8joydegBemWwQ9bJL8hCSBqmLpgo55VbFKi4hASx20WDZ+oIB4HkbGhBvMz8W4KTk1NT23wMPX39LOKT45rXmLNjFZIm5k0K07BkbGdM5+oI/uoKS4orS4YQP/+JiYLp07FqlxJSsndRguY01ad8DB9cq1m961XCMe3xnVN9CmOK5Xl/bZJWUIOCIjnvnUrp1fgA22DpoKY2PTyOgX706I+FWQV4g+y97WFjUoWstYMtH27mNhaYbwwsBchRsTY965U9ek1LRmTVtAciK279Sp69t+pEkWmEte/xXYP0hGLRLOolIgMg4JGITYiJ/AcWVcrbfd/G+U/hnCkp8H6VtShAALz9M6jRqJgJRK5dKFC1E6EzAvNT4exNSgadMRgwej7Js5fRoiapY0Jum4auzYs2fqlMkoCr/64ktEsWhIsHtYsnARC5sZx9797NnTQAJYDGqra/duSMqAdoCnXr16CPLVRSIWY2YGVlRPly9fDqNNgOw+Awde/esvBpOh3rp169yvvlq6YOHib7/97eef9+zZhdi784ddcW9k90XE/uPatQgUMZGowGZd0nsggigp0oBS2d29anmwCf20etW6dWsIPQRVuH3frhmfTd6xa7udvQ1iXBcX5z/PXmcYjAx1fX39Nm3a7O3ly6L4/PMvb9+8w7MQIqMcADYQsKD6RI6siE/K5IZ/jjiqN8AO7Z83lq9qzyCsv21P5T+ql+dR+1BcxmvUVF0Sm6dMYckNtB1WNZCrq84y8lIIgyBk0pxh6yC/GSAsHsiHxoKX8dG4ceOwWWd7YZgC23dGelLbz0/2zqUvUBXIiNkCLMACDCILmxUCzKFMQVY0ceJEphPyx8BApAtFgQVGCw8PY5qzcwoGD+4LAjpx9FzLVvUh0zRFJa/fxMSnJBQWlw78+BM9Q6sPOvfLU5cTwdrU3GzR0q9xXZ4zZ9bhg0e6dO6Rm52n0SOKssjHw5mH8hRw5fbt2/kWEoW5e3igB8D4C1UxnBFlvQoRYJcXA1moDA0K8gjXZw4EI5XGXkFPX5VfUga2Onzs9I3bd11c3cvt3Mimye4KoAO1GCnrVpQVZ2U0adLI3sosIjTY3dXlVcQLMHhBUTErZ+vO/eSFt7CyQ4BVXpA5bXifdj5moU9uffjRoKbNWsRGhbF7K1U4ZuL9rwx9FuLl7yPzaxDDDBt2ZGKydHTAkpC9Fy+cv3f71jdLFmUkp/Daj+4/aNyiwYwZM6ZMmeLo4Lx8xco1P60D//It77jmCDdwgYYEAJAgmHGpssKrmnsB4QKjyZhL2kRl/CUR6NpW//8Lb2G3qu/KLVR7QVP+/bdLoE0OHvgD8cKKtesgle/cCsKQktBpK9as4b6+3bujEATqJk+a9O3SJfMWLHhw8yZk+zfLlj24fQseSt/YpEPLlg8ePW7dvDmpudlxGQ2QBTbDUEAXLl9ifAAJYJWENMwIuzUDQuH+w8effDIKAT97LYsJ+AeXkRg86lUUYAzdNGXKVOiyNRvWQeN0aNsGVgO8xpb5zZIlzx49AtJo3Ldn77Fjx6ISgbZSa0qBjT179qCzHjNqNCgvKTEeUuD48aO8QHZOBmcSqGAin1uQGxZGDkQz4taCXl2c3V6/Jtw/xqIKHHqCnz1nYWJaxKokjATy3Pr16/ImytlzPxfTLB3aQo2f79Yz79rBlhtWnuX66lcpy3bw77ST8OO7fVZer14pl6WzeJz2Us36KojTNqjxrOr3UpZlHDRmPbPUQVuenp7gr20ILENCoHghu7AdxY4BVhHMBWnDvsQCYAGTqAttC0rAufPmWVlaorUBa4AywGgAHDsAt/vX9YeCY/dg2jAJYPc7fOggkgKNpgzly6+/bmRnO3/+nLuHy7PgyLj4aEy0MGcmcgvxhoniEpuQPGz4p1nZ+ZDr0HH44hzauXP02E/dXd3JFeZs72RsZgjLgOwZeTwusiBEhCABjRvjaYUGYNHChQTr4D1h5Yj7bqBSYSFIiFTi0gAEySlJOFODZHnr7OycNIIhZGbmkbGkuOz23XtPnzzBuToqLkWdl4/gSShOyiuIhwrzhvVWdloaygEzYxNfb58G9QNeR8fa29o3qNfYyMwEFxwVQU5VSrwNVeXqvp1aujvabt2+6+GTh57urmnJKY5krNJR4FAycMAgb18vKB6BrTRlJATF6hWBG/MCMmVSgEQExl26dDYyMsSEZ8u2rc4uDp+OGRcR/gICrXefj7BpwMORe5DJidbwfxiVlgmzAICeaZKD4KImFFclUos2rF5AEWwlEJsGZ28h8BZITRgWcP2/elR/IHGCQBaY1wwZPBgJKeHrkE/D7uVkZx04etTdxeWOUO3p4zqDEda0adN8fbwh5CFqYKIhuEjhceXq1SlTp/KFQnBZoQOTRY4alBgArfStZXjCXrt+HewPqSJISx0F6iNI8smTJ7PFNm/R/IuvFmRnZaNKYvskjEynwM6Pg0MWfCUcXZFe4caPhPfrL78i0iThzIDhJd9998vmzYwvWI+d8ttvl6SmpGGbYmVn07N7j0NHj+zbu5f5vXUjaM++Pcu/Wz561Eh29MGDB63fuBExK+oUA0MVotbUtDRzc+PGjZsE3bgVFRW9efPPCIiPHDl66OARmNby8gpYVF6YNfjDDyuw+SBIG/OkeJOUoZ0uGQJEbRUKky9pf4pCuZjvGvXVf8pXtefqCKv6jdpy9cdRyT5Yo6ayc4nOku+qfm8VsV8dDMQdWrxZvTH1zCJMGT7FAD4/YZHAVlAiN28J01Bq2GpASdg0vH4dvXLlym1btsPk4xmH+oRAiOiXQXPIApFNMvFYLbB7gJ7YDZh+MBfkAKQ4BBq0W0paMnsRYRLBfWyPMJUsK0TOknOfIQ+CTDPSU0XFRGXmZpGoJvxlbKNm7b5Z/NPLqHhjUwve07eO54iRH7dp1epF2EtPD18PvB/U+bzb0qVLgTk6HDVqFF/Es6Cw8IVkW+bdcISkcyRr0P92TogY6iCvhSoBuTEsoJasDBFJFYhMz8wGM+qbmF4LugcTSjC2lxEJr6KjMXvASFNXONwzsOXE8MP7hwi50uwrMWXGtqNAXezh4aljoiYUF/fCOao06gGBTYIv7E1PiGr+QSeXWrX+PHpw8oSJ0+fMfxkR2bZt+0RySutpMPoHR4NfmBqoPFSY7CIiyoQgjcoIKAiuLy0jCGL64YOHHOwsfXxqI1L5cc06ZgfYxFUNg0ZRBFQkUCSbB9sGFWwzAY2agM7oSCAjXl1CTzJhhUgLJMhD5IlmakQnmDv+7x/Vd/hKSEUoI70Prx4XG4OuFuB5+PAh78a2B70J0oE4gkJBCIXn4JJFC2H6wB2IL5JSU7HxNdLTZ1/KyMsFW4mEpfr6e7ZspQGeLsDYwQP72Tht7O2ADbEpsuPm5bG/pqZnDB06hNyoB/fsAQ96+dSmc1YBR1pGxvix4z08PK4QWuHajR9Xr4bIImMmtDjvhqw2JSUJeS5+0YActBhwiMcbxP7cufPx+IMCQJTeIKDhlEmTeNzOnTsBNuisAUOGrFy+nKlhbePAD7eIuhrND3zojh3bT504Rf4UxFsQaEePnRw8aOCGDZug1548JsJSfj4iFKV+qUZM7ob1G1B8CSWLPF9Aj1zWFv62nuGu3ozG2ummXr63+rn6VGlb/rNC1fvQ5p03qeq8xr0S0NYQyYsm1V+y+i1gAX7K2ArEL/OGEB0QVuPHjY+MisQsiAbo+0gDs2bNmnlzv/h++XKmnP0tNDQcTE8ZYTBwwC1sSlDILC34bWyIcJBmsiGqf/75ZxRbUa8joepRTgNDDL6w3i4gkUQRmXiKiouxQWWyX718SUIkhaGepZW1YXwqlBpvbmdrm5ySPv+LL27dvvbx0GFHDx3y8/XD0XrXrt2lapFqCUE1bowRYeFYWuEWi2lHaMjzpgFN7t6+Q1qamOjXRw4dxuZQbLM6Fb9iGT9uXGJi8PPnwZ9++imyj9Ytmz9++BA+sWHjxpnZuVCbdraWvv71nZzd7l6/G/UiWLe8Ijc1XcfYHCgEOjUFBTkajCpws9DomWNTZpCUmqg0sQi+HKHjaKQ0NCMhWF5mppmRsHoD2kIf3z57LejAwcNrV383Yew4ZvLG9at16/gRRCI9OdbExFRPpY/NLfsnAb+MDI1KeYSOyGPEirKxtQVmcNxmA0CJQeToDh0CUYZkpqabESFXQkNiQqvBCchOnlD2CWCGaeUs0AFEh7ShyUwiP9HKMbx8lNRBFYcouvuvH8K4RpCWKAfZAqGz8oODgRYTKytBWRgaHtq7F1KLfRG8gD0B+t+rly4hwILGkT1Je3bvhiSLXl4+f/7owcOPx4y5ePkSMMlQ0AyjP/p3dnO9euOmrZXIRIsAdM2a1UnpaRiXHty/7018IgT1J+PGgYAIvOfp4TlrFim0vsZa/dChI0A1ADxj9kzyMTFcxP+4ee0GlCD0GhgNVhEhLxwGywcoWrBgASgSrbcufoIKncMHDzLIxIDb8utv8CU4eX0y6hO2WE9fX8KPY2RXnE2QojxMHEYMH9utS0c+Pz4hOenEnxhIw3+wfACHli1aI02GruSLIl6EIdFjveB/pIhJSGPUmGB5xrSFGj+19ZIaRlyUa7T11dtXvyTmRDq0Latf5UqN+ndlUuLOdxpIdu3aGulqTRmZfFVGWOL+qkOu5wzKYC6ZV8K0MDFcZ1gjowRvTwhXLFFg+8A4TAxSgMz0TPYERo0pYQq///57AWcKBewUuwo0DpCBUgaDxj3E4ggKQrn2669bNmxYg9DBxc2VoX/zJha5qU9tb2b30aPg1q2bQd/h3wBRkBCf5uPlbm1tWVCcn51fmBCT3KFnP1zxY+JSLSxt0aaFhj1BZTZ9xtS/zl4s1+g9uv/Qyc3R09MTbyHEByBHznwIUw4mogzRB+jzSnwRB6RfqY4wBSBkBzlWCbKKKda1w3/0HDH8TexrXv7rBQuVKgOkkg+eBDs4u9nYOiamx8e8iSsuxbwU+keXCAFpqan5OdlOdjYNG9S7dvUychaegvWNtY0dG2VKYoaloytSeJwaC9ISf17+VV7UbX8vp/vPI5T6qkH9e/r5+Goq9Hv27OVg73Rg//60LPJI22Xzbja2RBALDglFLCJRTLowiRy4X6BdBcUDuCyG7PQ0xpBZg84iLzEjL8+nzNxJSx5Ds0pdNGbvkG9gJRkXiHoZrykUOdnZKIUhh2UJGsgLsgtEhsdkFYD8L/6tsW3L3yCZ9QrvSLAvIkN4WjOSh+fnY/eHUAKQQ/6Ahs7a1ub0iRPgYpQ5wCTQS5j/ek2b4jato1IdPXgQuuyHn37a8cuvU6ZN96/tO2XSZOYds2QGYeWPq3oPHOjtKvLXv4kXoSJfxb4hCFpoeBhamjZt2pDltGOnjqNHjd69Z/ciZIdLFxcXFqGWBf5BQ+xziDyAf7AklB1yXsE2JiVDjrG1QO+w+W3Zhq+7CNQHyYy9YWh4CEmhoJGBybS0DMLywR7Wq1sPU6+U1BRTE1NXV2eEpJDS0I8vX0bjV8F7QiXs3/8Ht0Pu6UmsTwnWOUZG6376CSgFEtDI81CgQjlr7ufyRMnrmbK28Lf1lfBS1exvG8uVlZckyqhGVzV+Vu+E/rU/q4BTNK+qrImeJFoK7FQDJN5SWPKztGegnxUO1FIgMjKjwMwhF4hPiANBYMjEJWhyaGDIExDN8WPHmWaUiZDEkEiYhMDHIT9iRuG5kAIipYI7Iw4sHoIAX3h4REJCPPZTlOvWq8drR0a+It0kAViQxGP8CR7BI58zL2BvbwO9nUPsq2L8tlT5ZWXDho5U6hlnZ5JXwvCDDh3adWjTo3s3MmK0btmqUcPGw4Z+3KodxVaEsmmKRqBZM3Y/aD1idSKhQF8JHwFA9+rVK+T5c3ZmpGBWNnZQfz4+fkjoCEvUf2D/hKysOvis2doWFalreXiCOGAWQsMjfHz9DIwMo5PeEPwrp7BAodSDHSQbKzb65GVyc3PCGJVyq1bNcOwoKSlq3baVn5+vvpGlHxGUUtO8PDyN9HRT41727dy694C+z56FdOrcuaiw4PyZM4VFpStXrho8cBBCitycTCMDFWG1YDgRnTy4d7cpZAKIQxi3Co0+jAzSc8wySNXBGvD29nV0dmEjEYhGTwmeYq4ZVZgOrjL7yJ6TU1Pc3N3AVvA4BLFjjry8vVlpMFNsQvCG58+dgy6GzxIzoiMQnAxOApiFC///wSHxg4IABAx0lRixGIgIDZL5RaOAAF2VigjuKOxQmHbt1ElEavP0RJjFx0KVz5wxw8vdHXnF3l27RowcGRgYOGv69N+2bJEbEMkP8ic4OBi+4eSfJ6dPmQJDsHX3bsgsOLgvv15gaGLi6uKCyhuThbHjxwMJyFhBOnS4Z9duCK5vFi6cOXsmGhkYTJYGqhWeC/fwLOQpanFMUidNngyTvuy7ZZ4enhh/EuIdhAKSIkrX8I+HsmVCiIGPIiOjWrVsBZ+IRKJJ06ZbftuCuc/uPXusbazT07N69uxOgJOI0PA7d++StYldELTFh5cUFpKSIyw8zMXNrVWbNk4ODh27dJk1e/aHXbqwAGHpK1EQK16eRW1BzGalTOltAXlGZb00y6BP6e/be8VVuVJIGJAQCGxS2XNVQb7lfSxDMxFQowr7VHUubq96SwoUJf9BqRmaoareeFxlkeZVO6tcU/l6/BCPEMtDnLHRQYIL0FAaN27ikCEDmzcXKABmhA0EyACYZs6cgZHn1atXNm7cAAkTEhIcE/Mafd+FC1e/+uprDBTq1at75MhhzOUjIsKZ+Dlz5g4Y0I9NicXz+OkzHsEOam1txvJmSkBBDDrYSoJPY4gsAAVtY9irUFML0juYGhioduz4PejMJR1zG17S0FTfBN7JxLCsuMLezoV4koYWYCcjNkzoNTrhAP/yzt0+7JKYEEe5T++enGfNnA7zy6dV6AjU7ODkTJ6uLp0/GDFscGCbloixSovVXIVRJW6CqamzhYkhLojmRvq52aV3bz8jrA2YAYwACsE7p7QQ1zSlvbVNbMyze3eChw0bSzrVp09eoPlu3KjB4yfBeFaTd1ofMbqZKUhTp6gY5Dh73vzXr8L+CAsjhiYsH1ptVBzurm58PqnVavvW8a1Th/Qt5O/EiJQewCwsEidHJ42mhLTmvJuxgWHky0g+hE9GXAhg8C3czrfz0fyDDKEeQzbYBwaB9YAilUJSYiIjwzYDjWaoULCWWDZsPAAATxGEVRWsVMLHf/0P+Beog5kVZGB5WWJcPLNmzTeCteFn4dabNUNFW6deXbg5ZJFQGZ169Fi1cgXZupAbQPKAO+ISk89fvspPNxcX+PTcgpwPP+xOSwhVMwtLyGRyvk+a8tnuffvAy5Omzfjk03Hk5YX+IpMy0lykHD9v2rRk8bd47UEuAbRgJQy1UL2HPw+DvoM2X7BoISFtR386JuxFhEpPF/msb13/pPh4QNfWxvbIsSOQfms3rjdWiZDiyGpzcjJQCECI8dq37twdOXrUoIFDyBYszM3KK6DpGPmgoOts/0zctjZb+/bqe2DP/heRr8Ts6OnduHIFPgZhMdwuyLqWp6d/vXpMDprTRgFN0GlWyrBqzN/7KEZbI8+s9mf1Apfe7+c/a/9+P9oansi+qn2W9LPyuTVehjbVa7Q9ACiUucSKpQ0/cf6o418b9TB3sDtBXrHqIHfhIJYu/d7YWB97UfYNNhAsRSmzdy1d+g2cYNu2bRG3o69BGAnt6ulZmw6JF1JcrOHMm1pamtAM9n7RkoWbN28mBA2qX1R4bBO8AIBVUCgSGhKXCsohJzeHSSXRgI6Zub2tHa4TevoVGExhso6DTXjYc8wmi0pF7HYx+RXgXORKdIS7P2LxMiE/Ju6UEjwF2ENEgOjBhpYqlQFfirklLNWdq5dU+rpoD21tLQnrBdCkpGXUqVff3sJU+EyXFWEortQ1MtQ31ehhiYCJPDuIAZV16raIfhmuMrSJiEw0NHNy9W50/+adC39e6T20d0lJsaBYy0qgSdcd3OZmJkSkSpX++PET27duQlY0yFgmDMEH3B/S9rU/rQGV8AXTJ38Gz4KDq5jPMg2vXqFB/KRboi6C70BFVaou4izPFNOEsTV0K5gINESGAmgxNhX4XxheRpJ3IIk22IqPBcdxSR5hLjVr3lyiaAT3J7GB0q7Lj//Tgy+SfDx1cU4IugXRWtK7Zy+MVtCH6EFtlZYe2LsHrAFpPH7SZDdnJ7zlGWFPT08If6h16HrQ9LIVq/DZJJIUt/fp1RuXY3QvEydOnPv5fCKgQWOiO8b0FwS3YdMmcFxJSR7nNu3bwyAzgDNmzhg+bOTvO7cvWrAQCguei/q05FQYQA7UTTCG2PewSSBz2LxxPYR85IsXrAIQFgAvjx8eqaAnpoat3dTUENzHi7Vu3RYiC/IfbFVOSD99JTtW0M3rWKiw3EBq7OjYEp88dpJ+kFFCJ6YlJbFS+K65X3wBWVLLy4vc13TCdJKthxrevJKBZ2q1cycvbLlGXthc0hZk8kf7s3qBZv9+P9z4t+3l1/hH/chXgWnpXvlXJfbhh/Zl5AvVa6pdYp2DqkBY4gXYseVzk4Amf134y9PTA4ElqUd69ND/6KM+bMuXLl548OA+KwTZDc/1q+OLyAAwwuUYwufkn8fxwMJRmHSVLJXxE0ZlZ+Uy4pAAcIv7/zgALb127U/Hjh0hKh5M/PoNa0cMH75x40bSgj56FFqrloOpsSkEM0R7h8CO9x89JQgfdgBssurC/LyMdB1FqY6BfmFavo7KRFfPmCigBiqBanln4APBtZLgBsL8SCY0xaBSpgajJ7lenZeqNDDMKVRnJMaU6+gCZ6AhnKiLcjNxV2SRo3TrP3hwmw4dy4vzLFR2JUUl6vxifQMNFqNQh8JvGj9EI9X124/JmWjr5NukWfOcvPzQh48NHWsbGRmHBj/LLywBjTD8OujvlCpzK2Od8sIJEya9jolxtDVrH9hx/uz5vDCQB7Pm6eGG3hBTHqR4MA5/7D/Qpl17hhciCCYlKyfHxsEB1VItNzfIKSs7W8zuTczN5cTIJw4ehmHx8vJAo4S8gxmBneebCaGLEF8aFoGq+H7GkzMP5WCgYCRlORfYSq4EUkEXsiaxsua/+wfLWwafZ5aVlAq6uE8fXpilC91F4hzQ6reLF8HGwtlhe7xy3bqLp/4EVZGMEvYQYgRanrsgZCZ+9hkWK2TVRtE2Ecpk4kRwAfhl+LAR2/fuXfTllxCq9YivYWBUvmnz0mXfwQP+cegQALxs2TIIKF4AHSu5AiGvsKl+ExMLhW5sbj6WcN5Pn3bt0iU1MwNwBRsy8uf++guNM4gGYQjbNtwidgygURYRpNPyb5cB9rX8PKWBJNKk5sSpU9jiCI5Islyp26D+l199Dtk+4uNhnEG+N65da9qyZVxsHEHQUHM5uzqbGBmVlWtu3rjarkMgQr2klDQLK5vI0PBGjRtCBLRu004RFSusGzgEsFedpYrKmpqVupX8Xc166XZtpdwbP6G/tWVtQdtMW6h+icr366u6f3tJaoUTVk1UK98L+Gr71Ba4BFiw5QLWnCXjSdw1C9m0iTDDlKO0ZfR/+WUz3DszCoX8+fz5kFFsNUAJxBTyIHQluFb5+9fmLphE2EM4EWxS2DcwJhg5YjRrac6cOVevXUNbj9AUSodAppBRAJ+tnTV4jdmCDfTw8KB9VmY+eZtr1/GNfB094pNPe/QYMGLU5MgXMT16fzRt5oz8Aqwp0iHtMzOwsyssLtIU5IsgwtAssFfAImdWOx1y5s35KK5yUEN+VqhHPpSkGqbWNlhbkZGCd0bLaGJlAROBRR8U1qvI6OlzZtvZO5tb2yDxWfzz2dB79wwdHDUVShYVFBwjid0USniVvgiex/ovw5vPygYuIz8rx8wgRwflkBT9HST46uFJZwPohuKc/KL0zAxvTzdunDJp6t69+/IKizevXdssoAFsKjkU0BiYmCJltnZxc2dkQD0gLFAYlCy2hYxh/JtY3rZER5cdgl2BJdG0RVNWS7t2bVjqlphlVFpUVSCz59t5Maa3tIR01iLoO5POwQvDQouNVIYHGYwqhAsLwECUV4lclUHpf/H8FkarHiJCeOsykmLdhj4Phr5o3aIl3962eXOISuaRN0RuzTwy1yhw7t+7CwQS9JFNFHhjQBBIjR07NjUrB+ppwrhxsonppjVrli4WZqhPn4VY2Noa6isjwiI8/GrD0uOveu/hQ/JHwF+T2Zkngn0ePnlSolbjUcDgo6NEoFmAvSGB5Ct08JGC1lu9bu3mnzfV9vWDVrp48S9QPO0Z/0pcrym/du3atm3b9/6xvzRfDWH104bVzZu35D1xLbx16w6cnY+vt/zRGH/+vGnD/Hnz+vbpHfb8Ofs0+oEbt+/wgRiIggRHjRrBSiF+/NoNG5gXJHRdPuxeWipSQ7FY9Ek0DIJ6GZsi/lThg/cLNa6S8lN+fI16ufL929/V+gmcyPF+M22NZG7FWqh8ira+qiDqq8pyV//sfUSLau25kTcQW6tMfsBosfzY4/BcycmErEU+hdFaw4b1IV+REyEOePUyYtWqH728PMnwXL++N22AKvZ2eQ9HsI2onjNmeIwp8YP69R+MlArzdHa5zp16fP31XCywqOEqUEjAf3h+sBtX6QrklZtTPHb8p+fPn+nb76P07Nwxn342eOgncfEZ9es3GPXJ6IxMoU8Bgk2M0UxbGRuZKwzEymRNAjTaQ8bCfBeP4FtAWFBSlFnGAoiIIElQ7iIE/4Xs4YQWIYwyHjbs1WCEuMjo4ePH+9SuA8LCwOLszVe8LQZZ8As4M2qyM3Fc1oUbUyMFtyKqH+FrGEQ6VRcWA+Xx2Zm5OUSnIoSCoa6meN2SuWN7tzRSlqXmF0VGv27asA6C/NHDR5uYmP6y6RcW4Z8njhEs6esFC7ohK8E1m/QW2HwJXKNDyqmQ589gzAkEBoyCemFALO2d2CRKS4tZZpg+0IzQo5z5QgZByEgl7h50BEoCyvG40dJNYDSBsAwNGZ8a9BTInk6I2Sj2///W8RZSpScirI2LfYN4oZa7K+/p6V4LOuv6xYvsPaBsJjEqJnbyhPFE5mBfxOCODbVt2/YDB/bfdfDg7i1bTh47ev7S1TUbNqA9BH9BwBI6BtAi4C2GhF516jy4dWv9ps3IMfr0/6h3j17ExoAdQ3bApKM4ghrC1IAR7t27N/o4MBS+ijAHKOkqiorBOMjaZ3/xRXRsjJeXxx9/HMLExNnJEX8Phh0iDj8qMbB6+n169MBvnw8yURlBczVr27IYMz1T49t37sKc8trIAYBGlLKVUYAqdHLTU8+ePjNm3Ngfv/8+M78Qo9MvvpgPuuzYuRP2vMdOHmd9oe3Fx3vEqNEf9e0rs3/Y/ZmaCDPmt8PIcq7+U55HbaVcYJT/tl6urHGJn9rea/TzD9vLN0hvpb2lWmNtf9q692u0l0RB24m2IF9mMTM6LO9t27bA6p//6yzSPqRRgAXICL6dWQFocFSuX78ea4Zhbd++w4sXEUwD5qNMM5gL2ytWAjVQBAgOoAJg4xEoggR53Ny50wAjmB1uZwNhSywutkKoCZmwd9dhVydTZGS6eiaGKoORI0YQ0eGvy1efPwtm83Kyd8jOyPx81mwdnWITa0ugWYNCDFtjhUrHQAOuYtEih4KyEHiLk1IJsYDuEmrCzBTdMf+bII3nqrmxkZUlSZetyAcAGjIwFong8TRuUK/e6E8+Xb18ucLExM7BiVUO8ClFx/r+9fydnV0kSrAkLDQkPjamIDu9d/eeuBM+vHfb0kwFRwaxycLIyUzq3LXnk2ehOQVqQmaVFpazbc6ZN2/+jImedQMePXnK24ERYt7EDho4FB28EOuu+YnwrabmBGPS/LLlVxAoFjdsDM613A1NTRFIMezo+IyKjZRGhvhgqstE/jvYQwZB31DkfwYNgZKYOGBVpTIE4YC2wKFwe4ILlLVCgiIU0d85mCDOMkvIvcw+t4P+qJQh4f/qDPuOqBSKCYaJ3RG2CDTx1dy5wAnMYKdOIhzVlq2A568ADyCHBActLTCJeAuQu3nrzqejhmNZGhsXV88fF/SPVhNaj0NHB4Q1zdu7edu23SOj6Lb/oAFINU+fPxMVGf3XuTMQs/CSAHAL4h0tWACBA3MAHUJoDUYQWuzs6dPXrl/z8/NjTMFWjA9Ay0xdvHCB7ZZxgz8wNjNbumjRoAEDqTc2NMZuuW5dkTaiVWA7ABLJLFO5efNG/CuQjSAa+6hPX3DB2p9Wz54zD9foH1eu6t2tGwvtm2+/w9oZnIusbcOGDfg/40vPEz8d8+m+fQew12PGJNZZ587te1iKKV7EJGsnDGigLJ/lSm1ZW5ApLO3P9wvaHuRLMkH2fjNtTY32VaSVeL5MZ73bUtRXP1h88k9tM22Bem1ZW2BtA+usRnY2ElKw9g4fPsi6evzkITVubq5sJgMG9A0KCoKbY52vWvkDZ+YJ5gvPUlASc8NVpgHYoJ+dOw82buzn6emJ7JOfOJRyiQngqn+dOuwbn35K8udHtVzdwFP4diUlpeALOmHy5Ffh4RBfzZq1O3v2dC1vdzL9Tp42o06dgK3b9sVHJxpaWvH+aAkLCnMIewCqYuYszG1KNblIHSRWTdATELDI4sQYQFvAZuCxUnUW+lZ8a/R08vLyEWMVYwyN1EvyfITXGNCv7/bt2wifEJ+YPGTox1ilu9XyUBkaH78eCqOKCZWhiTHmDbl5OaVFatwJu3ftFBMVmY/ndFZ2+w864JIWE/PGztFhUP9+O3fv1zM2IaGAsrTo2fXd9lBLGnWFntGlq1ca1a1tb29noGd4+vSZrt26jx4+csnSBbzD+fN/MSwbN22COL1z5x6mkkamJqBeoUCoqAi6fg3aTa0u8PLxKS6qgKKEeQdhGZkK23QGFoyDDRezhiyMMh8vw4DIdCBtkbQRSAr+paQEfEefgAJtID4hPHkBhHziFuoFu/tfOqojSDZ+5g0EykvyTbwBRB9olAkl2yUO7gd37wazAGxSgvEsBO0yvIFfFi34GmgE7+84eHD7th0Y1mC+BMM4ecJkfGWQLu3eu9uzlico7Hl4xOnzZ3MQiltZQlCj/xnx8VCZntV+c7NGDYHwzp07gzohiF5GRACWYydMWLRgwbcrVhCGlHHGgBPkgmMQhK0YTw5UuSUlSQmJEGsJSUk5WTmodIb2H3jw5NHc3EL4XMgBlL58UW52DjQ7uQ6jXr5ilX0+e26TgEa13FyBzstXrmFixzc+DX7Gfp+vLsBG+gfB0Hhh5bdlyzYmkbD0Dx8+CgkOTUlJ/e23bYqI10naxawt8D7aco2CliWsUf+3t1CpZQn/3faSMQQ3cmgZQ1GWAE6m2KrKUqN/4IytbVOjAHiCsIiUUFZWPmTIICyJo6IIjGU+afIEFo+rqwt0MpsaKsKIiChPT1eCByBngUZl0CGX2PQg1wEOBJaYO3GJltDw/ASLCSRVtz4geP/+M2NjJSbmIC/oZCAPLzxoh6lTp3ALWcKJ/UKYZnbCX3/ekZgUb25jDgnwJi7xh5XrDY1tSop11dLSKizJISkhqyo/D+GRKj0tW0+BkTx5VQplpo9vAW44c0g0oxBjycuVyebbNUW5uvhBoMWrUJBwR0Ng9xKRmbGkuID3RFZNBPFp8+cbm1m6e3iSIujM/Sg0MsXlZcRBvXX7DkOMixoJvvr06vkSjCs0lcoOnTqf+vN02w/am5iYPb19o6xct1RBwju1piA7JeyUBetSQljPnoe8fhnWv28ffUOTm9eDbty4Wb9uvR59u6vz8gwMjWDTdET6MjmTiuDyeHVM0ylgLAq16+hoz1CXCnt1JWYMUnuBXGQ1nyw+F2afwn1QAg+RPlnC25Isj2/nMxkKzlwWnVOoEIlaIUy1BBfO6vT53zmqIyyeCM5idQiUqk0kAwIV2lJdIoXu2r4dJIJI+8zZMxCntH8dHg4NgusVMUK5BaoH99Urt++pjI2PHz6MEvaLz78aNGAALAJ9shPjjQj+/nXTzzHxcUigMD3HuYdQ1AAzJH+jJk1konTezBlQ5FhBo1e9cP48IpGRI0cCTjyasboYdAtGlYKtrQ0ycroFV6LL6xQYiCkWzAE9+/iwLdn3Gzgg/FnI2M8+u3MnCMd8tv/E5CSGum6d2kR2u/DXOR9Prx07f89ITj196rizoxPR3xr417kbHNKyeXPyskp7rg6xG1+/iUNTSRgJIBC7ucDAzmvWrMTPgrBJeXkFeji4VsMC1QXVlZMoIwqx7CUSulyKTiWGu5pUW25KjVyojiO0k6RtX1VgD6xEQ9qCuF1LMlGWFHlSHbxqlX5HNKo8eJCCSZeeIb1hZYfS5XfaS1dFOxxlQU9xcbGQoCRvePbsCRiEzQdDdmzB9+8/wDzB1iUmprRo0Qx0tn7jWmV+wZHjJ6BK4uITYf2Qr2zdtrNp04BZs+fC0sPWBQeH2NnZYh0FPdW0eRuog8ePHlCP2CiwY2cMl2EeyQfBxv7owWME2xntsjYd+JmgQginFi35AhYApSHCS2WFztH929w8aoEWra1suYpFuIeHB9jQ1MjI0c7Rw9a0TM8asgJ2z8zMApKExQwwsfsxvxTY0DC0sbS0zUjPRsTOBBcLz7kiVI752Rkmupr0rLxsjWFWUUVmVq6C3H6F6OVySbRTodCDNjNQKp4+jEzOyCpRGlcQOtnA1US3zEKRX15W8jq5OD7fuEDXwcTAwNS6jqVdlFetJn+dOx+Xz4aNDg6JaoaZkUhYDlpUlhoqStVmINPSIuIWmjpZ/3n9UnpC6uzPv2DWjcytEY0/efrM3dXJztFRn8+uKGV3UipIa5QPl2dibdO+S7e8AnVIZLSdibGTs4Ou8KcqKYfWgzgCFEkDpCLCl0QlgcTQT8oklBJzEV2YRSgtA2HMwX6JcQnITez2dAF8wxQDGYIz5PgPsJUWoOUexPkdSBMV1Yg2NhtR83eHTBnDhL/tkipBcLFL6HwycVJebs6i775Dw4vtHXUbt2xdvWH95BnTmzYOsLd3uHDlGmImgnrgIB0dHTNmzFisURgcOzsbCCWU3etX/9C7d9/RI4fhMYphJ7tOZnrqnBnTHd3dWb0P79xu1qpNRUmpk5PLl19/OXLEJ1Bq7QO7sCuTgwJY1TU0q9DotmkRoChTx0W/iH5e9OvatZ/cvDV96rR927ae2L0L6SQxiBadPe3fOIBPJoRQ7SYNcMLv9mHPc+fO2GO2Z2G+f9++8aNG3Ll5q1/fnlPHjb//4F5Y+ItuHTuyImzMTZydHM6dPIE6sl/vnsA5rkI8HQnD0yfB9o4ObD+JSSkuLg4wEMyopYXKzFSleBGVKA+mgAPpkAs1fnKlsqaac0z1NjK2qnEvd8kU1vv1WrxUvROpvXiJ99tXw6pVbyIaVvavveVtQXrPtz+r+mSvZrAWLPgKggh9H2JgVDDsMKGhoZDEhPGDP4f1Q6oFvkCTdebcKSQsIB3Yfrz5kCZghILug+2IGBp1/f2hn9mRkFZGR0eDzi5evsH+Q7I/KPbnz0OQFIwYPkytLu/YoRVyH9KOI/hEKrl7x06gyr9Ro3lzpmHDxSdBWqPx27nzAGuOOObZWerBg/sRqYv9kNdDSE+zjh07JqVnwLJZ2tjCWhKtHWwLzoK2MjU3oQCcgTeL1KWkNSTqriFxS60BO42Li5MZdtCaIrxkCvUsKgwtCJicl51pa6Jnbmq8fd9Bn9p+Pbp9iOpwxNTv8tKzdPRMdMwtAWtdvTLz8izMo/J1zfWMzIz0dIxV+uBBatq0aE6SuzM3glhiRSU5ZeosE0XR0+vnLMrKkl6Fu/t5obGPjY+Bwxw0fCSpNOOjUEo6MGHQAnX8/ARPVq7z9ZfzBgzohwiKjRrBFtpGNKAqYxPwF3PH9Ip0fXk5RsaEncAYowRUTnDklJSMRs3agLAgQ1WGeiUQVgKjsfGVK6vig8AeA2MckGaAE6QWLYQ7jsSMidbS/3rVkAsV/9bxFsFomwteVPT4Xm//BGFpb65eUJRqBMuGhldg2PIM4cAsLGaZROa9tr8/5FVWZtrPGzexy96/e+/wyVOQ2xPHT8As+XXUK3zuxo4dA9WPEANSCwBIycwsLSphtyRaFkY2makp7MebtmzJyciYNGkKsjP4xy/mf/HdihUvw1/U9vd7cPc+DvxjxowhaZODo21edjoCjcDOnep6+6B6QVIJ5JNwk8i6V69em/P5/EXf/0DagNR0sFwegOri6NwxsAub/cpVKx7de8g2P3PGtLu3byakpGCmY2Zr06/rh3CgCGrRmON7oFAZMjUolI+eOiUwv0Jn7boNhMe5HnQTOcCWrTsmjPsUYYikDy9wcbF/i7AYteq4Q1uuUS8sCaVD20Bb+Nt6LUuo7aeqvQRA72JJ2rwf3aGqfSWYVP2sQmpVZJq2/8rXqCYMq36LoaGKlQ+lygpZvXoV9A78NhOMMgWa2cbWCsUqFA0TiQgAu6EHjx7A1qH+s7Ox27t3D8QqzVhEy5Z+C68B/4W5HbJGCGBIdLAeom16OHb8CDrjVy9eQMcRphqiOqBhI9Tz9Hzi2HEDEzOxLI2Mbt24ceTYYeYPzTTE0aFDJ8lviJs7TtfQF0w2WBV+EwyI2BK4RJTg19Cf/AsE3oNxy8zMRtcDtuI1dPXxxSsxNTEXFs+5RDYvogHqRI2+DnSL2KGgKli0Fbrm7v7fLF9doatS5+cmRIaePH40NSOnz8BBghEoLpn/5cKs3AKFkTmyTnQSypKckthgyDkdC8einAKFCnFWKTEudE2My3OzYNUMbBuXlKpVhhpFRZ6Thf7pAzv8ajl/N3vqvJlTUTI+j476duWq+/fDJ0+asuKnDecOneg5YigYBGEtbj1XL1+8e/ees631Nwu+IpVZ1KtXw4cP++CDjg6enhFPg19FRfbp049Zj42NIdVrbEz0s2dPWS3Nm7fQVSAj0h0AAEAASURBVBrcCLrn5VXb08uHlQMPrG+gSzBo1KQ6pQq0YMAAdCUIi3Il8yggrTKYjAxJMhz/TxlCgZQqIVFCT+J3FaqSyzL8/cfnyuUldSuzyZLMmTlGBwzekRBtecTz5+yXTOiv235na6xT2w+TWbEDiM8sz0lLs7Czmz9zJpj8J5z5NRWnT53q3b8fL5UY+4YtELBhAyYDG7vmjes38YlpH9gB8042Sz2J6jx58jTqb0xAu30YCLosKy0eOmjw5YuXrCws2RVgy5IzRaTi1OQkMzt7dq9XUa8Bzu49eyXExfvXrWNnbU2fw0eOlLn0of37BwYGwj8yv3QyZOhQRzu7/Pw8ZvPrJUvRdPE+h44cYR3htACdxQr6IDCQ5JXIZFUSaZyeloX8hJWriIhM4MHVl7Q81HLN39RXQwTVb/zbu6jUIqwaHTKs73dOey3Ceq+9AJP3Kmv2r20jI9b3HwFMM0zsWOD1N29iPD09We2MNX55QsM1dxYiQCgv+sEmaNy4cY7OjiCUeXPmwXMRAZ365JRkNIY3bwQRExlWH+T13XffgWXQ+EABwflhEMDuAe32w/LlmCnv3bcbOxcrcyJZm2A93K5dO1QnRFN4/PRJi2bNjx4XZsQYcx0//idB8pAggB/Zefr1G4ACqGfv3kMGDfp4xAiM6Hz8fNq1bpetziRHG4SGnp7YmiDKQWTAkKGJIaiNLY5kNvn5hdhtga3g02zd7KlkS8xOSyYDen6xpsLcZeueo8QLJFxXUjRG0ttKdQ269eiFkTT7584dv5eUK/RNrHSJnlyhsTbUczIqZfd+EJmoQs7l7IiUiczQhQV5ZdihFxQk51mXaQjlXKCjKVTpFHrYmn/Usd2AHl2CHz8sUBfaurncvvfo9+27mzZp1ahew9+37Nh7eE+/fj0RSRipdIrUZbgWRr0II01iq/bYvpe9iQhbv34dgdxc3d03/L6D0SbKjSA39HRS4mKePHnMxtC0abPCgpIGDQOw/8L1TLSBHyktUSKyFzQW+kI8TwQiQowNySmLrqSVLNrSo4AksbjF8R8gLOk+gbaE7OxdZCWjLLn/ymbyn3/7DJsOb1zZnI4kQlPIQNkzKnReRESQTFPi8Qtg/VjYnbp0hSDCSgC0ZWBilJuZWawusHNxWf3990DpmLHjFy5deifoFuKw9Rs3IMxu3LARfAPcH2YKAU2bUIiNiQMy0ULWqecvvkeYjGhUBkqkClD9rs625y9eDAt+yj49ZOCgk8dPODs72djYDhw4UMhk584rzmP7TCe2WqOGAQDkletXenTvjqjE1MyUxGP0dnj/Pjb18NBQZF59BvYfPmAgCwcMizcuvqVEoURRwNq5de/emDGfbN2+nW8Won1mVqEQAe+FzwYKchJoqokZXYmw6LfG2q7x822D9ygsLr29Wq0s9yBvR3/X29tprX5V5gSq10hdVoO3qlf9F/1XIdYaXUFhgSDA6Ozz0FkgF0IY8whQDygGyICGat+hLaQQul40WWiaYRLBBRg6YN+IoB0TLYhqZm7lqlUMIuqbWvjQq9VgPSaAPhEwCe5EoTh54ni3bt3y8kWo+K5dO3fv3uPw4SM8hb0xOSFxytTp0Plz5nwBcwTpM3UqQfv96RkuD6Ep8RjWr13XuEnAL5t/fh4WSjiqsvLSP/YfTM5O6NSxS0pKFo7TwBkUE4QVgFKuQwyYAsAaAxaklZkZOUw8u3KTNk0RzRqRlxX9YEFOfEqmob33vqNniYOmLixIiXlB4rIShcHQYSNs7WwQhY4ZOwUOixTRugYmDEv565e/7P7F3ct3yGefG9sJeyhYTUxUQQQgLAT/5EhEAEzKCQT6umXF5ai6kJNrSsyMDQvU+UpjfUylcS8SsmTesbh07Mie2D1iyN66ZSMzQpaX6xgodS6fv3j25JG2LZsPHP6xWKIazZ0rl8lQyyJRWZhDe3r5+4mmJSWoppDyYIys1DPUQYxFa5JtkNu6FFG6HhJ0/i8rFv9BBQD0zDIhbwT0SKygJJ4XlhbilwRY/1MlYaXwS8IkoDxe9m/PMtByJrmotvxvFZDJSgdya1QQoGu2Hyh3DB06BgZiavA8OAR7ZjKABDRphM2au5sHCoohQwehHE5JTMRPgCTxcAaos7F8RnONRPWzadOh1omW8cuvv3Tq2AnnMETs8Iyv38Qix8AoGmE8UjAewbaNto50pVr29rdNm2k/a9YMHA8xr58+dSr+sOxtYydPBmETW4KFs/CbxdBr8+d/wcqaNnsqEIWYJSsjExjGLRf2gvekgGEdBsFTpwg+9OjhI3APNrgcGhlyde/+/e4eHkuWLMasAekK4CwtW5aoEvIQGQK66eatWgkkFf4qvsaSlseLyr+vr0IENUZfbvz+LdURlvYq9/5PZVgy76jtQVvQUnBSn5Vbk7hapRyoXk+5pKSI8ZL4BZGtm4XHIuQnKIz9GS6PfcPd3bX/gP7gKXATOj4M2CBSwAVMA8wjFBmC+VkzZrK/IRRAaoDSUFKu6yTEx4sEOZLKmeANfn61PTw8eBPuxRwAvg8MAgdKICH6RMYPBiTNGwuYNQmLSoC0EyfO1a5dC6Id6wQeiuFSfMIbzuBNXvLhvftLVizCVeL27WcODpZkMeFLwRoI34tx2yE+CfIFY56Vn5WZU1oKsaH0rudVVKgGAkiYaqQoT88tMneru2rD76lZ+VhyhT++s/33nU3bBo4aMzYrK4PBPHXhdnZuQUR0YgksFltkYuxvO38xsbAZPf87QzvXMrRYCl3k+AoLc0yjUPahesEnUfAjEkJB9ArhB6ZEmwx2gVE0MjUsKSsm35elmSnKuYKX90iNYWBmAs1ooNQ1URHgIeqjnp1PHNr5/MGjnzeuadqkMeyDd8OGTFZqdOzOAzuRJ5JUll36yqVLXl7efQcPKskngWo5/r0CY4g4otjDi4CDEmIS+YehRAhxYW1rDWkpxNhCYCaTK2wkgqgCecryrP8YYdHJvzx4KvTev2z2TgMJYYFPEdwQNgPZOYoz4KRZsyaw9UJMqTIgUisWJxf/OgfdZG1rJ38ZoUUsLc3Rwxw7coSNltzN+3btWrJkCQQ72B1gBiTQg8MKwMVwCygAo1BgD6IVsMFNq7iojJwpmJKiL0K+0bBRQ0aOlt98+eXKH1fykuihV69YEfEyHGfY5d+vwNUMYG7Vqi0GWeGhYbt27WFRdO37oauzC/DcICCAG9ksQZUQAeijYBLpdt/Bg3eCgnDEOXTs2K+bNoWGhGz87TcxH3gmpaXiXPTH4cNsSxKHKw1MmeazKVMePXhw78mj9Pgk5bQZc6jWrv8ahRo/pZZSL++dtC21vck1VdTt2xuqWoodrqr8tqCNvqC9obKfah1V1UhV0kb5fj//CMGR2ktSJAtWAtTDoS9c6vTRaIGtWPPsEhYWlpGvotb8tP7Vy1fff/f9t0u/XbJ4yfOQ59279bhx/UbvXn0WfP0NmsHr12/069c/NvaNu3stfPqYWnNzCwJIgggwX2jXtg0xOnIyM+rW82erhL9jB4OcDg8P44mwn0FBN6ytrYQlVEICCwwuLzU1BRKvR7duq1auvHvvtm9tH8SZ6IO9PAk0qkYiZmigunbrSnFRiXBBKynFHkuppywoEAHaoRnw/WWVYixK5i5IQgKk4UddWq4mghrG/PpKXStzk5SUdEtHtx59B+YViEA6sdGRaenpuepin9p1GUjWQ0q62trO6U1CMg6XBvoGCpWyR6cO+bmFF28/UegZg5dLS4oNLS2wwhGmAoV5BGZArqUUwqMCOE6VrsZIVTFoYN/iotzsrPTi0gKVnlKdV2hmYlqGlyKe3tb25i5eZQRQsnIwt3HKLy63cXRq0qyFp6dP/fo+H3bvjZmPiZnF98uWb1q/kRU64/OZwwYNvHLp8qKFi4YPH8F2jcX0imXLCZ7l419Xg94QqwYSlyGhJh0jceVLNcSkxi3A2sICPE7yVyxUSbgmLJ6w84JJgcoCyIQ+XAs1Wlj71wVgrsY/CQArb5QwlLYBG4ZEy2l7rQbDlXUCPdHqbZdCwSnwCSRpaUJ8HJm7YKDYzF6/jrazs61b13/MJ6PdXF1huHC7A1osrWxg63y8vUggiHYBUUfdBg169eiRlpLSpXv3zZs3EUcU2zMSczk6O+8/cGDu/LkFBYWAPZ6eJOWGOs7OJhIp/oxGPLRX7+5Dhg6+fPnqkaNHEZueOPEnNGpmZhYRsOHT79659fHw4ZOnTiVpKxH3QJcXL1wifBCxJLt17b5969arV66s/22ji5uLg6M9GoCBQ4fMmT1z65ZtdPXbtm2HDh38euGi/Oxc7zp10G8yCY5OzkOGDMNimd0j9FlwLW+v9LS0iPDwxkT7AoeVFBORDYvhBvXroWHARwm0VYmwGD559rRzWKNQ7WfVULMLvHtUa1NtZv6RULyqSY27xNTJyKZaQX7O39ZLYgRxXb5arU3ly9WoL8YSUTpYnKxYzsw6pBaTDalCwdbWllsgpIngAisHKkGGBZWLbBvalbhoWDnC1kGWM4jgnU6dOzPKcN3Id0ETmRnpFBo2bICpwefz5kJ4m5iawKLDqEPmXLt2DaMK1lZMTKzMsGRkZCKE8vXxEcxjXq6VlWXzZs2ReZ07dxbUSagGKHaYRLbByFevEhPTnWqRb8S2kOwSSj1cb0BJIBG4IUk8qW+M+aVSH1ZNTQwqkRRLT6EUNuLQkGBSvAqLSzUBrQMbNW2dk69mGwwPeQbCNbawbhjQxNjIJDcv/+dft4VFvCgq0fB6WNYX5mQN+agHwdJPXbltYe9Igh+sfjAnKFdTMNSUF5so9ckLTV4dTB8wH7KyMOncpWNcQpyBiQHjC45m3IQ1gYItAQt1/cJyZa66zNDStrCkIreoBGeg4pKSJk0C8LpgYViYmnj4eluYW3bt2YthfPT0mYGCMIcJ02fNunf3Ljs/31KYk3+TSOdGhqZGBjjuoj+D84MgyUpPZ4veuGnztFkzHWys8Q5BhsXmhECQ0YuJjXV0sCeQuwAwyCrxR0BNJZT8238UkJjiNoCff5Vd8Icf4J6qg6eAFzneXSNSlVQNMQjqlO7QVko3V260CAr1lGAoNCFssbgfIHjy8PAIaBzg5ekpOyfhTbn999/TMzKRRvfr9xEGBNM+m4IEdsBH/UBw0D5LFy++//Ahn0qOP2SjHT7oMGvmrGZNm6H8ASuhsT1+/ERKCoHVzRF7k+8W1o8gEDgIdOkSeOnSFYzgOIhvhXHKoMED0Xd3/rDLvPnzIXh79e7NMoF69fD0zMnMInBAUnyi0C+ZmN66fR2xSVhoKAIKX29vLKhJT0nEq7Zt2/ywatVvv/yakJhw5NAhbHqGjxrFJ+jqKk+dOEG0ICy5bt++SYAaAL5po8akTXwRFt4aBQtwoFQys8hrXr58oZwxew6CSv4xggyWGC+GUuiDCcaIE4NY75TfNpBmCid+GmJozR1cZGHQiJ+UcekUzYnDpMQ6sYRVAZCBGliuwC7dUeYMghDzKdS1BFYRumf5QBgu4RMx0xSkSaw8/W29drrlxto24iuko0a9YCH4MCHD4LPQmlUQg0nAVYUOsS41GmF+SZ9cxHYBywaoZZAODCN8O1JDxOpgK1AYl1gMmA4DLrw508MZ9GdjZxP2PKRx0wDiWEHXHz9+bOOGdT+uWlnb14d0NU7OTlBhcJ3QXG/eJFhYmMYnxE+d+llpMb5yIsY8JLSpqREwmpgYn5OTDUwAXg8fPYqPT2AXbdmyaVpuJiJwMu4SKYFPIXkv7guMOcuFfZJ8E8JvsLg4P69EcmuABKtgCjBKAib09RR5+UUqc/sPe/ZDFcjj3sREs9Pq6KnatusIowF1Y+vs7O3r3bBJI/BOJmxGXGT/3h/mFasv3HuihpwjkBYWAmRkhZTSqHUEPkRILAULLSx08ajVpl3bwmLyAMVGEZLUzt7OAVPbNLAENvYAE8L5cn0VCeuFmIw3Jj0UKKe02NvDZcyI3r4edqHBIbmZqca8r57Sv2Gj7j27e/q6XT1/Af8SbCbDQiNOnzozYty4Vs2asVTIA3bwjwNOTo6wiohYIiNfQVbAejg72KenpwG57CJA2YW/zrs4O7u7u8XGxMK24O5jYWVJGCoZOrQ4ixkXsP7uUaOSnyKltlgSCFkEupIQE7hJ3CnAprxMQoawgUCXACRJrC9fpC0/ZZEKfSjwPQAraUEcYxcAiKasE9aHuFXqF6ofuKpd24f8suxE+nhfMmrE4dHVDbp2ddqs2Rg3gR4bNGg4aeJEQCX2TWyr1q2+XfYtPF1UVDRMZeOAgODg55OmTBk5anjv3v2I+QeLnJdXiFTUwdGhlod7QmI8YdYDO3bArT05OQnfrs6dO6344fsWzZu1bN7i9x2/e3l6f7NoYVxcvKsbqbcOAqutW7WyNLeA4jM3McPdjzjuEREvPD08vl745c3r12EjevTuvXTJsq2//fpRP8GH7ti5g319zbr1q1avDguLAEN0696NSCGZKYn2drZnz51t3boVYExiXUQ0+w780bdPr/nEa1Yovpo3OzjkGbt1SEjwm9evlVOmzpBnRQzh302YGLdql8QYCnQjeZOy9qWDRc6Yymfa0yEHBaRFkC3U0x5ECaqSb+RqWZmcg0CQORx0I2M0LUtIjfxozlJB/iseL5cqC/+AggNh1Wwp3Sa/P+9Yo3+ezrsBZZzZwTjzVixg+DuwFXJ03hmZOpW0xE6drDnU84FQT9BllBFR0eZlWGjz1q3jXkcjw1q7bi00l4+PNxZYSPc5QoKDofNbtmr94O69YR8PdXdxzcjKQpuLDz1tIAQImMXeheidrwRXEtGYDTAtLaV9+3bePt4ktskuzCeVc9269Vly5AeEeihUFwDoNAYJ8m7QD6YmFoVqkmsQ5A+PVLJDKBDDs3qxoUzJKHb38e/UrRdOp/CJIU8fY5VWy8uvfsPGeEzzdSHPnhro60K4qQtyE2KjczOSx3zcPwU/sntPdY0ty9ERCnkQ9pgsvzIReQY6Ab8ZkjbWr9+2TbvMnNwXUdGJaRkKXX2ixZuZWphbWINCQaagJwwtkM2BuUQnYpNgFsr0dcqaNvLT5Of5e7p7utoh8M1IS0lKin/+7ClIPy89qV2njtaW1r/+sgVSNCjoFubRiGb7fNTLwsL8/r179evXhbN2c3NtEtCYxXbw0BFs5bCsZS6QfCUlJxapi5HjmluYw/VkZWc1bNQIZzdwr4RhBGS9A07yj6qzFoSooEN+VspeJdjU3iuWiOBhBBaTmon7RZXAURIGkx8CyybqxRWQHO+A/pORKMRRnQg5OPZyVXI8Ei5EGmz0hbiNDoFGdkOWnbCAVSpfvXpF5Hs6atehw2dTpyFhAH7YTROTEq9duRofH1evXn1EV2SS+GzKZ1BbJBhCkDRo8CBEH9DRrDa6xejPydkR3SKvg8z0z5N/NmvW9M5t8tGFN2hYH7LB0dER6B0voiQLsmPq9OlQSbCKINUH9x+yMDp+EIhk3dOzVkCjgHHjx3t61Frz2y/G5ibk8mGce/bt27F9O9Tf9x88fBocPHr0KHomcQ7kWNeuHw4cNABsBc9emJfLux0+dGjYxx/DspiYGu3atevOzSAEwQP69N25fVtBXj7usfjD/75tG3owsc/wxoyHNIxidKiRj+plrvKTg7aUpbkRNbTkzCBCbiAkpp6f0viKExwBlTBHoC1+shz5cvhnRN3yxNNYvoV+5NeofHbVHxrIL1ZVIQOEGHHtpfcLcuN/Wi8MCOVveqf/CiS4ValWBFzpYKFOPwLudBREBIU+NNQnakA5SZn4x9uDtPhMVzcRngETu5dhpBJo4ebp+dmMGcRFgJfMz80jnKa5qSlEGebogYGBSSnJixYuuBF0C1FLg7p4HNYBOOAuGQrCFeBQHRYR6uFeizgL5DqGD/12+TI0QZDrGNQZO9hglR7x8hWoCbIOd2eIVEgqTa4YeVSU1tY2bP8E3TY1MQPrapQE/1OYWmDyWYHQXV8/D1k1qq5SQsSYmkIqkq8FpRIT5OTgCH13cddWPWs7I1NL0ArIRVlSaKqvKMzOlJPBi2GAIQTjCOIUt5iKotIcnbyC+m1aNW7QOCMr5+Wr6MTUNANDkUq+GDG+UYG9NbidkLgpmhKieiGb5+GMJyZR0BFl5MDRU5SpdMpaN2torNJJef3K1tzYzNPp0pnT/QaPreVml56dtvCbhdPmfXHk8LH4xKRaHl7YuJ66dHn9j9+zeh89vPvo8T3mhUiY1lYW02bN+Kj/QFyhiwvUjAaSZr6RYWeCwPsgAXRnFITQRKgiRaYv+GkgUwYYflLQ/pQr/8FZC4FKBkL8AIAlrkGCGkG5i38CykW4LmJJwF+zWkBMvJggpKR70Go8D444c+7s8eMn8Rbesf1XpDYMj76BMH8vxRBJQyRIfcrFJWXHjx3r1q2rpbk+6hpUB1hmoe7gcyADXrx6iSHhnDmzWIZsgRC2CB+E1by+PjXkcAPqjFTEnq3QVyH6ECCRkZ7q6+uDPUTQ9RuYGWK+yyegGsI+DmriVtD1ev5+bLG79u5p3qolaihUdUgMvl++DH5w6cJF69evvRN0w87WYf7cuVgshpHWUKkkEbmBpQm2ddOnTx85aEjzli3Qob948YqQ5GRdROhOCkL4gz59+4rtU6lUF0p5mFT6pINduHABysqczEye3rJli02bf7a2scQQbPX6DdkpSffv3t2zd1eTtu0EaSOvWMZRPrQ12oJcL6akClXJlzgD6DyYOYbEQBhEWWYAoWNx4wZWqAEOoFRYzwwu7TnTRq6veqZAfJWPY5qlg0vUUJQLnOU22prKgjTzNRpzST7+ZX1VQ/F0yrTnbfHtoEwBYwW041yC4uKL+EzISN6cdkiFILv4EMgrtIS0R++LOs/D1dHI2HLwoL5QAdzoIbIGFGIcj2gc2f7Bw0ciQono1C41KdnU0Khnt+5lCg0pQnEn5B9oC70kGxHqfORWO7fvcHZ1QS95++7tkGdRjQJ8W7Rq9Tw6ktcgoaBM//F0ZE2MLaIrTSkpYXTYFY0MTaSvKMUlx8bNQV9i7BEEGOvrGCVlIzYqKRVpvGgDqoKT9PLyMDM1Bj+yvM0cPVE8FWFYBYtYkFeel0sIPcH9E38UbKWjBM2IFcrSJi67PjFK85u1beNs5xQZ9pydP6+gEGeR4oJMkAFm6qmxkdmJBl06dXwWUp6Qlow1J5YHFYSeIC2PhrTSxAiGC8cmodDZATujUgd3Z3VCbOST+xnJ8UP7dfL29vvz4lkw9aXTp7/5ZtHrmDeosR4/enr23GkW3orVK188D87Pz7WztsGqG0cFZpFxY/5MLFEgCtwDWBJXgG2SQKX6FQqSaYuJBlPCZ2GsJYBTNNTCCWOrLVPgkgwYjBUFcUk0p5b/RWQ4mnCW+hB1DJDUQMKAjJm4KizJikoFkkLx+vLlKzqxsrEFVBCW371/H/6Id3R2dg5+HvbRgJGTx44CBlSGgrYqK1c8ffb8/AXCt1yIeS2ShrCZzZ01u1evHrBUwc9DAwIa0YykXCNGfEyBx6G6Yf+bMGECnwxSgEXgH1IhAbQSjmYPo4zTgKenZ3Z2Dtpq2jNoanXBxg0bMGuo7eMD2YWgCpbtgw4fePvVIRj/xYsXEYkkJhURRCQjJXXenLmLv13Cto1aZsSIEdhP4JyIIOzAwYOebq5oAJE2EoMBhAVT0qZNuwlTp5L9CL7h4bNgbPdZWrwV73P13LmS/Jx+Q4e5+/pkJScTHmfHrp2o4DGERNcUHf1aXVCIE/jn8+Yglvl83ny2WcHgiE+tOpgVDn6JuZEoLwq00f6UJ4QGXAUNQXmyQugOyY6Hh+uTJyEMB4OFmAYAooAEBpIPkoozI85doHw4Kch7OoEHYckBJfJ2x1kIzaQXqHoj8Vd6urbw9vXkS5y5RX5DbQ33/G29qK1qL/3lRjEC3M7TpYv8ENIoGXZVeFvy+UI2IeATkBTtSGABOJaVsgpoJrRRhflLliwi6Ie/rzcAB21FcMW4mNdYx/362y8ozPAbJuqxoUr/k9Gj4uLiUZQMHDAANhBjBG8fz7v3bmHd+fx5yLZtW1u2bIkQHdObWp4eJ0+d3r1zx5ix022sVETgI5CIuqAAjF+YV4hHM5wqs5SfI1ChEWGXxYaqjxBdxPPMKlAbqEkw2rR9BxTVwEdcTJShkg3W2NrGgZB/jHxebgEzSOxwEoWBnwFZUImjT3MbW/uiMg1slEJTkpUab2XvmZ0fUaYhqKiBgjjMFcyRRlFeQvQ5xP7N23dW6Sq87GxyYqJczPQ6Dx6QkJZ04dLFcqVO245trpy+VM+r3uWjh33q1NUxs0xOz6hQMJKsZF6cGM8aiDhIPwM9Zam6VEdVunTWtIb+vpcvX4aI69Ojp6Gx+Zkrf2Ft+8PaTSjV6zdrRjIpNolBg4e2DmzNAjx16uTESePNbUWiDfK5htx/YOPkCj3FPLJZEsyB7RrrFRGoTxBT6An14MR4OiQQkAYwyPMuz7UMBpUwIAGHXKaN3ECCTAnHiZJ0e5XZAhiEKhCVhKtkPpBogmUKTPDLdV4QqODhEyhrhp3XwLkPFt7OwWXEyDEQuawI9CJwHtAjt0k/GxzKvFAfHfMagwAmol6jpgHNWxJSint/2fp7RGQ0SHz/3n2LFy8G3Xfu3PXy5YsIFho2rA+ieXDv/u+//86DxOcIdKrA1kVYqBBDFmgm7hUpdlNSwFPUY4SIbiX2dZSPj9fI4cPYZQcNGgSj8GGXrrW2bUMEfv3u/fjEBFd3ty5du17669zCBd989eXnM6ZOc3V1IeTGkUN/YJz1xYIFqAWESE4sGr3Bwz5uWK/+nj37MKpgD8NMesLEibB4hDxiyUBpFrMT4n2hq+jZu9fu3zbHRIR7+Pl+u3QxY3Ln3l1IueysDLQNS5YsYxxu3bqVlVUA0zB4yDAqBYXFfPBtFDh4IGd+siYp1EBnYuaqVUJ08AyGBjNLhvvBAxyGUlhvUH1s1+B16FKoSsq0BEPD9bCH0ycaKHNz0hyIR/BO/JQfKp95So2CGPr3KitfW8Kg8lVtG9rLxz+qr7oud1v5ixfjuTJois6lvVI7DsCKoBoqRV0VWJ1SZqhowLeDuAE7pgG9O9iZSMrw23169ujff9jDRzfxV2hYvwH9k/GmML8AyVTb1m0I/4D5e5NWzcleg88BGGrcuHEYquASAdilZWTyDmgbGR9bW2FhL0m4ci1sLMD1ICYkUBySPl8HBQphjwEXVC0tgWyl/tYte8uVgnVt0aad8v4D9o/k9CxTPR0rW2dAioXEp4B5YUMy0tJuPnzao1dvOxsrdEyvrt9+Ze+kU1JEaHqdogIdvdIswhDDyunqlsguxBLLbKynJLbW/yPrPAAkK6tEXTnn6lDd1TlMTkyEYZhhEBiSCRRFdOG5ioq6rqvPgIor6qqPxYBrIAgiCuLCgsCQYQaYnJjpCT0znUN1qOrKOb/v3Ku8fe9dseb2vf/94/lPPudfuWwRUZNzU5PXXnxxpr11qBC314vGSvaG915++vSZz378xlO737z1wx+8Z+Le00cOfux//I/nXnyZsGXaVjQyMCZih0dliNqOCHB9ep45GT13GrI8Nj4dT6VP7NkPwGACh7ROjk2fGxq5YscOqNzc5NjOp5++/D2X4rbz2ON/THFSNqdplMjhabztC1/iHp6F39C5c2hwoJosK+67Dk5UxB0eXzz0pxo9zvGstWjjlIvn/KuCAhPLDfMPbL+7I9S3eHugEFcpG4Quk63a7YriXNgp+Y9X2UzJ5TDh6TFwenDPgYNQdGADPpr/yI8BIOE4wq/X6+OQCPYzTcD2Qm0Q5VKpBCoUdg1AtZbkmxdfonaAfcknMDhbtl2G09Obew5wSPjTz72waknP17/xDSzXwA/oG2LJmTo4HNxy660yFmIAJBuEidrIoMdoERq4Z1zMD4wVrMO3vvUtPNoHB0/zFcD2ta997bvfuRP/rGBby9PPPOVtbuvp7Z2emkBNht1jenJy6dLF+IIhSL64cydYkhRDjDrYEYSQmC22rRdtefKfnoSZ+sCHPoRJChmctUAlxzki6Ba/+IUv4EXICoIT4M4GT54sZHPrL1jTu6ifhYZ+4/1DjgeER6AdphBFMMxag99DQ0TRYUAQfM9GUje2LB+MqHLxnGVjkXjIxZ+UUba08MwU45eCICxampycZMcyBZREDyKakUQC13B4AeYCCytVsZkhg8wdgg9SD1PGQ3Y7Van1SzN0QOH41P7w6r9f7z589+b/f/v/v1Kf/D/P//tDBROKd6GKm+gDN4xUOiMrLjdcMnZGza+K05mNavXocc4NlAv2Hk4YxG0zGeA3SUAK977lIsxZ60lXhk0aJP6rX/4HObD/+Mgfhs+ff/Wll26++eOcGrD3xKDXqy+Wqmj2T58++bGPffQX//FLJoeJYlE5Z5Su2uyohMjgovP4vGxxNLQIgOw0GHsMdnOzC067MRGLQ7u2bNlMHpg//OFRl4Mc0JgIdR+96RMzs5HJ6TnOZ0B6+vyXPqFxNUmQlrJ8dJgMVwSIQWxTqaTf5+2/dAMSZSKTYm0KuRSp+3Sm6kJiBvlOY6xXOJZCMWfgEeryeXv6+x997Fcffv8Ha+Vsk9+TiTfpazpCcMg6B3F++/U3169aMz2K5j6iySUe++3Pr7v5468cOlFXlh2QAoywKhtIz+D0BFodd99xT097d2uDp1CstQQ7wpH45Vdc0zg0gIpn+5XXdvT2trZ1cLgFHwWCwfkX56HetVo+kYjPhkJ4Cf3mV7/FNxIjIDsEzQNwCJTjo/uVr34V+LQ6nDSEGQUtpLKU4E3OecP3QmQlLhUkVPIDZaUSdiCwytKrBdRfRDxAFkgoKUHKBw4fffWN10mRqAoKsKhkZG1s8Mci4anpCXT7Ta1Bp9vL9oGK0C6eKBzsZrGJxy80yQPOaPBg+2PBoSAQM7e/iWKNLW0UwH9K1PE1ySZEN3giSYpmZ6tafUOgFbcA6I1VU0LLCQfd1Nz85S+T8VHz/HPPA4HciNaC85GUbBAoDthYaPEmJyZA4m2traicouG5ttYAEbX4cH3323ecHTz9+98/cvDA3q6urvnwbO+ixV29fYDdZz796b8+/V/f+PrXf/yjH97zv+7m3K2O9rb/+fVvBFua9x88DEDs3/8WaRvWbliPKPfY/b8npo3AHToAc3TXXXcJfZVodg0RsjT91X/5FxAfzmVXXXfd43/60ze/9o1//Mdb9h3Yn07GmYdr3vvBbVs2snarV1/whds//8tf/gqsAgcAJgWBQI/1X/jSvzBBrJZ6gYNYJ9qghLp4NMz+Yb654Ynw84qHobqQUA9Uv0w7OGj79u08VGugDEkOaIzamFbwGhUiG4PCQHBKnYIBKQ8B5KJ+/qQnav0UYHne/eXm3ev/ef437aXyWn3FLTd/J5by4t0/5EZY9/9T83+7F1GP/qgj5St11KJnUVAY3aOw+ssNCgJE973794GYIFMI+fDY5Ki5YPUqVmvPnrfxpZoJTRNLQSJQpuh3DzzIMrz+yqt4xMDIICGePDEA793UhiuKLhhs7e3tBelj68HTj7Xp7OhkorD7gOUxb0En1aaZb5GvFa0ZaY8Rf75/151Y+jhHnm5gnH7ggQdHh0czmSqeAazF06++yfF/Z8+d5wiurvb2DZsu1FpcDo+/WKrjAb8wP402B7F0w8ZNmXSKJnQaU2dn+7IVSxcv6Wtu9MeiMx++4b0Hjh0/MzFHOkFRt8tuRXWMdiuKgrhcil984aYXn3u2yeu76MKNu3bvIlxn/YaNbM3ofHTT6rUeh7u/t4eko+lEdPn6C0ZDMQXaZB3AEpAJrIRbNqzG4yu1MFPNp6+7ekeuUJqcDqWyhZGxiYNHD+zZs3f71u2BYIfOKJxmtVTQmYz5TJLkXFe+75rNmy/yezznzp2/9pprcaPQOZyoptiloPitl13W09WFRDw3F16xcqXN4cLnW7RKpKMpkR4LOcYknVBwN+VBc1wsByIVa8SsIi7wp8DQ3y8VW+VLGvIT3PjRT7xz4iQpDHAkCc3MhiMRNg5zji+eyWwJYoQLtICGwGUQZYE0/s+voiYDfQD2L738KuYUHMbPnT8PV4WLCQcy41oViyc46pHkQpmsJO+34MKCkQIXEGiVkaxB6c0XXzw9HULSXNTdzoc7dlwJaZyemsTpDEctdiXCGW2hcGFPoYYVDVqpAtQRv4RyZiYU+uH3v//EE38GbnGw2rtnz4UXboInGjo7SNwYaikgMx6JPHjffekiYV7RO797J5k50skEbp9bt14CNPZ2d8HyQDwu2rwJk/R173/vd+68c+u27amFGILCT3/xc+JMkcoRGG+99dYmP+dvAneuk8eP3/6FLyAb9vT0rF63buWyZb/8+d2kvunq7oK/Gzh5ctmSfqr94Q9/uHPnC7DbKGY4tHflCjkYmEFBRQi8qmPzhmCzbOwEmR5FS1KtoCY0QmONmEHRN0AV0WXabByEwE7GNs1CA7bFao1Tf+v68pIVqxcSadLNscHqlSobCQJItzo7u/fs2QPJAobGxiRjOr/gr0SC0xIT+ARA5Lu6ugRZIKPrOBFIMtsy1wAKay+TTnMKI6Y+5K2K3eiBPFfASUVzUGzKKBdsgHRRvbBIqTeAjIghykU9TDeLCdPP7tHD6aNWxsGs9DekjCM3ZQi9pBB9oGoqAacC4NwAELfecgtYqbWp+cH77l/S18/sXX7p9qeefuoH//ajTRduXr1mLd07cfrsP3/lywvJdGN78PzkODFuP7r3Zyjg6cLw7FTJTPaiZreyYUYnOX5VzoBR4LI8MTXJFuJtMpkm70KpWGFCWDA9eatqWtYvmcziNemwOJ/689NToyHayiTL/b3aLZu3EL535MgAFrimYEMtNjkyOWC36ZwBW9XuSOGVJVHCNQvsks08NBODQhnNYCC8TN3xaPG1Y9MtHa1lXThbTC+Ep3AjLOithRIGQcR2zFUVJh3zE96a+rrl6MGpC6+4/vfPnJqZyO4ZO+TYNZhNxjRHplb09U0Mni0Rdr9oAi3Vuo2bXE39i9ZedvzoeL6K8oLaDNYqag+9rlB2mBIdXssfH/x5YnbMrjPe8+v7HS6jx+eHv0T+sptsq5Ytf2nnf81OjwCCXo8rBhKFT5gcWbly9UtPPPbWvkPbLt/RsXjVQsWYy2ScRTOI3uX0d69ozuSyRb3D5DR2+toOHB5g9tZfsFZcMarkCkP9V4FbLWTzSADIeaiKCJNkZfmqq6cb3g8CUCxksAKz7By3i7UAD5e6xioGC50Gz4kmv+QsI6saSw9IU97vdaInhrHFuJzLZdhUWdQmFoviWoX6CKwhahCB7TIWW1M8mz0xMIDpExQAW7TzxVdq2RjbYe26NQgoK1Ysg4atXLMSEoj+F2pE9wpIkdhfE3PdfZ31egceJ26/v7GxYWxqmvxUdAIujDMuLWZBVYAQgAFm5EOEUXZ+NVdGsrc3tERz5Rs43a6n7/HHnoIlT6TjD97/6/t+c+9Hrr7uzk/cOnl+uKhJdvd29Hx8x8Sw4eHf/vi911w/eH5iIjTjGxn71G2fblvS//qbb9394P1w+rgOQ3o+f8unF86GFq9acc/Pf/GBq68+cfjQb+796S0fv/mBe//XN0fHdh84hOrnoQfue+bpp5cvWUFw/uMP/YHDe2667ZZPfenzPrvr8InBjas33nXX97dt2n7RtqtcDT9HU9HZ3cbsk04y0NCYjSUMhYoB9AQqIQ6AKWPeWWzYIh5CFmDAUsm4iiAYPCwS9IdfYdJsVhwU5xciLBIqXspjIwD7QKWIs2WaMGWTThfbB6IQNXODKQ1vGNAk7Bg04ejRw3hmsnLYninDnEKQIFAWiJ6CGpho3jLRNM3FPb+yn5XngkoUbggum4fqRWGeU0C4pL/rvKSGv6tCeYtXBvXwkAuyQyUi5SmKOd4CpjxRa5PCmJPI3KKgTsrzJ788l6bNZlDzT+65hw2sirpwWMjnnd2dKIz8fi9zwkjvuONbZOBCRfWX//wzzKaAnRzxawUDUg89YSqUnogmhVc8YUq553PK8ITZgxNQm+Yti6V4SOvRdGAv7+3qYdUymfSmTRvgfggovfa9qwleKZcHcDaywVQ4vdmRDIuSK1V2XHklD3FHRpYsKOe557KcPwru5aG9kMmWS/n47KxRWyvCnNXzpUzBbbY6zDa4aIWxktFrdCLFVzmBFxcQY+Xtt3ddjAIrn0hF5qtV8Vqo10vnh87US5xOWDk+cLwWi72z67XLPv7xyZmJselxTYPEVGNhE2qEkojUCqQ01elzpWq+omlubakWCyaHeTqa0ugtDqcf3y1K3vf7PzudO5cuW1wt4RObgsK4ndbpuT2YFUZGJ3cfPoN2+74/Po07s1mrYwJ9Pg8QxfmGcBywkAAzKQyZT7h+dEjoSkikQxnI5/e++52WxgYdPrWgAyFyOqNWPzYyziLSLkID3hvofWbnF/BecrnKC/mkIn9Y4YwAMxjySrW+aPFSlony0USOw99gkYD2tw8ehWZf9b4PsGpcAmkK8KD1YzKJQaCHCDPwO83NjfBSuA4AMOSyb+3o6lmyojGw3+1rJnNGc6ADywSO2HWNxJNVaxWjwcYhYcAPuc/KOkOGPWW0tXV3sFsQVDPlut1iXEiTRgEZSpQVsMxr164H2sUpx2Hg6A+H3Uhimf1792RTxY985KNul2PXm6+dPHV8avT8jmuuffHJZ6OF/Or1a4lvMlm8n/3clz9w5VXrVl3QGVz09VfuuHTrVixpr7212+72/O53j7z03E5sMRadnkTMr76284LVSzdtWAfvxtQ1BoK/f+wvt95y09GTpy699DIkksuvvebbX//q/Q/94WM3f2LnzudaW9sW9S/p6TxdyhUe+sXP+ju7L7/00hVrVn3ptn+E9fvkp259bufz6Xwe44PP5uzv712Ynaf3RRzUEa1BQ+wKpox1xUiM2rhYkrA76A8ciuwiAJA9RsZOuwMyhTOyw2pD/UZisJ/82w/5BBoFcXj+r896vK65mVk8ynAA7OrsyaaSzZwS6/Wk4jFAx2o2zoam3E4nIfu0iB0EEZXEOi6HHbyG4oaH6mamJ6wQ96qYpj5n4UFJ3AMEvFJRCPc84ZInKloR4U/uoWtSm/JQdopSodwoGFCtmT9BYlA+WAdhn5QyFOBGD1uhXPwJE6ZWLlw9Kl70KUQD64033njTqZMnQ9OzZEq4/D1XIJhs3XYJJV999eUvf/mfb7/9Kz6flfGj6mprCzLDHAIK5qJp0WmQ8cdkcrtdgC28JwMB7q1WC7sCvI/5CHpASXFcUARzYe+1unQ6YzFZ4/FkwoPsMHfnnXfeffdPyCns8/tPD54jvh9Po2wOjgpQtON6Z8QOpzOEpsaHhye3XX6d19dE+ocMDEkqYrGavZ4g4iHhyvVaAR/wJpMlXkyX6lqz3tLd0qwpwH6BymWmSQAhjlTgrLqmyBJoy8aKee/+N3bswFD1GtjO7nISFETmGqvVKKeM5bLGtqaP3HzTq7t2z89Mu1pbUoLIqApcBZchSbc0Rg5f1JCGlFjaM5MxXHVKOqujvSuRRgfjLOQ0Lq/r4isRURdNTo6j6Vi6uGlibNRoJxCqiJviIndvVYfrvK7P4UG2MmTmmC5xelK80rxehBFJy5FxpFDVkc5U4FxvtDvYYmZU++ePH4Mwz0UW9u47QMad+cjC6GSIxPx4q5HP67ZPfxHxhALYtHFxTswks6UcIIrcwHLgiJfJ5RavWI5SKZ4lOaIWt5BUsfLok8/BE9n8bbXJCFsLbquEja4Oc1QEzYNyuKDcGq+cnEboPeetoU1LY0uOLSQLFX88d3Joaj5VXONvLS6kpiPpqtZW0xUqwugjDxgczrrdIZHz+/Yd0LhIzpEnNGDTcYR6QaYrly0fIRR2ZAR3FjiM2EK0p7dryfERhVLatNkSfOUTTzzMnEQSmXOnzpw9OXhm4GCwo/HX994zF4ouWrTYGWwuaaqjJb2/Zr/xY58nfLxBZ/rcxz+TTGVjmRQx1ZdedcX3fvhvT/zn0z/76b14oJur2UU97f96179yTMb5gf3LeluvvnrHfY/80eLwpsqa3z76l0b4F/KajQ0VIjN6TTkZDT/xl8ebWtoT+fy9v/hNR2uQ0Pwf3HknKXHwxr7ja/8yOjO3csXqgdNni2QKwl8qX7AajeRnIv2tGqAgshWTCHpiscFNIA62J6MFSbM8lWKJzYbii60FcuE3lcmgjaJkIplGLKIMnyAAMncgsunJKWylbIff//73rS1tREuAy5gv3lKtuleZL3SiCN5ouN5++y0UhxSA3WBJeKVsZrFD0yvBFApyoZPv4g5uVLQC6FNM/ZMnf0MosrfkkucqquIGbKMosChDhWpV/MKu0yKFef73slK5ihYpqT6lJJ+BQngCreJPZGRe0TpfdnV1ccMsgY/INISnQzIeZbcgz2MwxroRjszx9vLL38OGeeut3fh8AFtMIAcqqBw7i823VE4BXtFHdR5QWiGbMzm8AoWh1/C4STEMS5xBJX9+ZAib2k03feTO733bkRfu2OZ0jY5NSOCOtjQ+ETK0B1oam4x222Ronki9vfve3HHNDRxzEoknanV8kWrzc5Od7R0gLHygw5FQInQWJUwRzR3h+5lUdmHWZTWUcyXYOvGdItpEsA3UgJ0nU4YWC4+KV15+4aqrrnz+2WeyiSj8YLVayhdztVhU43Jcf/OHn3rp2TwYtq0pVcgjDLIQijclRoE65j+dCd8uXYbDJuwNqVTZpHVPR/ONetN8DB83+DyDsVjGTfLo1EG0cjR8LjKxdPFSAo+ILilKunoL6BS199RMJKXH2dAMmapKqBLkRWOqCvzQU5OjqHe5ILx1Y8pmFT8bA0dMl0qfu/MnSBW4fRPXhhduitMTS4iHLRzk8uZbe/BK+epd98CmAfMOh3i3aXVy7ilUA0JCBh70COfH51rKxiBBC9FoHbdik87XHHT5mydmwqPjIZvFCtRBmARUmDu4aoXc2m0WTmfYvlXy4kMLUD84nDYONK3qyBkLA65Lxbasu2AtkA0BowY06BxSy0AAPPw8du58kXHRE5Pd63L4UFcfPnlWQEWj3Xf4eFtLq9XqZkvbbbjh+vLl6p4Dh0jNhnqoJ9gTXQi5EHecji/+04cff/TRY8cOtDW7Y5H5NStXndGOzM6HrX7f6osuDEcgWvpL1m1YCAEVk36Pt6t/8dA46tHM43/68+b1G5H7/vDAQ4EtFw+fOnrzLbe2weyfOr2op9Ns0r34xutXvGd7ulwfn+B4yfGpuTlOaf3RT+7m1ByP1x1sIwtzen5uml2A1aNWQojRNzS1/uqBhxv9DVOzYZlJs6GUiTusulg2R4hXNpGYmyfFblH4bfVKwDxXS+GIHrTS3hFEP4fMDyYC11isJk42jkYWEN8CgWaklTGSQLo9sNb3/sev2XXs1W5iu1yOYiEHA8VWJliM3AMcL4VHEkzyosV9ixZ1nztng9M2Gt2YKtFEsAkXFiL84lQCB4EJE+SFvzULxtYFOGANQJosDGZHEBkQSIw+AoxII5B3RZEGYKpITYBJwUTqorKy3LA3VD5LHso+Ezz0LgKSh4KHxBwjmiy5hHFTQVyQkgJfas1KBzRH3zkGlIOCxfNNQaCovZAtEb36FvWDUMhuRxWlUtmNx7lW+5cn/6s1GPjM7Z/DYwt0PB2a2rN/H1HITS0BvIqZOrJn4XhCHWwJBsts0D06BcjSLkiTPqG7YU5YJpAk2WPonsvjRjeEhUlIRVvLDTfesGLVys2bL3zmmWcPHzlC4CA+N2SoJF+Dx+XIZ/IzC4kmfxOhZxwJh7c9ikIgO5GCmS23BsWJSeZBUzETNt9QcrVoC1XR18Z1+ka322zBvSFH7nx9GT9RmWVcmKSHzBhLUM+Winkwz1tv7OIosOf/8jiGek0qrYknHMuXf/CGD3AUAh6iuubGAnZ+koTXzZgoJdM6edhh7XVFPdoWjTaVJzTRagt0pfSWoqU+GGWabdUcfvVms95M/ol6HZQtfuBWi81YsvQE29ddtiqdy4Kw0KKeHR4/n41Mz6VdBtClTBpET9abIyqE1UKhozWkYFE4dJaXYjtjGlEeWANrkxCDRm0OXzarLYeSNpevez3/+sizsLftF19t9LhaegCyCqI9CwSoCyEBFAmrkWxFpdFoPKdLrNiwxezyozlFZ3H9DR8ONDeWC8Vl//MrPmON6KSCSYT9CvKJLKKoFEBL+G0GG5s4sA3Cg1Mvq7xy8SJtqQq5Mhh1hZ52XTq2sqeN8umFaWONw0fSelitKvkSExabGQQHTKKMxEvG4RDXAX7BwkQWwFsB+LQohhdUCnV9k78dHgIWoWCuFi26aDrDiXEH3ni+GBl2OTi3fGZuYlpXN1ocZA2qDJ05jUt+V2vw0P7DeW12dGISd/swBo3YLGj6qiuvfmvXG+n58Nc+8+mzR/evXLvmWz/4QbCt69Dx0bf2DWJ0wPoA6z49MaZHNZGLkZQdd1b2xfK16z52003f/uY36SGsR7mY5UiBK7ZsHB+bmknnrL6WmUhsaHbM3+hbua7zzMlDF6xZHpoZl6j6ZNjn8UfSEPKC6LCYPnYaWG0hFgF20ZeDL2gDzw70HWAiVgs1E0ky2U7X3/D+6akZmAUYKxJCNTQ0ytnnNc3CQhhUNTJ0DgKLUpkMgTVT1eBHj63BgAj/BdIBK5Hk4A5iGjUaRGu0MOBEjDhQMFoBFNAL+L0+ShLcxLLRB1TyEEDAAocOWgdWWD9WnT4LBuESDCMX+1xlwahHnisXhdX9r/JZAsEKHqM873lFPfxyjzMV9+rFEwEFAEyRRnnIDZ+ghILTpmOoQvwoMhXcBxDziglkD9BPA8e6vfACJVHHtrYGQG3HTxwjcIRAOpJsfOGLn8dSjoKDgaO/oGbGzldwTFTCuKiHCw0ufeAGq5DaOq3groWa1u4g2YOEGUKwUUWxd5qaG3Zc9Z7bb/8yElNPTx+rAyK1WZ3lio6kkaalnUwLdl/U2FV9denKlSSiKJTK4ErJ8aecIM9gmVi6wW9ji6+zOwi9IRMyKUxW9C5GGmL4wrDI7hcGi8ljvoVlZXZNZjGfm42pdHbv/gPXXP/hF554AvVT8KKtkKX/enpnBYnSaqmliZQ2amxObQImBZSnWEvAf2jDDGR90NjdvlgusRDL65z2mtVUMlg1ICizsaLLQ2E0wgGD1ihOkkDNVLJkzWrO7HyjubmFY2L9za2eQG/qxIgmp8n6fXX0awo88A3mItFMsdrclMkgCIaFxSOvhDA74kTKEw3ZJkR+1RgzUpzwmdi8ZmBUtAZExhPdUCnZraKZJcocAUMmCvBWmgAFkeHTZjE/v3sf6VCcaCd1NUJEYe5IpoNHbkdXi92eVOcWJMVXwInTaYvOxJFRLHoLlhMicVgOeruQSpGAQvRMYM9AZ74m7rt5uFVwq8WJ4r+ssRishqLZS3LCss2F+paoDHqvRFRLiCALZzRZ4ViL5SKrA+pGB4OqrVDDYddYrGjOnD5oNBCjYZuPxEMDx6yaYrCrnf7BVzZ63ZEIR/2Ggt0duTSR77pgoGHqxDkvlgSLOV5Ikx+oxdLiDzSsu2A12392aqK5PUjuqvt/8+uZuQW7w4sAlsgWj544mU5jbCi3BVvbm71kEGpcvoS9z3HfB48ex1iBJsOMR1gxf2jvmy1NO8Kx2VSu5HO6MMPAGdtc0EgyGLnGhs/6vK7eoG9kPBZocqSrgIpkJRcw3b9/L3Dc0SUKY4g54glBsGwS8BfOQawllJwJpeRbu3dh4AOnEFLfFmxlpZFOAABAAElEQVSBosCms9cQwCvNuJCQoagEuwv9x6BDeNfAydPsFtRVCFB79+6F3nGUEL0nXzgMXsXtXryoj8yE+Ivgq0b9YRI2eTwwHaAzOsNKi960UkHVhdjFQzYPKIOS4C/WHvaNvvEn3ePi7d9+VYZJecLm5zmbi1fgHv4EbhS8JlWJdKDgPuCTAmAOmDiMK2Az0rKgHOc5e57yoZk5rEukHcBT2eMj+pRcVFnwO6/gk6kEYygVosk6dPAI1Aw70YYN68FceKOMjJwD2eGH4nZLik6CnMn1zrd4S6HvIOCTgQBJLDO1URUDB6AZOE1z39XVOR2azGbyLqfEk6PvIECvBJ6s5A8c2Pfcc89A7ycnOSBuNtDchkGcjrEEcFUoYmLJGLn0UGO1dXSNjM1gnLW5GxPJFFMIXiNbtsU0tXkTto7q9Mx8eHi+kkNTBYKC1+a4McHwksCTA2l0Qhfl7DVhXuowaZQqw1G6zAXSTlks8VTunYGz26+94dihg+vWbHz99dfhtH3u5mQ+p2Nn1g2VZMlYM1fr4vDKSjDb6AhxmWHZEtEUeR8KZWwi+nIkiWYQPshotZO4RhZOWTthZitypGraWMrht2F0nT41hE1sMnSqdxFsn1njbgSlgXMw+KqryUKj9ZN2lPhB/hJg4D/Qk0quFJsNIgnzrECFUW/W4/ikdeERzVmQ4FLQZV1EdIsOS0UhL7nMq0X5DOAS/ymTgU1QwahRMWZ0Bmz/Z0JnMQtAaJORsxqPd/mWLawLy8rCAbTsHZgDkuPQQwgbaw23jlhDecroa0WRIukhB4s4HMYQ52FnMEdS0kWMkcVO/F2heRXRUqRtpAafU4Kz6DlzyC4gkgzxUI7UdUqkJ0izbtSjOyNdn9Ub7FntH97zUFvPcjjg2dmE39uYysVOv7Z/1dKVhZopWSyb9LVgg7Wvr3VqLjIyMdne1mXuXFqsFBLx+bK2Tuipp9n38J8egIHv7mop5SubLtoCzOvy6aDHNBebSZarWG4gvO2d3QGfS1vJYlHmwKdwLBXwe+OAezyJKyH5lzOZBAPn2PO/7HyRvnsbfLHkNDITGqd4fDabrMcTaZcN66qNmN2mBkt4Ju10eDGyGpgIMBTqJ7TmaOOFjCh5OOFueI7nOt4H9IlicJ5cY2MSXpBFWsuwiAJ2bD/4BaaVTQKGAr8gsYOSkKhxukLZTHojDtd7/PHHJybHMM/vfOE5wu5YdSqHsLCf8dMFN4GS2KLAJJItmQ94RWfYsZRkx2IBJcaS9VYRFn1gcekPYik7ELUoX6FxU8GOTwRI/+9LQVmCuVSo5SWV0wcEe4ZMzQyHV9TAcy6GQ4V0gyfgREoyD5Skaeaqu7ub7vEE3Ip5FHGPIfM52Jaq8IvjyeN//hMnXPb19WKFQJqDt+JcUmoGv1NMHaBDY8CtEdD85Cc/+fZbexkpqvd169YxA9QDMuWX2btyx+UPP/wwSM3jcWdSGfpDhbBXQD8D4vOly+xIi3hmkQKGWZydiTjsXulhJIz3YIDJrBUdTndnNz4KRRI7gKvGZ8ZrdSNsFIdWIpXo8G03OdF3m4x2LOegStaCHpASpkDGK/H7wG8UCGSf4nvB0oNHwFgFMDp8Vr3MHq7NzcyZa7rLL7vyr08+hYRlx3qQzuN3gxqbmTcbLBx5SOIh8jzQf5gmQVzgl2p1+Pw5HV4BwRVplHrtbalU2mF0ZCIJjbhYgl8UN01Am8BGvFQhmXYH59nNhmdz2cLSlauPnTh1mIgcQmfJu8yMUDXkhx6CVBWOW5xBuIQ9FOZaLoFeHYdfQQZYU3yyQOtsNoAKxwt8ONCOkiJJQIJ+EqrJF0Z0YpJu3ITHjxIXyTywoLDBWqudACmYHVuTB8gUn14QOuFnTcGpdCVVMW7ZvBW0xVonE0V4znoWUHFZ/KjtUgaNsaTXpbLQg4rdqMvHRGVGu8aYhNxS1UgkKzoBdHu5An6MBL/R4Tzmj0o1HU6qqFm6rdFwviwXtMBsJI9jkVAwcjoC1uhq/H6T0+ZZtnpjMpZv9rU4LL6CPtO9Zm13+xJDTZMqGhbCc62B1rXLt2bKWc1C3EVm8Hp9IZqFQS1ULQ6fHVeaycqYi51isdo9jVdde8mpM4MDA8dBQB6fmwPlDGbDfCzR2YZZUztwatBtFjJfqBntWLRz6d5gIJIpJ9PZit5UKtaQY9u7/WfHJtvabCjISsV6LJcsabJMLBahSy+7/PzZM/PxhNHqxCPDWNejDMJL0yBhDckUO4r1nQ1Ng6fYIYg8TBBTRsJG1guWstHvBz/Ozs5oawV0ydAK8JHX7wPdIxE4Gxx49uD6EaugnveNj44hAwaaGtiiKJXxJHr++WcpCeCJNSSdQmgCSYHjkJLYVGw/Koc3AXkhbB45eog+JFPEhKShRbB+Z8+dYXvv278H1TXyFNZiJoLCIClQBoEsXV1dpA0TNFOpUJKajbABihaDJ2AZdgugyvYj5QhYgNExL1NTwpLARyBh0ZaKaxBCkVKheIA3oABy4XNAAbRFr/gFVqjhzTffpBIVpY6OjlKGhwwB6za+L4wUhIU8SBqjZ555urHJv7AQR2TDJAeYoq2gcuaQ3+HRQUbBRD366KNk3eamp6cXsEa1sbAgCmzwKQljXnrpJZLMoOMjSCKbynKQbyQ8z76kD6VykaYb4KaIkmgOnD8H3TkCmOKvA6s4O5fg8Ux4+qI1l1162Xvu+O5PPvW5ZnGgVzglTobOZeB0iIg14ty+ZMnaZLXi9TUQXA1GO3nqlLvJWzNqCpUcsYScT2eQ/OlVvckOv6XXWFAsGQ25WqlsFnc1tBIVZKXkfOS5J5/i9LA8WQEMOs6XJ0UyIiVnXuhNZGSAJYMCISGCrfR1FOrlErmS169ZXTM6S7aGitVRxjui2a0ragoOc2NrE5NP/xRsI4lWo+EZFLmxmdHDbyUIPmK2s7F5TAqVRHjV+gvKebHMsEz84nHEhUc7NbDcLBZPqQfABipgvFjKQjEl7CJ+wEUJbuVVrsjZ2uKvJ4EC7Aq6jgxLwDZvsY4aTYwGgwYnI8oRjFwGI7gQjEYeJfkTjg4fBKON5jQmpyaTLEwWAKOLF/cN1sqahXm8edClsND0zeV2vPnmEDSZlr797W/dd9/9nJVNHVgAkQTJCYQLDFiVHLMZuA6deOcnklmDWdSduXyevZBIycG6AHChkMQaUyjrZyNpTBkigHPVCUkQksD0DYVikGJ3PeXgWO+p0Ww8jtA9MTFPsGMDGVWcgfGJqJiI89b54eGuYM98NNYUaOlxtS3k8idDs25/cyVzcuz0CO64Rw6fcNqc8Zd3acppXL9KzsbhbKaSK7qstQ1rNzJwtq0/0GGqcihlERipFIpYZcPReW3Z3OrzEJVR1RqH55KrVvUtbavGEkmd06wr12OReLO/GaxaKucOHDpotVtsHsdUbAb0mKGeWilbzRvYnCzhuV3n2KLMIINHcmE22ZysMU/gLGCnUloRCQECRCrEXK8fbawEtcmkuzxgHBA8QAD6UKU20DynNnIuQ7CzC40YGAT0oRCBOmzUqVMDdrs1EGjFlg/OYtfxFp6FnqCApw80DeKAxwGJMH7ASOCvXAZVsUisN0yNiobAC1RC0wSj0R/yHFCYXqH2U3lsBgJoIuEg1QNMoDMKwAaCqkBY4CmaA3AZJtueOgXO1JEqEqIK33zCxT0QrPZE7RWTBk9E53nLc/UVlYO1aUg5eS26ceNG2sIMipkGXQ/KFLoHYaAwHzIcEDoIF3RDZ3K5PD6RoG8K8BCehzJYuphAaACtdHd00uj09IzDak+m05FINJHINDSRDphkeLqBk2emJ0M46aCVgjugDw6Xg/yfqNnf2v/2Szt3k6MM1a/D5cbhMIvEp7UgQzFw9iR4OJXKOhs6OLbe16wYiDPvpMHAmlqmiB+WuZxaQOetyRcL+Rmzp6E4P63zNKDv4awdEr+Ry+9v2ZmVULV4NIEYRpwc/BRSCuTD4HQUF6bMFV8Vv2N9QUNeFhLglspeJ3mlCwuzUwa7t478V3aW9aK50wGi2eJCOcp0gXpgTEFE/JdLJTOROV27t5QpwZXji2TpX5yen3AaS9rcglbvQitJlC/zRv2yXgqxYSpYPuRPeCnUICCDKhp/TqzgfB0xeIqJAzwGB84/cGOQHVl6orP/ftE+t2kSuYLswE0waPwHv4YMCsTh7SG8G/Io4ENkp07DqHMZsLOpXmlpaoxNjNRTsYDdPPzOYVKatHv6REKaGK8nE4gpZos9Oj7i1euy8yF8I5a2t/b3958aPMNB4ueGh97YvQtXZDxLT5w+xaYAbYKhlq1Y/rvf/W77JVcjZJCSkM116vSgWIcNnETbhGlFBWM0A/RSwdP0sQo/DKBUq7Nox/UGm8Xg1Fo03OGdtGbliqFk4vipkWo2Pz51Co0hBCg3MFy02ovuxslwDoVioLkhkagEWpcQfl9AharVp4gf0rvrvuYKQzYaKgj+YGyjE6sH0jsBjHDeaKYQ1HCLczYEHN5m4rG8/kBtJnp8cDRgKCJnRuKFto7O669fz+zmc+mTp95B/4ATKPIMpqHGFgMnnnBEAQ4uBtgWWVV1c0IPTQbyMZPDEG0LWrEoPiDoUMoFYJo9z4YtFznmLm2x2wSj5QTHiaYtkQANUQmoDclRiLdWHE2VJS/Pz8143E4mGnyvgAVZKUxkiZrIj/I5ZdBlIuFhniCqHnYD3MFaCnCkyTYtMb7saj5UF0AAUTnkhicgNd4CQOBHcA2rCFzyiWBSDuDClM4pT1odiYNFxqGmahFukw0PT0R+D6RavqI8CBdXWPovQXYi8jAA+ipSA9wluwTxiEaBfzY2WiUyFUnhrLhKgXdQ44FouAdoQH94JIJfQDdz8zN0oLe3V6UB4OIjRw5xGijqdmqjJOWx9IHO6HAkHGUgACsHTBA2t379RowVQuDrNegwOJ3CzBUjjUbjhG653N7P3P5PHOVkMMaZAq+vGSXgfQ/8zuVwS6dqqAmyuG63tHaMTIwjihE+snH71WZ7I4IhXvUmC2KFacnipa+/8UrpgqXMP/3f9fruoYExI1kfESvs1lq24m1or7Gr6xVa/ObXvxYbO9Pschp1Bg6Pww+BLHNwMOxeYANXzHyGace5qpLlKFdtPVcqEpNIUmZ8zZhziFDeUTOnC0XitDWcyoUMo0/PzlvW9iPylfJJ8AWMQLUYL1TzTLulbtQVqyXst1oDqm5Cd0EE/N8sjo/1o/tfJsqEaOeMwTQ7fkaP5ODx2vXZ8TqOtdAnZalglKhUBETNXE50TyIk1nXAc7EgyjiUhgVHCzyI1CxuBzAxMFRiYQD5iq0NXg9/TRZb8WWhthajRRCWojBiRQAJkW0xW/N/ZBFBWCA5EF8NlMFiTQ6dzKSjG9YsO3PsINqmrmCQXDHQsOR8CPJYzMQN9VJiembLB69PL8wHfM6F+Ey5lEPSHx06l43Hhk6dgA/FeJ8NzcSdLms2nw4vYGXr9foHXnr1M+/9QFpv8dj6fY2NRPmk0SMXcUCpZSMLGqudPrNhGTIYVe75H3o0cEit2uxxci5z3eLEYTUZCaequaC1HJmY4IwLn6thpKDXmBrWLV5cYR+V0g6339zWo7GbmvQ+c6U2FyZe0h/06U6c2I/Fxdrapg0s1hqR/5wug66sTZXqpUK9qCX/daVqJEampi1WhFEo6Wvpgi4yR0xXsqR3mO2eJqsnOntmbm5aY7ZnHK4KhvVqNRtP6sw2P3yg1hUNzzZZrNlQpKerZ3I2vKil82/+1rLrGFxdywbjHjBEZwxqYPysCg/Z2KycglzIbGNiD4OAoN8AIpsTgs6aqziLbwF9niOXqugDSGWludiiFKMSfmFDqJ979F/88gncEwkeqA2eC5iA4eIJK8crauZbisFMsY25hwcEPYEouecTMA74kS6BwmiOrtJnYfgLBRLUsdv5kxvqoWnK0zq/ophQRDyWk+fcM3YulH+0xUWfcY6UJwq6pMMyDIWD46FagA9VCIbXQxWIVhYEBKfJoX3omLCUPfnkf8LrsR2QbXfvfoMP0e1QCUiKPsNJuV1esFVBAi7i0Whi7dql8KTqqNlIFFC0q7rZ2RBted0NpWK5oYnoi4ZsDqdfc75Uz2TyXb1L3t53GH341suueO6vzwuS0OimZkIGC8Zle09/+9RMOJFKT56eRCrH9wfJFb5m4/oLjh3d2xJoYpNwonJHWyAqiWfgOyQsd3gkaSNauFZPhufNLdYl/R2xWkKXS9nM2haPh7PriHHjwFeSL0MVQFVMCTMp259NYtAR42J1it2AseCehN0dQlVLogMuxUvk59VEwolf/XQCBQWbnCyjcGj1WFxRmeUQAW16Tl43JLFWcilUin+RkTE8Q4UbcSU04CqY0ZR0hhqtZ9FynDs6G7c30X8VtCgvy4T2TZzaAFHIjxg0IKQW9PLsTn0tlg+zjlIC/oAsrqBABoOpkGBD2fBSAavA8jEPAATHBjIigQFU5spr7mmGMpgaeQCyA4CYBeYXgLTU8lVd9eyx/ViTAL8Rh4M0AGcO7wN6w+EI3jBOnMY8Ts7KfunRhzddeqnWbIgsxPDGBHIGTxy/cMNFMp8ExCVS9XwRTri9sRlzzeTZcw69YW5snNTak9PTzS2tcxOjhG0mZqYsTa04++dSmZrBxIAVfZ7saEG99brPZKng5hIOffG2T77yyhuVVAypymDREYfgsrKKYgtr7OjztLbHwnPJuVhN4wj2LI5azQS4Es0AQ17L6Wo5fcGo7+pdanLpkxJvRFx10VizVEv1nNlCxEZJn8PBqliI4cmq9zTn6uX5bM7i63A1L0rnyiik6iYH7ilOo7lYIQYrqcnm8QHM5xI4RHUHgyi+ZyYnUdE57V5otcGWn56NLcST584MYyUU1pdlYRkw4jI5jA0swGaT/UmqNaFWrByfi/6bBFDs/xQnCxcKbo8Pckp2R9CZCgpsE+CDAlQIzqJOVDY1Dlr5+8mIPId00UQqIUmL5EPsTSWON68A9zBI0CVSr+AFBgvW19MrrFalwj3ECl0+brtcdOb82XN8C9Khz4AFwROgUXDfY489hhskagLAyOt2U/Keu/8dWYy4GerEFkvTBCHzSwG4FvYSHBYD5E/6pqg7xF8LcglBEvZBxH8hyzIzwkyIfYnpyBcE+YIHp6amwK3kCUDnTYYpt8eaTCcQN0ZGR1GWo4EijdmuXbvQNMCxt3d2oYpCkNmyRY4+JIognytWcdQsFtFYURhUwpBxTWD2mgONqL1A2b29XcwP6B0ENzkZ7ujoCs2G88XplvZQd9/ygYEhjdm0/8jA4IkTW7ZvL1a1HE5DhwmRB6Ng8cD9fWxqJJ0tao1xtGmwpAyPkDdWe2xsMDQ1XMikKjjQmSzT0+fj5090dvXBIeXys/pc3FHPV9IJDyfQmC1TI2O6ZNJaKy7EY3hhoZCHh8LhAMdR7ABwpH6XB6hAQebx+8iQCUYGU8MGIcQ5TBYgeJZ8WE6iPaywLk6bz9bchLaFmeccinQmjnXMilwJ/BhAFpglcb43NAuiAGkIzYCfM2KWNOjs2OhzgKiY8WB90Bmi40aKw7jrjQpalyUDW8mP3CP6AcYgHUHGEFf4KA4xq5dxN9Pi66UgJFFawSfqdJzDwwU+xfuXUzMECSNvG8xIuHREtGlsCEFsKO7YeoyPsxDR0+th5XgqBeAPWS18B0y66bEzMGiFYgbbTQU/8bhssVQmnhK1WpGYBumhRjOTjJL8Z+zYoXAqh7YbxdvrkyGaeeX5F8g+ShPDw8Nzc/McNN/c2YETwqoL1szMzwy9/MKaiy8aGxoKjZ5v9frJ+EoK5P6udrPdRd5FzrslwFvmTcGwdJ7LOz2YyGmLXu/P/u37y1uanblMoLWNVIbTCavGYTk/NN62vNPf0R3Pl+aGz3Yu6tH3rzkSGiueP9i7cqmmuXt6aNiUTTS2mIeGx4N9i8cRwS2mdk8hsxAqZsp4sS6giiBhfEULj0Di2Xw2bzB5UmUIC9ve0ezvNXs08XQmkk43EiRTyAUam/o62qdHzkTnItpipMnjSkyftTj9maou2LnK6W2MRKLFasbdZXUEMoODA4pakTmDKCqu7QwP1MM9i8jFCNnSrB+/kFCKCdSwa9nNOh0QSQE2rcos8KvsK75XPlY4ESmtYAfK85ZfquUJFXJPzaAbcBBbEfpDbgOz1c42Bvuwn5EN2ckU5i1ohZKgLVpkM7Or6SfFUEDyJ+AMN8dbnp8bREc/SGjRBavXUHhqfGL1ipXUiWT7nW/cYfUhMckmIY4MbxH4CGoW1KzoHsC3fAKg0zHaVeZFNE2U5543DIFfnvCWdtVRoCNnG/AQxuqPf3oB7QNDw8yHw+3o6CgkAdkWdR5KKCTlYLCdr4aH8efKUi1DY946O7taW4NjYxPzc1EsnnzFVidas7e3v709iK0D5gt0CvLq7F119uy55avXZjPFw++cxJX5Pe/7IN1G693S3sOeB7Vedf2N4G4kT7BhozCn+cbmVqfXOzY5G+zoYx05MNDtdA0sRJ780/10qaO9BWbGYiQautrkSJjLE0adKZvTVWdDdkPda7ekouGANxjwNpRz8VaHny3J+QV1qyWRycIfU5vG54X3KBfzhLEVqlZ8o9jWbS0+VsRucXisHjwT4exaG91JI+uuSWGA5SCfko3MrThkwseSiK5uIQS/hI+AcgYQjlJ45ZCFtIz1nvO0OfAC7SLwWCcvV6kgnFaFgcBfmfDCqBaKhNrAGzk1aSaftVBQkywKH4Og2faAbqVW5Cww0cMjmSO8litWI2emyaVwUnLD0osIha8p3mJFyVMMMiSNF+w3gA+BFa0B6BShnkh58aQ1oL0XMRRdGKBPaDdMEVlr4AqrVR8MlMIeimCm7DLqV1w1tDZMpdkM7dKgyWytVQraXMGOKSwNqJbAxiTtokktZ6JpDbUCPUlbDOX5sZMM7a0XzzNMu9MyuPdlTkVLR6YqUQdo0NHSrs+GibgizwOWYJw5pDk2MlyjElPbZER9Xdrx3mufeSKGrNrs93f3dxU1uqOHDzYsWtHla1+8Ym3J5F3iayiuWoyd3Olqa48GPZrlROCNhBLehkajrmyo5zdsWFkwOwyO5oamhsjpA2NDA10dywHdqVgIfmX9lm3jg8cnpoc2bNw2GK0VNSW/04j3/3isUI7HF/cvK0VnMEri/1RIpodjIy4jOlAMznKq7sxcWp8uauxNoWjCXjV1dffhw1JKRxPJMJoBsdqqF7PJ1mUv4e7PFJcLwsmDL9iiLLsybMFVGqL0dSLHqaiEucP0BoWECPExVfEV9ilqE1jBoQnVUYW3aI6pSRAWDBy1IY6BbrgBDVFYFQxJrtLcEgT1oGAC1oVXVAQucR3idCkFg/CcVmiXP6HnICxuqIrWATqQCHCDzgjd3CMaLfnMMDsyLnYypHBifNwQw8YqnBcIEVaFqpxuF+gA4FABSxCWCrVgCEXRjl6LG3oincfLHrTFgShEU1rldHhJCaA4QAvjmUnj0w/w4yyayaZn51InT2aQXqkZnyyE2Wgs0dUVVMVVkC3t0DQz4PdnQKnc2KwOZEA6RivYYQ1pHYwhDhVd3R1QStCx1uKH+Hd19wda2lKZosPusTjcdA8iSUkw9opVy8Nz8xCFQBOCXsWl0ZN3yWx3YLcndK+/vxfzEsPnt6XZr6lm8CmqlXKlPNu+ks/Oa3XTDQ2YnGqZuaxGSy7TUjGXcpltTpPFbbC++MZeTSIMqpBsoSa9y+uzi+VNls9ksZVBXTj9N3p8TY01kz6LJyWq00TYidtlsxvfJY0kLkhySKDP7TMZ3TiWwbXSsTz2EDAcuna8sNj2kkuHasVMxwHPjK5cJVIPTl2U8RzWAOeAbRQvSSAK/Zn0RlfnKZiNFDQCeCARFguqI9uUfzXzsSgIC4EAThCEQzkhuQaiItGNiQYAxC30U7AK/wf54tZLOAAETNJ4GHVG+DLWC2aJH/Kmwq6hZKugVeMvcUkjoQnyImXkX5rgtqYjRllmhabQdTEQVdlAPYARA5Z2OZmdsZQtvEZB75ajM8oOypelUo5vQyUDhFMyly8QEspRyeSY9frciRgp7vTmUtGt9esLxVK23uLxFxbOp4fzJNzi+DUt1ldkcAFbQfnChKD8jo+eGjiyevOaf/znrz7/9H9u3rzJqtN2L1oWNbprFkdodn54NmUuzo8XKvrWrrLZFpx4OzQzNmssxVMpYjzdRrsV/F8uaGt5XIVxkEnWtBF92bGozx3oimSK6dj8iku2aozWdVsvP2Mz7T0+0n/FjWv7lh7Z/dzYsdP2Te+5aNv22LlD53YNmMSxun1124WTo+c1pVRnwDM1MhianHA3EVWawDFWm0tpbeZTR95ubfKmY3OmejHQYBMGVdmhAhYqwlKwk5yKrCIIYEIQjzJcSvIQ6ARfwDWwkvypaPREDBSEpIiNfAsGoWZmGfTFDZXLpCm505hl9U+ecMNuh8ugDFsXDoXM1hSDleAt/eE5Nai8jNo6/AgF2PMU4DmMEM+VhRcrNdiqVOFgYCKELIL4JqdAdkAq/QEcaUiUGYrGDezAK1QJnK9Ll9RALeqkNsFJgrUUYqvcMy61CR7ygG4zcKlTpxsbE+c1aqAz6lgojDKO56Bc0CWGTljFEPHebveOq66g/7hugXYRbRggTh5wXjxkeugMogfRD729vWC3rq6e0MwEDAja+ngiqobyHH9jd1/fIo/Xl0kX8GKdD8eKs5FisdzT1336zFmi85997sXwPAeIuVEYSceSeUjKh2/8mNlue/rP37vuRt3qNReXojgJ4k5YcDZ701Pj6EQsBOiWslZSiXvZP6j/WU/cg2owCmAF+CHkJVKjv/Hiy+/beiHJxgcGTmzYtmV8dKQ4Nke3cYex4VbT231s8JS9yfftH//grWOHfvbbX3HCBDaC/mVL77zjW2NDwz/7zS8ziUFcO6666oatF7+PjAWK3kcFEiYVzATLghGshBsBXJEo0BWhD7KElMUWht3hyA2IICF7rARbXEwwOjnKjHMSRZsE8wuW4T/BHaLf4KJiUmiJ6l4BRSmmXFIA2x8VaNE6cWIZt0ifAlHIadwpS83XvC6DYPjbKaY2hVmCc1EO41AOAIDlEgGC3gASzJjACQgC2kYEpoJ9gTqyUvAtXI9Sr0AXDvb8km5bcoagPyrkTbUUkF0hbEknEqgRt4QS6FXu3eKmoy2l4g5O2Yim3IqvFjs4Oz/O/DDyfDibLdayiTD2U8KcJNkhCJF+q0YIMfFqgqZivZLft2/fFe+//h9am+cmxpvMxFDa51K5c28c1PgbSF/bYzVy+nfZ4CnaNZax09Uiri+AW7m1p6nD3+LIeeYnxs+eOWlpD3K4SkXv6VuzLDoZmZ9LB7wtzY0+B0motKaTZ4eD3Ys9HUvTdv8YujCTLbj5EmdH3+j4hL1S67no4pbWNhiOmt5a4ZAmhz5TBh026sxRlldrMJcyqQZiYHUQ0+TcVMxtMy1EZro7Wg1ELgl/odMBdhyEROAArHI6nnATE8AOJC4MLhyFBDyRBoWgGc8XBA38AHHmYJ/ITpaIYHGXBwWw2ZCXWagSii3gEQYqJx4P2BT5ZeYoL6EP+ICJu5IwXJx5SWwdrtvseco3+n38AsikNMG+RB9cHi8KEIAmk8VvLg/TdMEFa3t6eh7785/xbzCzIKJtooMgfuEHqwQlAGMVTjaoRmLigEOEx/j0NIiViu3pYgp2wmCcScZTc7OwP+A1gAl3Y5bNaDET1iCaC2wt/Ctue8I2ggeBO6CbDuuBLFhFFfS19WVLF8/MzjJ2EhW0OFpeePoJ8CCpe71O5/D5IVQPGfwDLZaPXv8h8NTQyHk4KfAaqctCcyF6C68k9aNXnZ3lwE8kQWZyaORssD3gcFoXORfzLZIPAWzBtk6+rVSTWI7rOque+a/o0VC9+NpL7R2tCJ6dXS3RhfnlS/p6O1qTsXQhW2rr7KhYLUhWpydOT4+PdfT0Dwyc+fjnjPl5WB8i9kpoiCx+PxZn/BHxkMJNrq1pEU5Y2lpu2aIlY2MjsGCSa11j8tutpWzC29Z44TWXF1MLOpfhssvfg41yx2c+AcJNxJLnzo5dsvXq8z+9p6xPW1z6J5+9V6ub/9xtd3AeKM6HWoP9D0/dEymf+8xH7zp4eN8jf3pwCTmjdZzNU4f51TCdRaPVZS+V0VtJfAn5FPTYpe02fUZyrsIPysqKd7qQUuYEEY9Fg1TJGikZh8jpJqxundQrdTzSmVIS3vHLpUAUzgdChFCCgDJYRyCaDz0miWTgXkBGkffhzpQ6aZZLaC0cE6+4KE9qGy2uCuolNmVhr6gfpERQH8yaNKHogqkPqDEbxM4DZqNOyig8gcRy0Sj9BOJ5KfgKRCYIsVbWk19fWDO1jEbysGH4EYiG7cQ9DK2Z0GcD8Z78q0+DF60EY8qFwII7h0QauamUA4Nl6v52Ab4Kms3UHJpSTp+cdiYnHvq5pAC19nZ2Ez40vlczejiQbybddtpKWIShfPgt+IhQGdMQO8PuMlpyQ8eOnyAQHe7EbnDoEes0kSlSuMXK8A04ORqS03qT3jS2e5DVycdSCw1+p8fn0BxKZ/JNJoPf3FgYGqZOUE3dqzPXoqHp0WI01BkIDJ0eilXrCHXtHZ1YchoCLbve3D0zPYWbHX4DvuaWnr5eNiYO26KxZi7EUiP0QFYUgOAGcYznzAwTDZ/MvTpypGt5SIyVomhnCVlIGAQ+BDUAMawEhblYZcrAMFADlBBqL/WjthTNpMAKf0IYKU8BPueGX5YewEDtorxXwmIk77UEnfIJXAMa6z179tgU7wQ+5xMu3vK56FUFvQr7o9bGDudVPDKvDoqeY6ISyMOGqNPHy2W8T5E1GCDQBHKcnpvH/EbONlQTC4k4jJ5b8d8BKiT+X6HYVEJ5RkdzQBCsGTHhOLGKQVGrv2TbNkaqng8+PD6249prSChw9OjRtw/sw+hpc1i9TQ19fX2QuLVr16C2m5qeg2Cguaerq1evRB5Eo0cCBiAbk+jo6Ci5h4gWpP/T4Nx6vakFA50HdgEFGpKPxWocPHpk8Ghl4/rv9nRxZEkL8iDGihnjrMVsgxc7Oz3d6HOfOSmhQsRSBFva6B4DYKUYL1YLijHMXFmbRwNV12SI0DeJG20R30PiO4zYhQBREYiQVfJiPsnPReawhnM8azgahjJNj4zjdzJyfvCyS68mHhrFBKHy4+OjK9evvfSyreeGwja3J1NMRNPRrr7uT/zDP3gb3WdGT06GptsDKPXkEtkfwOACYOCARWojz1RVnIlInqkoKwVUwEmK3pOFgBHjHurIRFGANQWnK1yM+GfQSyAQCqMCrbpw8kQRxChGo7AwPM8VM6wrUM5OAwuAWMQNAscVsfSBHzAdSgQTZgcnvjk2e6EqYExVtFIhAg9HYeXwXfgn+kCgLm/VDvOEVoqEUnIJbOATX+JDkCnfQr95TGF+FBqvsGZKtZSkh1QivRWIll/1TwCbiz8ZO0+oQZDdf7t4pV7MgDQrCFEubtSpY5ZhO6ExpDZ/89VXP/uF24G3d44eow6KwUXQbUQoCsOG8ARTP5wFpALeRFHjaMvk7FQWhbewBWAHnInpCjbSWCbp8jdmEnEWS9yD02mSP5Bax+ZwwsZgtEHywnOKeciFF4xeN6GgxJqHZqZUzhTXFSzsJLk+c2qAMEwt7moVlFfRdGgGT304ReR80WFBr7DPsCVYJBmbuvdBQAp+kTEryErho2tgRxYGcOFikMwsnaB/3HCBnqiQT6gNDSgF0FnCQFBWMfaw8eUVZA4kLZ/D1pJdiYhNo8CifKuEa/BLQD3rSrY7XlESyADb4ZBNBCIqU3LXMK0QKBAmH1JApk+R1OgYLCEryUNmlg6L7kOAURYPPosZLKMOMJpINJxMZzjej/6DHfDDZOdIVoJKhSwuaaK2cgVjR7uHvG0S/Sbwx9CplsbYPMA/mgrGh/2IXS2KTa22vauL3e5rbEBHtmzNaovL+cprr8iQESBs5tlo5OIlFx8ZOI7ydnhykjIWnQGFXTAYdDo6SPfq9/l6e3oQIXHmikUjJMDo6e5EdYV6mKljDxNKwpYGSoi44PyC8PzU5u0XNzc3oZ5zuWxED0FjcYtHFzo7O3/+3GBOa2jwutasXHb51i3f/tb3Llu8GLmbgWBtSISIqeLQVQmHwqJlsRsS8ZTB7auYKrhPj0wnyjWz0xdYiGeq2YIFXIsiv1L84Y9/6LBwYlAxmSPHXvVPDzyUTCaamn2D50awP2di4ZaGZmgc1mH84x0+y388eM/0TPQn/35Xqpo0+5tiiagkpiUNETSDaRETLWdciKIaXzmU7uKsCQSRdgCpToevoJ/1VS+mmyWW/aOoL1kHtiX3LYEgKiiwTA2fH73gC5ARUCDbWVZcQJDCVMJIGTufKAKXADD+ZWi1gGfcIKFJQJ2dlIUc7wh3YId/9WKdQFkph32w5/kWCY16BcVJ2gYBeuyagjoFVcGDAyFYh1kyFhdwSibEz0b6WRM6oQyEaRd/PXrCJwxI4bDpqOAg2EiqVPaW7CM2n1KMkmA37mlLvgKJsQl5VShI8gIpqNQm+1e5uOGiHL/qK/UenM8TfDJRqrJjMHOhauho72A3mS2oOOQrqBKFmTT2Bf8q+x1Vn94ilj8ssbL5KcCFbQF8hQSD2pvg4ssu3X786DGz081ZG7NzkUwqgf6QM2z9TmdodqaaynL+MJgCL850gx+Wj7j5dC5dAWkIJkHIr7KdFiKzWMOwQmBvQZrBQgKimh46T1prTyAgRIYJYkhgBI7tlMEqBwir68G0ckPfeUxJdWroqIwBIaQsFhCmWT5SflXkwkRJnTJXyvTxGcWkEQUOqUo5Po/KKQ+OQ1cNkYfmUDNLzA0zAkcFupGTKnDPERoD2RHTj4o4QIY8oX66gUsFpdjSom7hKokQh1aK+qkKcGHeKal0R4POlo7hOiiSL2mQFC6jp6cHT0iapn6+SpBEkO/BXMUSjAm1ERFCGQ6Op8O0K8paIXTiwyGbAVwOUy+7gnxqNtQv+AHbLfZt27YfO350fmFBRow51Wbr8rnfeHN3MMCB9eJny2YAo6Oiolr4LPgdnD95Ra+YFkRLWlclVnUmGQ7ZvksNuaZGLyFVDo42tBmXLX8fLmB8Djjh+2Y2GTvb2klWhyoB4om3C3lF6tXi0SOHiMTu7+0WxK7BdSuzEIuPjo62tHcweUVyPmpxD7bNLESaGhv9zdZwOEomBZ+/NZMranDqq1WjqcQX//lLDj3pJfmrGI0TuhGwQHTMhmhsDow2N5fqXtPX3NHEYTCklWLTcroclr+2QBOJ2bAVzk+G8YdAsodDB1VyPgqJHBgpbL7OavGR5Q1BVWwRkAOUD7K9id0TjzGVLxZtlKilmHM2mCyEqHv+ZmnloQI2nL4BZApWY6RMO1iE2aMktyp8whWJBKegGyzN6EKI0IRn5wGkGwqHYK4iET6hMYINaQsI58K/iqoAQpoAYMQ0lJJQ81QqAX0jyo2JxYWWzlCMi7OvKcmf1ADJpFf8qfZEXVO6JqgGOy+ZVxWbO88pr37CExpV/+Q5F0+oiV/1T0CCtwwZuFV5IvU5v8wOkA/8cDFdlAS8s2XhRuGIwa0un2/nzp1wScR84pSH3lMNrUdxyOd8BSgSsGI0wy6xg/GQRzIVMOctVTG7InTXtegXRa6vVRHZ0rGItSlAEmrsv8hEOPdBJnKxSFtjQ9JE2uhcJBJGLUuCADBkOYnPc0EscgrbyDYBi8CR4G2aS0MjbUimHpsZcGWGLV4PWcFACAhx0CCmUew9zI7Km8B1wbsyFcwe2ihl+ZklSW/AfKmLDZZTF+DdDabegPGZFKgQdcLkQySYZP4D31C/fKJoJcXOIp64ACd5xvGhlVWwEiXACDRavDhKlpKYe8BKgkklbR5dqlTMKF6B20wtRW3o0sUmQ5f0+O+LNk08JjEumazZag4QZjmRMLjEvC3aR0g42lJMCjUcKdHNI98OkcRgLow+i+dQWmrjrSw5KiyNiSHjBzgTmoMrwXDLoHgFLCJZKmMUO5cyEBCZITUbJVkVopPVbsO05Xd437/jOqvDeubMaWQ6TGBeq8vPOSpuD4wV3kn5egH2KhZbwEu/u3sF1RJNylZnICjsCVWnOSaTFhkCWBRfQMj3yXeOEkQaTyaDbR2nTh7DkER0O7mA2EIcngrgzcxO4xdNTo2ZeDqSTxazESL9QfZTUxOLAi0yMoL8LBYUn63ihmNGuITBIecnSzA3l3Babdu2XYlLV0tr++jsAtI+yZbRzbCtkNUJcsK1j8X42X0PGgP6WDT8uc/eem5wYO/uI/19KxoWk1a09JWvfPPeX/3yV3ffi5P84t4VroL5qpVXvvjyM9d/6MZKtdDY0tDV23Xy2IIo1YX1wOgkPiKo+GUboAivlLJIU8ImoYCHyspysNzMD7AHKksm0mA6PuQ58wO7gV6LfN3Q/0IJepHlETuUT4S+KGYW9B5sYPCRk1Ni3G67zcEexvePfQgBw4mE3G3QMUOxrDeK+yyVA7HwHHQDspdNijk4FpkDyFVUBWDQikAt8CA6T+mbcrn4lhvqB40I7YYNYVeIal3gX0FGItBx0UWpQcFWfIXPIn2m06wRgAoLJ/ZLPlN+ueET2qNy9jAF02RhBCwMcMZQKHIb4IoqB8eCknjIFHGpqEo6AKbD01gs6ZVoLHLNNVeBj7O5v6Uapk6SpiAfZDNy4gNzjyMzEI7XLT0U7IAvi6jwBfhZJtlrVZE8QMh2fwOIJpsiWYCNr0Q9rdF63ATSk+wzLfBmt3AeEtkl4KTAOTMzcw4TCFqbLNRsThCTUTSnBBWIzIh+lWh6g9clJmhmGFunhjXBZQ6DG2PgYkfzy4oySJFzFB8rdcb5VUNwmCzeMt38clE1UMJIuGRCFQ6LX4EdmDhJXCMXKw6pFJU1AWTou9Twd3GewKaj8M/ERikSH5/Qh7wi4cPr0Vf+ZHbAr0RYU55iTDmVQ99R/OPlBKilSoShk3ZLOYRPobHSkHIAteA1XEGpRzEYURsXXaJO2f0CJQSXKEmOxL9fkkTTClAKUIDyRJehZBWQcAf849NpuBh4GfYVqI1GqU0FIBUEla5qHvntQ5RBBrjx5o9s2XqJ3+1DF4YdeuO6DaPnh2j0oo2bEK7g66u5AqZAjdUE5mKUVMt6cE/n+/r62BJsKtIc0mHqV6eX5oBKOMpDB/cS+8osHTt6AM4ylcyS9Zj9Qg0OmzU8PQ4HTwx9V1eH3uybn53ChkEkVyae/+SiZfQB9xUiJhQZBBEbQ20ZDwKS5OFO0d/Tjdua3+1as2bt/sNHwXF4C+C2AAgy7Zz/5wUILZbRmXlSc2267MpfPHX35z932/HpwSeefeyWj37micf+SqzsZ2/7dIup/8c//kUqkV+YSTgtDcn5zLXbP7Q4uHRgMrR4SW9Di5tNxRgBFIaZjs3IOrMqkpcMaiFIhvkEDpHWIO5IaoCH7BNIjkJ/EOGZFjAIlJ/F4lL/hP5xD3CylDjo/P3GAqVhDpX9K+w2VQHmzCeID34GkAWpQPa5Z69i8IH7RskHv8R9tvC3/9UL0KqyVvLByAUPoq4LkAAuUqtlellKLvrDPduH5wrRwSIoZfiEXoEB4ScooAxcRkYl/KkCFb+gA57SFwrTT3VQ3IOVYABVpok+NAZaeKV0R7LFKVNEI3IAOLXRB+BHNJLKxX2uWEMnsGrFMurHKEQx8pyDaNi+FEbmpudQETrARSeZWzQqfMgNojHYj+bkFc4x8O3ouSpVN6lsbbZQKCr8ga6eLhJgW2H2ibeiABo7tK6JZFybIoItx7ozinw25bCZqRZqLekkIUWaer6Qh7+GKQRWwYPMPPXJKOC5hLGr2NDdQmr5D1zHUFlnusLsoFKvKC5nvJK6CDTLCd8BjPNLM4AvA0aHIlOpOEDwnIspk2ELA0kPhMMCXZDFlhkUTaZctEMcPOpQAUoKQ3eItwDsABo+Al+ABoUDIq+ZEY0YAZUGfRGqjrazxGhB1iRCBxwWdXavXLnq4ft/jThJl2SxoVfi98y8CUnkCcBOcypV4E+2Piw9/RSkxgu92IyYEATxEuI0jdWcOKxLL8GFklRAODqQJ98SiosUI/wqfsmhKVTLrBzWEAwScCssPEOm2qU9iw6fGvjRt7576uwZo96UlmOZiYyyvf7qGz09vTBBZFw5uGcf+imWZO2qtbFimqWlS3BV5HSdmQ7JVrSJYDsyNOxyOwEWegqkMEYuFFgS7FarZFNRthGhiMwWq4FWMhtNLlq5GnY7PDXOxifA3+Uw41WMJ1WlwNE7zLfezRGGZCaJEbKqpc/ioO/2Er4eiRPHXr/xxo/AFmKoRX585P7fHHrn5L//4jd6Z5MmmyS7GTvX5fOXitlMlmTrPoe/qUVv15kdazZsenvPC1qz8dbbPjV4dnJqIqoxOr9/553A9le/+tW24OJMspKJp2Ey1m26ctt1jueef/qN13a9//3klbeJu7eiMYHzZdpl4WS+xY2c3nKBTwWwwGSSRktkKy7Wh6RsPGZm2L18xVLA0EDJi0og11VXXcUeFkZN/FFYPWEHKK/gEHF1Jv8BEEKFyXSK0wBJKUc0BYl3YP6hYZA6YIbVRJ0GGKMB4H9u4qtIiSyB2YI61Z6wo7AgccmGEsotII69CbUAIlJJcgYK/0UBdXS0KGGMMAeiAKH/atIOlTsTXKDuZ7gkyB77vKuri4HxnBr45F08xROluRoePGrNkFvGyJqKTKqkD6AVXvH77g1/QqXJi4+SlPmhBp6gLYQdI1kAvUeoZWh8xiv6IsSbTuprsCGU5BXbginlrfBYitszR5UAGJiM6BLhH8hEJo8XXzh6S39kjPgeWcEBWkwoOVGiE/9gZ8vFSBJE8kVdA0Mj/p9uM5ncE4xBkns8HRgLA2EqwA4wdJJZFb6LR4yHHvDLbMueYFeopj0sGgowvVtGGYZgGYitOgC+khEqWIx+C4WXuDmZKS6ah0axBrB8764nEMBQaUVtlM/V2edbIAmiwOfgHQ6n0xZx/ZXDyCSbEo7PGi2hG6QPYHSMJbwQH5uY4itaoUvUhrJG7Qx/AhlAPH0QyFPMwTDY0ltxLFJRJyi7XDfUWDAeQYylMOSFXHcoUIi6FcCllzpAmA7rbCgjJT8RAwEMDh8+tHjxEqLkgSc+pxKUXii1SOZ57M0DB48e6+7r5lA5m91ZJ99jKX/xtktDUxOsK2opFh+jPpyCx+vPxktYD+HkMTBPTEz09/dDc0ZGRphMxlLIY2EQIqzOEktI0ByIANEXLZLDYsKKSXrxeIz1FkNbo78BXoS8yB6ffWZ8tLeve9+BU+AyK6S3rs1VC4p2Rvg1k+gU9Vdfd21jUwvqYUJlrA7XIw8/EB87PTczDXpg/Mjl3e3Bc6EwQI0LsrpwRdKT60xMC1kio4lsJVVPzGW91qZ0JPfyzleGz44FW5aQkufSrVf/7qHf3Hb759dfsH7dyk1e8tAXSweOHnt79yuToYnGNvfNNzljkWHmHHozGhmXLSKWEaFtgCP7HJoE2oU7ZvJFiaAADKAC88RmcDY18yHzxvzP442GS61oOZHnRGAHygFaFVxVhCXfS44ziZFAOZgifiqRAGfhtMnI4K/EKGMgvzxiEe4JkleQNVVYephRcf4kiyEoDHsWFdIWF/VzKb4WsguAOi6eS4eVixv8ivlFc02v+JKeA88wEXSVS+XRWA72CHHv/BL2SgGKvfTSS5s3b6Zaus1YuFh9LlpUe07nZUSEM+TIRYpASz5pFbClKbALUyo3dEjZYrTCxSbgQ+aNDuJnwywEWgJUDh1kJkGnwhnB0qixdFRDlnr8SGAUGKnIStQp1dKxtjbSluERA5PLaZDOqclx5sbqbyJ7DOp2qUeRZIFkkB8zwleBtjb6CQOF02ktiwAII0l0u+B3IUZVzdR02O3wYHlHo4L6DS9FsAPAIGk0iALMwUcpRy2qPYDoSKcVzR84i4eqrC7Qo0TSwL2zZtxj8uIt08qwgSU6xxSQxIcC8kShhCAdLpA3YyMpOBUmEzIMNJVoZ9TPKcCHoD8WTxg9mVl0n6LYho3gRkE3ortRAFGe2J0OoGwhEmvv6CqQcUmx72JaZhn0VjO2FJy2BFtDL0SoQ6ElsRSwhAAb/nVyEKOiquMdU4SFB/CHb2IsILJyPkvUGr4OnPpHSD9jKSjn5fIWpz7yN7JJiGsE4GCeyUgF8WOwYAHh1rDH+RpOjY5sv+bqfK307W3fSeKQQXVwcBx70OjLotjUapatWunG7FjI/2+e7gRO8qu6D331Wr1U7/s6S8+i0Yw0kkbSaAMkEJsQBhwW2SG2wcbE7zlOnt8niWPHjvMch8QhGC9gsGPHxhgwAgwIRLSjXRpJM6PZl+7pmd7X6q163973/Au70KepqfrX/d//veee9XfOudLX5/CoYsoxhSOvrW/edvsdU9MT6JUm7T8uM+9RJ9qTLmAyO3buSq0VX73WzyfT1dFJ2pWAiUdJsqXSkjSEjuSYT/z8p154/qnF+ThabBuaFlwitQtxIzcrU5HQMTJSrmuo/8R0ds78PS798M1nn6uq3KyrrSr3XJvbw6OTVBxPQJgCq0cQR7dkplTS8AagQUDt3kPvLMiWHu685X13ffCzv/25Gw7e/q77Hhi+MnL3nW/Zs3fncy899dLLz7/y2ktlJWXcJ07unobdv/hzv3joyL7V3GqE3nA+9B+MgJCT6aIEEPWfK30JS7bsbGekgq4c5Y6OLqstZOHzOHvRPYQbQzeTa84GJsUFjnJwgdW1ldGxURRghWkT+RPuWz+n27OgjOlAoIRKOY4RQQ5HMyPAueA0Yh2o3kU9INPxgkAlBZAn7VwxeVCamoamtLwYtUyUBzNsQrpRm9kEzESgsL6u0Uw6M11mi7whCcQ0vOFPMIKv0qVxpL2hiRjBhzZlcSESPJzqXbt28WGbeZ5JGd8Jcjczdwtv8BRPh8b90y16enryHyaY5FBEDOgn7mhUX7nMDfTQNYJMUnqlD50ot3MxJuXzvGh0pdvl+TJ0HMqOymJrPAbdVmx9LTREytT2Zla5JI/DQFEpZ1G9mbW1XMS+XAWmvhzjEUOpgonsnMPl7Kc1DCksmpzhfQ7pop/iQnZaeFLuSGVZFOCzSo4CVuU5lWxHD2IeKNniR7+RotIwR03Oy8bn/9JVjGUR/dNC+Jya42Y+RO4MGbTiQ5PCZ2MVViMr3beWHrf3uVcsUFLdgcR0vf2w7pjXzp07xdpc7AJ/fR4PrxVdwvvcEUY1//NkMsEQPUDiRo8aj1QSRmpNXcPM3EL/wGD+vpbbyzKpLu9o2STn3PzxKaw2VoySq0MLSzQM1VDmk+itawPDSqqYKn9HQIAK0NyGejiON3kfKj562FJANSCdWKEKguIDIsGIcmFx/uLFnKXwXHicjbE/tjGKydbUnjx9pmt391Q2CwRoStDZSFw8SrnJRYXZ1LUry8zlRqzl3r1Rl+Lll1+96aao9GCRER9+zVeknCbHChnhQ5oXBWFFgoQksspwxDAuIOP9k6pYUlYpY7mv9+Lzz/0YemxtfVHohwKBGpahwpWlwlITPJ1lJ9Yqy8qeeuqpH377r3bs3v2W9/6M6lQr81NAek1lsAUUDs5ua6OOpp7DUawv6AGuArGKprOS/EempFI//7FfXMhNrcys/LMHH3roAz+3rUzmnDUo6Dt3ua278SMf+uC7738b3x8vkKx5ZZ0bitvWN5cF+1VPJddweSsQ2xdHMeqdNzc26SuRqaqrrJXQz4dbhqNpV0Z+LK6s0n08dFs2gQAAQABJREFUL3PJ+tta1ZLtlPcIyYLYCwoYNfbv/u7vfGvXsIHqujpfucAuOA8oigbtcfwweG/iV4o1DBsrBnexr5woBgOXgCHFc5aXo5SQb6Wqoy4XoEZDORcN9RpuRpVRdxdfdBlSsY8e6mMf/ZmZXGSVIXKMz02JOtNzi4nxSf/EXLAkZGxA1xuTHoE+XW8p7FR+Pv4axPgGD4JOJunW3mAlfmUo48cDJBqACXg5cf5pEIP7uePpzeXefuNbMauRn3NZZZLMlD8SuGE+UckUk5f7RSCQCUVuWR4hwoRj0BvoVu5swiHgN6bxDUc3SVoT1qSMBWNhF8eEC7YbGxtMkr2YW5rv7IzGEZ53YiLbUqMYL4N9Q9mPcBHoCxnCcl7WNLREeLYImFL55CVETbCmpaSqtKmbFAsofsytkGCgrI5Yrk+8ibXjydKmieYcynBYS4mmGVa3JSATfOIZLasZ+sQP87/Nsyrs2XbSQkeHRwzoAj90X08Vnu9E0XN9IBWT3/qEuuUh+aRsnjfOZxQzqag4f/4iK/xf/NIveeYXBi6iG+MEipPkQZpMYSMA5OBh8Wmy8BxxYdOoQ+ImZGlcbHVwJNKAFmRKIq0OoZwVLfdcpClJnSavI2Mu57K1xK5FlQYkboVS6MmmL0hPFviQG74+0ebyjjM1j7Cc8kqwNfXUSxdy9MvZBbX1CouI3yuXe6cmJq3Y0dsOK9rQ1t7Rs2dvc0vTzt09Q0ND2FNjcwtCFE42k9zc4r79BzzswOAwZ7okBCUZ9QSvb6xjSczOOQAR+wyk/+riSy89V5Xhz16ZnVuurarb3Byyd0oe2HULQZ/1pF41zY22zGPTGbVZHR0dWZidUi5ZCJtKTwRxP6ZKy4rSZVOzc9RqTmyrGutMeiS2gWQ3COvJOeU0eINWc8s5qEv3oYTx+zXXNCxlF+cmZyvKirqrm1OZ1OoSxOHW7OYSYNTKuoLlaekeGJZoHX++rXFk+FnTbW0EWHTiWSpQidy+kpmrfWhknai0Z5g42nDUrR5j1io1NTXbTQ9lhjAJHHqhJfHyVFQmKTzhse7q6MbmourLOpCdYFZVTUbKpJy4vPkWfl+kwG4NSksANzhCfEj/W1fnJEqSOeSsI7/iZ8QRaEDeQKJYSXTs4gTcFGVgwRD9/Oy509NzWU5uX6liZsKmTeqg+VW1nhNVlyloi83fJL2gyj2Ff3pZFLTsYk4sDRM9dZ7UvfFyKNS9mJ0cdyMmC3nmA7913PwWE/TGVD1OnnP51hJxh4qhMoljkbnqwoThG4jDEapuvMIPF4ck/0rYk2HNzQdG9iz0FO8N7mLsoqpmeXJ6xnBhraeKuVAQuSvwGqOCmvfs2WOE8YUxDZwy5ZnsdJbh21DX6C6ttVEHtLqqtmppyQzFQMhDGTQsKiXqqGNrHOUqYVAuNtbI3HDmWRHzMAO/N66XdbE3Hs8bo+SlmWu8WckFY2LEucxu+q0RMBH758b5J8HQYtjQOOIlBrlnz56x0dHnnn2WYufJHZu8cmRrvbBCg7uXCbDyQokLSUlvj/igW4hDk9KzWwvQqHXVDmy1WanixBdhGmbpGi4nGpXfmp1NCksQGj1hWR47YZ9RICRAJNQmrn7MK9mUyAXT9y1CFUHxlAiHhBDm5rcNwvl05snpKWFvfcrLlD8LQVIQ4LcldXWsBCBv4fDomHtBIZZlKlaHV1dnIrhUk66DlOJb82h1bV2tdc2eC+zFCuzu3G2/uSUu957ROlT1G6QMEB+sqrHx+gM3KOuqwIPHpJcBd2anA/JTXJRubmkeHx1TZVMt0Ynx2eKiivq6hksbfVzMZIrUlsWledpi7KlqausBBPdKUgsi1kkZBH2xzjbIc9kberUwtlhASUENn5FNdxiqm1snFYGbW1bUeFMVO4RYWbtq1UrKUKtye3IXQu+y07akCCoC3Rczu8mwwhTXaJGWTNhoqrBczgIEIR+QVscqN8zklFXQrE2ApmJFfXflZPS5cnGIET0mtBKLRGXw0tJyoLM58t4iWEyzQiqOGaUyJr8wj0T90Of19La81z3R0xGAn/jEZTbLX9eQN96AL6Ar39qRsL7mc/V1VUJIVoa70AXYCu2VjKxvrLVWCB5hu556gi9Yt4ShxZL6/Oabb/YT/AjfXMzl3Bf02Ccus4+m5+/Suk6d5dQfFG5xXMML54L6xkbElj8+cUaU6GIxJhDz/D/N0Cs5ZXFCTcaAvoqnYHnlcvnjaU28MQeWr8G98pvrkWNV6a3J0SZvDOIrY1rqf1qfyGVjDdr0Ui1t4xW+yoRnJf+KiXkTfxNWZT4YihHMyV7Yf8x9TEODpWUQdpFp5YiY6ySceUYofHN7T/cORbT1iF1bWhTma6xr4yAS6VvWr4KjY+knD2IiHp/CrT1tc2vLpd7wb4ZXkyTiVYlwRuDRlMWIyGGITA+3FmeJD8pz0ZLQPTyRz4kWp4tDxOp45ljE4nATOrexdfmcm6SEJnei2+AdntAGuVjdv3c98O7HHntM/c+2tpaFOR13anPz8y1NCjPpkeJWam6JjYaNTZLwnIdihE7NIKJ4Pia4UbMc7BRfzOzMtDOhw8wX//SP0W5b00/gBe4Vu4U6uaUqyjnKMWkfemFMNsOGic9GkWuDOW1AC1HUTDExD78JgqlVDFeXh4pCEmXl7GGzwjvbO7qGRkfuftvttKoTp95s4IDbTk3xx6UrJC8GWc3Meuqtyax+6w88+ODP/uzPyrwxkQ1lXROkmt2dHpkE7FQHXLlpS6ckNp6T3Zw+eufd2HcIq8KlHbt6cCWuq9b2znMXL+BJJq8BWHmmCgCCj1OTVEF8il4hKHGp+vRzGuTQ7Bobm42gRKMDGuVPkqWorqo/feq8rh/2C/NdXf5JrgZiRfpWlErvQZwTGy2+cK1vZOTyxbbOaAFZLrUwCoKWFpSUz69spIrLcxsFihzhSuHDMglo3iDJEKjMwExZLcAqR/3K0qoeFmVpFSRgQrjt17W9SrxgRXLh1lY2u1uqFldmNwsX6xpbSvUXSBXFDG0P5RrsIJOpzWSmCqfE6ypIFF6bgkIs+47bbqehIwUWkOrYr7zyyuvH38DZBfA8iwkHAi9RnuuqMkuL5JIlRzjOni8JPw7KdWoy1AjbAK+heWBGkgo4NPLVjehKOHjPnuscQtvvHPp8cGjEdnCHW94gRLuc+Ftd6b5Oisvc2XsqVXJNrAqKwPXw/mmFkjKl7R27BgbWmLdIQpljETGkuJhbsi+ujL+8rQkTwWXsrLvE55Ddq+Hb8pXrQyJGOY0obYJ38D2bMMrBuMl3GVougynMD+i9oSitfpJcHuF7mgX5BApQoNJOSiBoI+JaibfFZ4lKFGMjCXZJ8i7+qOfnwSEP4nD5OTXEwU7ULn4wk7drEMhWwPgLi0uVpdE7RlA7Vl+gTBChOAKL1Nfqygrdlfqv9IosjY9Nzi5zp6Trm+rQH26L6y3Pr7a3thJOdGFnxMOHCugV0JbkxsmDB07EhxYF97a77m0IlrYdDRIB54tNL8ZQ87qlDyPAGBsW0WI/txy+Mkg82z8Zg0mtyF2dPboNUqqZHnnHG+GK+IgId3S9ERhm/gb9J11MaExrMEala6bBYWxYdCFrxhwiC8LtClJVtRkqlEatkhSRDB7nWwuaV4PJQ166sPaC8xme/R01YSSA4H62I/bH/fBd+gD+h8lKM+FeEj2F6OW9pkEk8BPFAYrS5YIWro/65gXF+jn5Ja7PnkKjarHbD48zmVWboQlcG2bure98x8zUNKHAo1+mrHVS5Tm/VpUVzrKq2evpspLWjh1bKSDppfFxHmIqUoS6JyamTp8+y3tSX9dMWTQ3R7pn9160iAaEsdXDUY4d0NIF9jQ7PS835dLlc5bGAsYCxSaExa8vYYQdMGK0r7qLqL9WTvqJlQT6lzzw4pUnr8BNvdtz46GtuUFltdcWC9WZrqEFbBdMKTaXqf+rrz0czkcRMzBuNY5LgUjZ7LLEo9UFlhRoGrjAmnpwcSlNbOFETQ73oW8ry9lUNWxGsGDnqCyzcfnqyGAg3Su0kg0aIB7g3TCd9Y2GTHVBprCUBSYonArIT+/ly0ODg1QUWsPBG6mfcXoxd4lfeSUoCDTpGIgAPJpvMSlLQcVBDD6xZU4F/qJ4jiPhAmyLp2nX/r1JI7yAcW+CI0nfLy/HCnfv3u231pFqA+ly8eJFJyIUmZFrJIRiaq6hBZsPTJShqObIlUmIzhEDg8Ch//Vf//XR6XFd7IKGw38cRb0tjskucSV4l0ArBHvyZ8eZUrDeLrrAaHbc58mehuz3rWfx8t6DuMBljp6n8/qns5n/oZ31rTt6JTTxkzNuqQl2n/ihF8p0gRux4g3r5Z/RsfGfXsWh17AW/fUyppX0pSvz781qZn6ODGOt0Z0zmfLmpm6hcJfs2r0rjB1G3bqw4CyuvqghZlFK0HwztQaUs72c29i0Yg2L/AmJPLAv3AGmpzmQVDnnEo/yIc8eknNfpb7/0ZnPobYe24y5rKZjTc3PI3nj2FsRM/NLH3rvryXzL/P2uZdt9luz8/C4hM+5Km0kAZXMPry27EFX+i3ZZU6ut7gW2vIY009sYWlRtPbma2ObbW3YuYgNUDbraqPKsE8xFPyLRdvS1DgznQVf99uY5Do+w2SJ8bEad4/N4J8qLCKoAkkcSYsKH8RWrEWUiTtGrQ8JemGcZyo9OI1P8c5yuDegZ8fPUGV15f2DQ3Sri31X1CexuHPCIStrd9x158033ULEmT/dx6Ncvnjp0UcfPXPtkpT3oezYxOhYe1ObQ24c93ZIrIab2r0cbDE5HKukl/oy99rUtGa5OaMxcq0kD4uFAjmmHVpAX/nLMU/XKC4rmBif0dsZ9YIQMZaVlFlaDocuM4h7KHIHEmkUXjseBLVr0VjCnPL4QhBm+2hxzNxOaRcsVaI0J+yzJOzVqRpoYdTSlJgDK8sZkS7Xiqy8sr6NTAY7Wy1IR1whgHJhOqOLcFsHUwoUwuwUuBP/d8HG1ASfWsTbUuvcV0SEK50zO7URcR/oajpAc4VcIgjS3KLFELeqKt6WSS8iGKYlj21JqTADDic+K8SqHgb9+pUXX+LkFiTl1lKAVgBE5iYl2YrZR23HqeELc04YZcd+5jlyOBB6e3vhG4VoNf4R/gCDlwnhQXAqDX7MuWffPnrQ888/T6KrI22J0PVWSg58Svk4Dhn/7du3H8sYG4v6HKgXhA0gAJPq7+/D2mAP4mhE1dXFQ4cOfepTv/jtR75r/4MEEl5gEzmXgvLT5aGdJfyCnm/mLHoqGyS+965HHExZtO2VfBsOeO8pBdQdv6QvuM4giMqqGip/C38RQ1wZIjW8OvkRsCJKUHFpRpyUk9t/5C2xxiNoziF0Qry7yt3i5Vde+cFtRWA8klf+Q5/bDjqjz5rKyjEl8qlOt69Kmk2utKwgo376inRFxo1SxgV7r9vtLhrkVAJAjA2YcH1zvd8uKj08l6Ugy1W1LPAjwixdnTvowpGqpXFZOOMiso9rub449GrPlmdD0Um4hBMHQZQsRVc+lgc6mE9QHmAHHn5rLWJetD1r4ZmN6FhYILOJZUqeM1nYcPtxXREp5Jh+zg6Jc+SQKIXstx7YOG7tNIZjMFlid5wYilgs+osNsEryoVTVrFZjbw6hmNjE5KijZZ4SOCkpjjRG4PkxO0c973okuAQHKJxMbWtucm4XFiYLpDDvPA6tirfYBMKBxtVB9S1LVaRLZdKxNPfu2SPOOjAw8Ma5i01S5qKd9SIDFX2UQ2ZLb25seu34G2QkdsyXQYm9bu91+647MHdxSfXfyO8pKZ6Ym2nJw3kkQCxLQ2axIcYCMWRgH4Z5zEEBo5V5fihuSIRLX/CyYjiR+VtwsCH2hWXctWuXz1c3IxHPk+IPCL6mmkOQFZUk1rGcI0U2RGXsaRBgbLGTktemkLk1nFuOzfKtVULpnp6BE3KpuHD42tX6pggSonG4/tLqNusmPc448MGBRcIQohCVo0Jb5e7ATPCvRCQzVaO8k2tD/JZUlKwLRxAhxdY5o9qDW2ysbqQxNontlZUrUdu7YnVON4sosQ0sU5qpqNcXlCYrtqKqTBxPNk7YR2jAbJEKpgACgnELoRMG6zUbQhkYBxdVbK4DmU8IS0jQHyMbxPNSeVzG4+qNFbaA1CW2CViU9bK5xmdlt7S2V9XUyibRqxEsDkQWHEblocEh2QiFC7nFjWUoEwiDSPi36cZUxKGvrw97tYzGQRu5hTl0/uKLL951110jU+Pt7R2D0Z+40oHcubNTTSS/hWnwTwsV52g9DiQFBOXL0/cg/umpvfmnl3+aYZ49OSzcLn7uOJiAa1zv29h0wXe6KnslUTU8vjFdmV8E67MEp5OE/u23jAW/NYj1Ec8wCD3KX8O43mN6yTwxCIYV65N4/X3oGn9Ng6T0W/VyVxPrFaJkamrCXeiMXDN5+4A/xn+T0xNor0xoeGO1riFayabLAay25LHhDOnNWAoXoPCZmYic5uG1tG/WWM2OukuXLgVDkG19si/KyAS5wiVU0ELD5zoeWV3CYXX8ISVC5zzPmeBWhlahyNCUEf/MZ994Ng+nFgkVR2qe6cbirq1pvZhb3R4dHa6rb03ODMmApNKc3ExKBnF5dR1PUFGmZt+OncbQ5ZCXgV6H+GgfFii3OI93mChVom1PyeZGqrGlpbi8KV2ZNYckKLY6PTk4eG2oo6PLgVcTsaBgVljRHEiT8oztLC8GIAoLLopwebTiqmrwbuygLF2JdkM1rIw5z2QnHQNBpFlW1trmxLUJ2zw1NV/RtkMcx/Zw0lITuGFjZefnLw9N2lywuprWzhFtbCoyl4eHrM+OzhuM5pp0WSA/w9JJ2GVR+YpsN9zKahdGJSsUkryqG+mE6UwVXxB1Zmt6hpO5rqq7oa4G8V+50qftZOuuXYVLC1ulQktLh+s6Xzx24sabj6hTI353+cL53qFrnU31dM/SwnJlF4qKFTJTBZipS6tRpo8zeLMkgz8WpTJVpdW1GzPDZVvrFRpx6o+5XV5at1vcmLLJo+HIrxd2BMxqY7lMTdsWLQvYMitRnji1nCrn38R5SKioGBycCWQqgkcSLoV2AHD4O4qUulMzmO+tUEfDDZAL28Edtp1bz8FdbRU2rS1iYp0bxSupldnS9AZv4eLcVFF6O11dTjGaMIeS9Eo6ZU4QhgwYu7ZsSwq2JUeVrESxzbHssPL/3CuAk5aaP6iiqpH/HlFpKgx8MbswzRtSUSarTLVbplMRRxmrglEgL3dyduzQgevf+Z73nnrzTU3GTh4/0VBbe+utt4oLbS7mGipLwfrnx65lCjU5XL1ypu8kwkoEKsKe25wnPpdWi9bUTCcViaCNUsmLWpBjVVyf2FZKaGK7cGlxfu/+/ZmO6pmpmaaG6qWVjdmNhaaygtrmxumhMTkDS/iUrNmtbb5SXuXo7bC1XjKrUuuKtkBEf2o5/LkacW1sK9K/oU6YUqKK2TRUSReni5WrBVy4PYvPLi6vNTXXllZU+RbYqlwPGzgNcmQL8KJ8ZkFtltIlQZKidG3V8kKqoELd4IC2VFKFZ7JDvJ8cmgrqNDYCVSVVvbAt7a4jt5fqFU5GB2mDQ10QXxw4wcHiR6VFm1FbMbXO/EbREZhPlTY1tujAAqWuFJvdsQXYd0bOJj8MRlegpoAW06qxRX41qKLIORfqdkHJYkF6pSgThaklL5evCaCtb29eGRzaKhhCV8J/DkzxT/30hxA0/cKWiHRY9DyrNhvtDzna1S6wT4mb3jMg0vVEb4wWx36PQ/vDujp7obemrsn8TJutKb5KjjW2dpAJjq3PMf+QDA65KVPWA8+mdmgpbtra2k5GVVZV/7ff/89zuRWhlhAs0EzqkTt8a+vVldVLi5rQXTrxxkk8eHpygu7W2d6GV1UUh8Z36tSZwYEhLnPMbmx8kgSD1TJtAHCNSQA6oG7EIkN34wodn7KTcqcZAtm1aakAJiaoABIXRRdgNMPBUe2k8aqoFSBG7hGgiXlgEiMjtby0aH88VKh4gbsKl6VfSbtYmMsyWmE/lhcWw6zZqqR9g4RYS2IK48Zp/ZyfMJGLFFTDbEMSqMa/wtMqTCbGVlYyMTIMJtHd3tbdoQpOw6uvvlxVnenp3t1SCbOnler8VG5ZZytY9tErF2FscPbQgxKpTM+gWPGqGJkcEh0PWrIFid6RbFleQdYS6ie6mG8JBsrM+rZMb/zdv0RdaVvyfuw5SkycqK4PcW4M1F8SsYwwD4ssXbhqC0r5GvyTKR7PGuEMOheqiermBSWWFK2twynQi4prKtMlVYvD41wQIUiKSxOjuCZYQ2HRxMRYY21NJc/rSuAb8SZWFPp2b2O4Pb5PgAZl/iTly31QYnidfetcoS6WLgVkMjtT3lZpCFdGALqwkBMKnVy8cKGnp6d/dPTAgesO7NtPPjk8wMEs5JBV2Ul9WryZnQ3paIaEMiLyfKFrpOPwBDKpSDu1HBqGD1KLhuuApk+ryQ9Cj5AZySEgFoGgoUaqyyvX6+rXck7pZhkOK55eXFRZXMY9HJn0RUW7d3Utk+xVXHgVOt9ro1ScKayqLSPpxoZHmeFdrZ3VpYVnzl+IjlY23XmyE5Rx22zVE1OJd29jOSfhTYxNG3BJXxCi7Ny0Gp3VAX1AHubvTVyRnGKWFiXE49hmo1hD5BSPGBSS/MuqBo7X04R6Fe/DZxLUQCWPvwktGcGR97IR9txuuotzZwHxieQq/2cxbWLokj6XRs3WRmy8P/6pKZTwPjKz7RElQNSIDidMcBXFmSZQTK7TMHQ5SgzhBm7lAEfVBJwlyTkATeHtwtV4v12BZVqU/LT8tYVDE9MYgglRvewZcp9bWusfGoPK8CEOoqoU+qWViOrge/WKukk2rsws5sZ/9OhjR48ePXzjLRcuDT31yrMoUo/78BwXpHKzOeXTutq7AjjT2qSn9YlnntSWsrC89MkXn8MTj+zdbfyPPfRQbW0dJ0VfX39zS9sLL7xw+Qoc+RSXluqSRVv6km1VFEfKMWnL7uIlEeCrKKVkrdeWV2gouq1XqFbJxUqe1oHRQ1g1NTWu5ZbSxVvV5UGdm9r3FmxVkZ18BEaMLYiX9ofVFeWkLl13jgsptRnIXZi28IAp6MNTs47SF2cnCzZkQUWgl4OjJFWD0IA3nDnQZunQ2clRh1z/0YLmRsEg2lZ2dFiZ9q6ujv6zZ2yJZgeKiI4tQQMWXBvoXyGXEMTKUkttlAEhJjjsDB71ygPXKTRvvsGP8CybaNpma3+DkJKXXfNPW+yvVzCs0Llzq4nqbSAhYvFuul1qK10koBxHArImrBU7qFsC5al4aw6JU7SSgneFpWUy+0QsCExl2hNphi7DzCknSMEjUqujIOYA+M6CKE401aIVz84ak9ucyHHIAZr5eJwX6IaS8mDEzo2HKCmpQFrIA2TaakObeu/nDg9+KnLGRq3LNF7rv7pj105xZD1qAm8TGbiKqQVAx/JYCgBeZIE8ErAw5jih4iD9mkor+rGytDQ1Od7QwLkWR54sQ70YH7vCUdDOnLXiBDreLER3Z5ibimhbOH9VHNyiUyxhtQqM5ebly4031DaAbzE8FVAcHxymKEUI1itdnnSoTVVB/3LPiaObQcEkxXR6MVdX21RVUCWsNjs1c+DgHo45aZbA3y1VTfxQ6rEqnbC2sGxVkIYsspnZ+WqLsKU3SHpxdoYdyNq3A1ZY/QPylXJLs028UsEYQggnH4do2dyemdEJNNVQXyFIIgYMmOhbwyViFRWhZooWRGQMhhatAJKL9c9TT/LXagCp8CBbcHTlALgAEyFpQnAm/0RiZpV8GzIGg0FFAvZuhz7JGCRNuXQ9vDSXBdZPWwuKc3gIYAoMTV4VB1s+Nx/BI+O6O/rwNTd58lRB00UU3ZIy3hYTRZRcJx7UHY1DyIVfqTgNEgkYELwGYqBwWxXi1dysATE4kkpSuACTh6FDDU5GtmSqcDqS/u+8Q5/1jl17/t3v/O7I7BgTm1vK3rnp3XfeKQz3xDM/vqhA3KXL1l8tAc6g6WxWLQSBm5GkhbKovwXlU0P3HZ3d733ve2e/+fes0aKVYlhi/VxsSml5AkWJRE4Wu+YKG/fe+/aP/NT7n376yaNHb3vj+GsvvvhCd3dn79lztPpdO/dcPH3aMuleK35sJu5lQeaamywREudMQXLUt4H+Xpbs+orKztujw8Phza2WrVG0MD1OT8m0dVpehtnc1FhnY4PPYb6ntcaprirng0lX9A0NcEUXlZcRvzIBj0+NZ4oL9h3YFzkDG1u6Kh46cAB+0pkZHBx2XC0s53djUxtU1OhEli/FycnOcQlHWV3aBV4ZjAqXDEcpt1IEichAj5AX+974xFPYCO9lPPiLUyMub3jGMVWpdSy/iI6Whx/NSP5tPv5GZwn258aKkkT6OCmlWFxSTuyKdDCFECi2BpJjMwJX5RVxQtTAuoF8oa1B3sxqdo9hAY3JBuT0p/bSFyoqGjmC8dn5hem2Jh002BVLVaV8Mk5bkCXlypwFgzEQYc/AqAQEjzMGsis0AzIeGo88Wlma5xmob2yW1IYDtutdHCX0gq2oLMrPC0+vTHbflcvtu3ZwZb788vPtbeoEV4II5X2vsGmcBZizLKnuHZ1uhIb5w0yAkthYXU/PiGSyKIsZOfmOkEOIJPycas7bYLVdPD480dLQqsGAlVGVZjDbr5Uv7VQsLAzeTZqAbMbiFs4QPF6sZ2stlS5m6TjJFRnwgJLNHAZAL5X3Lkl+ERda1692mSZeYOl4T2hY2j4WF64gJ/OsrqxMvBWhRGs8lEgrTqlQRZXy1QjUSpkqGvDCQ1ACXTUIh/oZGlZkRPjK57F9IXRwivgkUaGCxfiQRpx8nijb/+jecA2m43MOZPfNc0cYI8f5n7iVQ5TX0fx/cpfEV2l8NKoJR2L3KZcFfBjG9famrn3n4uCHKmd6nBPhOyU8kaNJsfaRmMdWB9FwfGn+esWlSSXsqRVnhpxKZRdWuY2ZAMyhhCU7Mpi16guCeoYRJ94qq6qrbm92M9G566sqcDayEfDLvpgZStqxe5fAIWIiWp998+TeI0d2L4YF6nZe2ZmpinRmYmxibmrm3W9/1/s++/mvf/3vrly6zJGt/uFI/wCagMPzFyQdB5memkE6RCJT0QOzZwvk8tEUkrDx9lzw9YD8BxoN+m6DOdei9HpZ8aH9e4+9+OzIpQuTI9diwzQKHhgKfQQmq3Dj7Ouv+kRI2d/V1wLiWJrJnKWeOOGiitXVZ1+ZtzehntCahMbckrD3N3RabxzXqJDy5ssvhmbr3KZLXt96Di/0vqSKGZ8AeRgXEMCZzHHNahYWVD6zEbo3TwwMfehDP61a0NTwRPj4+DLXVZdtvf3utxGZDlvR2kLv+TedjaJ00BbdKjStghUoRfsGtwlrbua+ovZbK4uQJ4tQUYLywihFnkHf2MkmR0Q8jP6YWykOfuec70l/hNXi0orILFzHI3QfnHrne97de+VKW9PRN068yV92o56sL72yVVhj+0XdcAYaGi8aI9dJqa92Fx22Z8ubVUrYBnBVvhLoY3UpMpApCB4WFYDLUPMRt5xe/eRr6wnFIFPnOgSYFPp4JZ2WrF6SUBHapGUPew2zpMRiviUQvxirhn5zM1nUC7rV19/P3rPmqJi4vXDhHGe5uMrU5JiTtW/v7qaGhsmJKSOBJUM5KszX1FSQFLaFyYqyAcjSUBQXC8XaCOYIXpSPMPBGRymQSEdjdQLnbUTPqsiMiXUoLF2G+cAqyioVNqRxGIHgRk0UCo8R3cqS7CuCJhc2Ke0ylVuZH1tWGSpU4uDiWzwJwlCetsQmApnCI8R8khrW4B2oKFQ8tQyqIxjtR/C71AkyALePydHsMhWo0n/JMlIeNqCzY4Xj1GM95KltImJoN6G1uBTjchd3IgkSKgpnjhF8GvAHm+Hl5xHdiiv5jgSlEZiT4PemR9f0EySZvziuMW5cHNcL/JutN3G32GsLGuAEwmN6asJ+IWxfucZ3sbeUI/+LsADaYjxFHAvBYl0xhJGM4qMwKzdDS6Ty+hyBoHGaIWBDEIx1CSUmXgnX3lKq2dTdRvshEzXWxOysT0hvP3duebYp4TPzC6fOvGz/cGSEfvXYsWbblUQPnS6+oav9Q9xYe3v2dLS39168ND0+Iff1/Nlz1+3aM0NlmwOhXmIQUX+eeeaZW26+NQRg0vKFPCG30xURB8FD8yFO79VXwK08Ivl8/s0TueyU3f+rP/vC1WvC0qrx2kurw8CRlot1wQ1BvIWj3bN7kA3pAoGT1+vAF9YpNrWmrRU9GNxluJQr7Yd/eq78Lua/LaiMJEqDeFnN2GbJKuviGIG2tSRNjXU4AWx1VVm9Kpf2AKAPbXKOTq5PA9gb26I1t7SwhVvaO3jrvI4c2nPqjZe5IXU0zRsBpI2HRnZm5I75m9ovdg1K8s8kR0vJnn80CT1zCCeeXdpe3kcZkd8gF6VZ9XQCaC8uam5qWJrRDWLJPBfLt267+YbBgb6PfOBDanUPj48d3NPde/EUuPvKqr56emFRqQoqSyuoTiuTY5/89CeefvxHg6szE+MjxRmlI4VNmb1RDoQSgDDo8lQY0ssKRgXEBPlhA9LYcFKqKaAqUJVOQiR1CywmYa1Y8PCDbIZSmXI4xVpm5qZXVzYa6+tXlxdcz9kKxCdWFvxFEeSyUmwliS9Z0K266shYtPxXei+zQ2WSGw1HsHFDQ4Nom2dSkUyU7Bq8Jl1bl5gLYoXh/qER+qf1s4I0AouWZ1shuhP+VV5RTa5IvHAQGVFoA1eIFAx9HalMpQHJpnYurQVow1AwNtWNVY372nbtvv6lJ97IZWfTWhHzv6/owKiDfMnkbLZKzFZWQ4HaMgI7UR7Q4kQssLhQ9dOlXKC7+cIp6aWQcyIvoi7ij4BgfEOhLplbTA8js34eLSFtxyWqV+E2YTG5Ll5x/IM4E8HmJzF/Bf6DvLCaUNvieAW/QG8J38GAg39gfBDpm6bk+vhhwlXcy+lLpuFN8Af6WIIFWKHYY6SYHT2aAgUDgFydYT5r+y5YmxejxeoVmJOXO/qFvxSoWOvgYfFynW89VszaXRM3nU9o/v4zXV+Clbsi/hWo1HCiOas2z4T4/J1PKxNS27tAk0qgMV7Bm8eOf6evj6VGNxOwRSU//dM/XV+jfVHphbPnn3j8acJKQSiG5MsvvnL7rUc62lq07Xr7vfdeuXx5Ymy0OlMd4wUz4lPfGpuYcpjzPg56Vj5QrZJHUAqr27rjz9IaEmnJtUHeqn7Xe/EcpmO2yg3jVeCmUfAQYw0mh2ezHyNogJlLZfT48tpsVVjU4c/xny0kjiKwH1f9o6BIFpAiFz/FIGgp8a2X3+GDzpxQjG2lDAQ/QfoKclEPllQFraooD6+WZP60PP5pC/fiKy/3XxlkaKX1hZ69Mj7aW5Ep6rty7tS5C+Cddfo5xe4Qk3xn2AScgWeymcGy6ftx28DXRPJmXqogC4U8Ew0xAv+xrXkNK6hMCnkJf72JZyrrCgvSYc8xReanf/7f//o3v/rNixO9v/SBT6og2Ht5sGAzrfNQU2XZrfffnVqZ/Kl33dq1cwdoq3r4f/Pl//3hh35+anzqwN4D3//utyRj33rbzTOzE0fedXcgXbt2nX7zzFDvBXkYpLocmTgIBaG8CPugpfKKzMI8KMusjLMIVTM0kgpFpDr92nzxCI8VioB0CN4vOkUBtWZDMVEAUZl35JmiOkpYy5Pib43q47YjSfezE4SiDUE+yogNDQyS50ZCsWwwF87NZhGL0ded8Ch+IrXez0H2Cs9fvGAypkqnr6jKqKOFWYTrQNnSxMGcX0xHKDQgHmUZuM4FFAt7NpKF11Q45WJeXFtO9J3Ix1jcXlf/95+9/6e+9MUvXBo6/uCHPtDQ2rz/4IGnH3u1bV9PfX2NfSTr9jQ370tXTo+OrgBXbi5vllQUVWgup5ctF2gaXybjl5VI31zDzhYgZisCwC6Fa2d5JUobHBlGz57Lg6BGpyzZ+micEaS5vSml1Ic4wU8UF0Rv5nmeFGwhYU2WEGaYLh6Fy0MrCMMqL6oTjSmEbKL+oMk4ncE/QqnzyCgyb0TjOCYQegQwqKBOcLi4zk+k6uIPRmWX2AheJmzP+F7KUxSUlkHx/QRvlmd0tKJgRuEQiVET/THPqvKuejZ9HAD3s/zOgIHwznxpivw//VzQzPkIU8hUhFW8N2I+DT1celpCLly3b/9A7xXpDwpKSyeRQ0gBmJ3OQtaZOaqdGRp1EGUIcyKnstOn5XKVF+/cu/vcBe1Is6DGynx7wo6ODkwKZAZ6E13aM6wK3ROnJumFMyJrz2CJgoXziSS1CS1HY0PDBx58/xe/+KcP/cxHn376yWCdQgShsW9K1DeGtfQYsZzBacKbjdBtM701qDbMkEiXtfRxI5qmPps/QQz7EWMoNHE/NB+HypS8CYU42TA/iYHlCktkDbd46LPvePt9v/mbv3n70TvEfQR7GUutne33vOXtQxPfCf9xY/PC7GBIlUIR6OZDB0vHoUbq9Omad565FRIR4obxsCbu7q5EoyHrSqOwUdzRw+TFpmcKBd+9cefwA/ihR3ZEk+BVmS6tqk1SAaibje0tqeLNcy89k+lss6NsELXe9+2/8dv/8PCpp5766b/8sz/8w88evuXQ0NDA8ePHf/GXfnlXz46p8QG8qfTQdTt7dvBG/a8//vx9D77/4PXXff0b37rvHe+aGh3vO/ZSTXMdyea+FkdGULCMTNV0dprPW9KJHbOb4MZcuR5IDI7uVlRUFbhqTDjIj9pLkwt6N4j/d2Ba29uP3v4vSeoffv/bXFGNapgsLOg+WVNT6xnpQU4q2Ub3WFxYmpwa5QdcLSaWiunpHKbz85POrTCuADWvoAW0QE5bePESbLNYn1QAh0uUWYar7/G7fN33mAhii9UPgcbm8m249VAGE8KmBtnoQ7tle7nDM2WV6Y708IICL8vY499+5atf++FfUaYgJxHhx3/hEwtZ5c8Kz54+VauxeU7pt1RFVXlXZR0BNwjAuLIIWC2pAeXzmFUsq8jMoizjdf2TP/mTBx98UIZ3Nti1JpjFi2DG1aHgm4YX/QAxQ9r7BHzVlDkNrY8zZR1NEpGSaR45mHHCg+ItYyoYS6Rn4Q84kZ/HPiQvvxLNQOTSRsLdFJaVqLGjxpbAt8kk55Fd7w7OUAha4a5YtGAjER2K9w4IJspOKivj/BKaGJ2cUpth3/WHmppa6JOxvozkEPtoICHloHHGkbhSIGiVPROGt61llMxgYSGNo8hfKJGJZpTnDkHxCjBGSeXIePJGfmP8perjEaG3KW2sTV8V2MvFs2ev9vaKk3W1t+/eG2kQM/Mzr7/yyhwuoKZqTf2eu++OpdrYEN0eHrza1N3+8Le/edudd/bs6J5bW1YiGkhcn8Rjx46pw/WOd7wD2lgVh71CyCtLyJEos7AU41hlJCN6os7vOuRkuRizg2FThSnhA0rKSzk4VAFvzmjdPH/9wRssaGNz+02Hj8CFLqyshsk5OW6YVZnFuQWAQxvlAa1AzBCBRkXmVRBe/5yciUI0HtkFNBrMVAfmj370o08++aRQOj6rsiUUL3XX32BkgTdWiDbFAUwfbWltm52b108QcHF6LldUsUw4l1ZXZZoaeRpufes9T3zrdEp/9aIamP/SkqrWlu6a6gbPZ53VSg8kZxEGuqwekfkWU4/WBfg1lI4sBYZk7IGE9nTp+hIp6Tm2SWabWFpZGj5OqkdxZikXrYYIag9C31zSl6WE9rI2vzjzwU9/srOl+dhrLxw4dMNLLx2/6863tL73vqyiYeVV03Prd9z94Ff++m/ees8HRgbmPvFzn3rppRdq6zLVdZV6j2bq66RT9dxw88DAAFSB1Xj9lVdpBShT5NnRRqwmJiZotmT4xHRW2DcCvCtrYoiBqot6CZVUGTEH2GbqCQh0mCME41ZKkYPcKpkaJ0n74mefeWb3jmjghpUMDQ3ZwerqACgSIAbxdBEWDnRlaVdzt3Lb0eRie0PNAE5D+o8CkRQJVoEDWlVVOzY8ZJUkXvCv1TbV8CcqqoALrSzMQyhh76oicMISak6sc4gMHD+EQYjQr2orq+Q9EJv8gGbOBBbvc07HRybe9lN30jtGf/zkzu6ek8eOfeMv/2a7gfRI1VTUdrXuWKwsaD3Ydq3/8ldf/otd3d3lmUq4pOX5mbYd1+/pavnL732vuKjFxQQoqTw6OnzTTTeqp44VDI+M/PK//DQtVXituqoCxk4Ff5G60qKAZFMJrUAw2TjXxS0t6vnEnNUW0cMPeYNdUo50a2lta56emHT0RRSitgDvftLrCD/z4O2dHbwY9LJE8CbZJkZJWJL/twwWg2zA/W0utSkYGYloLGwFl4g6MY5niMnkKIUcjR9KyE8qvuCz9gjjVsfOURocHNYTr3h2IspT+DHqFI9hi1toXKBT65+unVgfEGFDbdQnXF1arK2q3IiiwRvFEennXyiBQAtyjySvqEzE9EvLQNT4k/dKCkJx4I9MVc46vo3T8jXS1Qeu9mEWIlDiudeuXmlubaiuqXM2wEInttf5FNSlAumkDIkQM/X5QZcXZ3GymvpqolJZFTetqqyyJqAMnvaRRx7Zv3//1asDIMUf/vCH0QcjFRdWsjX8jVa/tPTqtUFZwtnZUXMTtgOkrMpU/Oix/2OFDx48cPDQoVOnzkgtEEOdmJp+9LGn0bVKbctBtqm6mhAIgK+/8x9/Z3pmFtuy3/YDY7IZuKExram/mcamteX12sZUdnKGz/jGw0f27d/zjne+99jrxw8cPMxN5pnpNNeuDX7wQ52Sb5Zns8DBk1MT06ECVP3xF770Z3/xv0Q5YWu3x6e2ShZgh871Xd513T5Or2defiE5EURTlHOTN6CZhd21ZeHDgWPN+8iinoTohy1K9A7oMUYgvz/LIUmNMkhQD+IIxuvXZBMlLARfuiQjCujcezQxLJeRQtxfs3OLf/RHXy6N3HSbmHvlpTdt9dj4j+q6MxqU/88/+lKquPK7jzy+uLT+xmsnhXJOnXi5q7sttZF7+Bt/OTQ61tiY2XVwx/cf+XtZAWQ7j0S4jRfna5rCA4D8BOHdqyhdwgwwd3JV/UQBfoDG8N1RknUEpu5uR/01DjtZDOnySi68OumzdQ0SPLUyKVihu5BTJZ///OdfefHZb33jq1UZUrrK+UB4lJxyuIqUikCroekEXjCV0+tCWVdnER9hxIHmcJaVgk0ULi5FQ6P+K71lmTo2GJ538XJ/c1s9R7LjmsSjQkGISYXLJEwtKpWTgmBQuzdUlIaqhm0CcmaB3KnN1MK2SlWt1acP8yxa0W7OOi/NLuampzeXVqVZLyaNin/0nR8t5L6jJ3ql6HF5cXRO8wPV6MpKh/v7V7vbd7fty2VzAlvKE/iGUKmuyUxnJ2kdYU+UlExMZbFmTgmYUpzIjpMNsKYo1fWkhL/mjB4iaa0AHy+HJWC0MluTdd4sXolctzwX8WgR0AiTAX6ZPoPFlKAX9izyE+w3YLo40P9LicJbJMtf6q4YDsqM9J2I4YY/PyQMghLBk6QVjIytQtxC6BgtT9u4odvZMtaS1bRj0g2gmjXS0eqieGxg0OEnXSF9i8pZ3NEUwK7OT0yem4ok7FiOJOvF53ZmNjdDN8GbTZQ1JNJH7HjvW31ZUNLpN4+bB0sNNXABlkT3SXEWJ4IvRJNONWrEmBerS6ozW5mJqXGpzMB1oxOjStxbd6oqx29OuSCR32VMUhx3Sze0zo4mZTd5OGtrqq+OjvL1qE0wMjrW3dF5/fXXH3vjdROQhHrg+us16fJ4g4GyY/NGaHlqeBzgC/BQKJxQlSrskOzdu09KcOGlSyUTk61tHd27uksk95aWXBsaVuYcd5iYnn/yyaemFqWel+zfu2f3zu7Wlpo4RaI+0Qo3QIzzkDihmAbGhzqGAqqr62qq60+cOnn40I233XYrsu7t6/+1f/1vPP9tt9/Z19c7NDDU1t66p2dv39VruYVFqSqY2ukzb05NzzY2tWDcFmFobPK6Gw4WTs+G662osLKuhh8GCBbE7MzJy07c5PTA9BuSGleprg2ZEFNx3jzwRuGq3Ivtco49HnOf40lmFRwqkUljYxMxpgDVWrjY88o/huUTG+0vtBTj0UguSKifcY3myJaq1YW1VFnDwvxCuihTWlCu9c/k2IQsliIVeCYmy+sbzp1+M7UyL4+srGRjciR7+TwYujyySK567Id/3tLRqR/U8ROhs0sOM+xm2FwZ5Gd64ZGItNi1uemsiISZ4J3hVQl3bxlwxtJiOPJd6YDqZjYxOSHVvKw8w30JglTA+YgrsY5S22rLnTl3llKdN3iz0zOdnZ1S9yO2HC1bPFxAQ+Jh6WtRz68EYw6bmANDnow8qtyCqBsr+9VX3nBPp2BFLZrF1ZraRhxmRdpquFwcWzpVuFAiSIfD+Ygbn00tgBI4DVmiqdGL55ezM2vZOVbtSho4YXNlbonTifYFmas1kIFbq6rr0xVqykfWUrpufiO3PK56GlhP5YrOtgEdXG9oqoeXjmwFssfQU9mG8mK8B9u1IBI5ireLs7NZFhcHC77ArypQRlCFMZou0yNIqTMGUWFFtB0xZ1QRM5dSug43oVD/PGhNYPVsvzOoR8rq/OTUFN7qA4LPypMEjrblwiWJB1YRy6OwpbW1qYkQsp5GU97DgYi1DVPMHWKR0WAS04vPYyQa6D++FPxQ7QofY9D5Nv/ykzDK4ea2UgoLP//8i5nGlqNvubf/yjUNEiKmQNvEHV3NaPeic9EvzIx+CFFCtoiEAE/RwmbnqQKRuoy+dWelNPX1XnL9kSNHuCqrdZrKTou+91684Bq0WFCRVikNg7OKfEDgWsJ8czPTbgqIoG8ohZ9bnbO2prruypUri3Nz9XVNzc1N0Bvl6fI7bj9aWV567tzJV19+prgqM9jXu9bQ2NncDNFjoVvrG18eHmZl3PuOt4smWE2hFt5nRbXU9vzd3/v0hz70ITfatbNjYGDYmppPb98FQe59Pbvm51c+85nPnDh5emF5+erQ8H/4nf/4pbe85c3TZ3//M59BPwvLq7V1tQ9+8EOp8vDQqUu2ML89MbmQUT9Ydsv66g2HD509fcYdUamFYjLQYJH8udNnPJf+dCMjw8eOKam3xr+2a9cuFutX/uav6RfaVWYnp458+CPo7+533vnk40+8+Ooxsfb65pZJrQlxxLUtyjw1U2W4pvHpq4ODe6+/AXDPzHOLs6KuUk3U1331+PHquqaR4eGV7GR9VYjQUJFY4uCXmBalKXSuUJ/skUXwle3DWF1pzqwYZw5dYXlh/MepC5SDWFKoBhGmgMyu4SYNzpIiD7l4U8sLw9I4JG5urS1lZ4aq6ys3SqC0R+pa2RYz3S2aDZRUlhaury5UlIcYk4bJSsU1s/Nq50p6nxkcC4ZBctRkqnOr0oCB44LuGEzyA6jJh2+9FWNSeJYZ+51vfXtmbFSpP/oy9Q+LfPvb78cihZ5QI73MLYaGx3HUxpq65Q0F+6oZAf19l//kf/yP933w/QqWcw7iX1i4Y0vSxFEKOy1cOU6XUYGs5aQ44eESpbYVFi9MT/7f/++/Rf88g53traS1CI8d/MbXv3b25Mn29pr8dClVltFaWR6ahPMfz6D0WIBRFkjpzvaOvXv33tBzUJnTxrYWhUmBrZjD49NT9APGJYxYXVX12MiwQJDcQroahag/uoHwHC4Pj0+NTCxIKgYPKVhb/tH3/6GBdaer6+ZmQ3Vt9H1cwvwCvs7/reqfBdGljp6nMg8LF7cFYyvUjZQgkFyxMM+/Te+rLKphM2JwHp8sF7miz3p+hIGY6UPOtVf4aZ3xpNOa5w3Bhm0iF/oPzSgJOoFy42tCugSDvaDGG8QC0qCSPNPEFR4efAETDqYIUMZIrgbBTtxk+b/hJASkiO4wcVOGAlseQRIwGiUqBVEBRNvUBBSuU3Rx044ucmyW/AgUqEXblhiVrqtW3kKVmdpUY3ldVX3SliZS/JIEFPwIF6OwsYRpWPbABti5UOwVHuJUwJjW12iaIbqVQJe1ncspCm4RF2ezE2sb+OCBg9cff+UV220hLr3y2qVXX1MwoUWh4XTZqd5ra3OLwkEUpPH+gfY2Ze3HFbfc371jaWl2386dE6OTDijXQ0l1+S1HbgIHlxtp9R1IFGxxlVPo7tn9wx89/tnP/3GofkkZNucZ13jrW47+wic+dd3+68+cOo3PrgPALOssP/vQz/6Lx554fGR88tzFvk988u3/17/6f06dPt/c3ALUJ+LOEG6oqXrbPXeq1CAtg9tECitkssgDUWW92RHxX2qztSXykxibk2OjHeqQEbDLy/WHb4TO37vrfQ+8972PP/74E0888bGPfphiODY6DMvYd61fHbFbbj/KrHvi8f/j2LBQSbLzly5KE2usrS4vLhieyw5euVCyvbGqMFUqvXPH3ldev7hr1x6H/OqijqoZpfxEq+j26bJCJZjFslNF4o6QKHqfJFIuARwHJ4oQcDRrYQVRqKgPJoySLKC/lFgLKL8NiI/zTEp4xHoKl5ZXp2vrKyqbNyQFdrX4iSL9ZU2NblapmUN55cbyUnZljWwTs6ToC5Fw3Cz3D05lZzdHxuUzFiuZEXRcslZRmUH2cwtLKbYYpwa7Rovg1KLSFZT3m2860tTa/tnPfu43f+M/jI5MfvebX6M6dbS2T8/MaXIaIKHC6M7i5JSURkd16oDCy2LEL732Br6zd3fHeKjtxTC9ZDl6KC1xhhWHyzhQSk84P+FBJ2miOjaeFVYkImS5OFv0tcLK+pmljdfPRjHFt9x9tySwbz/y6MEjR3cfOHT2zTPYrbsYmOZp6ZzHOIOhqgZ83D7WV9U8+L736qPVWN9AEjRWhqff7Z569rk/fObHk1PA6tNGxi7C+NpertQPZHMjfDxR4yhVUtHo5InVsgkyDR1u0ZRJ72hv+uVf/tQffP5zMyMjtxw8QJdvrm+0W9IkVSNQdRbuSzIyFYlmMJ+blc3XxGjo3qnw5JmTp3hzMO61lRwuZK/xo4iy2OVwv1qiYrpYsDqvpCSD2aqozF0D++YaH4sn+SG10d94eEcgkdPeY66bJTzgfhTK10q4xOOqwB6Gmh9YKCwpvBP4QoAYDAmWEU0C3VSOdGQoQWzwHfqFh0q2RoUGIQrspaKqbueunpHRydmJScl/zM8CATG6XmD3EnwZ9sjpi3w9WEt7G77svTvV1tUx0Oqq5bTV7N23L1zXG6uK2FGadu3eQ+XmdfKXQwEJdnXtQOj41dL8DLmh3RhJTnQ4EobNH5IPfvCDV672IxQyatIuLi6O6y2qzrAGX6o+rhXoNP/sU0/BrbS3NiznJvlq7r/3rRjl2OAoFtna0vXYo489/twPNVM4c+ZU985dIfQKi0fHx70RagGQNcW33XK7WX3oAx/8wQ9+oDLXE9//TnVrWz/Xb1MLbo4ZdXR2Ut0VjT1y5Ogjjz56191vBao/9toJC3ilf1CvAmcbXkizRzFELdpbG+vLa6uGB69hVB7EE3lShW6IcSxsLTVNGpQUbO3cs7P3wlncX3uont3dV3p7Ozs7v/aV/42BHj543V23H4HOHx282jsx3dPTYxNTW9Dby1AhO/ftweNee+45x6ln7x4h64HeS5SmmorScuhz6m6lGkxh6o4mxaYJibnsjCdHeqrSU6QTKgndOwo3hKwKFLFujhh0nv5QEOmC5hy2YPFx5kKfjzewqFFa1AEmOzJELLiMcaSp7Ovp3NNdt5obWpy9tLI0qcvA6aFjDalOtLEyX9Dc2rfwqxAAAEAASURBVIxJsZbVdJcJMDjSX1Sk7o2KQxwMFSWlvN5yX6gPlER+QUoSyzXKeMYEsDi8LJXq7+//8pe/fOT2u5jVPN9AAyibAU63Qrg1KFA2tOqJSaPZfXv29l+7Oj45fX1xKYbKvqbNDQ0NidRUN0bzqBCYWxu5ReBnWMei2rqmdBkQo2Mb9dwoJk6PkOL/efyJjz70UHNLB8qpa2gCCGB/VzW0Zuq3j506e+LMhX033PTEj18AKrn9XQ+cefFHTrtE/QPX91DnI61ncjIYH29OIrmsxiOPfO/rf/sVm4ge0AdHz/6efX2Dw1lmOD+a5heJLqx8Ypl0ZWrZ5tbnfu/3dvZ0/8qv/MqA8n5L86orFjABhsfxoUox3vXlO2668eBNNx67dKEoXaq8SZvq1YXF2fnFdIUCeGlFtHk8YPtwARGE244e3nfg4IsvvkyxwKX5BijmLAVNVp0+y4IpIF2cFHEgby9UlID2ApUOGsJioFbzM+dmZ6xkPljoDU8IpwpyraqKGvO2ozC1qF8088VQ1kHTRkoWliU8iADzDCgM1TywweoE1QUPS97Gv0gO7J626sM4TRFoDbSKMDFv4117rrs6NDa7sLDvltsUCCzWncQPYA5sqqvFMS29E+rBTF2xDMVPZUJ4Np/U1tQou4d1cqOq3obqZPUAeqhZ48aqAJE3u3v2LEHDSyvRoYs5V2Z+jobwPT/lsnisE1e31dzVs7tlR9dd979j956eiempGpmjjQ1f+8bXJydGbr7ptluP3FlaiJS1WkmNjVybmBg6e/a1lqba1sa6wYGBueXF6sZ6XHD/DQdbujSmaMAao7PZkmbrTk1m8ux5lKE2RVf3bkpKz779L79y7M1TZzBWffnaWtrNR6k5iUS11TVWh/tffJD34uGHv9OzZ19b104tIEaGJ5pa2sZzc+ahwhGXf2Nt5syp41JyFe1iKRAZUIgW3s+XF1e6dnSzkcUcWltb4TP+22c+c+999y3MzeLCt91886Pf+95jjz7a2db+q7/6q0ePHJFRdOtNN9mh0+OTQhyCwQsC5JRnunhKaZf5ynRZdVNzBe/v2trYwFXgpho1+WV3zE8u5KZfefW5ifHBpdUV3hwISroS6sGsqrT3qsgwEbgu+BRHhgYtPUrysgvBGoK9hsx0nMKHlQg0PM2bIGU7VbzJz50gYPj9w0CAiEitly/Prr/2XP+ZgnOt9aSt8H9xY23L3s696e0W3tuZ+fWhkdXB0dz49HJxacPaZvO2zM2tUuiYipoIMgAWzOfG3Rvz4QVCpMUlpXgPWcUnwOdjUK4YKCcNKM6c66M12E4IKdvI1u7oYvWoSzk5n1vhA+WJg7WiaOBcRHHilkL4gfO1I6MjEzs72yU0y1jxRE6jElVlAJxqGS0tY3086/IlUaQG62PZ2cWJbGl5ho5S1dAc7mCt2YrTdc1KXy4fuvmIVHP4cc4bbubrb7z5tae+K1zgoHLiEIo07lx0DzKmXMtNLW8wo7npCY4ZO8nnoYFofUNjx64d44sLxaWNBemy5sYW11t/RhjHxlpuvkksu6To6ZeeL6mtlJdUw6KpKVdNv3d4Amfc2VK/PDt9/PyZo3ffo4hKFra1qm5oKtu998D4slSEssizVG+a1smYAs0usAjlwDHf/f4P/v1v/NtKqa1FchI3Gqpqbzty+Mcn+9l1aIDAy6t+WNXqWpFcxdCvEiiMuSGVoARGQ/IKvpIKNJx/sbTQLd+Xv/zX0oewP8fBP4MJyorwSmJ/kVSwHhoZTodhUSHRdjJewBJ97L/wwvNZ4CrBwjCs+N7EuLDQHl6hH8/VgWs19U3hmaDGYmhGpxezIY1B5pBASMTBV+CVxFYxBprBVwB+Ypzr2i4UOKsBxQR68yTYHnEt7EJNM9XpmeiHYYoWgtpSlI6loaa5vSZbau/CC+sG++rrr/3w0R+27djp2x179uDQ03Oz73//+3fv7j516tz5C71Li4p5QRIsj40P9l44c+jGnpWlOSvO164ux9DYaHGBLkAb7FP3IqKra+sIW8W+pkdnkDLZCy9z4dJFkAViAfMdvXRJk8TNlfmo212eGSwZpvqZsNJunu7UmZMNDY1f+dKXDt5xz113v+31147PzC3OvfJabUeLDC8laLva2rrb414WZ2F22tPxBoGGIVD5g+9517ulZzt7rR3txoT6/IVf+Ln777+fjfPi8y8szM/efcfRe+68Ay6RtchV2dHeauMNNc+3OT/PaJWnTZQKbSr81tXZubO7CyRtamIClQj2EyY3HNjPT+dU27TTb56UeCF4yh4fm5/ifqBF1Nc3hnzMVEfNnHRpQ31tdmpasN8eIQJH10hkoL/eW3bsA+NIaNEHAdryV3Qf0UYzxsV5EHvCEIBWLN7yLi/NbK0WrORW3nrnXQ31agAMXbnYtzA3MhttoipXN2u3ChoyFfsWFB0pyWjSRUXVNlhdNdWfJU4uz06U11TpBh+cpVh5dRVrgCeF8AJdYQvo9Aomb6zNw+otLK68+PxLMlQl+VIPeX+bmlptrpwbazU5leWIPH/iBLFU195pU2j6SLyukVdUxYi13bt3U9Z8TuFsKGv49Kd/5VvffaSxuW3H7r37Dxx64smnBweHeejo42zAm+69N6NO7JYmrJEiye8BJIENSrxSSd/aORbEhs0h/PbvP2DpGECUFzq1vxYwVpUik2TQxHZ5YfYy7dNl86PLUVObvsCxtaNLRGRkYlwbCMxB46QbDh/snRwZujBw5s03FjAcbvbaJg8icyBdmVFlhOUxMzFQqdYgtbe0pLq+rvfS5fv2HQpuA4hk/AU144sV0Z6ZmiirwOW1I9283Hvl4x//OF9hd3f32NBgXU1mY3WhuYVWeN1jr17I7zUuE9udRAzNf3R0HNlA+rHljBBEvjqHmWKe6FnkhPbjDaja+cu99ltJsYXpqYLS4t3dXfV1NViVb42ZL/PHXsB1JOiFY86HXkmpPwzLZVbGhxbKXx+7uzdu6i9CdS0lyz8JYEQSpzsqYUWmsFEQCy+N6lHB82hAwfWiWwDLMopWhHYUimtwVlpYWaVMquSzn9A36zugruTJTwK64dVUPQmccpmkjiOhIJEHTm34KzhkurlUFEeupZ2qV1td8fa3PeD0nnztjdkLIz/44hdLK8ot4uDQtbnJScdJMxDggKbqVHNl+c6DB4YHh7nwm+saRSQpeAsbUs74KKKMgVZx8kAxviFlbEck9Kz8p//0n3gryHZ5kYSGvTTyU09+81Lf1ZLKdFFVzRpI99bWyaGh1PrS4cMHPvHxh86dOEE/6ures7u1rmv3HjQ7NzLQ0tGhf5My5VdGhwRU4DCAmjfm58iyzpqWQ9dd197RLCnEUb/+xutX56PmZNfe/RPDo//f7/4eD8jc7HxjQ8sDD34AZQPu26dTJ44fe+01e+xeHZvptnSVlXnttVfJm+qa0vnc5PJaJc9bTWPZ0pYWdXOV29WqnSkpq/NFyep62UYqnbiVihfGNwsW5yZGQQR3HdjzX//7Hxw5fPui0oGV5atF6b6VTM3N77+lcPKZZ56JnDEewUyNHL2UulSb8mznUmk6Ynq9tEJfEr2W1M6qTG+Xr1WUFAAIVE5tzVUFpnle8YLKjv3zqmKV162X1I+sbvz985o7UcZ2pLZ2K8BF809pCEkII3bpDyptpdi2Ufxsc3lRABweZHlxo7BCUguXpbjOutRstbLWUys1Spjm5rFF/0DCYAXsNRfw95auqY5F7el84IEHvvmVv7XsbW1tysKrPY8RjYykymokS6MqR6m8ran7ffc3son7c5NNtW3nxgdPXBls2Xf3jo721Pri57/4tx2dbTu69rU37nz2sRf7ei9g7lHWtbRi5tLJs32X77n/rbw1WZhv/Dkq4ii/tLm9bMHDJyt9yq7RybjAKvbfVbG1IfRy5vjri/PZXHahupxLR7Gc8v6xIYJibWtFz3tg80x1rXJvldt1LbV7phdlMLSky+qWxG6gZOrqtxeXN+ZX5s4PthbVD8PtqTVaD0qqXGdxqryqvbIW8ik72aceVUVB3fai41l66eTg/bccPj49Vbmabdqx89Hzx2fkLc5uVLc0yx+lIvE8DQyPqRjS2zsyOL/8kY985PqCgu9846v9QwMFGytDIwMPf/OrCsJxl+nBLATBMBVd3dguXVohpIip7eKybQ5QNVgTDUzB6KJVZbWgtzY0IiLeA/nsdKzJANjUTV4psxVAQv0CaCGrWyWLpZV0JPRPl+LXpzVpLkp5ZhrKn6HD6LUd1l9xAallrWGFo4hEArphpNtNrN6s6GMUWGxR+H5+MUcdCXi9rg7Au4wdP+BdQrFwlAxsgFef8KdQtm0Aoyy4Fa1aWmZaqnegpY1lC30ecZfCMBwgxLjb8E4g6JCsStbAbsDmsTTDT0nP4xiJodjK7E55Wx7HOAFqn0lzw1PTODbyXJYJbUwqGw1FppCD4ALfWi9lqVSP2rVjB2yxixXkpnfwsLR1dl3UyXZhYeeOLsmr/OtikVIhyAQ5WxwNeNl9993X1VH1X/7rHxw6dFMZGDdRr1/jxOjA5Uv/7t/+Ru/5M3ccvQsg4+JlZUSvPv7M81PTc+mNJSrKxWtXf/6XPn34jqNUX1G/u2+9tePwDY2VVR2NtVZgdm6hua11fGry4W//w5Hrb6AC4MhnzpwbHBz0UJoMuzUH1pe+9KUnnnx8165d7S3NmIjJv+9977v97nf863/zq5/73GfxaIFcXJVu6zH7+69RDDkEWbaKjqYrKhGA7G4ZyWJhd9z11tffPA05x1ylY9qqPT09yp34IT+k/7itYBRZoKnxSd9mAh4Q7kwT86Id2gjGkpJ+JBjl2J66zCu7takQ0LXBQXiKOLdc0UAoUlt403GpghJsyAi4U6giMRhaDE0t+E8JZ1nEkUQc3Y4G4BJM0d7z2vLVeEvXwA8S7T/Ym9/baDSeRGgi2SsSzSKeF0PKXxLD5fVr7e5GKl1dXWfPnjWyu9sImpefRapGIMVoYeOtLe1Dg9c0bhaA0/JgZjxbl6k4e+rY5sIshmVP+64MgX1aWEfKiaIIQ8HBSTGbuDWE9kyEXQKNpDxPXmuQbIAOsa85zoGysrHhayrk3fPPP/bUP3xTOX6Pk+PTXpgd6ltsa2vlbyXL4AJsBO8boxKSTE7RwGDv3PT42vbK3NREQUXVdk4eZURQFueyzqFk8FBu4Xw1FiurHh4a2NFQ39LZ0lnWNbMwtza/Sngtr2xMLswyKZxT26L0O2xty8FDB47c0NLQOHDl8vOD16zuPffdl44W6UXrFek3T5w6/8bxrtbGqXEASDAoUcBo1xD8OOkDxucUe0OzVnYvnYQggtfw7Sw5tQITmig5+C5ODnDoPlS2+pZuDIsP8NLZ09mRfooaVuAa47gY6MJ7XN7feBOYLZZmDOteXvk3vkJ4+ITfhZc1RFMQp8/VEqOIMfPRnk+WF6Be1fulS6Wry1A8tEtZpS1nIUoCiOzqirQ8u4XcCvcMuJOlx7IsK0e/+kEIxcwQmWp3DoApsi39c0ONqORpoxdLZEYHMWLI8viNDDYtw5pNa7owwaqcHbzh0OLi3Ojo8D/8w7e5typLy0DA5eZOzExaU2MC7wjuEccQIlb1oYc+yvh3axiIF557gbMTPTE3kF1LcyPzqr/3MoWwuhJafQE+UiLaj598/Nix17JkcUFhQ2vr9Oj4Sm5u397rPvD+h64Ojy/Mrr55/rwN6Nmx696j9wxdG62ranr2xy89++yzjS2tt956155de555+q8L1uYdwrY9eyj/wpEGxOUFdO+8656+s+eYT411dSdPnf7qN/7+Un/f3MzMj2pqp2emv/DFLyugzHbgCZ5dmPut3/6PFmd8Yvz6/QdefukVhvy99977rYe/Abjw3uaa5196Vm8uqV2J1r3uQ2zL/jmiMoRKijkJIW82xiembzx869NXesey2Yc+/ouf+rX6fT3tD330IygYXz7xxhv7Dl1viCihJ95WVLyj57qeXbt7r72SpxSbgk/lqcrmYGcRcE6rSMFfGVVekZ2VZ78oCnT77XcqatXdvWNkfAzEUy/S0LDEJtaTJKdgPAmzQmF8ChFbjpYU9tG+g3KgRZhTJz/BCkv3tO1B9xYhoV1nLh82CrcIMLMN4qyFbAyVPKaLWJSNiqiZhKVHvvcDz4h8xYxCTNLRZQltCgSFuAx/QAkOufbyq8/39OytzJTcduSmqszRMydPTA6OuS+ftGBXb++lkfKx9o7dgKnhZikSyJYbXyn7nLOZsFWcYmUtZyaIV7Mg5y4vTZfUnEiKLHk0nKiqaHt8bPDJR76r2EOuYP32W25RVGBo4NrG4tJydJlFrgouTFTX1w8PnITLrNQ2d3lifnawvHTz4P7O5d2tqt8EBHNxeXttS7tDT7uwoofc4nh2itmoq5KHmhrJjY/0K7saL6AEDe6qG+fnc5wdDG1HL7W6zRvYvaPn4MHD9lptL0sHB7CnZ19uchbxlEsnOPNkwbKKwcUVqUoGQMlGeZFaxIE5CErACxQgsSnxEue2O0wowIDaItyB0wn6bjmHoyVzSCyqvI2ChHATNSOxArGvopqo/+Hndju0FnsbzMonVKfgCSFXYlPz/7GwscfAr2FHGKufcQ9isILsxdEfc1xKrORNaF5ai19Tm7QyXFjmLN8OB8LTP3o0tRIFKMIj5mG8knMjyR2rCp9ukv2ER5mo5xTsMwkMCreKWeJKCcPiTGF3+l5B1KjDCQddqmXjIsgh64ymB/KuKrExQQGgBOx329GjJ0+fUoNhbWZmEX8qiw5rFlRoVnTBaV9aWty5cyevzP59+15+6aX773v7xPgU/w5o5uvHXnOxr/g8pFNQrBqbm+39/CkIqnWT0Rrm5ReejZBlY70qIibf0dV2zx23szHOnusDLD9440033Xz00Ud/IDLNLzAx0Dc7Ofrc009w2PnVD374fSDT2265hZUEUHr/Aw/c9653n+vr+4u/+F89u3a98MILPR0dh2+8ganz46efQqu333VPfWvbGydOwDi+8x3vPn369G/91m9F6d6Kio6uzs9+9rPcWzZgfHLine+4/+8f/gaf8W//1m9D6Lz8ygt/9Ed/FDPcUpUkeqPzwYcTpLKKpbGnZ38ep4pb4aSHbijeUAQ4Xf1f/+Bz0Ft7djdvqMSqwW9qe/Dqtfe8612njp+PSsQWYmvrClCbKrQRmUUjSCRi/DZOdNlfe1fT0KADHL5vPxRRUuCsu6Xh3e95H33IVBua25t27DhzdUqwUAC30EKEpA0CDPUHCCbUIPyLurxh61EpPybawMKIbgqXEAK0kxuZDe2Y7CFqw5TM8yT/FwXhSvnMEZ03fh8ga54seXZQ7jz/Bam5qPkLwRLaNE3Qpgfh+eWWN8qwROXg+dxcAHnmpmvrbsou53y9ND9Lb6d3A9M01tcKDv3U+99H1E5OQ8jN09g9BfYqarGaU0YKvRZUl1VA9jFHNlc3ZKFB+Vuu6vpqz5kN0G4UtreJbbWVvctzq3PT6YIoLgXQoopZbn6OEjq7sCQHCynyylN7bS6V8P7De2AMRQMEvbmcKEixUlvbasvZFt5j1E5JVDQKS/aIsZ5LayNvnjt35sxr184+c+ylwbGpS+f7nI/1xSXJ5PKglORprS3b19lTVVTxJ3/2xYP7r2uqjdYVQpXSxUeHhwSwZK5bJK430zbsRgDKAV+SNY0wEbBLHF7raSm9Ud8iRkj+iSToTACw7L6QHsHFDULrCXXM2eQFws1Rkc/hRvw1iFeMaSPiEXmUpOBTmhKXFaJDOpSiMLa89+ThfDKyIpT23JUQceLCjBWxL3E9YgxgOFJBGMmQNyucoWpFFRZDA0UVYuXE1tZNMy9paQpr2RlDT1P+El8sCuWgs9SyTePmPnQ/b3DX0rANR66EMy+I0StheTRFCwDjqNQysIxEKgvhkVAJK/Jv//ovXfgHf/iHf/7nfz62lJNRN7+2YmFgzQUpJWIapLmj7T3veddnfu+/kD+/9mu/9vrrrz/88MMdbZ39l3u15Us0UAuw+c77300gzkxPsRcMDlVw+cLZ6667bmx4QIrGb//2b7fU7bx2bZjm8omf+7B9oSjVZiqzgJvTeh1X1FRlPvWvPn3jge5f/sQnuQ8P3/uWiampHz36yBe+9BcvvPRyQ0PboZtuuueeu3bsaHztxEmpMKw8pHzhwgUIQ+0fnn3hRfe9/uDBG2463L1z1+CFc9m52Rf+5m/+7qtf0w+SXiYl6L0PPPjJT35yJpt9+eUXb7jhBvWgj9xy6+/859/92Md+5uHvfKOtsxNItq6xDq0r552dna0vLB6bHGhv71DyHLiqu6kjOwf/xWSpX9ksXF1ef98HP3LzHfcc2Nv+5T/93AI7YX399BsnFTKFaGUPIqC8XBR84HAJ7uLvtphmhZivzaJScbsAC0OKyfcEVh3NaZc3/8EHPnyp9+royDijaWwq+wuf/pWS8mhtojhJQrl6zBTqbbtZHH033ZRcFuCDhkEKOrqv6Y4TEnZbH3D+FKa/y0OtCpRmwO4doVRpxL/xOh+iIhmqwUMBHyIuUtnWtUN9PKFVnoJyRVQEtHL6uK0pUOd6yjXmh7hMSdgEHID1QoRSFyqcz4wyeWUNpYXT4yPrq/OtLQ2nXzi2uXMHiKZ0vB+QTAWiqC2BeyxT+SnFesC8uHVrNd7YTC3PL9VVVgtDbZejvjX9eqdmsi+++OLk/GwEjvWjXpYQslBR4GBl1xaq05Hcu37x/AWKhnXO1DR89GMf48HgB2DD4ggnTp4SmP7O1+e5Iw4dPkRu1dbX33jTYZOPV8E2vEt7RysKzIDkWrjQU2P717K5zl37O3fuf1fxg79VnMotr75+5mJFQ+sf/P5/v3buVKauvadtd2FBRUemZZvjbWZyZXMHM43jR7dLoK66huq6+up0JWOpGCaFu0mII9NQx80ER0+3juP5j7A7x9e6B8YjalfIiErPzYKFy0YQIlS1PuJ3XgExxGjimnCiG8QDqnTlPRaGzdlTR9s1waSiXkzwNYglP/B/TKzE7rPxwa38JOFtUpiDq+CMpLKWycC6LW0dvZcu4g8iADAo09OTfEoh5aDCON3Wt4o//z8/y9gGGaENiuW5N7bC+8ud0d/f//3vfo9NDj9mWMHF0YHBpDJDiFYwdH/pI0KMIR6TUrZhd4izJq+YSalo0zKGvLK0EJJjfYUVEuK3oOA3fuM3YVjF8gALJovGlBLAOjva2h0J9z315kk6J3vNalKfn336mfGR0Y//7D9/6oknuS0//cufvtLXJxKkudv07CTz0A2ddsE4ADE+JvJN2YEvfeFPv/zFLzBUstPje/fs/v8Zuw8wz67iQPSd079z7umeHBVmlCWEQMgjgQSLBQZjjLENJixmWezngG2ZXb/14vRs764XHuvdNWZtgyUDNg9MEEojUI5oNAqTQ/d0zuH/7xzer+4Zjfm8/t737jdz+/7PPfeEOnXqVNWpqjMxPvzRD32kd3CWT8z0XH7rzt2WAIv2E4899PW/+8JN11/90uFn9+7aduTF59s7uz75S7949NhJVjmPPfqDJ595+kt/dzfVo7NQJs6cK21utoaPne/d3NHBu+GVIy8bp1ePvMzG3YMtDUjAtuArX/kKU40HH3zw9Jlz+FOH06ECzz/3jAHjKmiT68473/n973+/pYOhoJMjihn6k51Xlqdt3vPDP378xH/+r597wxt/bHpWTKTZJ556Dv/14+94x9/8r//Bueld776TI+hSYVj4yoUy3pkTfedO8X3t6eo8/NLLqgh9oWEPdWZI4uDjlxWcMxjcMzTRSDrTWCFL0SBxqT792/+eierOfVeanEP9Q9iB8vqGYRFkCwvr1UtFNXSPce1h1XrJNpTXocYCWJdVUpbF4V2C+SrXcTi2UHbu3PnIw9+vz9WNjYwgdthAMaQrIjjqit0uUAq6BntxWFWxe62pMXqF/K5LL6PiPv300yZDnJqt9aE5CR89QgD8VgJpkuGNnmHtlAR6vnUaGF0DmZECEdr0nTs5OzVNXtJgFMRqbjrpaWg2SsR7ShhKbF3cf+l+4RgZHn/5q1+raGZCWERMmx4c2rt//5VXX2FbfXx6StWmA8PDzrbOtRqH+1TV56qcIqEikSe5VbBbuuqaq7///Ueuv/7aN9x8MynknnvuJi5dd+21K82tXVu3C81++Nv3nzh1imp1245t3EJ4xbLA8A8mP/7ooyeOHpubnCAn1a+tNJaVXrXj8vGR0ZLG6qJc5XOvHqVkEe2suq6+vaFWDEaxfYWBXuJBJVBiIyF11ZFtEQdwdXFickSMISf4OfyRXps4hO7wbGcIGRFURNvBzwRzGbIUmLhgAvWWZRvBohn3Ch/EBgn1RFcsAmCY5ccfw5Rs5Yq4xjEWfHSqQn8VJgGOt3TR9+Ft4kBxtC6TxkjzfG0RLKJgYmUQ5lCG2l0NrVcoo5A26gkiYUNL24kTx2xncQjxziLBRMMxT8ReZv7YurKbX389tZnSgnnaKJqbW3744Yf3H7hs8+aea6448As/99MZ2YwMSCZSd+rkMevM0aOvPPjgIZKzKacbRGCCoZxYQKdR6wYEyQKTko7LiyjDQseB5K4zNcCA6O0f/sHv//wHP9B37hx46THCZ4BJhVQhM8779ll5BNv+zGc+c77v3Oc/+7k/+7P/fN999zrsxHn3zS2NFeX7mDJFcLilFZvctMlsCPoHwk2np7sLB4Q0PPfs0+gC2Rg3YX8DZvSf68XGxyYAM6Wmsul8AQI5lGl+su+B752rrakUt7l/sP/AVZcefvFpZg1O3naKcd/AwOo5RLa0ccvWyuYmyibdOXD5PtaQgvCI+20PGCFmtGI1GDl3srOja1NP9wsvHt6ydbuarrzySgKFPO7Waqu3Rt716d/WdMNMrQmedgZIZAbeycfsekRzeuDQ9zs7Nw0OjYg9wMsXIbad3NvfF9sjq+vf+vb3Hn/80W987Yu3vO6axYX8jAjcxWLgOQwuguTy3EKcgtMuryjKDjcIdMEKJ107TIUyznVgpu8oBF6sa2uc93u6W9aX5tcK6z984SVLmbMbDtxwnRPmSWu2uznjBBIUxcKALhgydK1iS9W+3Vtw5f0DfVha/TLDaccsM3pt5aPqxpAyO/IJtySRZ3r7htIKrwQFGinMl3V3lV6iqOjhe+/LVBOMJ+YnV5bsFBCBKQfQemRrztnrcF6QQNLc1JRDWJ0sTNf/7LMv0PHBvqbGVpTrsUefmZ4cpF1raezgy8mQ0l4OaMehX/YHGO7TV5RW1FaXcwV99egrV7/udVJ3XrKnY8s2U9SJT+cdPWQhbXBkQ66xtUXcKzxpUZm9dGLLLMzEXzM74JZtKjI9/bE3v5U1z6UHruAvyT/hyAuHt27e7OgdsbVuvPpKHNZVP/nOu798z/LcLKPtb33n2/TGP3z5yMTQIKmQNoeqrzJXn2tuwEvWNOenZhYOnT3KVwS5Kpot4tT25re99Zpb3vLqydPzy4X333nnHdfecPNNtzRs21XXmCsaH3NC5/LsTCXnulJHpczYZs3PjM+M9/M3IXHSqjmJzbFGEefOMTRZ4FBzFvwBFiEWd4w6YnJsFACZkoMwShFcFTt132D8sks6E15jaiKQHQ2cVcod0ZVoFlsMjAtG2+JokHwt4oWNNT+slv4FYxerj1KtV+hJxNFD1pTH5TF5JkhPFxSC6uwi4IbtPj4SFtCp8bGy8ZEJeKP1LqIrXcNHPvwL3/72t7Zt6SEhLhQi7gKrWtgVnxYX7du7D5Qv3XfJBz/wQRuajrFsa2+jetGx8G2ICGE2d8KvEu+Yiayc19cZCtGwWUsxwKQk7XjjG99ILHe+K8v1hfz8aF/fqZdfOXUMNygc+WpZLk7fNSW6OjstNR//2C+KMjo5OkbvTj/1xS/8JSQQ21+eS6+5kh0hjkL8A1SvuaXlzJk4KBCDY/JwoCEoBZu2tGT772Mf+ajwRN/49tfvfPu72PRo064de0tKOq/90HtfeenwN//+27aoWltzrCLeesftR48dv/7665vqOianpg/eccfdX/kHgu1P/fTPfPKTn7zq6is2tbWPhLKg4Sff+ePkUGqvWeGa8oXN7U2WdM5cRL+PfPRj733ve5Gqj3zkI0zstIF1+9/8zd889OD9FFK8CKk5RE0FFngDe8IohTZhZfngwdtwZH/x+T+/5Mqr3/Pe99JCROTPZRFjIIS1ofgLf/H58+f7tm/dVF1lw2iiprLZWv21v//ajTf8GN5kmVUJRsph3eEtLk4/SkOEF8iacVCYmKplbHRkdmqysW2OhpFAZ7U0t4f6+r7z0JPVlTWU2L0DA5dffz0UDITL1BPGNKNZJLmVG2+8cWJqVkgVjibyXHLp5XqBQN/7ne+KcLBpU4/BwZjXNzZ3WSHjlKeGkdFx07W31yy1E2cRjSUedjFfUsXNt9126eWXjc/mmfsyo3318Isjfadnpybys4JAYQ3pUMqKsrBF0QyIVoHBLyNq4Jzo8dgC8kmfGJ+j7aYjzdW1MDN/4YWXLtu3t6yianVsaKMiDh5nbYNnK7f2h1nM+tTI0BXXXfWGgzdzaHp9Y12c/yPK1WyBbRGZl+MU3RvCJM4yn77GXINDSTZv33HVwvKhR34wTzteUr73qmve/7MfJMhw3efGfOr0CZjZ33/e+aAOU3jh+adHB5mqzZ4+9nL/ubNHXz3MO+/A5ZeNDg9SA4tutnXnrva2LmaJjP0z26D1M6OPLJY4CXKpuXtzYWHOhOyqbRLqI9e17cD1N8yt5P/hoQedBftS39Eb3/ITs0sLt9z6lq72junxsaWZwrKTe2rrC+NTj774cM+ebeQxW7NCNQaY+WxxAaQfsjGShWbTVQsY6gCeRh8xgYFSTBYMq7dCOTi/1p+MgkQUddlgQsCfh6klLww446ehdzCH4aSxtTBaD3GEwlYhK7E4BYGLoZbVMMpPosTPRAr+Kjsvzk9ULnMcymTJ4qIdO7Y5jRw3wAWVlmB+3gGrPHXGy/7oD38/iFymgSOyUkD+2q/+ymOPPnrvd7+LcNoyjBbD8qpKPeGQVVcdMWdxGZgXajN8wfFXjhMSsHQU++Xiq4aze94G87necxjTorIQkRxJjcwBB/VNkFlouro8NjLb2NwyMDDQ0dnuCAbSjb1KOhjTSTe5mOBc0T766YHz/du2bUNAMSlqv+aqqwN9i0rM/0cfe/zA5fvtDD77/A/f876fefKxx62oTAHs4mG1mNs4PRxczBkc3Ec/9vHV0slzZ47edvtNLK1puZcXZwzDoQfv5aNzxx23WDVYTuEvHE1OR3P/fff1nx34yL/+xRMvv/T6665+4smnH7z3WwPnTt1w9YHOtqa6KgR9bmx02I4njSCbsJ1bty4WprWQMPj8889//vOfVykG5LOf/SyTK7iCZ8Sh4Bc833HHHcDOklBfyJgG0nifOnWKqRSm+iv33EMJePTYK2fPnnGyMS1nR3vj2dNH1xZmWpraFmZFuzf8K4X8ZHNTrqO9Zfdl20dGJ2sFbGPvv7pWVZebWlwT9a3YCU9Cjiwu1Xa0w0hkD3BBg56FZSk7S3tzmmElPXX2zPz0FHkZB8dkv6m5ldlXfmJc0JBA6KqydbE0quoVwo4EfMrFn66uu/qqy59++ulXjh43uLogalUfd+QxDGM9VTSxfWSkD74Cydmz5yQimobDhffG9MGx08fP8Dd66qmnes/3Tc8vcsSxiUZr7gBMfFPs6fGDI3yQBeNs5FjwCbImTqAlk/F5ayqDEAY6eMBy4RSb2rpmp4Z7urfmKlsqq8oW7QOW8gZdFS479pWWl88de7W4usqKSsE/UFL+zNEjv/W7n8kV1c0vxfl4DQ21KFoWLNjBoDXl1RjqiqqGhvUF8KwtTKz1Dg6zUTRg7/zZn/34J37JTu7g0NBof39DY51J4eiMHYxutmxyegjh4L7vfR1i5+cmfvD9x7d2d19+ya7jp8+MD42xEjIVl2amhgtOGplpqKkTTrouV19Z01Ayt97Q6pA60l51fnIMBjnt9dThV4MlqK159vGnvvPXf/uVe/7uL//iC1eTZ1dWKXsQ//ralo2l0lmTML+4c+uu5tbW/MQxhr/Dvf1hi8IKk7Ojf01xogqtm+XTeAXqZXM/OKGNiHpQXYWHaGeHZTcS78BmGK7KZvdZSPnMjlhgkNBd+1BRFh5LoIsDV6yS3EBCOSksCtoUjl9qESwIUfMQ0WYc5yV2kI3tlay6ajr7OJKDEh0lNMS0ogwX+BI5tqazvYPp2/ZdO0+cPGPj0sJadsN116tb5epQoQtrh9yZPGFWahOQBmoFAuXHI95FEQKmYlUjKDwPmhubLr3skj/94/+s9cQ3QfgQTuH3zvX23nrbmy+jRChdvmTPJSbqA/fdz9OCLi0/XxgeGXnpuefJZdHd7KppaJznm0IXRhlck+PcQM0RUkywnBW4XSWYY9wYTQwkgL4ga/Aa47WhkVEmr8JU4lBIe4V8gd79+PGTf/7n/+NLf/03pivuRr8wGvbeSiumnnnqaQt+zFKjgd0wjuTn2Ove4EgPoIhXjWFrqRNvr6ulBcvT2tIEvjRce/dccssbbuzpbJscHbn80kszDWscnohpceyFeJjBKJWV4TLuu+++v/zi/2ppadU/E540BJggXZvLHThwgKrlj//o/0LOZuYW8ZHnzpwxVEZR7+zMos67d+568aUj1OmvvvIigkgxNzc7+Vd/9T8RqaX5qVxDI7cTlrjsALt72qgjj5941RkLFdXN9kRoFWPrNjamQ9sYFgxUM07byHwJ8cUo2HVXX/Xjt7+ZlSmVzUoE7lm75poDAga/6a3vJj1hxmiUOOlquTOO6lo2hUiYhVIi3M3NSBTtj1ar9GzvGWsoiTsWJxgcKyWn5tWJ4RGlTkzOUMAHS1VdvTE7yxQlllqjHLrcIjFmsZ9XX3vNQ9/9ur3e3hMnisrjjBKci04IOsA8RQwJ7GHmaRgxBkyZMJQyqEwAuWcUr5Xnyu00xak5EV4uNzA0WjfHcYrBkx3B/CV7dmsPmwn1Wfwo2qEBAZRuNdjFsMTm7sxaci72JbKjZTg6qUNwHl4gNu1YkAd/sLRaVVJRX115bGDo9KnTxTW5t77r7T/7gQ/NzYfxPfOI7rra5kab109bkG655WZniJ45cwprduDKq5949PGtW7Z0dnfd/q/e9swzFOivdG3aTMwJx2veuFU0yGHYAOucUtRz9aZjL50WB0B1ZWWlrQ2dS2yNKqvPnjj18rHjl+y/fFtb98jRE7/7f/6Hv/1/vvnQ04/fuv/aXJ09m1rWCpW5lqnpibn51ZZK6opapxlFqGsYEKHP+EcjIkFoMHcxuzN/0mztCA14JkEJfrnosD6sALbJZjKAsOUIuTW7wgUss8KjREeP7GhDsUSJooDMlSLoXrjZJB5Iva6we08l+BF1wYGsHNhuozLq9i9s5PHSJYIK0boODg4M9vadPnVcY+rqm8DZRio6Vba5u1vpWDOoCbN1IFvDWHuEVV6YYIWcx4klYjmqiRUsVgs+FQp5zm3j4xM11XVvv/MdV199NSZicnbaufZ2gVWD6RjoH1otWjh59LTCuUNff+0N0DGEc7EQV5cfe/xxLib6xP/uQx/4oD44fwHNOnTo0A+dAj81jVAvb3D0KCuuQneL+esJhgmmpHTnm4ddoumxsMRTv7G+9u0//o7R0fHXv/4NlI8iJX7hC39Jk2oe8mbkzooykFC2bduBjRscGNu6tSYUlXEYCoypmYrj4PmIhEZp5/Zdtx48SA+FloGGE1Htmo2NDBE0BM+ZGB25821voz6rb2seGuwHB+p8hp0D/efpuQNkJA7HDZaVDw8OOSGOpViwCdkpIIAgv+OsDR6ijK809fZdehW2sdaJUsUbYyOje/bsGp8Y5Qz00Q//wrETEbeHccNMfrZqz8629uYjR46cOb3Y1Fq5KiSio2haKgTCoPgwgvZ3ipkPWUPxnmHPZJmDKERIr0pxUbZ1mJSa7V7ZybFVerJ0o7656+vfuje/VkaXNzN6xXNPPbn7wHV2QikwvnzP3b/7R3+0sj5EwUDM5HwXATyKKsP1v2K9ptYJvZoBrxmWrNh4xqfrF4zUGFWHFJchMa+wqJHKtbUt7mGiHJFsmbaYr/p+87ve/O+mz589O3D/gw98+nc/kxcUG+2ggbAaC1AfK3Bgv7lBrA1lXJCc2HvK5gDfhlrRGGljgi4Vl/G7ogTQUEssgZF04IC5olUHzpQ7sEE8FqoQKninuDDP4NG4BD+qmf8MtHVtIkI4hI0qmG6jtrqONqbaZmBJnflVU1a1zOZ/Zvzwy0dvuOXWc/3923ft/cGjj4mrdfnlB/B9/b3nWFy//NKLk6PDq4sFOxGvvnzE0DS1djW1b18rrn7Tm398qaQqv0ETVsoT3HGW6/nCxOx4aa6ioaMWw2HaDI8PNs7W1Qp8OjGXa2oXcEWcpfWmHFuwWjFX6VsWrJ2dN19z49xy4VO/+Wv//g9+78vf/Mef/YmfrG7tpJJfztUNDg7X1jZ37dq7UrJSVttEgWnIBIwNDTh6Q5uVARBeJai6m3cwJdIzipOZFMTqnqXYwIPUmPTQuMtgIPAZLsgcg5JdCnFZqpFCQyY5pZD7XaFWR0UyY6zQngZBC7bOaorqha41LMNCfJSXPSdGxK4B01+eyFCJ4gzWOuUR9glSWEZG8+gHRM8UYLAtNiFpmngkMHigB8G2gLJqtKMhQtflxI3mos06Rk67YJdets9+7ebuntvfeodeqQMpIcwjB2qva2xC8PxbmqfyRncWYJUIXDu2b1cplFXgyRMnuM7Jk19Ztnu/e8dOHJwdawiHdJvwlLgy2za2mU318xNFP2GVxjo5F1gMYoUIXwz0QRDxKeXl27dvxzzSLIAskFkH8GUEkNVV5x2g34PMODw0NbbwmhZ7izoMzers7BKaA1k0o0wzBHNyelwJ6EBFjmm+iJgRQeyKAweMighEVipMFssA+5LVFTXsdEqrQsxxzCrAohF4NH7dYBIDjD+tqWJvbS9c1XrBfJ/tuwUAPTUL6RCpzzgJ4ti7ujqaGxtjqjpmfbksc3VawsSJidDU2myTjHW0ivL5GQIs+GSDXgQOgmcYd3tCnB6wzQoniBXNrwEylIINqtaLp558fGZi/Nobb87PLQm7BNZ2snUZJwuSVntLAsWZC5tuT2CDA2JEyMOFBxsZO49UEaiYTSJGNE7ZCHktdLThgBvYF+yKh0y/SueKmKVtoqBrhiN4sQzLAfD5kqVNXa3vvPMd7/qp9x289baTx48XzefFhYE/JLL4NPDeLWyYcAy0tMEQQf6SclyM3V5vLfmm1ebuTRPjFpgxcTXaiD9hS8HK2yG2CwLuzpc4Y6lWpC2XcCCasLxOUTP7lT//fHCIsSpjKICc0jgOnuEHIiYTw4n8+VFbyl2tnZNjA0+PjrV090DFL/3t3VOTM1TskI0CwR48tQC84uTQ0tS4dfsuzHLRWhUPRXwia5NtO/fOLS31j452b9vi8Ju8w4nnHRhWsCblKmtnnCFfXjRy7qzYzIzC4INgD6MQp5iObpENjthlM0Oj51850dPTPjA2dGyw/1Of+vU/+O0/+LvvfvOn33ZnTc/Wlp1b9+w/MDk41D85XVVXMVlYLBHg0GF3Vq4wYeJaj7cNfgY2gm1GJoKoGHciAji70iDC/ZTgZ7Kh8yqbEYEk8QmGltAXhWGWhGCKYYJamCtVxBXW47HoRCJGh3VvVpFnOd1RMTM6MqKRphbFFKjD99D2xL6kBigWmfSFQqZnJnEe4cNp8GC8fCaaOWaDyeoTmwmhvsf1iQeG8EE8DILt57GKsmkErrOdYmW5urzs+48/etU1+/+PX/0VPD7Q47NGhsdCEVNcrHD2CtIBA84SnZizazerGWIqHiHkvYoK2TSQYcfi/ALbfkKK9iG2GkVNEuz/2jrZwdyzg5YBS/Ywzo4wkuVlNvUBMbT6zJqrK5kXxX6FFRmHmHEfWCdzBU3RzZKiNpOtu3O7Z2yFmUNZw5IJgGwE4bb6zvXO5xk0odMOqS+pyHGljIPgTfxKAktECyFNFJnDJC969ipsfE8Pgklqsw8Qpiorq5i7zq4OtGlTZ5dGqsskQU8p/kPWe/EFMZFFOpybnrJ//Nhjzx3Yv9/GneVBf2MD2plUInXFYghqRTwNw9c8zhDd2H/ZAedpT+anmdVQFZmWjRhmgU85hTtihNYPH2+kMQ8kgRWkpyxk1eI1mxUwyEoGWVk6Y6Mssihsz9bd8+dH4R+m6aprritQNq7FAbpOMFIa2104HFZXKBTZLPZXkXJ2e5aqGFjMHHICV+i94yEwrBjrFHs0EC1bloPXSw+QPszX5YgNZYu7MSW/G8pnnnxk32X7BH793Gf/6x033yyLRSJ2sWzpX5wDgdwQOxJw2Xb96vheCiqLU6PJcnDv9Oim9q5N7XVrq52MT4W/Wl9e7OjudASiqNYsi7B3phec4fvpwDJ6Fe5yNAMZNc14UmZK6DxDNoz6wpqT05ZHh9gEsgN67AcPX3vFZYfP9n3oQx965dln7/6bL51xzHh7+623vMla60CTzV2durNQyGdqwSJ0P1aszq0UNI5mnM7PYcm5o//KL/+yDtx84xttNVLgGuY4UX191ZFI63QRC3Mc7WwpkHfswcwuza2WzE/MTlc0NZZuVNQX16BliEq7IJFlG6deeeXXP/GRL37xr+7+h3t+5j3vnRjfUlZVYx9MqK36ltz43Ax+Flu2QfvDr9iWcUUopMDfFXMhM/jMSIYJahBjISESSo+9WoOUyW7eIA6h3gvf/Aufy+wnqrfkbODM1sHPVJQ70pMhRdCh134EkVKwW1QffFssfqQ8iyC8jLgN0m27R0QGGMTINdrDGYOyT9mxzz6/GEECtSZQIIqLRQZyUWnATEhs9FAuURljj1zlwliEAqKYUT8nSRst6I6tdzqH/Vdc8Qe/93tf/vKXUQFx+G699c3XXnut+YDhC9pp+9cmAu/PpibzFrpQ67IRFQ8LdxcaNP4HhbALn3cu9EwEk9Q1BJT4QcxxaS6JLyineZvpd/n3aHBNUSX1palhGeRloi6cIkjrqoUyo8KVMAYLI2CAltflGiTiEtA4AUyAqK+vz+7C5NQMxwgqJeTR3KbrzbEREA2PYbn5inBnoXgNECUFc/z6ptr25vaMjcrN5AsEi61bt4tdVVgJLb6O/2J2HT92gsWQFLhLV40e6e8f/eEf0Vv19/d7Jq9t2bxpdnZKOEpKOu1k8CN/Q2m98+RYgRt5M8oi2Fjb4ATrtvqSkcl8YXw0V1HX0tYujgNKJSDKarEqckWrLO2J64tmYel6cVVRqEvVUr2+TnTSZRfEADcPit+ze+eZwXHPDQ1Nu3fvdiTynK3wtfVpQQiWV5hcBt5lzD/TT2gUeMBOGC4Y8jAhdNSzYAwE9kDu+Be0K3A5kDJdavTTK1eG0/6G7MDAcGxsx44dTNU++x/vshBI//Anf/mXf+XXbvtXb//BoQfigGjFWZpMklS4HGH3CJ/wuQgPl68FxxbaHcZvrRTN950/efS5p8Q8LNqIkwTYEmE2+cSERVmdwwdL+PNgd9YtjFk4MMFHS4RJKS0zrTVbuWR5u3W6g46wiChiZ1ydu+vT/+5n3vP+x+57+MHv3tu0edO//tCH78nliOeiyQwV5tuamre86RZ8IuzCE9HxmYlAE1z/wsj3/v5bgIWDqq7PPfHME5CZUnJpNi80BEwy8ZbWl4TYxfTODA/qn1AVTh9cKF9btPrXlQk9WlIl1OJa56b2XHlD77HeBbFbVwpl1eUF+rvqKjbSb7x012f//C9+6iff+cTRExUtbZ1NjXOF2eqaanUtggs5HMeI/4VH+I754MUhgIlP7jDRNDuI18a6mH0mmp/YKwJECBm4lUy/Dgd9ohD9kgdLDZha6xl2wXDWl56j45EvY6itTQCaSJ5FLzMP9kkQQ0OY8CF+olMlHCOkhrIrkAXqxfRUTyRmuOQuReayYydOIROkdzNK3cLDOOVhZGKygIddt4fF8MzuKLJr8oa4b+LqHihQIbQ01IotYwPxxSMn9+7Zcc9XvlJaUTbJ53hizGFcJuztt98+MjYFF2y7WLEYu4d9fZAnUWh68ZPoDxQxvTVFmyaz80i0THbGOzU14a+D0vtWx2UwkzGksUqUlNQ1NAbs1sQ1pyVZdbiD83Iils3KOu9IvBs6hTDRNrKj2bljO7saJY8MT4Y62i5G8cbs/LQPmdHjHq26+rV33w576mi45dtc4dqQF318bXl2eozkRdS1hGJ+7DxSCNiOwJ21OkVqiv+Xtb/k/OCQg+jRSkQNUIm9PZu7W1va1Au8V+w/oC/aDAo6Ulhbffnll6vqqmdmJ2J3aXneikscNki4OeQkKcuJE05XDxeA+sq2lvaRwZO01mLglS4bFrHla9jtlEeAJ/zDhoPjVxbmN1ZEyFhjX2yCLq9yZYedLM/DxDzwI4OkJhES3/KWt/zPv75Hx7WHMOhADIKQdYms7fAenK9GWIu9Facd1YFgNv6JC8F9Y5asQ6wOoRSso9mClJAOmmYqj4SU8VWmv1CxR9QG9+pzhKO0vZ24+ld//rVaEc2WZq1Pf/n5z914002//enf4qynsmonv8fOXlxRC22Fe9gdYr0kYbjLp6YoxWE2aQCTvdzc3YoSOrlCLysEQiXUzY/3nhlPhWAsooQIyOBzDr4lzCLhFzW8dpui2OAwzilzwGrTzEJFz67t11x/w/XXXnv7Ww4OnuptrGsqoQpcDaXEDVdddfrsWVV/9e6/hZAdnZsCG9n3hCAenrD0B6NjQzAAzkwXZiqb62wnLY+Pbtm7c2RmMrex/OD93znz4ouX7dn9G5/61c1be173iQ86OnA+v/GDHx45dLKX9eKqpZoIU7ZWvla2bduWxrr2yfHp+am80PLoxtrc1I7uLX/1h58u5ts/s/D5uz7VecUVy11bMSt5R1sUJorqCAQiqZhuDF3YPPHy5g9cawXiD2RMLQYeSFAkRfAxXuEnJCpFjM5iCbdF9laljWYCpgfQOakhWIxsKAPRiuivhStT9aYHhWQ8FDSLRwW6ADxwzuklWhM0J95lGs7wug+hMbKHAsMQixtp8mX8Cv5SrVqlMfj5YgcCiOhQ9r73vU+hKKjciduikBdxkV5ADFI2psIb5pdWCxYEpoYYIXvbDpjNzwsZbJ4Hz1ZRYZN7/4HdDLj/8Rtfb25zalDZ2FAEBaUqGh6dNuMZjRKvPOCAgglEdTKVB8KHK9ZngCC+6YmqtIc6DRWxXaX84LFJfDyzzdrYNOQYRTziBzIvnaOgxmeuG7FxCT5CSoCk2EBli2VkT52362m5ExrSc0N9OxfuxuY6XgfK0BgH4xkLckLAFUGhpl2cK7CqdKT62kphhY9AGMtR3DilDClEekx+jLOtuLpGR7cu0pQtFJbODvfaFhCOXCnyGAwN1kJV6x3WTDd5PUIUdDD22jL7hoXleWwW3pgvLi5ATqTQpidAxbBBDSH2HQcbBkfMAvNYIUwk+1uLx8DwSElxO8IxRwDnwEC85NVUxCIk1sHFPOfIoca6AhhyzEUaLAyGmMARBKi4uLOt/fjxo75CH7F7X/rSl8JOaZU8WvHmW9/iLI/LrroCYwut4yv7cKzag27EhTzz+IJtmWdrpAYhsD4GCD3FXy1B2EIHG79ozUO35YvAV0v6GifAGR1k8VAfYU7namtzp/rOf+PrX/+d3/kdLHyDGbHBoSIcdFEXX4VIGmVHCaJ0RqE0IyQ5aieUCN9lNxA5XFmGWdXvAABAAElEQVSu4dStdsuyreGayvq6SqlESDwTzBG0M0pYRllicUesQlUcK9DCBtP1aHjR1OxklaCaZSXj46PPPPvUTTfdNL/vMkGYQMHgihal5baJPT/2xFPiGe3ce4mhcXpXiMyZbGWO9Nv3rCj71d/5NA3rC4efFQyujaFUTXVFS1P/iVNHH3/kxksuGXz5xdKRwSuvPXDDpvb+px/ff9WbvvaNf1yhOi6u5kRZFGb5c/r9yPe+U1ReX2QLwxE4K+v5iRkS06mjx+/62Cd2X7LneN9Ibdd/r0eJHcFb10icrunsYCOkXzZTF+OQVyd9WEc4FtHoBe0I0mO6LYlovxQaZpttG6XmLCih4SFc4YLtUqzNWSEYVmKrNlDjUOyGGymeg9Xh7NgoV0/oSk3iD4xlHRfjko2+u9kUAxZfZRt6ajeOGxtyKsfF8MJPk8i2g4yL5QyeApMjvHI0wyJo+oJosH5IZNlcftqTJPeNfKCmosWQFgQaJindYssmJRFUnVwurSJwY33pHcwys/Hy7d3SjdJ/+ZM/oeCkZsZZkG54aZ0/31dpmyJQTcQe2GHbEduSoRrP9sw0Awky9tg5ZNwD1YP8HjSJ3tckb+no0CrNU4lPTKFw983sA6TTCMqciH26y6kEm4J2AYfGxiCor4BAemSgw1ldnZiIkxOlKIEKz0oOoeciaGnEPwNBn7g8bN7SqiVGr7whHFnQ8JBIPNn1tf/H63HFaZpTPiTt7tu5a/PmboZjiwXRpOPcDWKlCW94cXVLPJM2iriMiMqGu2FDZKGfGhmuE/zIrhqjATJXVE5RYHhj39ZDwLwQg+2nq7Aw7pSyvVsaRJi0I1sYpbXILeQX8OSzYzMR5WZkBGddspTvbLJVde7sINuoZvsc5cU1bZXNC2NDzdVC8U0eHxURYG77ooAj9lBysyMDnVt4RvVMDi/XNdWWV8/b2C+UFec3iFx1S4IPs1qmCVvM8+iH7WGdnimzI/ZPxvCCZqi40AgsEVSDZOF0sUH1hbLBvsDb1TURe0PMDUGPk7OYOdbDwfW5qVtvetue3Zf8+r//tcNPPycQY2ltQ1VLM1hUBFDiSsNq1JTjJ8v3LDmRsCw5aKPgexrC7ywjm2uk1prS4vqETjKZZr7CTblnt+ANwRaOSjG33PVLflwlHD781JEXn33lu/d8c8fu3RTkmFCafXkMCrRhbqBMSo/G5qq5maH5/Ch08hU8Y0RUUVp67fV7RY7d01w9ODT74v0PCo1S1trWO7U6uVQ5luv4sT/9HzzgUA4BzP7bVx8suuc+pZV+5wfKt0TVlNrGXipaKKquCsG8LBdKa5pK04Lm1D6b49XN6gc2ah84NX7NtTecEZrTXChanclPIKPrBd3S/RycZ/RRQU2i+wgBCrARDphO4S6pruDEXFxR7bg+kwX08DQXYJNNjtA3lcUsAFk0qmht7plHv/P0I99WlEvJ1Q0Vy6vOy+jXcVP15KtP1Z49HEQwBLoLExPSAh2El+jZfPQtAKrOFEusFtUicXxmtoDaxKIbm2cLBti6TwdkNvIWhfqIadnbf+LdisHYYX9iEIvWue0XRKeDEEHY/ENJgLqS7KNRm7o344f37Nlzyd59HC88M+S94soDsgkW+t8+/zmW3DPTczRnQGC0nOERgM4uedKDpoOd5rojrRKhiB7qRpj/ZQQrZYYW0uWX2V0GZNSVMrvzMguAZrBANbJtlwVwUTIIKlbhqC00AjI/wSvV5e5DxfrKHX3xk7ESuiOPaa8QtWteaon8Ccp+urxFOn0rs2e1pKJoUs+ePdvW3AJptEF7lhdEu6+0C6GE0bFwapF+6tQpnrcWtM09m3yohNSLVIvh1zUpfuoaSConitKw0T4/xdlQDjpgiFTEO1/7rVGJw4r9gTi4OHZjGT4iI9P2/hYChZXggEx7RJZiguzpkyf0BUeuDX3neznvCYiM2IhAPEchXVxGN9/Q3FxR0ywsVHlVxWodfhZ7SzNyQVLjAis2ipKVgwWTHJzy6kqZzBT2GfdKnAhnwNjjQ+UtFTRQ9Uuzk0X56Zj2YXReR+3ynXu/3dTUuLQWRzU6OtbZKIqtFiUiG1/PLp3WWmDR4BiG7AoeLkMtd1vceJzQfggJlkV5SwyesfM2ESlqvCgz49piU/21BTLlZFMG/kiqPVyvDAT9GFIFnQh3wUZms1FLFGIolSMlzVLjSFNpGNCGJvuIHYI/dvPAHxoZphB00pdmDw0NWBMz+r7mdLxtW7Yo6ezpM0Kq2NBdnh1VMuVDTJWwUWIvjkKzkML7xdk8SLFEn2CxvWjo6pybyx88+GN9fedRA82A6oZef9WlhS46DRDzrXbWVOUobdmym5S0FjWt7YgXZr+xMU7PSvM9ewja7XLIRdDwZAEXhIvuxDwtZ7xEarL5RvJRr3gahXVsRBn3Ug03rKaXZmhDomX5uZhHmiGGsQdw8wrwzE1xEa01Pd3bbTlA476lM/hLtAlLB1WsCNZAHFBn5zbbr2XN3TtopwaGhy7ds5edhnAcZiEuh4wA8woLhY15h2gXFebXC30jwnwJFaZBfGghbCCpRhQXOYj0rrvu+sl3/1R3V8ddv/mbv/Rv/q14HRq9ml+0GCVI6Tx4+dYn6YFglToDFdIU9XZwIJSXwO2SSJDRpUQUoq7s8rkUE9gDXk/n/XSXwVdK84nC5VWCZmiAty4wkujuW0PrKyX4yiXRV+6x/ZcRO4YOPrd97hMZFOIBRhoGHxpjmTVVdepSjnRAs56hejIrH333IV6JAQFyaS/JEiZoxONPPdne0TE1Pb19+3byl29TZ5Wvat9qM2qYLT5ByiXiApEhMOzoaiXZIRnuotEQQzo7uqnweWg6yHIhDqcWPjLOMgGt2NxsqMe9cthF5fFtEB0Nx+U29nS1NvJeLF52anHFss3EV59/6tUfPlPEraWxdi4/VlRS+ZGPf7q/9/zM+aHanlqazLnxMQEwQTb0+qGFJWwsLhXElaUY4W0XB/LZqajraOwU8p1TS2lJvYjfAlPSMuoVsa2spLZYAx2U2lBTUzfYJ3LiMYEuSpcLbQ3tvPaGZs8fO3380KH74aHNTWzs0ipZJiCf4U/GAcVwUaxF5A8P2T0jlxkFEWWAGooNWCCm6YZIZvnV728QNuiXJYXA4TmwJgY3IJ+ZBzlkyxpgYT/60kuog6pJWGR5wxrPocWLzPobeqHX8MfuqxaiAvLAP2VCEiTvmSceh4wOOsyXz2/avAXvSdivq6/RWC13UbOa9C3NTVmIgWUhCuAY5gGbVp2rNwlUl9Db9rEL2N2D3qLKawziKHprDj30wGc/+39PT41j9rXNlrSSIRWU1h6KSC3TYCgqLGnjZftrqmpo4Ldv2aYo+Xu6NuuNvqTu+DYgk3EV2gmeMXhYrIzpV5pO796+F3tAGERbWRnoeErHHKU1Hg6nctwVZZpogIcMStH3NFWnZ8aRsAWSpwMYayodUFdWWrNO0Mecxz60Q0yYHFoBhSdb27Zjb1ldU6sKOnu2ikqnCMU0VYfnXUtHFK0/aRobQgF/VFM/fJb3me7wYMq00TMQ49zLRz/5/p//3Gd+/0/+05/dcPDWW2666ZkXXtCRwJlMU576736xDzaz/xkp0QxDZZ9YpdGSTIJTuxL006VVMoCve8oceQJDgjBdvHybUuT0lcFW78VC/FSOdFTGAigz0oM6pLal8iVaSzVDZp5tMitQjcicIfegXoXI5vKscA/yy2ZokQaWn37iv+TH5Wrb6dOnDdiu3Tvvf+jBfZdc4vwe6UbRt3LKkHDLTy2RogHan36mKi60cI3NVI2Ak86zsTE/MjI6NDQs0sPhwy+wz9q5e5fIAVl3NxiUdW/ajGjW1tWH10ctjo9xNQDi2lZbm5u7Otpq62ocvYshsSNC3ZRrqSuaWCf7NbY1VzQ5+yeMDygFeatMzs3UtzchH4uz01SD2BAWA+W1NpbiAA6Ia4tb2EAqzanZJXrSrT3dggdYEyqqQ0DDrNXWhPzeU08HXPPN7x564823M25pbaj92y88MD89+p53vPeZp56cKoxu37X57Nnj3Z2ttv0EVcJE6r4rCFA2kcAhmzxBabI3MbtCNjAOeCedMQrZ/hQBPPJk2QAzskUC3iv7JHY1qW4CNwyEDAiWt+xJ4QaexLPIhVYaR0ukwTWa8UlGpHxFKZRwQyJUkx8X7u5nlJMZtbkXeAWwNRHWb3SYrZ8CIThzHrrQfN4qMKo6obtKanI0m3b12deY2hyCEJESWytOVnYQd76gXMXGBgPWOs6p5nxa6YQ6i+353tM3XXfVta9/PdHH5q92wijNAApYp5yEqJC2piLILuXy+PjIpZfuVZ5EtBhWe6ZnVnZskuBPs0t9iIwSUFEUTJFaAUnBOpup8dZxM1YubwE+VOi4MCr2OH3S0bB4SdEk1ojSsVUZ4imjPf8jXZ7mJsZGlRGyqLTK/LdTb1/OcEaDeZSF/BRQlUfI6TNnzpadPXI4oFBVNXDs1XjAOdsY0ltccQQtC/BHAy1QXCUXFn7pigPvefe7nGJ04tjxtoaGbsd2rqx2VNT1Lc8V9Q3/9X/6s//yh398YmTwpje/pUTAikpeD2nlCZpq1N0hh9bg/cAA7IDl4oyN2qx/2cCAI3rhGSalzPJfxA850VCT3Daiz5Xp8iA9AdpXCndXjkQ1GjcUx4V1YrggEZOCVMlvdKFRoGwc3VyvqBhk2yiZ15V0GKAxHjRAfumobapRikYqIdFfIwJBKQ7VrgOyki4ZZNlPvPlNP/bd+7532223HXr4+ywN4JzCFKs0vgGqU3IqU4EaLEWNnhUlj7cBjWDLeYbUO9hAiHFCH4JrV/XW299KJ22BDcuMijiOyYbFbKGwe+c204E8Ag+hOOoKUdxDnG9vEb5/bmLIJqSDWzudsdHRVNO+WlFXkxdNsLJhemoUFyXqEYXKdZddIaDAyy8fGVxbeN2N1yDKx469WlNV0VDXCCJZyO2isLkrE2p5np57IT9l/oMi4T8w2UbUxjojjmcf/+b45MJVB24pzI2GP7+YCu1tLKdmC9NMTnMNFU3NNSyTGFHBF27wjowFBBcWgSGDoQYNk8qUBods/sQfE8w0AxuRgMEqXYlgRf7XqExKlys+yS7edReRSinSIKltkIHz5wGqvr7OulIQINBpVgXHmjqBMSZ8+gQLYJgSPmhhlp4E1Yy2ymSAqeqISDVWi4heD68sG6gAidwihSvhMMSjawLFzy7eeOwxILQ4lPQOYVw0H0b8MQH9gy0oo6mM6ygvYdhtywAfFTWVCoBYKmbB0NAgAiNvyHFO5UUtVpYYS0TzVpfZ/qXL3m+aXzo45ZSmIKNQMuCCQAVRzxCvrDQXxCtCwAJVGDB4xr/L6RnMbcVLwcsjdtDe1que6hfkBTQEGjwp4zyTEpQdToSiAwVlD7pcVRWxt8qrao3d0889z2k02ysI2SUbN9M/Ngl7ejbV5Cqo9cs+87nPP/HEE/gdVJa7BuFCqvlJeWEwzOfz588LPPDAAw8g/zWdNYd++IQl6KMf/zdHj7zYf/Lk2ZMnbr39dvl7R0bs0n3yrt/66v333fsnv//+n/+FHVfsP3769OJ67FIBhflsVoOaOek5DbAxAmrP7iiLu1jy6afpmgDqEyk6kApJU1rbUCvlBJlOI62aTK8hp0taWJZmwrzPPSgndBBZun4pRyHG6WKBCYNlULWislKZs4fo51UiKB58pSXKdPdtujzLhhqyD5XT6PrQyumOWnV3d7/ploOHDx++9dZbOQBoCd1fKlMvPOi7b5WZCgcHhfipDUqWKI9El51zySG857hYNW/fvhNN0Iv8fOw/GiMwcRyGVqndmJoeNfU1bR2tDhT3LBYWKQNajI4OVolVV1lvq6etOsdyO9fE8mi2soI3mQVwpbW1EU32doGyaz7/xBOP4K5i9WVC+fDDGG/b6hX1dexGqEKy5ajEbinFLL9MPp/NjTnx1vBH9F31lM0lpSw2Hn/skVce/U5VrvXU+akPffjXhkemRSiqb8it5BempsbY5xZVij5fsrgwW4GvK6oSI7tQ7JQg69wFBhZggwissbCP7VRIcZFmGXRTC6EDtASrCxxWhg9gDoaueHuBWMVPu9buF94GnxYEiz2NKRdW1NXVpgb/9oQDDkY090JFlfFTsbcQlQaZYxmsZA/prkAP8VW2iPLTQCbOcN8RQDGHeDlDT+Ty0pWSdeY7hpjRbWS2X+ZOSVROG0gZUbZjB3X/HiPrgGU4bH+ECMJ5y8jefffd0ikFfYUqof39A72PPvKwNYN59tTMpHQCJcjj2BAhXBMy4pwn1aG69mv0LrbO1ucg2JlzEX46w7QQ/ZJsG7hXEifiuExeGXQQL4aBgLfaE4vl+joQMRfX5ZhWvMoJtCLwOVE8jLrzfQP9Z06esnDFVj5oMfkvL+PlZmsuwrrwRl9d7+zqQc4W5x2vSTAMPo/Xd21DjiEeVrKiqOTU6Vda27qvvGJP2aade3vGpjTFSUoHrn+9JXqldIG2YaOqfvOOHXre3LXt3e9+9wuvnu4fnqqtblzYvuVbA6e++qlP/MpHPjpQsbbY3rjzxmsXRKt84QVlf/0fvjYxm9/XsfW57z9GW2fgq5uadDJRkAxz4qaTiFHCKuNqZpqxKSUCSmQ6bMBKVyJz7mkyK80FOsqJMSboZpdE5ShEUdLdlWz1QCyk44FBORWisy6lKSF9645eGBUpqSVKU1TQu8w6QQk+0eCUX8P8lNnl2V1+d2Uis7IxnvITjtJiCLoicu5D33/YFt6p02fENsCeYLsEAOrv76fT9q2m+koZTHYFovNTUXjhYDjDji4IujbIiWRooUpNzgom6QIc82GbWmpvb0UKB4eHmcppjWYMDw9pw0Jzbmh0pG9g8IqrryGDLq/kWyrbloX+G+xnNrJ9856eTV14u/7+84ur43X1HIsoaeLAkcBFziBOHq1bqW9qvOFNr3v2+ee6exwotPupJ591JCfOgJQs4rnx6jtzRuOd1wMvy1f4n09SsnZ3tlTF5pQJg8g6D2b9iSef/9jPffjyK67/6C/eJZgvIgyrQ0qgKUdkaWaCCZivKGeWENGSxI4M9+ZyZ1BzHQs4J5Ji/D0HvQgBKT1nd7JnxvIAFxiCa0AsuyL/v3RRBcmp6BiCbFUwi5jg0LLTkgIpjjsGFAFbIg9C6TocOsW2GRvO9hnqQh77J+6yyRzSDLknRB/4udqOPdjcbW9BmbMrqxhwSzZ0xjCKocY/1iDSuunOfH6e1lYJWFTtwbxYdXaHmN9g0OEMJYy1BHoBhIPgkBt2iEiAfWeA46U0xoifFq+Iw2+13R5F6TjFDDVJGRvj+tzKWt5eFNw2Tzo7GtbXIsSoPKx8GBqF/2esAwE80xSRX12ZwiCzLPKF1IT2ip2ajCDp2DZ7KVPiUs8NeRszVyhgyJ+Jf6QBGOy5u7spNjeMiUEgQi6zmbUVzEbS7ngxx7iB/pOUdiwrW1sMdDXGsHxLg5g50NhGoc+2busOl/iiubLDLzzb1tw0OT3BU6S1qb6rtVXEBfZhnd2dS0A7NW5bYWigb3x42MlrVQJL1teX1hY1d3T8h7/8C5ObmeMD//YX7e4SbGBHZ2PztCNFd+7qO3/+svmFLZu39c9OmF0BgIyguBtURNoguethwqIEWSBASTyDC/If0zLjaEDRJRG9SPPWTw8+p60ASg+KlaKiLG9xWFeIDJXt9yEcisJeeaVehfjp8qB81fnQWziHqMmjEPghUXvc5Uk50yeaIV0eD67UpJRNBqsLVOabKgMM27Zt28GDtz344IMnz5ymMjt06GHSqCq01nYSeoq79qyKVJSvFOhZy1O9fsovJQNOBEfUr4DeAjO1eRa1mWxa7rxPqnRM+5Ytm0HDwsW6NS2D/AqIM83NDcJn234kjDKv53OzuFhD91RZVu0tqku7JaCHw9NxBeP5xaq27YIKMSM268gvz/3w+cGB/nH2vr39o6+c3nT55cLuY8YZzhKgguHC67IXxZg42qSkuK6+nniGmIqFxtEQttU3tNkJuvvvH2g6dKS6sdOZYxOT/S2MuZd4KXOENvEwUxGykkgyvzAn0hDkDoOcTAw0sIDDesMOaRjlRiRMKZn90AXaBMfwNcElZTBLJMyvmCi+9fQvXYEDif0yf0DbJTMgqykhgCHLkCS251GrhCEWs+KisLlzgbOhhAMQAAohTPDHKHiFw/JKFSMjw0pTOMHBNJ6dn6P5plumTqDgl19zOZZV5hyJ6hQ1DD5Cvjw0OHjvd79tpuAkspWbUTEHtRAttUR0ueLs8BcLjDNqectt2tRp3LWEQQKiRk2ibeit8olvAKsNVKvwRwlnzpzRHqtB0Khw/QvmC7StvEACbu5c9Xyi+wsOzWDCVhr2CoiQnS2JCjE//A0p0lQV1qtsrbAU55ZWVZtuTg6EAiEraDY9F4BQ4lGoLAjhQ7NBBJmZVU5jQ1XEwQqx0boUUY3FlWyu38RiUQG0V7GVJLwkVdfn/uNvNbd1EHPnRsd5XbS1tC3yGRgeFVqztSmisowMsSRm2rt5V2e9pbykppmuaL4wU1rfOj89tsJzpaWxurFh+PQpHStrqMqXbqzQRzBCW1+eWo7NOD2BAVnfglPwU1v99JB1Ppa+QJPsQhZJFq/9iqnrra/SHNZzr6TABs8eVh2WnaWApkvJgWpVVWfPnvXTh8ZGSoxDthd5sQEeUgmJ2CFqqYXKdCnHJ5ptAniWkpqki/BGmT6X4pVCZPIMpeDQxsrizFTQx1dfeWnHzt0HDx48fe6sf+0dnXhIn2uGXVeb1OFl7fhoilMhTLMqfKXw9GxBTs1wV5e2CRWNuKXpVygwLhMymJfaIlSoqaiamJi8997vYCdt1OZy1Y8++ujcPCLVLJcSGptqXz165NTZfrqD2w6+CVOz//J9YyPjqoO+Gh8d5Ynp5FTCRVF5rqS8qb3diQC0Y2RL8oWx1FSdHR+bLGpqGTw/xHrXOIyP9IYBHSaompklJjvi0OmlXzy9m+uaHNvXWFPeXOdo0Yp/829/6YH7vzE8OvGpD78Hpk1PzVUKEpefbK+t2tbVubzcfIYdf0h8XAVmSA325tAvtAn4qyqr5+byM1Njq8stIm4zs6urZWBV1t7eqRf0Kdlws3fT3cA3A2eC+p8UyQmG2p9GDZDl8AwH3S2dUgg95l/obzLtgenkXV9v7xve8Hph+6mciOHjY86Oi/2X+sbG2dCmZxesTgQRSmhTtp4FhnMn4AMoHtxCmNrgF2prc9NTy0yX+bwF/yUwT0hzhKeQ+qPRAmtsOM6RU380Q5DFCdEHrevM0LV2Y21iyAziAlk5Pwd6wiKFtsSH7iSyQIYaEbeD3CCP1PwaaxnDJzIZwTVXlPBZCV7VyU8UCIRca+rRo8ctiIiCAu05EjkdTKtVcL+EC1CGnDplGgEPnlJTtT1N4QRYTdVN4HUwgxJknp0Z0yozkc4d+5afHTcNFTUzNSKbDD70XOvETWrErPN0bigrF2NHE+Qqmyp4ts/PYTMLbK1q68cddlddE8zr9PhwDB5f7pKiybGhKK66fKUwOxIHkHg0BBULc1Ori3ltcgybEvOFmcWZOfQG0ZjIAiQUaEKd8FxWMh0B4QRzLz5++uT2XbvNB610qSIb23+iTVFpNucV6+HCxQkyI0DpK72SzR3h8+DSPM+meqJHLIelyJzoCCAaIfeknJKuNK+QCQ+pBPcM4nLFygOPlOCtuys1MuWJNjCdy6iMu3a6PGTgjcIyLAxzLS2E35gm3siqc2rOpZdeSss+MDBgzOzdCIXIlHzLli1CHqJcSJvao0lhnx0Lr0vtUWMmMl9siZ+pXhl8QnFOdgA5+sD6itgokA4qkLinp8cOES5pfb0WE8a6xXywaAOUOHbf/Me/Fw8KCj7/zKObOp05Gs5JwcLEuXChy0d3rZPFwk2UVdmTCupaUcdAlCuwo2rZyZqJLGJgamVQj8rM2Y5tlzj9KLtfFsA4AoOy0NFyPD8tNRW2aoSIKVl33GoV56ey0vqWupr67m9899DC3HR1yfI7b79e552kPV5c4yjGLXs2LTombHGR0o1Pe1tHmBGyW56dmu3uxrhvdWwSBsTh6xzk+s4LNFIzORW2wVs2bwUoHWlojqDMIGaMAjJMMCIqRFH4gwYKxHkKuhkcTHZlFCYmmxEE3gypQotsmEzvjvY2s/rxxx/fvn07lBvi/llTT8Vr1eK4FPtcJjO+7zVp4OJIJYyFHpqBjjzyyCOWf9Rk0kllYj3PhgFacCVq2ljaWIpFUeO1aG3eUWNEulgjDarBR3oMroUOxxQRzmRDFcWO9mqNj1YsnKCkxtZWnmKtodIOPXecyTA8PNHWZhMph+mzoCqzriZsWcwORRK9Se695wbYwuldfV10eXUltoyWipbk4WBunyvIFrfNzOzBXZPhrBSLBIEOeRfVI9tsRc1iSjCrMQVs8egDbzxQNfuotBhaa0C4+IUfSEjTAR9uMPbKSzHjobMmJZBOq8tzDIptPNulIeFxFibVsnQhK1CUWNYZbnE2YuNpjxd8sD8bVbnaxdA3L5uvQd1nI3of3rd6LYLeOX550872ylqHkrM/0SYOJvPMbVob2sbPDJfXlizMF7o7uhZmZzQCgAJTsuviiJql0tOri/eoIgsxESOXXR4SJsmje8gfyPrW5sDOnTvdh/tZ8/QRvmSniUQ1FKIqd+30oIRUdcIhzwlSSvMg0V3m9BwNyHDFPTUVUirHlRosg0+U6a2WYGEgNFRIFXllY+uZ53/49nfcSSZ97vkf2q948eVXbnz96++9777W9rbWtg4fGjHEwEBm9cbanspUOfhrEM7Ns1p0XhMvtB8GRJKWxh8MtCgOepG+ffnlIxZESzAaBF1osqqL4xTChQgUBWOKG6trRZLRZ2pXuo5cTdh/aQAyxC3JLk+pY6DWV+bXquwZasL6Sk1FcdPqfBx0GP7OllYnP5n/q+UOBF2dR8kcOyDqtr08cFSt7lj+FFm0NEk9zxR7oxAh9lbj6Cqoyb2Rs9/8WGVHO7LKarSxu76p/s3oJhFSuBOWog6/aNnEriVCy7Z1tI+ODNdX57gDEhAw9X29c12d3ezRjh8/uXnzZp8YCsqAxQVh5ocsDCaP4yh0n5YQRaDdwtaF8iRgaBxj3QI5M9/wgqGm6pX8adBhjZwhWZeVXXfNtYw5x8dHO9o7nVBnXWMmLKIKhTOQffzjHzeO4xNjBECT/PTp09ReHoIolJfTdCjHpDB8QoKQYW047Nu3T/zYgf4+UnNza0sKWxLSqhHVkGRkD4KxhKOBwRzCRaRHAjaQbMTJDudkcacPArF4RclYGXZbCtE1GI1IwUmVQ0s0V+RundIwovTu3bu5rD7+6BMokU96e3upFMwXAiaZtybH/38c3PQdZUdb9cUohFrTma8WNhFIGRlEZDNm6ZCf3TlfVpxJnB4GyDHJI4qMlrPYhb6Zjli8njLWL7UmC9yRpTREYKfSiNwdkMdAW1dhc+zLUHdaRkOhFiPBRZ29jjxmWEVJFUbdOSXYvBq23eA7NTHJPouVgM5bo5x94ijcrJqw5Q0FRXZ11W4malIahiDCXSBsJUybpfXm1S09mxD497/rp7/6d1+Z3ghFvnGGN1qQppwC0kO0++IamBEUqKMNceezlk3gbMhDhenSJODTzu3bt9uPQJgsIOjUc889t7IQHI0UwyCnpUYhUpTvq/StB9TBlahnok0X36rOJ+4/ekmJgaNop0XJmi2/Sx6vPCjZw6lTp2JiZJcmSeRW9oEPfMAOCIxBUp0kdvU11zid7GxvL5SdnJhWJmmOf7Tys3Kiv6nM1ADVaWEqNjX7YgPgGYdOtaBZPgl6ZNcq22TwE1SZu8uCiBiviUmRyJdKqy0/9EoV+F+yLCckS4IdcK6Yik1FMWcNtgO1CQDyJhTSCnEpXlmYLcEwra2w++a8ZEUURa60ooZWgt7UEUvVufKlQsT/NkLWOuXYtQsLG2s/mkcbESeAZdotUYtUHCasTVSjtU31JU25xppQmDvHe+emltrKWuda79ixY3BiRNAoJmTnz5+3wCoHJcLd5nIRbWJ0TLTaEev4kSOHu7q62buZlm1tNuanCoVwPNgoEUJ+ET6YnDbhKXRNYy1kaU/RY44pBLixiOCPbIFkxunGmMpmCBJYsMZ33nnnf/nTPzYEsPrUydNcBZBjRqH26bTK+OLaMAuQTQqeVO2aQbfA9tgoAAn0NdyImlMLcdwilHS0tg0PD9CWhmaaRlWcbvusoTCK4VM1iUsLtUaKn1DPT0ISOQv2AmAMFKHRdux6sPZ6IacDi/lXiY8CIXGgIyNDJotXhl7MZHwogNDQPvzwo6IcBJQ2NrSZCt+2z8QEBU5EH2pqajh9+qQy7fqx0tLyjg5GmiZUHLiT0U/tgbSYenI61g+AQ5/Fis/o0pdJX8zPGlP7FmE/d1H1zgqvriGcUsKyL4K10G74mNsX/TMEFo0kgl4SHWMPBOe1hnnDzqtUXBUoL4sVR7PL1hbnJoYzLR2w4SRnY9YZg3Mnj2YTKQIOEvPDddm+zfr6sWnhfrKDMwOkMWmDKSwugVUjvefnF+bvr/3upp7uhpamS67Yj7QzVU7zMJGq9OwrdbsCrTNJx3PAxNJgHySjUOkuZ7puu+02A4CAshIAZSRVjdaHuuo4hshl6sIeS4QqfKtkl3Tl+xnc5mvi3sXysw5G8R7kTG1LzxKlyAlBlJB+enXxOehCSPUCt1zY8fTs7WUHD3o1PTTk7aGHf/Dhf/3R7933gKgMW7ZtG7LLs7peWxYGpd6aCXKSbkAblgRuZpdEZVKTpJaYCDqVcThxSFBE4Aj4XGieRqa2OU8YybbDRYcxMjgidgXJYUv3lrmliYXl8GUM46USGlN4qCZOjrafI/4XSGH3AsdCFQUUM7HXXLTgaJH87Om66smyJVzW8OLCBCZFyB/RH8ud6VeG7C0ibMJght4oE2eUoG3EVk3SFe1HE3QzC4Mapz/Fc0VdR0OusLAyfOxYUWcr1TBj/YGBobEi3iGN49MTJi9U7j3TG7ybYBzhjBxxTURVhNlab9DN3kbxsusax3juLs7rDtJof1lQydnCQkNdld6LlMDnDkdGeSPKaIQjNGTFwI5RjZ1WvcFzUR9HdBqt1u4MQ4DUMwQzTFt37EIfe8+cI/SFpyQXgsVFgv8Xv/hFrBZOQNYQSv7pisPg4Y0S0tCMDQzv279/bjq0XcjZMMTAr4aTYyhDqQgYuFDQZOAK+mQuxR+EIPMfMtqa7ertPQeHR0eGCJiArDTmdSHzh8Brqke8tquvupZiNNCD2joTR0xAO4m4wHnRC7AVcfDAqMJNlmyNr96xYxu0yedlnAWTvft2A4IznmzLsF5wkGpVZQPEyaRXchufg+BRzHjbtgRAM8NbSIXDQm+tB0IkCA7KcjRQFAawvl5coXHU29hbYIcRdA51EvyvmMtzpYiJqJ0SIUwo3KNzqCDW3KlftrCImEoL909ujww+AsMEMDNUqi3m1BqWaVrEOMxIhKSq6PVVaiEDYJGMgHI4Ata3sFeGkL6xppmTvN3WWPb5Xs8TiNx1Hoal0UwYLLNyXF6lB3CU6OeFiyo5e5W+kseDDA899FB61h6kihJRgRrvDoPVYjhdSpPik0QRUgYFGgyfBx5k7IwMsknxM6V4dbEubz27fG5P2KtUppTUyNRmOA0vVWrB9MrA33HHHX0nj0Nxh6o++eST73jXTzz22GP0F3sv2VfX0GDRprWVX2uVo9k+h3+aqg3qUogUD/KoUWK6e5DirbsNHK2WJ7VE/rgyJsJC3tt7HjuAn7fYHjlyxAxBBerEfl92vDCuPXh7YwuHsjhpwRsSmnANlj77rOGcLgCaSbO2Ojs5UVmy9gvv+8lvfPOrUzMDuepFAeC0j79WdWVzePxsrPPjrixv0EiACTCG+ykdWxxdJzFLtyaKOUyzFTQChW5uaBcCc3hgav91N7zuhuvmpudslHV0dm8sl9hH4MNUhvdvbc/VNDhMIVdV01Bfc/ToUUNgPaBzD2plT6G6Wox8cBNiX7H2xejsAMebiekpAhiUR3Oo+WbnxN0smCAaRp/R1hT2hmSNQPZgVWwShOOXOa8KgAQQl5Yb3GTQgFXRtWzaF6SMjYWTaVCrYJCDcFhtlGDJ8TkmlAIuK+O1W6boJBYszvuoYFkgBio/DTrah5E0YxEvVnXq6uzqclwhtyayfSqcXhwJuOyyywBYNqfGQHNDbKfBJQ6H5undG9/4xjFO47GjGljqZHUw7OkOIyHNk4ImmZK2FokmKhV8Wfns4LJzkJ1LstzdvYmduY4jRvY0wNlXvlWL8mNNCM5PQuxppv7CZJNROZRZLrSstr6W4A1xcU6xquowzounWhiLYsGDUNiPRjsog2G8k9OowkKSjHMnI4RDTDcRynCgwaXRJqyKZIfthD2hP25s24QvBWuNUKsUz5iwervLwZ4mAWSV4iewkKqzOMLm6QA+LWhlCdVu9hLFI0AhdegCx6qFJUe20L/OZ+fNSYw+Z5cHl0JUpPNRXfZTHu/1OXt/ga8BhfSVsUwZtNClV+lOAknlKBAeSwx8ykhJKidVnb6VkkZXmQHg7PLqRx+U7EqVKhMxTj8VC5oyqw6sfCIFBsAD6ap+29vedvz48bnRsZtvvvmBQw8xYtAMBMsqKjODLHn0lwxnsDP5kZSGRoTHm55rm0qtYSQrsWtSCyX6xLEoxkLVzmaLGGyu0CZYR1j6mCPGa0P0Ku3k8wzV8E328lpb2t2db0pAM1xMENgQx0xRxdp6fmq2ijdWtdGsEVnHMU24bntW9eVtlipqiVxJW37MGc9VLbnW0d5Tda3sR0IeLac5XXN4hWCCc8JdlxdnIj+HFgsk22sWNOshlWNe5EPsDamoWYWFpYgbQvW+NlK+wSOn4s47bunZvOPM8RfHJ2Yc+LC5c7NDt0ory8anxkVk6mzbLIaU4xYL+dkdO3YBdX9/v+1CO4ODA8PGpa62wUDQoYicC87rG+E3y15pz95dRsSzowPoMsTtXF+w7VOq5fpemCkwiWioq3coYaancIOxsawaFHDNkCEmObpvlDdv3upZuhrTWLMbgIp02CoVaJyhlsgcvjXz7daT3SCDhhlxd3DQhtMnTmzZutk+o6+MEbM5ZDfhjz3/yLm+orUikhN3T5w5I/xZoHjGv1tvVMdfEIVCjrdt3/r+n/35L37xC4LTWmNYE/D+QoK7ujah5KFjwkPgdEpYVxCVoFWlyC2BQtWOssWVNsmzfftlPT17qC011W4sRnJoeIDdwvPPHxU/OvgMUQ8jhlKmQikJH1uNAQHkEnxc7FHpAIONhITBGxBLPUTf4ZLDgFTtTuCPOSMmTlmVww3QGUIijlGvl1fmcZpY76UVOscI6G0ek/zMA4YTzvkLxd5aUY0gDQzNbKgiRF4xsF8mV2bTE26ZKVl/rexlgXnklPUI5MQ+jFpf1aYZy3vkAlTCUqJMT6ogBlfiUB9CSCq1LHizfVmnEyQbSD1MqJAelBMzLiP8HtLoGkgQ0XPAks0ouqBRejbwMniWR6JXCnHFFM2MdDxIVCZMTejlWaIPle9DJaevPKfLz4uXFIPqrnyX9HT3YKFLjQQHNUqXTbF+gobqlE/3//73v//kyZMWzDvedPOjjzza09OzY8eOL/zVX2utxVsJvgr7mozL8xUUp+mAFrAuNUMexabC3VNFqep0lyKDzNndczTGhUtfL14hH2keVTRtaHPzxiuvHH3Tm95o6r549JxO2B6BLuL6sPGAJWgcJWvJeuwkWHUAygO9W02O42mtkRs7f6KpvhP+WPPaG9rOFJfnpwQmzFMrCFtdWFsaHRosrrSRVLm0FL5NTGdQKwhotoZrBWGQbjWEw2J6s/DQryiurQln1dr1uYFhJgud9TWVw+LVzS8CggBe88srWxyOtbvzxZcOO2J8Pjcvf64qN1MYt9HCLNa0wY3qu5U/8dTAgvGhS8K/SEdBtCS/EOQDqChBwh/PmcMBVVJTbNI7VIb0I07x7p07MZa+wkIYSg9mIwBGm8W7e42twJoZQVPaW4RDG6Chn0Y8BmUtQtAw4Ea2duzYFiiRbV4rxFvZPAih423f2bOZ5BjyowIRhcSYpOFO+5dGQS0cnqEuiU5pln8LCcbcs2nlrS3b7u5uanUjq3xF0ejTjb7vfe8DB9l0wQUrDAFtmvKNrXVcCqyTWF4mpE+wPoU81qmkNsdZsn7PnkuswrAXnZGH1zDFC/M647W6PitFgy0BiKMphc2k8KLy0gZNzdZCf4OPczEfVmmicahaxHiyRDu1ui6cTALO9bmIpvsaI7I4s4hPIjOYWPx2oRDMDi7ffIkD3GImCkIJnoId+8o2Sgzbv3ilQn/0LlvaxfMQ1WcekilDlJvthBtCkNXVu+66C1shTCEIxoeZETmoyeYZCPR87969sA0zcvr0aeyJASZreutKnyhWUS4Pakw/07MMHjAOHly6lA3WBQbNs/wSo52vXVmboxDle3aHJS4PWgXRM4wMnbdLOoQQIMPAUEjKwJFEHj2HGQwWXcZ1//79P/fBnyMAmk7XXXfdY0+/YIRgFRnWigoUqSgjqhaX2l2pUg+p5e5eaZLM6fniT3lM6UD97MKPeVbaxX5FO1IcmyyChWeAVT4hwvr8g8cOoYz6pc2GBvwbmpqhJg5FnowhDpzWU0BWcnFR8Iw6u23bNl9J0R1ORYpSMnhqjyVd84wgaKxWxCJBd6aRwK1V2Def2JkX7cMnUAGJ1HbVqaLcsQjLywjNpz/9aVres2fP/sM/fE2x1HNKgDiIEZEkmKYI3NyAZzZjVQdJTFFCbmJPVK2d7g7Nxbxog89hUXnmw49T8DlcNShg7NnGqc17wjvXcTnramMbkeKveDnM9DRPjXgQcFCsFJxIwDtbwiCaElL3l/kBZEuLJgFFGjKvouMZvnnrihmcWPKwGqGICa5f+31CVlKwPNlXAdLs0wvYWJeLXS/ZgCuV71ujkBT5PtRsjUxvfWu3KbvX7dy5c8e27d76Knq0Hmd0p1gmUnxolYrhqAkR2EAYPh/CT6DzVopv1eXBFZiQzUEHYMs2NDQIkv39/YbehH3ggQcamyJ2SBpTn2sSBtC9MpS6VKXBPahOUaCiFvySKxVrlH3ic2+BRXv8lF9pckLUBJAo6EdWcXk0CV2Izvz/vxI7Jr9CDefFD/UEmmowXlrLcLCf+MQnECx6Le2QAnwymAM6bBvi8ssv11zAOnXq1JkzZ4ylKSElwpFkVyoZrNOlEK33xk/31CUPPMUvds+DirJuBuOWSpCYup0+1O5UYCoKiFXqWeaU7kEhLg/Sbe1aWpEqP5uymOuoBRCzyEWtcFK/8Ru/ce/993pLe4pCfe6/fxG3JRgDDNMGnUojoSJ50qVYl2d3eVLzUsqPPl/sF5BmEy9j7kIIjD6mouRRghQD7wJhP+GrNpvYmlfbGAyC/IiUT5577oc22eXP9J7cOIIeQa1UoPvSgqik9uZW29rax8fHVEW7baixNahNYkEAwOYRsmk0impCG2Z0ohmrq5CeAKtVsUsD1HGWRLZdayMpc10SCwtA0pyhDN69m6XerBScrERYZDJiDWTmbUZIEPFZRwxN+sqzuswcWKRGYAEcaCY9gVokCZ8jCNkkDQ2DouBegJdurthuY11eQNkVxwjV7dyxmxkZsCjf54YCDHFwMb7C+cO0zHHH0qYvSnDxJ/jRCyRl1hLjK48rDat7+mmj1oMPpfhQTlKqr1yeJXira66UTUSL9KD2hJm+klliKjlNBIkezCZmot76CXQdbRFy2lcaY9dcCWm7QwajLPCQphbsAmetRRcUKHOiXIlsaYbuS5TdUIKqo+fUorEJLIpSxaBrqF+lSgAxiT5EpNRbVR0rmbHLhjKCCFD8ZM+OFAkVc2ReDU7Qt1p4sSPaI4NErxIwvZLBJVH3FeShuKUtTvr8/77kdqU8CbKeL6YYVD+BT5UIJH7VOX3ujnSHWLYntEOtMIwmnkJHO6yTx44dM4UgHKCgbj73bYxQoNqF5SUam13G21culXp2Tz/Vi8PyrJOpPRdf6V769mJOVbh86e6VcjwAjSs9p5w/Wo5n4ri3Jqi3yKEaiRBGd3LMqaCVn/rUp9iIctYzJJCPevj4mdjBNKi+SiXrlMa4XwSaYl1+urQkPXvw8+JzVPfaRQAhVkTjXeGYegF3VSGbEXEpHzDhirr8BH/ZMLDV9Wt82h977DFUzOUVPYIphqfXPNCUTeLFZQ0rKxibbTUqqY7OtvN9A03NDYU8n8qIrnXBMmBjlTzlrTyvnn7VwAVIqY6zlQl8tMEJV5pkwmC1/DRACdp2FNWls/FJNif1GyTxRLKZJ+QsM0TbskZR0tdbBiBMmkiaiu1CXNAgQJYOuxSoax7gUl1Ds6UCF6N2c9TMUZoMAIX8kU5solgWiYeKuuKKK9uauhjH+BYHZwIqAa3PCFzWwswMQsN8Dl802J4OiIF8ugyZrnmrwVFF1lMP6ZKTakdF6WdsTmWfS/aVy19wiGzZKEgJM6fs7Ws1/NPaDM5qSfmV46fa7f7LKREMQVsDvDKhYKxyQsuZkRWZ8UqwdCjbNPCJLif0S8BRsg89K0o6RAJAZQ4NDLhrGPgrJJF+IMUFK19O2I5v9aE8ah+fGFS4Z8uGSWY5gWIg4FvpDhZUDjilqqU73tSzt75VoEpTFzx4qxyJ3qZea3NEg/LB/35pvcTUpnRPP318MT19ld5qt0LTWzDyExVWiIkRzOqOHTLbmzh0KCQUb5PkiCvxlUvO1M+IvZZdUly+ShBXi57oQKr94jMoyZB667v0Vor8rvTtjxYYaJjJgHIqP32SvnL/Zw+qM+AaEbALjjrUkNgY7Qf3D3zgA2iB0VLLqVOnrBw+z+ZeGN97kFn5QJ8akxV/4XaxqalGP+W52Jgfzalw7dQA5UR61scfzZClBf7JBv7KMe210DO12t79neZtSxwkE0rxgfPT7ZsaMs2eqF7CeoR8wY3GHpoPgbFczIXqkM4ME0BZDKMBpYHB2dZZDJychXlhSi4od+w5CmjozB6r/VKcy7ck5Lw8AOzu+Bnrr86Z2mYWIVTD9EW9Wg7RQUjjmbmjFBqAH5wpCp7LW3X194dXrcW+oaEZzL2VZ3a2IIqOCWVFx8ZVV9eCNj7Lc1/foOnED1Al2jw1yagrVN12/evrGmhdaZmYaHPEFJcdgwJWphZqpQ3K1FlVqAgItRBddve5BqOuBojtVVo09SUNGuwzrTI8DYRlwongZH032Wy3xmrq0gsESwmqCLBkOlPfSvGZFPRXRVT4nvXd3eVD+V1p9GVIl58uGZjFuGSIOjIxVoOlKx9M6hoCMt76CSXcjawPwTBVkWr3bLVDzgwNyGsPwu2V0aEV9da30qWAjGc1gpsKpXhr4FIbLORdXR0KV4X82aba8uxcOL1pEj3A+PikZ+ggzhiYa2prZofhc21ToNKoN0x0xNk0hZJeqQW0zWYExoFXgRn/+xWw/5cujKW605vUXD9dhEFjwniOdk7d7W0tgv9q4utvvAnlevjQg3gE6XoCn5xwrx2e3VWkHI8KwcEDqMIvlnxhJF4z19KlrLYLC5S3IOaeLl+5opyMGLl7Vn6qJVXETd6DyyuZ0ys5E/TT554V6A64+AojBMjxQyRlkfezqA8f+tCHXnzxxeGxiNHhK2v+yNjo+YFBkbWUbCSUafgNuaJU56dLzvSQGpnu6W26p1bJ46cP04O7AoErWqVTr5Fj4LI1HzEs43A3+yVlVOqs3x3AIeJD7J8y217bcP4Y4NshEoL+qutaVGFuYH41D4oLDC/EQjYcIdZVlixbY1TU3tpSmJttbmwQpoC1oQfDx56moS6UUCFB8OLXltUN8UQtuAgWGmGXpqy+njWQXctw3WAoYbPO/rUjJ5yaxNOsOOybFxeEFY+VD5ALqwt0vTroGDfzxLAMDAyjNfBkaGiMR6HWIiLDQ+MYB9AGGfYP5sPMNHuFmHsa79XszLwWAQi+zyjJ5piV2sY41Q2Levr0afOktraxqZHXbhEuUhBxPNf5/rPZ1IrQQGiteejKxiIxhgQECHpBaaDBtkeJFORdieh4qHEjUjxChnkPu6hMTxIpscOejIUiZGngAywAWCjpzn3QQMBrz6HqRvB4lawHpVA7sMjvApaEEhrpZ/b5BbzN3hdxHvaJ/DANSAHN6j0xNuYB3jLgSCgnA92iTxzWmNUb5XtQYNZZEpK/5o48pk9U4dkMgDm+VbKcxl17vPIQ8n9G9QBfBh8rLS49iwIy65s4iIiZe0xwlK6hPgIc+dYKgX4O9I9yHqiuCY0bgSDDwCAOtKtSENAw66qMelUKAVKDFXVhCqX+/7P7P3sbuV/L7yG1UnMzOMbPVCgUQZgPHjyIuo8Mj6sPTDUiupN5I0Mvry52UgbN9a08CQpZ1yOzS8rFh/RW1VJiDII2pbxxT42PJr7WNilqSbCQ6Kd572eqOssYN98a3DQYqnBJSVVAwhgeZ4fx1RSVOFPGfexjH+s7ewYOiZ0A0TUbaX7l6KvIFgte5SfsSe0BDT8lpgak6qK52SXdXznT25R4ETKpDeabPaC0VMop0ZVypgd3tWibXijHlEuMc9RVPHfw4K2C6v3gB4+wiIEHkYfVZ3bpGlRgeyOnKRfNWF1vaYkADOHeE4e/OnPJ6Y1wDmMvkiI9N7Vq8BT2iSjCnAjHpYaFJ7MmzdaGBD2IrsHmdLQ1a626VG0ZBzEGaw8//LA6LFtCLVmMvZJBL+CG9AQBpZEoIbFP9FeBUhK4wBzRlOKngfCQgMzPTCGYSoXgqfRLB6MzVQw+RHGqZr3hoF/6dT/5fBA5jbtCFMiRRU4/ZabDUqxLdzLll5ICf+LkSztPIsswo7R9zjwpYGOxyFwzszUkHDNpqpBDsZ+CVEGJC5+rCDTScKeHAE7Q7eBWAgOZlLx2JbhJBw0N85XrYgm6KX1lOWQ3DdZ+b3UWP+un52h5FmJQhmh8hjKLq2F8qxDjr57/l7E7C/L8qu4Drpmetbtnenq0zqrRMmhDCxpGCwPCJgEiDA5g4pSNQwpXQkKcKh6chySuymte8wCPuJIXKnHygB12hMuyQLIAC0sIazTMSJrpGQnN2j37qsnnnO///1OX8ENudd0+99yz33Pv7/6W/+8n7Ho1IakTZ3i8goOlGH0wtL4hUC+ugMSCkjGeIhAcBiDDCI8LfOzovM2sC/C4NFkFcI8RzWiAJPw1dYCEYe3pM8fho5oZLMdFxaZNmzBWrvbdf/J1lRnaNP3/lFCO65rzCh0OiTLYOhDRhbzy1oYbb3LObBpv3bqFNYjiJ0ORaUqJCmj5yACHmjr3dkJrdEKPhlXgFBajV6NPTIuzLlrXTjWWoMSiGS3V3V16YRSA0AavpkLBlTpBNwwAlETBm2UmEqTwzc3tdw3uv/zJf3ZD077h+PyCc5aNG9d7fObA3KFrr7uBhRjV0UUCUeQPGgGxsBQvKpApcID0BFAzoCxvOzUJ0Rxo4N/R1AWJyxjbEJ896/g57Q0oR44c9mLkU0tO2QhY0dDYdKxaMXvNW2fry6mr/dxq+ujRX507+/r6a9f5kogLQJ4kVNsrbdh4o9qFaruG+qHP1aUWuksX6+2GR+f9gO9svzi7zojtQHppcLJW13QzZADXkF0yXLvWg5AuMx3bvNkTGPZZEtRJovViypkF4jJ7Zf0MRZlZO+UW4VWv2fKTRA+89JsnxNZwzJ+s7z9OTWXieU1gXdu+4gUmp/0Etr4uTuPC1AJ7BMFXtl56cTfYqf/0rwAAQABJREFUauvX/05MNm3yxigTaw0hDq46HFP1GmWz0TRTS9HkJ42aEphMew+ZkR1IrZ3S0vg64BmjxltFZCGMNJK+NrwW/VwuQJ6sM4iKZjC8DkZtG5SghWCoAxjoYaxZhXLTxhvYLCBgh30aEThwegwiuRctahIq/fqKoaHnDi4rAmexgBGohUvTCHLZtqhW3vGnD4yXFUYvXr9DdOyx1oApEsYounnr7X5iZXfpdJs6igTSz6QccZGRj5LrhGi6b/uud92uy54rT19zimoXvl979SDhaEZmXLnmXN2AOTHaFrH1HaV8+4dK46mrJQDMyhghXsgTCKvyY4899sgjj3jm20v1hYBWXQiQYcQlPzSjRRfLyNS0KKUJgwycgpEiMLLo0kuCS66DJXohNVMGI5GBk3BOoLFrRnhquqhu7fVQaIwhzVCdOVe32IzryfmFXbt27dix442Dh5zkOpKjdGLFkYOHDtlQuH2BrK4U9RGMFoyGR1MNjgqq2aPEfsgAwQ9wALUi/+gKrA57amJT4IniuJgTJYmlV21sJ9fywoPvkg++1dU9I6cz3GQwOS5vwwBgbNiJQslmOSSZuJYh5giANFdSLS51dDzju0z1gKUucz5xc/yNqTDUxXKwgJDpHNIzjXLH8JLGAEiPkiGTIOyPik53DyX4DZO5JBOuUCRyME483adxILEQwNsxqe31ZJkAzK5d4zXRHpigWgQo9TJov8vxiKmTUxfpb7ppoxUzHrkR1PuJcpwvBAqm9Y61pjFemwkmiQxpmmAGC44CAz8Mhy5wxoI0TlEBcHqewIZyqLGHGGUIEj23LtCQTyCNyEIZRpQKRsTwCPw2CYZfnN1w4408son2LLvfLWZQiEqc1Sh9+d18pDTjRY7TMfCePXus4LQQC8lN7CXBi4N886kffdCUJ0ZKr9NYmUCU5GQPgXjZ7OqCONejVd2kHa+VKu6QrDBbGXlUb8Ov1TNNtcWLfNmFhjHJZBh68XpWtEiVisTi4hjVUsQeWvwilGXSgiAFvoI+vm81cNsnf+ELX+AnGguWmrlDCaMmh1lArFJiejNiCSYnMG8BbGM6ArWu5AEhpdq1gKW17ZRkejMSIcMIIJkicpQYQCmkIDKPqBhJhbjoQkamJnaeipGtFaVuaHrt6o4dO7//ne/qReZtFubz8fo28mXPZUBaj/EuDk48TVhiFTLIFPji6oWMQLACOfQCNBFs3rxZFjIPQcxTp0R4RKU3ZnMnYzwzcyMfPawkoe0HUbpeTp0TMXETCvQmP3/j8sxMBYcuBjNABDCiEQFIAF5CEFMnpJgB3o2PDL1eRa/f8YVGk6lgvWTOTPlBkiOBhbKeHSdfxuciETzJGTX5yXsDaHPk6fYpX/2ZmZ1eM+WJhAUfQ7lmKdg+x+Hfz5i9QsevXe1qXLC7/lpvy3NOUYuL0jEklhV2f3WTVJbVoNerlmueOCeu6Zf3pq2qNX0IrKMs83gNICdkjgHEwiMDsFbRTDSQAXihdGAvugUeZKKhF6CwAUwm4ZpSVzSY50Em+JxQk28cEZi9VhMaiaIOHky+2ssTaWc2Mk3HEo/Fe+DGhUgrEYwDGLEV5KVL++JR3QhScEkqBARqqkWDJYhtnaiQBjLk7Ll63sj8YiFrmZ2ccZGOARg1SRYl9qs9yOrAwzpe6FKosKsgCj35WHSB1YGDZICg0Q5PO5maeFEq8OSLhoUAmz4XCw202VKXEz1k7zZpvb9G0ni9tPeunvWG2/p1IYxflNWApNSkwl6rA03UsGy9p8rW1p0y+iARAtTgGMdQGCGGETiFiQh6StSP7Mhhn177ArUBU6eQEM1qZBYW0hoofHg5JlJMUnTB440NlOoSAjVRApFwxFRNLPAKqzAyzMHnk5/85KOPPvqNP/+GptRxQDPYRpRY8p35Sg5ycWVFwsiqoUaWsVEPRa8ydKU51PBDF7GMVNPFgCGYmmjCggBeQRZAFwJF9GStVOa7Xpbz/ejRI7xgOWKPFBg1eHcGHaQ4nuQjgToBYTMtRMEIkUKOoukTljX/l9W0QYOScJRuUiDDK1xJVgR02To5zbRFct53330b7a1MTvsmk6Rzqy4zU6pOoFZ3AuDV9KLk5bP1xDmZUUe+icQvAO3skWFhLLh3PB0fmvW61VVhrNc2dSpidAIkZ6gDZxJyB0YEIBWUhAtv5qrUohHMO8i4nC6UMEqCQAjMydMeARM3BowyEIQmwQEwhy4ScLHBmuKNUXhdGTQTweuuXe9lUpNrpr0QwkdlvKDCdVVP6tZTZb4+f+6UtYk0usSNea5Vec6RWKIIJNYkMrPUQgfp9hx1hl5TMVgeHLEYkSClGRPbNMVZ2hggcghXsmbVcFxTujSxk6YgFiiKPMdnA+qQ49KV3ZgYYrfkYUdQudH5Y4/vPi/zmKqGHwBkcoapVIAVvGIi8lxfnYuIdTHRlVOPwVyut2rVwuSDA36svcbt4LVo5k8ueBOIF8s440uhQ3Kp2UcWuR4aFBcRvO222zjADuaq6QtLLMPAFLDBY2Vp6iJGpqSoIQg7/8MSoPKuFxHIcHkNp6hxT+gBMkDqiwgJlJZlvaKTHPokh4gLMdUhyHhToUmCXvSkwRw8sPcjH/nI44//1ve+9z2+6L3/vvd4L/v8qXoxoZeRvfjii3YTfoy+vB+YrKuw7Y56cSE5TVwpmrTwSDNdMRIME09Ds2nTJosLa3kEjwwMCByuYJinwKsZrz62cNIR0scQ+ehL91Lz4KEDxEqgaIE3oBkgQux9kuWCEI0spwJZjDTKjkYKpEF0o9LGDVBwL5EyAaMbBcwgVj4YHTACIfXALQP9iMWZfS7tk9yPquZOpXOc0SYrUUrcEqK4zwxA4EQgFvJXc/Wq0QlpwhJGBNIJI8PAXAAgkAMumYoSaWCYTEUuMBUSuxpj4XNT/0Ld3ySE2YquqEAPZoBCDqQajNFe1imSEyUWQsYAR5FoZIlza1rgSTYHMxPVuXjv8S+wb0HX2dnq+kyUGsb9eC/VcmMBo6wmQQFokqymTuTNJk1nAyY8q+QwPKVsY/9ADGOksrLUqUO94+GMOWXvQaZep5lWOrEijVOONGB4EsST71xTvI3eQy1OwF3V9EMovLoQ4EJPKXpmAGRo7cXqRmo9AYsAnkD0MFQwlUDWYgwgyMvuuOsev7z0vbkrF694qa5fKq6/4cYNN2y47z333X7L7dfecO3hNw4/9/xzr+17zdM462au6wfVDGG9o4OCCpKFs1cHPxei2NU+Ycrg6YpLmohpTa0pNHEYAcs0M7qW2izViHURRQjr+cxVNCQEiAqzUWQhEwsykwpkIlOQEaU3AOGQmpAKFeSnC4CdLr0K2Bzz+Ov27duffPIpAo3i+9//fidH+/fvv2nT5hAceuN1N97JJK3U1S9O/4HCwmABKWkSG4DGtqjYIwpmTDvyjoXGTG/Z12VgwcWeoZclIoZ9yjtoJ5efOn3ihz/8oQO1MjPj1UgLlhHSyOCvm98uY0Ws8yY08DoNl5HJELg40jO0X9/o4fd+MrZS/62LTtm84s5XRZ2UOVnzjIPTYw8y1AVeY+5HsXYiV+uQtrIuNFUWxi8GNFAZrGja41TdBBXMdkoXzBDhUFIdvDo5lqbg4RJsaRLKyBEZToGZAd+lr2x6FKMTACa9plAEairwGNMbQMQ0OaUWZGGBT1foGRAMs0UPEsaatWppXc8GwzMDDCDBLT75H16qFU3CQznytD7/V1d2Dvd7PqQ9CQ4VFixbYzBFegnkjvEFk2CRIoRA+Kw7tBCopjdG6gUYdH6pcTnkM4DYWOXNWQDsDkKOcy5rmhcWLJToySFNEJhH8slTV+dXjnZ2QkQv4QBa9AKY1xvirHFOp+p3F7pIYKpCphplVli6dIFZBbnkwV0f8rCf+y+zM+u33Xrzne+667btt950w4Y9e1/++fMvPvd3fzt/fMGPs1evnOxPBjnrqV/8C3tyzUrPAhaXHd6nNLolXNcsPZujWc+l9Khzj/VMASgAngTgKrMExTTwXAku0vgggolsiIWGhAQIHr1V2ZsYrUHiaIRsX+klDV5NeFSHHa8SjF7OJ5QE0oUmIwcQIBjnR1/4whfMa7+zMfMgd+zYieWpHz7NQs8eieCeX+791eE3XRSGz4+ch+0nOSmUAngUAMyGoStwWdZk76iZhECiuMwPYGr9TP/XCmlwbADEa6ETUphjC4eFZePGjZ4ayyTxoxlrrq8bIGYVXyZX18sA9Gq6/iM5DATvdEVyKEmjhUmEJ/PE+cJ5E4Nr7JSCDCiHkiGFkat+Zr+kvk5mxrpW5UlUWuI1d0hWStH4d6nsjy8AlOg1wciGOpgQsKdlVC85rgXjM0cwRUuIiWIzjTIEZU8Pi/Jymc9xjLxLtNEgyCkMCZDBB9YrN0hTI5OEyVJCkCWp9BIYsX7MK9nMZcQw2NE7xLqcHY2JJHwZPx5EYvUyMhhNBAyAsXCowboARo5kvGiIZUMmtqYEsOjEYDVFyMQTPiwxAEwURk0DSjIyLsDbc1GB3poVf3nCfsR+/BB2NXbERgFw5mw9IkeXJiH0Gg69CrGJIQm40osAF2JdaCINBg16g6XWG4FF88D7/tED9z3w0CMP3brtVs+WvH7w9Weefebvnvu74/PHbT194mJlPRFat5QdL1csq1ci0aRg9sJWNdjjNtWs36fVESxqZKjS18ZorMIOJTbxGaMQKw4U5iQ/zSOfaQuBXhjnsSSbcqIGw6WkCzl6KXKhFb2AInNggWGAsKoRQyqttvQq1JETmHmkiQh60iKfIrDN1H/qH2//5NmnaHemvHnzZt87+Na3vuW+vHPeX77y6tzcnIvGhEwsrxdL1UUSC2KfEra7I5fjeGoErFIGJEsgNQf80CVEJXDpUt7ZkLOThf303yiSg0wAYhIiKoxc44gFy2DTwkdXLcvHt+qw7xAtO53CGzQqeKGp+DE8+rDENmKHGAIUkkWJLiY5UyGTIhIGe9DEEutfChq9YBMGZXo1AQp6z0wAaAQPeouLuR00cHqLoVloB3BWiRYq/MYXHF0AS0eaiGOkiQ9QitZexo9XO6+Iavqyk/smvCZj0NCLHcxrsF4BTJ7whShNZBW13KHqo2lS0ae3CHQo0YU3ShF75ku00cBTVJa0RjkcSzQZpjfjiBc9dYgVvQk446xQOYODkd7oB15cHimAId/OiATPQFnFNHmkRoAY3jpILIA76GMnGngwyYhFADEks+2FlcSfEDAyzTVr687G4CykQcAo/RLDeKQmED1ibpKvICMqvI6gWBJkePJZZRVb8uRzL3kid+71ued+8pxTv/lj875f5rUefpPgrZXequVU0bvoffbQTvnC2QveYorfNrrsrfc2V67XkF9TgxrdXrgBUGA8YMYsBTXrYxBbHcZdl7GsOPiz7ODBg47qXjDgRdrmJ6NzcMACFiA0hORyiajxx9CqLVgm86233mrYXvZ4VN2nKFdzzsJUEhQalUSWJQCRYrnxUGf6kU+XnZqj6x//8R8zwK/Mbt583e7du+999/2WrSee+EuKLFjEfveJH+ByHOemxdyg2GdVZPsmAI2k/XodZBm0iABSqXB2STMEbGae07F9+/YlX90jSVfIhprlYH6pmRQ8Sg9pu27luqnrEeLm5oABFSJjiNjymuHDJ3SKN5pkHNnCnYgSK7zq2IMFL/fF2XcV0YRYWiGguprlfRVCFPT2nrrqLcrjkz5yEGBBgAWNJpp6XrwLAnNikBktapbob8G1oERjpPnFBAIlC3HI1JzC1abW0RsGzF+bSzkgetjRkIaMJZpBEoUMsZLDPrwA1ug3lyDYiRAycrwXaxKYVyy+g91PSBCChnzTgnCZ3xpXmgXyzYqDRe/kytGdKAfFXBEnRE4SwjyjQCwy0hjDAKeaMt9xnUfoGW9UamHqW1Vy2ESL/TAovd3a1KAdezAEIpPehPAFsV40YAa7VtCTDrlXLdfBjAoG2DjTojCPBFGSQvAeAU5sWdvI0dm0S3jUKZC6lHjhtT8cp5Q6kvWSyU3hFR/0ekMvCKK05Et/8l9feeWVQ4cOwXKYTSxQWEZipLNAM/ASL/ZuAyH7RMCz/rVgeW6UAgA8DJKSUhdCRgcW7JAsYJYijihZQ7ICRkyCix+ChQC9+LJSpMxYhw5Itz8AcQAvaa6L5G4Cn9FzFYEE0kuC0nZWKGlRY1EAAoRYncGLRuqsg37SbIa7mi5p5o8dsqTec/e9X/3qVx988L0Gz5JhJ/j0sz8m2S0GorxqoNj7s5oWLPihRJ1mfNd8RxevIVk74OPXQG/8smAlWftFfiUkZKmjZRBOJvaRBKdhfVgWHxHQ5b1ouGpJYUxfcZNFYLHC8taSUbrLGEjBgTcEtANg8CIjk8sVw+V1LUap4Rtvo1DWbaxxiZEWxyqVIL1yjU89MigkIAulBQthS13qS33MThdGyPiulgbIooQ9mmALVgjACWopbWkMdhQHA2qq9Y89vX6XF5CZjRKAil7Qaz9FJskIGJmR0oTPuRJKXGa74CSHYzNrqVBXs6+pMYZVZUet6XVcREAm2MbHPyosScg3eDV1f9GSahp1SUL0uvBCMhucgBTl0do3KdgNU9ncI5UhCyUyZqvJ8R40yxBjCEdssgDwJiYc1xtjOKVLgM0FwybzSbC22pubcXbE7GGGvFKjNP7Erlo9uqgff9mvF6VrAjC0MGxM3ydMl2pBZz/hutCzmawsYZAirLAfmbAv+ae/8wewlg8ogsAY4h4FCmUwMQ6B3wiJWgKhl2hdgIyZJrkIBkM9xK43RgDgwzVIwE6pErJTJ+u0jgF8E18C4QEWI3HERThnyGGz4kFjIQag1Esatznmcq/gWjqjjny5iHfF2hnHtHVrp91hcUgzdS6erxw1nWSeeH7pS1/C4g1QrBYpZngC9i/+4i8M7Xt3PkzmyTOnv/3tb/uJW9tMoYvLFQE3y8WHCngATEqiGsfHuJqxKTAloUu4NJmTBMoqs3XrVsYzT1e9abQXlyEymu34aJEiJMEfScbTV4iTWOVoj0LsHGwYEZcZozPoaMGLJVwB4KlQ0mWOGCzS2MMNSIBiGQ9BSa5HZ0b47J40W2PpG8F9pxJcej1a03NSENwUM/qQycmEkTrywfB0aWLUROlMKTJJiGSm6kIGT4haKNThcmoDTokQNV5JggClxMYOo8ZOhRIMrhDrlXWZeLpwqdmmJgSZFEXDHYVAGE0EWBRkoUSMQKp7/wcCWW3cEcv82OayQ1zQGy7n8BFFGhrEAIUcLgOoiz0wZW2/8BKZsKgHljhlCcMSFYwhAbvMRwxPEXo0GE0xs4MNJbMLrnThAsPppRQjGsTJGTVdaBQwSnUsiXxNjLisYq4U5Wkyi+bBgwfJX/LZf/lv8WCOD+gAOCEDpxnHSu6V2jwjiB0Y06XJt6hnkGZZZBGpL3yMEksTcaPrqgfLlLclt+cuohdXz6sYEDckBO3cFsdwUYf3wvm6CAVGoAkGVJ6trEXTgsVJEqQFJEb34etXUJe9Y/qi+8J+bHDtbH9Rck0tQLfccrP9lHcwCJMdCYwHAlx0x+tFfXY3Tq9+/Lc/tRV1EljR6FtRWbB69avo4VLilzpNEpo+E7WQmkrSaCALI4PRc1ai63Jwg+FIHYiW1v0pjuBFHBgNaxMoSL0hgGEiSs2BEjFMxgKgmQJWhpUWUjM1QDBJK4FjB8fNkS5DbzcCyQDEroahTBmuZGm69K4eqax7eaPiMulgkid0AhPtCgQKMlPwAuA9lFOKx7kOyUF6PZQV+TEvXMhkiBqSNJTwyABObSDjXYjhaecOZGpjJK+sGmpwEikWRhRGwuUYLbEwiuAJQanGa+YjcOBx2Ktjak80NZMoIlmXRcrTA342TSBFKJPzRh+vazFJ79iPxVNHumIzOdGOl7rQwAxH+iJYMpp6LEQW+8GALJ24ZJ0uSLxSDqCLEObRFcoswYg5goCpzEvcEIQ9EtDQm9AhAIgGyQAEXNBEr0shzeSyZLu8g4s6SzbV6O3sUC75N3/0HyjQRy5+gKJ7qOHTTK8PKpKbXvjBplZXK3oJ7YuCatZ4+y1rwAjQ642J2QRGgt5BixUODXzo4QF8ExG6wDAKdgGq0PTnkuyUxBQB4ZHm60YARZYgkxBGmiWr10zt3btXWriJObvOm5XWunXg+TK7Y73eGGQk3jxyxKVKsYPZs2evM+cv/tG/s3X3sJy1zEfnnbRavDogFbHRjYV+naFmLOQCWJ2mGry4GUwCOOCbZMTIa8ZngGUt19ReuSc+CVGIyaHIuLc9pZHZg3BaA6tTkCWMMW9QrRfs4AI/iBqk6YVUQq8OGQRjaNR0PXYYNQvWoM7pIUZNZF5xg1KBqTRaVEr66ErWKGF0+uapCABoURtHqoWi3pTwtg0lU7NU9JsCNVuY/3XaEkukUPCaetHDuKCUCRb5MXLgklR6GYCYHN65vwSjwARpUmVFyIyNCixUlOp6rLpCRLJa3iomYWxAA8mdjIjco5EESFwOTuFK8vM9ZnsnOryCxg5LkiDQSwhGSpFpkqMgizTJA+8DAKxFE6cyKRAjQwzfTHXZjnBuulcOY76oYdSkcYE0MAJyEPMoBqDhDmnwCkAvTJY8NHhJwMhaBDQqyBQCBRMgkjQCdLFZQUwIa8srUqhRwDrUCqHoAPA41WlaUIIMXlcKIVgogAcjDj4rMctgUqIilOChiX7QBSatNI0jLkBhQZOiiUwgeOKZWko1HQR4i2v5stFO3mk5PzOodLn8dP21123fvn3dzNo773yXsxXflJ+dWbdmzRSuo4cP284IpL0oFh+eseH6/Oc/f/R4vTDbC7b96MFCxp26SV/x6XTs07TKrw4mM1LYCYidWNJMPSapQVpMBq+pBJ8kEwo+kmM4Lc0ABUFCB8AlDwAKXr0to9NrTMxaIFG4hIjAwYYAYWmn3l6wdMGkjnBkmurWRl0dUdBIQebB81RJxodmkD9IiK7FdYR0ctXl25SBfVAXCcbawgeJjFN0Jfc0nUIuFgsTFnUiAINgpM56cXV0L9/w6oLnhaQSImJFVaAgwTEGHFGEcBPscrVevIogWA7UpGXU3KJBiQwNJIDBCTJKTQIxUgqgF4wMQdFfrp0ddsg4iKbGs6+LJea6zG3xoFSPhEFJGst1oUkdq9ROCRFEpl7yS944ZwiBpEUBwJspJgIaXbRAmtEkQNKLIHEzKRIx6jgFT0KcBePCritywHEHoBcyXElyMCT34TGykGQA4yuA//5L/zEK1ApqZkUKIgUMqYSgvk09nlSNHlUoEeBVs0OBqRH1iOl4FkUIGiVjTHgYAcjAbj/o1eQSTGwlDcwBzczMaEXDHkgLvF7C1N6ho1lPLZLplUi1EavrXFgE0VX1G66/nrR6BfXSiWf/5ml7gUcffvjFF1/Qa70jYcuWm6WOz3J+5zvf+Vf/+ovGzJV4+B8+87Rx8sYCdo7ma79bwmunCLdgxZ3YVphx6MA0psTfwHFTL+FDDVC4JkSM1xUywTRgq6bqyBPJhAAQKDIfrDR3EaTUMaQl8A5ALAOSppohVseqrkdyxgJG/xFHXbTHfnUigcgYOVkiH0yO3KZRKbhP6wBVPFz6dulB76ae0GOvl3u1SUGSnKaa/Fa69Nz5fuPVePkIEr0XAQVWj0zvf7rCq5UgwLRTlRVSDlIdFZW3za5Gg2WIVY3x2zGvjMUSLsSBsSdLyVw4NXpPC0oEOU6Q5rgoqTQNcbRwU3F5wbgjzuzV2wrr/RDRS2abPdLlarumQjXiGFByxiVW4dJlzrvJzM2YrVZ0RWMGC68m7VkH/Y4qkuEBCREHrYnUIYs9tGGHdOLGGEglLImGc1u6wg4fG7CD4bGDY3wMjzFEwUe4XjLLdIVXcQyse8CkOQhCw4xEZ+hC39w1tNRzg4mQuNQsoxsgCkqcYQR8O1X5jZ00XLEhtkYmaboU0uISekKUcLnmNcTFHrM76r1aZ8/UQcbmWaRymkOjCb9xw4379+/XNfead6oc27Jly+Mf/bCr2nfffacEcqCwtPk2gX3Zk0899ZWvfOXNw8dJcBT92te+9ubRI27YxZiYaqmJm1W3v4mvJoK4plZCBojl6Q2+bB6vHQPAWn4hEyVBgIdRYxGfsfaK8FhUqRu0gFNYC4BXUGYsauA7awFDl96UYAY8dniUETimGv2PbA0h9c4zZIJsoGvMuuhitjpyPKZGckSlFsH0wmPHZMEaPJUVGXcGo09MwAZIM0YixqgLxjo54AdF5DMJXiRFYOBqLRVYmESG9iG8eqMUMjIL6CEgUAlSPXAxAxdpjAFQatqDIyeSMeqSVJoKGFcIhM5DvCKJRa0XMRjefY24gzglvdgVNghU/FLHNmSxvNT0kYP7ftCjRiCqCDBiB1CXOGABwMQk9uO1ceMLMxCzRy91ak0DgQASxmqVhQkmbjIGTFQKmF5dAIrIjDHMgFEPlocGOwKKENNV0t73/t8IcyjCCUahG1Ho4BUYzz0xLniYxb3kKiW0CwClk7UgEScWOsmHxBtF8CW95UtXTUXXULBwOGIxDj6T4Gl6ux66sIj8mTOn5xdql+R7m7aSLkWXmy2ZXEeYMyeP+03ktetn508c37Dhxt/9zO943uXHP37WkdlvtlyNYMaamXVf/dM/vfPOu9noHQ7eG/Nn/+d/v3n4MIzAoOk7x6MkRu8STdtWVmejAIrNwziJ++BCubposrE2hRdDibNDBAjUpbYEh1cchBcSTcurQ24DNepKWbMI0BWr4KhjDEwIwqVuM0aDDiYwhg0wjDLQAxYfwCoH31ZaskNpO9o9FTFjX2ZR3ckZA9R2u56xoK8f1yq1UQSDa8iGkXwohwpdntnyKJmTXJuaFStX+PKdjyA2UbH0t37pYgCkv3pIwVTxOL8vqHp/VJ3R+1CTTyb6guwVlzuIrbeoukjk7aU4fffbOYKXtVVPnY67Smca6PHyvhZYM49YN3DYk7/2ruiJNe7EYgf7IxnsDz081YQ76JZknzWe8PDzyTXW4lKxBPlJz5HausttuWh9EXxBGo9CAjmMCEDcMt26azT/5UkFowfOrJNa4lch7iDrIt9yo4lXF4w4QUYPPGSEhAyGXwjg1brMQbPSAkSC3sjUFb2RHAPACsZYm3kRpZkyuABZHANrkhOWWgU0UohAkQ54zcXqQ2OlR0BlmtENZqtFGju7nZEBFL25CgMgCplAqEnQRMBcIYDhs1L0q0efHWOAJiRikjkQ4iYcXQeltH653g/L2I6irCvlfV1JBFF69ZLdlgGxVFFNoHGwSzrw2v7Nmzf/3j//Z54o+dnP/tZFdPYwe3J66vrrb/zyl7+8a9euTZs2HThw4LqbNjzxxBNuDj744IPeO+4YgrieQ/Gt2h5vXtRsGMfNhXlxUxgTT9MEBwkfTGqM5CihDws4lyG4wDshZTxnwRGiZrCCPSPosBeBeBVyIiqrC/khThAIRBwaNSEDb5ajdEESlTr5ELg1jPAwYRdhj4HrokJxWIlTbWFlP5nNXqM/Vl3pPjT1NkEdbEloxgnvXuI1DPtRQgIkw/T06BcR4Uov2OlnBFZMx6sedQljnRP1cZQcKsAemNVr6GUXRorU5OsFqMdmj65RuKgfyaGMI+DsRDT1xgBBhjeCdBGuC0YzBOgpVdDAwCvgStf+pCAWyQZj6WJ2HNQ1WB7HY3Y5Ms7GwMiKt3cP0hU7DBqvqY95iSoCPhIi39AoelGmtEyIKijViFmol0wuxF9d5p1JmrxSkwOplw3NXSMOqY5eAFFYSuV4lSQWXsGrC28wIgODHmbi/Y/ZYRljDtMh1szSazdr++cCraXXmDnDtHZi8xmoil2siVdxhhvBDwZRzGG8YtFmlB1oTDwW6LKWMUJy8FDINNnj8ZoOtXRBX8dPFjnUuC8BA/BXB2nPV8icK9arujIXl7xi4sLFmoqafgFPbEfA8b3SHZ66S+dOnz933gve/vAPP++U0Ic4/RjIwdnhz3ccN2zY9N3vftcG6oMf/M0TC/Mz62ZeO3Dor/7qyU2bNp+YX3C3tTJufN+KNM5WfCt6tYKzf/GEH7xOuDJy4KHAxLB0JZJ6SUshAQCvBgOkYQDaRSwszJCu8MIILrKekDDoNYPRjNhgNBWUNMKM4eoEty8VSb3pGmoEi1wocGAhDRmMhMmxyim2H1cjqME1bcqJ8ZTohZ4jiu0VXjTsJ4OdiGn3tWLjiIU0kktC32Xvg1TFH15yA/iOPb9gZYAmSpLjsmZp6YDLVTIxtl4bqzLa3Vc7oYtOZ+tVBPVF9bM+6ewyjWcLTp465/fhFy/5zAYbeIRDsY4QSClAk7V0AWJnYGNZU8sbUKzsjmae43Vd1ZbMx4m983dqEp661au8oisbN19/vYYi57YuMnOkt5D1wGulRXZXJbBeqi5G9XZ8Nzr99Lz/Lpw/VxOmni6TRlfOnT1j4+bhar3IGGDNJNxvXrxtXa7wzjLgSwWBNfHVJrTV0YZFqEufrX3vPUEk+7FpNS9fQiDpZITAgc1KNovJkIpCrQiUaCcyCDSFy1KAUsQAGR2wBSHExjpkuEhLPGs4EaEGoCAr4lCQmKTBphBd0ksXp6ogwBv2rNDRShQaePR+22f1RelgAmlVVmt2XtaSr4mMTQAFl154Bgw5CkNdaereNBHjuuxtk0uWepzSamWIgoSPfE3Bcg2ANLDE0uVx+d/93c/4yMr5s/WLdiOvZthtt233U8FfHT76sY997Pmfv8CGs2fO/7cvf+WjH/1o5gMhbUJZyx61IkT92+cKo+KxA8iht0lGiwKYDb9eKEKv6AqgzugGg0AZ9Y5vdZOGprT3uFo8A6AEkNBM9SR74Fgy2LPYDGYPigwaek2UxiUwAtLUYU/vWOCIWFN3utTuaRgmgAe1PZogCzWtLPI+Q1MOltqRy5p0KeTQT11gD3DSyxJbZl2GCUxaCNSkwUSOpo94IYMhUA2mFCwNwEaQPdLAsSdRuuH6WVw5iNIIgKcRi/TTxO63YuRjR8CeXD7jDmkWL4lNWuxEA08XmSSwTUkzMDzt7HfR3VYdF15cLv2k6YgLwwByLE9soJoWNAX3Uj6OUh3+Ewp2ImAPLXgR6GIAjLiRAFazxKkwIAVLAoVMF14qBnZCwCRzEGyVR0waF9BnvkcvDHalXF5Rn1+iHZL8CEFPI3Z1ugYDAGg4C8CChmRykEWgXk0EdKGpEw1yIxqDAo44cASliVN5B4Fm7AAMZLhQJkY8lGSRY+yFgClU8AGgYIRUR7gnDLAYVF0sJlwhysAIaOzURZcm/JlzPsBun14xgrQ6VcTrJ3J1PHdTEXvZ81bdb6blpuvW//7v//7CiRN+KEUmGm8aYqE7g08//bT3v374wx/evedlv2c+dOjQvn2vfvzjn7DgIhAoouQt+cwgrYyxwetSoenSNDUGjEEw1DFP8x0llBGSrsW8A/EgqraUvSTFjAQZWRIIEpxoswSl2MEM7IDQsCdKYQiJNLBxgWdDyHSB4dGrlXdIk2YDJutZmrgMHyEGnc7MUpJ9V6xmnd/QO8T0rsokoyWiK0quDfWC1dqqqmToNLMSn+jPr5ec1TU5a2Td9upFD6XtuE+OUVqu9S+QwOLgcGZjg0D6+m4IAzyZ6RIUZ7yN3siyluO1eXdK4VpSl5nZde7DwJvGbIDjkdsvlEISK38yw2EsN3QCFJTtdQXNY/uGBjtLcKkn652cNcPP+JLYylV+h0rh1Jq1PkTjTUATy2o5EEPy/UIpv3vz5K0DYZYM1hJbTvXyavUEEJtaL+HgYu/Fmj2AulTSM9QPyBCTj5INbFOjCTvL9WpCogeTwxe9GdZMBL3lWiPRkK/Ga0SiBbHeEOglpEa281BTGbrSxMjraERJFGI1Rki1EiPfvhVFhL4IQh3FxA26YcpKO+cuuvxHD0kWfQCYAR9eF90xig63FSPHW6HXG41hiTq66vnMnjYZNsQKvBpeoYsi9Ng16xqpt4Pb1/TrRArTXWosCCPHUYL727Zt+73P/LbXb/r+TYyXcMbAdSuPs7/y2gFPXe0/cPDk6bMWK7959vioB7IEjlIC4yAAr0KX1AcwT9FU6srsopIutYir0xMLwcFoBjMQAIgdCAIQvphAk2ExA8HatXVUiDGxUy+x5opeBa9SJrac5AdKXbgQKwCOIsOojjQAmnCpS9a4dHOUiEXWkkNJhiwEGwXzLYluhnvSkfDoRY4AjJd2ta4EKrx6kyq6AOokA8N80hUlL6IOI6SSxxoYGLFiAoYnH40mITC4YNTOiyRnAf3smK4QSBjyNe1ucNWi2em9ZmpaF72K2S6lGUYyAoxjvyorIEm2TSLH1SgYTSxqYu2wSKYUS4yHJ82nLx2wF5sR45EhYGc8wkKdGnFiFY3I+EWOLrrAehNSTTRuOaIhRFcCiIAv3TWaWeAYxgxd5ggWkYfHBWkceQ2ghUnkxCrECyfrRAoZPAKMIVMrkISkC5kSg0mgMQRRpAulAomGIrVmveTKgc5QQiEa1IwE5cKkxaF7k+8RQQf+qEQ8MMYmXQjI5ANTeBiVrEGgRF2iphlbsfgED95woUGvNlS66IoQ0QGTCXAV3TeJTxubDgTMSFo/jOfyRt3v8V7ghfl77rnrY4//k4MHD1oTI8ctZAZMrZk5sbDw0+ees8my/DlEi97cwUMf/shHZZUrWWfP1yUYXQ6/7PRsNHZwuTFeRBAENh0CowQEVmekIYt3vKqGhr9K01aFAB5NiEOjTrEBeUeJND6mkJAgJHQSJIaN2MdqaAGKarg0AYzsBCvaWBIzNGNhhMTCSFpkeHs+ls/RGs3eBTj3M4WkAZMcWvxSUDDr5zcdh0xglLRbS+wFyGSMHGC6PQ45tOe0KOtXzdIVtfDx1AmUTMBOM2tRqrGoCQkMmZhggUnBomn1qHOvmhXmYSVnYCPg4ptZ42IcuxzXPKNXmXzp8tp1/VKECxedfp6/6NHx0/LEzyEsyn5Gy5jaupyp61y246YkY/gSLyCRgdnj519OCbP3IVwT35rpzq5eQEUJhpEiI0rckV0+C2Eqs7MjvfLchVrmyI/lLIwiAF1RpI4ENOJShl1T5zqQZWNj0FSO936Z5GZJJOvHbayNCjCTCNdkDxgxCxVxU6xupWUcf4yQdGHs/kpsLGBACuKMFCHt1GgqxUI06aWR8DrLRUduSCOLOFIwAFAjwKapDgYSS4ICgwsm1gM0ESsYzQNxoYVAeCxD7GLuoFETbItrbIy6EiGQZNKikKcJr2aAJks9EAxX73gZXVMuaz3Gzz0+kGNcPvjBDzz66KNvvvnG8cNvRAgzkNnJU/f1r3998+at66+7dv6k5Jv95re+Xdcpli45cHAOGV1UU8oMBYansTZdbVoFAeC66tAFkwITpQPlQEPgQBOkGtmAjLOaI+R4wQrBIDCxGiQAYrAAgZW3JTSnHQFHklhs4xFRWMzMXyeO6uBxDyaVXJeIuxT49qpdqCRro+sEBGBE6umFVscAfhLFBkUc0DAIxniNB/eqn14RhRcXpPWLMcZ0dn192FVhuRkLA8BrAvILpaasU2OkC6ygV9NFIxZdV1eOrjPA6JKfeiOQ0l49K9nAumQLyYSgYUaEq4miWa1ookEPo4bRRA9mGCGCQFF+khHb1FSY0mrvZ0GJnqcyECUuGoOEZ6cRDQukNRGSFupQqhnAXwmsFyOxWCz0al1OKPAiU+tFqdaliT42E6gJSaCPuUU1SsazUBc56gQZJuwAxbcfRCYFjUImAjIXy9dEHBVgwklDTEVqvejVRMEEANfQaqStRqTQoWgOsU4znuBXkOmFj8R0QQ4Ab6urlzaihL6E9m5TjHQhVscAeDTE2gElb5iuZLTQixH30JCPqyX1AcRhzmvCXSvQZ6+4RFfJIZycc2e93Orkex98YNejD8/N7XdAc8pAJkq9tqGM+PM//7+eFF27bmbfvn2T02sPHDiI/fZ3bbcCXrjkFlIG6aq7SBTUzyV6tYoxMIxJDajS12VoV+CHErP1wzTdqKIrSPhwpWNg5OlivNs2VKMRN0UXWE2+EkoycakVYwmZ8C6WXO6Pj0khQEypWnxgEGuGMWLVMXKwDUbeBv+OLsLDVUBt4WsCWAi8H62s6uS5cLF+qgJpuxrtZraRrq9WK30LxW/lMqPqRea5rOn1L6vsLIrXCNZnp/qSCrMFhAOD7+6B8cKTa/CuVVl9auwm6miPtzTUolNWmTCcd+WbENs305sQsNmM1+YOoyaaG6+/XhZxVgBpToraXmliz4gESXh74aQYuqK0pH5O7+mBE7qo8GUhJp06c1LTKnb0eL1Z2K5SKKjjdRl56XJ9RWFJvUoEmS4FwIAcw10Is2VDL7wxGwGDeYSLhc3xFgtZBeZRHNeLJdIA1JHJawWgRB08IxELCy+oiNhEu+LZJXJGUWqV2InSqUYsOJEJQ04YERoLBIkkFni9kcYFXaxtebU+8qveYMdcHagVQsHxBF1801QwkKuXSs4DEEdWanhk8LjU8qDYenvPbWGFZ4SxASNWFjOiZQDJCBIOFwvIgcSOEgGNXBrg6upxg9FV32OVhf1iE8Rce/NXv/rUpz511x3b9+zZY8xIq7vFdbmhPoiExntjHIvyyqHbbt3+o795Zs+evQ/u3FnR6SdNTKDYSVebXCtAqVm0MyrN4+K2dVmyCBOuxRi0DFZD1jToAg6lGsy2gSb0mqW0nkEZ7Wc1ExM1mM3hBUS4WE33Lac0IyGwUIRMc8BgtxvQFbEUKZADTTChTxeZQaoFaIBdaM68RTC8XoaRUkhiSABz01O+mhlcCxOxdKG/2i/qiRb3U9CLklFDSSa8yeMUEzB4Efc12QoOL2kckU5mew1ov6zRzEFGlO0Sa0+fXCBcoFiihsk8wauJhalMggRIyPl+054mJGPK605aQoilK6GDJIHl1lRyaEePGBIlRsQEMixmoHEvkl9+apYQueyFngG60CsRrgmvSQFPF06d9noDgEJmSsI7mE2IBwkZo1iA2abEmNAzyarEKcJhkKlDxjw2I0agzmDRbuUKMSR2DmqqvRE3npIQRgQwhlszSCFKlDASqNakFDsajqBPEz1dakKEpSh3PvIBsXRbzcHKNWo/oHNW7hQOsj6h6FAzscyjFboECI1hEThCkz1EDJECRCXjqKS712Oei690tP/xGJH5eVXtASHbJi4YRL3+4G1C1/Rh0HdoPBXlwOy+jxi4jeeQwRisbqYs8x2hZcsdOzzKcP7MWV9lceJ+5tQpN/6cEXjeWYCPHz3u2ZlP/NbH77nrnt0v7Z6bOzg9Oe11MvXV+cuXNm7c6ieBP/2ZN0Gf3PWB33AZa9Xkmtlrr9uzd991N9zQp3X9zRIe8dTdIxf2xV1y1lMurPaMtHtZo0epFzf9uFToKj3b3wD27YARo5XI1lVMYSeWcYdoNwwcKCoFvf3GccZTzfZQHJQ11gsviKpvqOgq3TWgIlkvO1gKSGCZJ+DUyprq7wJlDsik5JlRN0BgY49SwaIkpZIoBsKYJkVgFASSJumIRZcCiAoZgV3RLIn+ddP9bRYxr/4qdEs45QJQvW37kqsHUtPE8CjS5IRXsF+pt5WtWVMvbvShqXrh7cSKs6fPGf/ObSpqJTXT0XDcQ3YuaMhHFxvUtkG9Rsn1qy6Ke1GHzxeST0tLWKbpw4Us8xFDXzfyXIEPZ0DS661wPrxqMbSkmGwXLl5mkr+Lngf0cr8VqyB909uRzoLjnr2rvqsnp00GHxA0H3yRy1DYmPsano88n3bT+spVSNcWbM9JrdnU6X3mrB/f1aekjfyCd7FdvebNNw+Ll0fbfXsMGYKz586z+M2jR63oFo95n7D2IdLxzUTAqTNnvRGJrSaSYfZsoJffOYcQfs/t2h34gb4/aau2hri/Da/psSl/p/0y8NzFmRnf5bUDsA+oCVj5U6cFlU4i7A9GjjEVLAE8I+oiHcDomNHWNXVWf6OzaMwrA2tmLPU4pG8OeTOEk003iF1n8+FVK8YFtd46tFW+Gy/BscWpHGStXn/yCKXHoZClRqPX+frFSxcmHnr4/ck8aUa9tUa+EhCk/E5h7ihHexLJePhQckNBoKm2NKqluM2eudHZW5LJhFekuyZiKiKh/Bzvy8wneENMPl61Tly0qwU6cKusYwXvaTEtW0I96eObx5pWmk984hO33rLtwIEDc3MHbKMQuEA7v3DirrvuMkKvv/66S1SPPfaYN5076q5ePemRUWsZY7zpody3bvWmDxgv1MxQqnNc0hUXuGNexUI0KKvRxi8OY+DIyVRDnBIkGNeAQR8hdEUtXwCaaIQiwwFOYNW6sGA0CmDDKslwsRAMSB0JGNOlt5eG0WUaSCVCHLQRp8QwBlBUR402Qx2T0hzgsKQXUn4OXTHYFeOeAPUTLl1gt/kpBTOSl3IJQILgqJEZcb3JLs3YmQ2IwTe7DHdY0OgF2ymoh0hCihsDENBo+xAt8ocW+aOOECyU8pTGwBglEi5pAwkmx6yGwZ59CqvIxGUPlQECQ+rFBYA052lRdIk8JPmTU/W2eEi9iCE1wTnGcMHZgLtG6ClVOxih4Tux2FFGGnrsaAKAeUGpiyfsxIJMEBhMCLHBaIJ1tV1VkQCDHRLMGH4Fn7AQIgi6CNdbz3R3PsCzRxfJYFrCpSnmiAEI1HixKIhpMRAKWC/GsOPVBZ7YsfPRqAwDuZq6hUCtRAokhjK9n2ELMbmQShQYYPjUkibmSnQGRSt2Jb5V7NofdawXWWTWYz4LnNC76Mghy7zTBobx0+RY5rHa+sl/nbpSBzRmps309JQDlZXbVSuB++xnf8+vfA7/6o29e3/pSVFG0mek3/PAg0aBKM8x3H3PvY7VPrjOKssajH23R+rrjMSDQuPNc+LAbAALU9g8NFFCJu51VO/CtrCkGSHq4CEBipU4AEwkp0st8goAV5q8AENigcmglJArnjxeK2gGAhKBGgxjHNUYBy2DBMBijSGwunJHIaGHqw5gSiyJGaFUQ8q6AFGqVhZjFhOTaaYOQmKAWnEsZSRTlbqM9dYVu270th1CrSTLQ8xsJkEiSK1Xl4XG/tqMkjy56EM7GlPUgkKvfRzzNAVHU6/lBkGlVs+rOO6GXRjRsEo6wcNgBFNEvovimszAq8kMMDJpzAUwRurQZCoJJhVqBpgjaJzKWX3AeMnEi9LoJexqEtjJQjT0mkqERzI84egFBpJMwp1FUsdOXXmQwiomJpmMkOXOsrrXFncSNIyaxOoFQCpgKmI5U1mohgRQgYBtMZvlmgwggSg7fvFkAwxpehUY0qq3kzkYDmJBQ5SCRgkMTwIyQgDwAF0wtezp1iCOBZwPD0FZ4BM4bAp9Cn7qESiaYBIElATSWA/QFbGkgWGoRIlXkyJwjCAhlulSEiwYNFYlNKE3WgAPFcJEBZkSZWpVHdMYWfe/ly2xJDkJ+eIXv+jlfD/72c9e27fXs1TGLEI2btxoDLysfW5ubvPmzR52J4FxcuKJJ34ge8ghNtGLL0yC4Tu9ajB8QgGjsD+9uhBn/UlX6hAvZkEmLDBVxqTERnJwaPSAUYIXEb5thq4EX40gtg1yxB/egMZCtRLVER7MIBnQBJW4hIiYQmbGMeMyNna0jCJgI/oIUcfUiFIrWAaCYkfR7gP1pos6B0rBN+i53sTyi7VK19VoSAVXPFIrfCfBLGIYYhKCwZI1BQ1eXHhdJueImaYXJcYa9y7Y0eglRNGEJpaQGC/xEgRkBMolywchMo3GdDlagIUaFy0WCzlJV2SSoDcukMDNmEERZ0NDoyUVxvdbEgf2a9YSvLK+yeQHsN6lRw4LaVesd1jqTZS9CMJYnizWGF2fdZC2TiGg94477jh06NDevXvZ9vzPX6KdTDYTxX6hYC12WvhIBQlolCQPp6gIAV/iSPwVSYUQjGgUJ9YwerFDhkvdhDXiAHheIwZEKSQaLFwGQyIIEhwkLQgmdj68K0LTzRpN+tCBUbA+TXAJ0hifcYQglMgASowTCzCbxILk9FKMRTPWkAOIdjD5umyRLNJn3TuY6CcVvEHBe/Ms/JcvOTsnoLe6de2fNYT3V5o8vuny5Bk3ac3yT3/6U8bypz959uTJBS9a8D5aj7k799++/fabb966e8++I8eO3eYFfrPrvdHBEnbzzdt2737ZVs1VM1/6LEsqYua/8IkRj+K6iWeCjf4EnK0dfBy2pSIm6Cjfnr3lTk/XARmMmv3qUjNektIFT5wSFr0DMUymByRYCQukwMqqjKuQijY5SlSQBlbDBx5kBh9k6JkPUGgheciNwZIAgw1ERgt7glQPQJtZVZBqlpHJVAW+LKHePLww+pqkzHH8kDk2WfbIdoHImqSOfAp2hSg1O/W2vXUN23LgNrGhdKvBzTU5U4G2rHgobPkyV0I9BVZbWm+2lCqELl/me5bTa9fYtsO7gQhpkXZj0S7P5+qEzAx0h9HXwPD6+LktK97Qw5O8emqyvkc/sbTPc+pSmBOCI8eO6jIp7fdjs3VB/C0BktbKYryEV1Nv5pG1CYHLNCjdIGIdj8QnCxYyCxAWB2bB4Tsy/uY6lKtyAundy9JSLW8PHjx09Ogx5w2//OVe9csv75mfX0DjYpnQWcjYYM2lmiJ6lYxjjUhnDhV6DYc60WZDh7PSSdgVBjCPVQgUxA6SkaBJMjh1Dej4LnbTVmLD0EsOXS3v7SOlXuoQwCc+aJSJhx/9QGwaTIk4aqKSRF1gnGpJQQpOsC4Wq0nIYcRsQQxDGZWAhAMyprM7yJgCyZpIM3hgP7GKiSS7BIcRPrxglJq8I0RuofSC48SCQD+U/dznPucA+NRTT7mWURLaVB+2eOihh2ygHGT27nt169atrDLwUke4v/GNb7z00kvbbtkG5iJdgtdW1TzhpgIZF9JU66I9lutV0lSDEehKYYMSvHpxQWBMQjbgoy5CwPQqAAQowQC9Qq1Er7qp6sClCE7o1YreoYQXMmFnmJECq3XBy09IirCQQxqkpuDEjFg7CDTCCJSYpw6AILA6BKHJ8k9IkHqpYwA55EskuwD3y7CDrVx8llr2LPYOUcoSI6uwDYuBIEEOwON13DKs8GQ6CcKCDA2YxlgFQy/vFGIxxobUuhAQGHvkGzwkm2GoICRzCWNyz9qRELFKL7EIdNE4PVnfVYJU6Eoyk887exwOooHM+gXTZ5B1NQYNdZ3tNZmjMRPNQiMmkLiiEewgTaNAMQYxG2zfzAUyYwAC7O4AKHp1MQnAABGjDhlAwU4gvAKgC1IM4QEYkzARi4DYDCiBxgMMUFMUFWryYXhEY5F1Id9/+KgD60ov4ZC66KUuXeqJB3c8EurQEQdLEIayt5MVPAh1BqBJCgvUyRu9CgxRkGq2qsk0SBECrlA13jAY7GjESCN8y/D9ZMe6uoFWf+OjKMlTa6btgNw05JydjSstjlXuKfh0q53UxfMXDP6HPvQhSucO7ndg0KTF0Ij5xk2bHF29Wsh3BqfXuhl4nYOP5PUymdf273/+hedv3367zxY5lnvKqs9D61ArFAqrmBFT1eD4BZ+wDMHRq8SdWI4SEFgtMjyFDB4xAH2aQw0gk2oE6NV4IZVgsABCANYLTkIkrdXGmBAs0Q5OFwyZCoA9GGMVTJokAQbV5GOUkQZosRnhghlvEytEiwvJelMiXK9mbUZ9edbArMjrqMq1Ilt6jUM5uzGiNxXNjXahHIRhCTMQkwOOg8j0OvbA2KGYq3lUIjQRlQlMAmmyDiXjIy0nXCGARACT6UcR4booMmPR43Vty7mVNUtMZJdiHaRdkmOkFF7JWJBgFyO+hOToiJ5Tal2hCcaakvyHP3L0MDkAlAppYBhmMDkOXwEAACm7SURBVMDOCEwdG/KYDgJdkLTA5BzQmuIUMmt0RgoBL8TqvPugvR+HoV2IFN5Z3bgvSppqSolFwDAYQtDDwOsFYEEf7WCF8ApspzRiXSjVYL1g9OCI0gRgITC8MEqE0Bh29GDq1OGdePe9D4pdwheLw6YbEl3LGV0+gPG1KULFi74MLUoqKRZHahJ6QxsJMOgJQUMxFlFQJ3VwUUoULpRgb0QEUGS0MIaSGUeOHukRLCReNV5m+FClXNm8afOuXbuMk+dNvDGGag9wssda5nzebUEZ8zfPPMOGe+9/T6VRH1oXTi58//vfN7TUmTUEmvctefRoSUIMo5CpJkFBOWAAmhwkk2F8TABDwDVNvGpaMki6NFNglMBRQZoCOWhkBqXhEihNBQ1dggnGrlcTHF2DdhiwOmZHJvoEmTRFM/imLO8U9OHll8OS4ENGLAzzwE02usAXF3QB9AIQKJqhjwqCIUk2su75kyAs5NNGIzvUGXqMlozZ2XVoWKuEmByeUhHLZRq80yU1RXLWKOAVGTUugM0F2JTGRTgYJUUKYrCCklgZpcCzUDrpxc48TYDMsYVBhlgXgaGPYfxKFy28i1hDizKK6MWOWAGj5wuxlhL0nKXFFQh6Y6cary6KIAHoIdFTFDmSPB6pRZIQtqEkHCbrr0BZyxjPWruBlDhFIKWWtjhLuCYJsZALFBEiyKSBkVnaCORRXMCiiZ5SvBI9XbGBd7oIRByxmshSBgwzkhXwAMQRAg/mlBpjuX/vfTuo1I00WFLwqEcRbAVioVTIrqkrdgrr8QMiWhDzBDAhBApx2H3FT5r7q0B5UMAjA3WlqK4I+KunkCm2lokRm62Snuv1sK/ZWBcg60JGrhrZcXmDj4vuEltELaUsdgSce+3VHQ/u8IoFel/a/QsrlJEQ6FUrV3lw4Z573r1x46Zjx47v3v2yp7ruf+CB02e88siCvXzV6sn/9T//bOOGTX49D2ahZLdxzHaVawqTzTy13vLLbLSOtIe1tAmfqTveComDoVVnzBJ63hlpwTSodhA1GL0DhScVMQyALkDg1lYrpt4QpCuBNQoh04WLWBgB14vFABmR5FlqNvKonWKpiNajQGYcjLg7AexDvqOIbBPRujvMWoMb+cSmyHgCTY8hWSllqgAkUDFSHXqWINAFkLVkIhaTeo5t7HIligf7yh4Xm+r4nAhbDtFgUbx2WSI5nU9YpFlmLwLCNROitqQeLrVgMdL1adaKDHcEBCUbGMYAeECkAbDzSOqatBiRkclmqjVvu+02GDThBWfbotchMKskURSpLQcSgMawWyXpOrVQl9UBtNCOjJExgLu1gvTaDcZFoI2nl7TVZLGs17OQK0SJJ2BXY8F2aK++9ppc8sUntWmma8G3CFwj70tI62Zna0dgRRND66zFa3zNDq+jLY1iwgZhVzPYWmYl4ibbhJd3wpsmSkV8xJAXeHEB9LKxhqxXDyxEwXtrKiHYieW4gMAj1lWj3AsugIEYuR9dmgr6REmc0Qs1XsMRXkKUiV0f+E2cqIeBwcZE1qAGqwllKGo07kngJzcZwwK9MR3eAQQvssTCkNeVy05ccpC1YVVhjwR4JU21t1OpiYLkM+H00m4OCSUgJqHRpOUff+g33/e+94mRL9w4IcDCT+xzB+a2bNniyECC5xUQ33ffvVLfQb20XL78zW9+k3kuItTSk/Wo7Bwd9waTqKCU5QpAs8LWJqkhA5MQAs7GeBKYCoYRLjUadQBxQ4AlxJpDgVc09Sq46FVKaw9BbIBHA8MXAacrxOoELQQERPK4WQYrBJb0lo+AxtiGd2CPauoULuCCYTAuGM1YGsmpB126YNQJQlNWQnsfVqutKnotWCgtvJqQJXZJcdFoNC1Yyi9+8QvmmVROeSxejDfiKDnOWk28ajQSOWLB6dXM5kJmZiAIV7DLh3iRnDG7EHMtEZClXuyBhhx4ApkXq9Jkjya9SgYar3WqP5U8Ghrziu9RpBcljdjNwwpBzzI1C/XKRg/VUmTlYqGwgFt83cjGiAYerybzGEwyMwikZdhIMgYZsSyHF8CK5OQkWA+ZuASw1PcdQ9KyECPgkXmRZYLY+C4gujRJVpOmxqvXzGJJmswTux7N0fqAhiXYE3y+JMhsjhk4Yh755BCIBYZ5oTHiVNBINd6JO+68lwINEtGBOaMDwAjKYiggKi1X8UqtoMmQ640czQBqcO64MUKTiRES3ZDYFV0haNhtwjoMe7ycdEsxONuPpAXKlZ587bdub92y+YH77xff5557jpDp6TUez5qemj5+7ISN1V131UvZ//7vX7LtcqFdYpsF1yxbObNu9qkf/cje2POCvOpFaokn6hDLJv+oUEZHufFJVuzkEYDj1Ck8AiNWcyq1WIU4td4AkQyGwQuItNLVax9A0aWGUUpHF8SEK5CBqaM90tDrQkh150ylFyQCetRKCCIfpYFArMATAhNRg5Hw6Yo6lNIO+0AcfwWsDXy7QqNoE4WYanV4G66gRSaAEDf16PbmTPRx2drpHjFkSel9q9yVnHZ5cpdVfERcvH3saapaPWUCVl0AF4YQUARGYEKyIbkNSBdKNlDKYA6aLWoY08PkKf/HJzLocSl59sX6YodFGsl49eKyTtGly2zXxWA0BtISgFGNmEaRV3RpmpYUAWKnemJ5nZ1wMNrZhkBNBUUmZjAEslZYGIyeXgaIT4yBUXhhJbL2RYsuvFaULDfppQglA5hEY2hiT2DyUQaDmIVqXYAQqPFyNrEyjZjKWWQxm2FcoAUlOHF+4403hMizF2wjHIGCQMElSiQMwQ+MjCUT9z+wk5Soh0KKAYYF6EjXpWAOYMEiVDM+hJfFeqOSBDAMOTAcQANmsaYuBOBIIIqcMrMLWA4jVhDTye2oxoWEVTbKfovg0Ldjxw73/qzJNlAGT5YYRS5JBc9ebdiwAfyDH/zAGL/3vTs9yI5LPvjNxN69e/fs2aM3w4yLVWXHeN0cWdP/RD8GxFOUmmCd4CBZCwgMjwAmBg9AHKcCoI5MvYBSvEh1mmqUCrFolNZQM3zAoBm6qCMt2cAjZGq9dcjowjAESrikC5ahRCmaJAcOMAkKQC/KyKkx7YuMhAt7Ri/sg5DoCqM6WqKd98Frhkwvgb1qlQbI4A09+Zg1zUyz0f7dsM7NzcHwVDIAsKv5SyA5Al/S+v3FQ8Q4i9eII4sX6tiDWK9lSBeBmrroJZYQdVi4psmkARPhwkX7WPVoWSHBSpHU9WsTmQljRhBCMsvxUoSXagBMxLoCOzld16dMY12ARElv9hCE2EbFcnolMIHxPY90cQFxTnSIJQGZNZRGZHRJE0DwkESpUcY8eDSQTI1fIQiGZJR8EYqMNQCGI4SMMOOjEcPiIzkAXKwlB56RYBjqBAcBQBNsjMiJOkFATLjieGPRqBFkKGV4WKNWButZgxM+puiKoTBxOOaqhUBAyWGKLpowskDT90wQ4E28ALEMMqkPQ746LPqphEFAsGOzVwaicFlrlUefrjonP+eM+rc//okHHnjAMe21V1+1ZjmcmtZuaLuqRb60dlvwRz/60d59r4jCL/fuo33dupnpNWsPHVl4+plnXWifctJOl92c37Jdtcuts+AUlqQww4ohBpq6GEQ4WKj8dViSrHBcqLXYrIEPvYCgb0eqAiuJ9hBzho3Vjv632NqGpI2FNAUeBhC8ZsurKl2L8TDJPApZFZoIYQmlKfBtc8nEgiAjG+HqAFjkSWnqvRLJ8FGXBTFkRd1W6WJ/XIgZgenyo6siciN4bH+A2WvX660lqhN9CBeNpq5UkeLEarqFcvDgwT6e1cWKsMdyvIbUYuHaqGO4rJCBV72yw1sk+9pZOWAL5onN0/V4FF4bEMTn+2NxhABEBuApqovn6lJ37bwd8CfqcqoLTMfnT7j2KhpOVlGykyUsZBsXJJtFB2+x10/5pvzKDA2BOUgDEJssuoRaE8BIXELEHjPTckOjZxeQ6aKLqZZUS5KZlYBAsk1tCcWFV0Ka2E1s4aauHkRgm0fT0JTbSyVPPQOUMFJBF9tgEuFE0qKAER4BjDr09AIUSGZbJXQBUA5DRvtEfzIjsY1AbuJlLcq4LEpgojByijpyNCMQILDgktYuRJ26Fpl73v0e4vCzAB1qHTQBUKsDxIciqBXsbU8GZSGjQ6+wahJLpmywwLMMb1QiqDQaX2qhmhDESrsxutVCiKaIi1MC13G5ZGg//clPbdu2jVh7Je8OdaFKxBFHy86dO22yXn31VcvZww8/4koW+WLENir+8smnxM5hCgwTO8F9mB8dW+J+7DGtyuF2GSZduKgDqyEjBMxBGyCeBg8InBoynoZeHbGAxYUQzUgb1MFQpAhI9A7SQjOoQKNrYGQ/uFkLUMIYFWq5pVDKGID0RWDgAEoMhhErvQHUYKKQ4YvM6I0iNUZFF7G0xDzNeqxB0NoqAJpqls21Lks7NAM7wPcRciGSLsRGnzSnEgbXKBOeUx72GH0SXPSNUjClskghwXqBJpbAK1ICL2JwDreyyHTltUWEVbfccguZWJgRxlhr1tGbBQhMgkHRFbP9fAJ7jNF73ex6MMlWBzFUGAYfyXGKAWxjZFl+tc5IyGeJMtiMhSPY9SJLcX1naqp+tUMCg3nBTgQ538Qu1XNqjL7Hs16JA6BXwaLowgjAq+YFDL0piKOLCjYggAdAqhGTExg72LJOBRvQwzOY2ch4rWAnkAR7DjWXeYqmrGl7sOBlOXwkIIuWENSDo4jooJ5KZeg2oog0FcrCKddohcdFIvW6SM8RAzAowEWaq39qLArKaNEVjbFPE6Pe1t7X+C/WT6TksgcrxRCvxIVZmD/xB5/9LMOkyJ7dL3u06vrrrj9+7LgD3okT81OTU3ffdbcf9O/ff+D5F1644447SbY40iJqLHz55Zfn3jzsMORLOVxgDBeoptf2036ZCeaOKWPiGDh6G65Z1HCt42BiOQ4juAqANIDeJAOC9qXqwbVgEkkwOWIFGApMYEBgxAHUUQdonVXRopkChqGLR+AAYJkDzzwGx0hIBQ2MAk5mS24hCqakj5cbRioEiqGaheKmsE3pDCesymAJQDMEAJZXdwMSBF5a18lJDzqZ5NscA/gfMiyE0OV5OtMvE9UaEe2Sx7DW5ujCBQtEZoV5a+KtnVnjSIaMLwTKE8Idn2AIhGG5WpMiGDOHKCaRJg7xGgsC6mx2SEOAmCi1cOmyCqjlYTYpsUd8XKmwv8PoYRr2wKxfN6vGmAWLKNojR6iNCDxRii7GuHjHQo7o5RfJuljFQubBZDFiIXpNaU8jIZRyGbEuQwlJr7ul7GdzvCaNnIjlToJMbO5j0BJ2ZHpRsjMRCxeYwZDBIyYBhvwMsXj2q8/KVDSUMpI0BHiFC8Aq0pjHDLYhYzB1CAiJAQgAPCIBUlfsIX/i0fd9UFsHiiR0mdP7cCFDXUSdu2rqzT9aKdNUs4x0JYsIYgV7fFAvnDpJCALqWRZGRlMKqYscsF4DzCwTDL6fHag7mqyStzDO9cCf+9y/YJUQ7N6922eXaMfFbGLVrmqRtnfvXgvTlq1bHYcdgqLLWDqPePLJJ71ERmquXllXVZnKJGJLY687anLYrwsaIHTxCBxKzRBrhlLNETVHsAIIBKNUK5rh1RUAvQI/BApA7OISveqwqMHMwxhkJEe4EYTsAFbaARJqppFJeKZHTIXhOHq1yJseme3254o0golAjBllxJlChCsir6vVlTGLi15NihLb+BUkePEOtI9Eo0O6tOeXuHNHiQRCYFjLGLowc58ojrNK0m/cuNEPFdjMNquSsfa2A7zMU/PCMRy7+UwmLnIUEggGwJOJmHDEDHCljCiWE4UsU5fk5qsNReRYyLCE3qSgwhKGl3kWC2S6ZK+o+uwYXkhGMglewBEwzNJDi16+RBobzl88b/mgOnfHULKHGQYlEx6edmbEGEsT+xXRIIqPyMjRRKBwkHaWMBIZA7hDINUwxIIRayLW20wF8IVhCbgmXkaSj17Jki1QlDIGAe80HR9JQAymVHAAXNCLi18wZA5yYJS4gxGgiYDAAaACTELZ7DksjTjMNww6eIKZfTE3nLo0/VDSU0uO5p1TS93ydQjj2ekzZz3f5NabmWGOmwEIXFs7beC9+WiFi4X2xhe92Ml7npYtmVi5bMX6mVnnT77+xmNzynLtIaUE7Pyl88tX1QNZ/jz+5pFjv8L/zGc+vW527enTJ1/6xYs+bbJipa8Fe7LrrRUrlx07dtS35m+64fpXX9n78xd+PjW5evPmLX7G5SAuP1ZNryH5q//jv2+77baZNessADyPU9wUGgPDa0UENAWI73YVjpFmhxXDn6F0hOt5JYcEVAzE1J4RJQ+sSrVaOXjnmSYeWY3N3J685YmYp+4rm7YVRk2QTGxJUOr0qj1CY9R0gfVWZPr9RKQ5QNgJpktvBCIGqxGQgAZ+ctJZSWRWyrY79UvaTF1TS1iS351+dX10nNBeYOCWnIxwNHL+QovrLC46lPtxGQBj6RGWLChCV5lr0RzvpgU2uzsE/KxCh8ODXba8r48AVjEKagktJjz1xJEfu4kTgE+eG6uPsBkSW0JHWqbQ1PnNYZZ72uj+++9/+KH3/vSnPzlwYP+GDTe57UZUxfwa1xMueRcTwDhaCFevWu1RPqrXz866b0/OrCvxFov6QPwkd31/8PrrrmOYF1Opfb8SveNifU3HWuN1URMTx44esTvsv/qOoduZcpsQWaDpCcML573o2RvZlnrf1vTUGg8nO1xgqB8zTk3ywkOIrnD5UIAfyQqfXoF2rdvFE013h+yGjWAfymvoM77XXmvLJm1ds3dOYyPvDL3Sw1uO5+dPmCAyU4gBaqNmRepoibc0do+rktawHvEo/eHD2YsJoOXjxhtvfOWVV8TYQJjgprmFpkaqD3uei5SnpmFlmFFu2IVIR0Dvy7PNgPWAokcdJZ7MPH/6rJefLZ9YXq9zu+p1k44xXvx7nh/ykFip6DuVYuX17B6/LDGcWeGCYAUNj4wTzLzIrJr1Ke9OJV9vcB7znh0PJ2mySMVoE5h0eOlBASDKZB0PKQDITvgBQACPnU2cR4bXUcVaVoncR7AirscU6pwCr/ljW0WX520MhZ+SssH5Fdg/AuUKmAcOEc4EdV6+csneivmEK4R4za5jzmMf+CCZB+fmXnjhRWbcfffdftSq+PWssZmcnv7a1742u37W2OTqSk8BYmpdBmddZp7RYn/MY4BiciKgC6VCo6IpLKHXW2aPT6DEvSxrepRolGaqigT0apLZ2RoKgKQ6ZLTz2nEyciB1RY4uirCnCxAYTZswuh4Ueo4AJB+uwJo8zQgKKRaMMLacDvg0wvAewB7ZTAsMLjAM4iE4YCZpOlJHOzkKMlww4oNRGdwfW1vRAw+UaNBHftwREHopZbkH8EIQGnjDhjhRskEg37ksm20TrMJr187oVUxLww0PsB3w9o6ypk+IpFxNm34RHS0INGN8aezrR2xALFY0KsIYvNhr6tJki4LFXsniCWa/bCQt7ADBQAyPnlW8cChwzwcLAAuzHT8ACOx9mCE+YAAuEUZgI0kLZ8HymZtswM4F6xR3NBFTRz5nDSiAXmYobWpNmZqPy1eISXgRQJKMF8BHBZKdiQZGM1SvQiBKZCkmaHtdH1gkDRdeutxBqH1iZ0Wtwu63XnUbtJ4CZR7KElXBExOrkUMTeXAe265XsYDrPZXwXm5QN8QItguqQxUDkNY1LN6KFyvLrp5LzBUp+FpN+vm9LEB4qFLoVuMKI8qI00RPLosVQizFly5UHC0DfKvHBwxDfWa5juDw3GMgT5Z7bZuQXDzvxjfDxVtLFNbNrH388cc1Kf3rp55kp4SlHVD1xLKHHnrYOuiuyv5XDxj7Xbt2HT9+wrO/BsYh2nT43hPfJ2rbtlsde7K8JOhqEthAVEW2n8DgO3fUCndUYqYgUwYAb8KlTuiw0yKWyCI/+IpRn+6hJBlSrxoMoBegC0yjOIv5QB85agTRrivEQ1eZNZ7wRFVMxiebiAUWUihiDIAWSEAt5d0kCpdCDn+NIMDYwQOEnZGaamOqDgbAXxGJ9hiGTIgwVlcXcBxHQLUsYw9AGRxHkB1fBXo8vclncx1wu8Q8oGyPbWFnkl2Do/3mzZtMeENPghjyUQGwlqfuH8NjwUtXXI5TtCc+KJkt5dSQ4qBYJjAC2M8kE4LMRMaBAD6wH+3bv9grxLtFQzAakSE+lJq95FNEr2aEl7M9v3Rxir9EEU6pOwzIzBSq0QDQ6AUbk9hT49eRiRDhRYYdJb80RYNfhgtAGpgEroGRuX6CHTLsgan2ClKY2IYYHjHA60/ksrMI2eH6o1RiidlrhRGHZSvtlL29/MrqSbfXrhw54uBxg+eKzAO7/HbUHK/MuXApv5e0fknCy+frjal2beap8xrJVbtFY14rWp1sXjPxwIMPxSvMTGdKYmEx5k/GA1JBEErWK3pRQvIhOREAzE+e43VAsMqGDIu8sSgSZfDAtQVyxdHusEcI3nRln+CCSZNYW7ZseeThh+DnT5x4/vnnxYINOBQqjOstt97qx/12788++xOJvHPnQ714W72d9130O+cn//qv5w4dvOuue2Se/OBE7KECoFbiGslUs62kd2l/R3MPcake45N/MOwcIoPG8gWpNFxZpSCGQYYbQGNRNCDbQqPGApmQJnWaarS6xTCYgQwlWK2QTCwhGNWs4gukLhiwWkFvdCCHbEYpjLoQI2NC0iDq4ImF767RWpMuWiCH3W4MQE94iGEUGpXBbEmJQCFWoT0FZQSihGcDLkc40wEw0BfQDJl1uKSZGouElnvr19cTVTLHDMxlI5QuZuMjXyIhtlIAGAnmOy0SAxc8YupsP/XmGhMAsXBR2+tFRYMZ6J2UgakmmWqAVCJzGFMAF/mCmJ26eUdOU9aHIehiJBY0LKERARvI1zQ7DBYhDCC/pb0FiV2cAbRnRxyZmgQSxX0u4AUjBpCWpjATpVDE7DDiikyWQGqqGaxYNSARQ2YUyATQhbcBaeCagyvrE+vX/7+m7q23quOKAzgNUsFOwHbAGCemvpA6xHEalYbLQ5u8VG0/ZfJFWvWhfqgFSlqSClNQuPgYX+PbsTHQgPpb8zdbjKzxmjXrPjNrz569zzkjJ17LBi987WJdmk+abAXYAk9NTbLCacN+f8eccPLh3W83iCfqV5SMtZlcv/Pi8amIMaFNHAkHnm5ZslIYmpOf/7ZeHKW+M1RchIyJzGVT3AOwm33sVsBqTsYTtQjChJ40+1IC5QjSNOUwNETZTMnt5Au3+SFbgVGWZEKpeHNF1TsydOYvf/6TyWSb/cP33xs2G1FX6CwqW6rZ2dmPP57b3+vfunXbkHz2+W+OfDGQGeno8uXLqempW7dvLy39d+byR3qxi3DcTKxNI02GKbSwH8CpsrM9yoERbiME4IVeFuIC8FfNbAVLo6wwik3kwBOiSyEBnJHGpZAT1aRl9sAA2IkshZyIQg9AoBDb0DV7OjwgVpGZgVCDqbYGRBJjjIEEaFKBxiTWhDRMxEIyMwQRCNnmbT3PggFnQLGkmYTVmcQqXchgaGEYDDPIVMgXT10dHpBCLHoFWYWssZDjaXGEpya8Akd32ysRDpRxLHvnKf1+fR7Q7a0wWrSkJS/XndRgfdqDWNOA41FEKe3k6QITkl6zN2HkNUoErEIAaN5UvmjztuaP8Bo4+dGTQWa1x511ScZi3rrEAiIHF3UcgWGnKUeIzNI9qdRESSDj2cARDrINhkC87BdDYdHUxVoHWACWW1C6lIpdu61jeeKDzEArlBoQITxOBG8GB8ajFyFnv5Wtt422+eOOvFak0yXni/UBFJdG/zxD84vuvq3Md4TtbjvRsoEV4fW1VZ9od/+U/EWOQx1nZ7alG5s+5PTMM1w7LDrYSUx92X3dwlWQ2Wy/5k/C4J/VIye9+54dRk1XQWtuvarvdM9chBKRDA+YGLCREBpDpVYEWghwogTQiia9YgqjSRp2UZatICMHD4A0Xd79RSPEGL3eSaZQ6nXDgEswyIGxvf/qyz8YNoP34MEDrjFAF15hQnnz5k0z1UdqFhYWer3ery5N+lAOjZ7wMsNHQPf3DvzCoJdIzTh3+gN1Dl1PWNkQR8AmXOaQGlIX3mACcDTzGyV/GYAGpiL+hriFsswGWG4AhbTgG7IkAzoWwoMRE4sKPfnE4spwIIBRYgaCWBUJ6s7IiOokA8LIu3QBhFohOcIR5DqBQIGEYR4DKNSFOE3jopeRDIBRp3TemQfwjCGnswqAIDSdnVTAG0YA4rBkCDrtoqrEckrZY1p39FSTUBab32++brjmTPuFLnZKAWadFx0cEtEeH61Sk80tG2mIWWtGZQ1rEoVdF6XqJDsjYiIRYoJJBERJKx7eMamt53JWEQ/S6NWLxeySepo9NdZxLQmL2Uq06FK4yR288FioEGqAyANiEl+yjZJwsVBBJqcw1nC2N+NMYb4Er2aVpjhwGcykSG46X1tNVASmIkMpvOB8BxkLsXAzRRBcoJEhwOWOr/HWXSGT9vu7fmZifHxsdvbXOzt+R7YmzoUL5y9dmhBt14j3ztY7sX5eFuPW1gZTjb5cNjR05tTp+nYhQg6fu0N0lv/y4HB/d2/71Wt3ZrzwC/Cb7g37B3t2YZUzXnnVo18/93395u8Z0eZJXVoZB2YuINazQlh1sVKX4RfizLCEA6UowKNXSDMhXFvQG/5IzuCh1OuOzlGqN2+dsutNWA2MLovDSYmJPzr6/vVrX5guQvbv7/6FDVmN+fHe9WdfE8p5Y/bDf+66w5+f/2x6Znq/v//+ufPysw+y+8mTr7/5euT8ubNDI9aTc0g7cN8c6zJPVCwhLSMRZ/nIr8whXcfWukq0B9iajEGji5uEIA6ZLoX9eqUpMoNXhyw1PJZw6dLkvtmJlyNCRBF8h2lS6xoASbiCRdGMOjU4pcNjh8mkx2v4SNZLLwlRoVb0xll4opAhbsmkXIsKSGSIOy3wiiaZGDncqe4AeEVTwU4IRWrFxg6SBARqMICQCEQMU2uxZUxId/B12fWySx1p1PyEZJ47HMzOLsEKyWp2mnvWnsShzM/PW7pPnjwxUUWRDeRj18weil4YBiCLnS6TQkeIGp5AXIyBoQLS/AFAmvMuW2jMfOyQLDcxNK1btz9UWasO/mkxc+IpI+MsmUafMWosepktQyXUkCgZaQlQSheY77jYmSDQxRH5jcAEDR57zACjREB16Mm0ysBsVqhGLKGAUVLERxiO6CITJThTTIbguKswv+QUe746rvqFLZ7sKXoeTbxzeuCXDqDGPxhzVvX4yWO3d3ZbK097+/09p+ZSm2N1aWhvf9dFyMZwc2PNSc7/6ncqHUocbW1VhvIunb+9vR3jaS7YlEGKNnUyHXUnv/zqj+yLe8LBAQHigBK7UXNJyDJy+ERKUBR4YVXEgrcJHEYSDGEb3brK4SWKLcjU6GHAEQggM6NOsoZJc+PGdezm3J07dxiOxSSnkQo07gTRmPq+kM87Q9hnZmZcV60RFxaj/s/FxW+//Y7M4eH6mna3MUbu4sVxOatbwFwmMOMHaGOjdXwkR0u6hIF8BnCBEJTM1sVNsAgoYQ8NqUQp6NEAEkk0CpquC54cSDUbNSk1BEKHF5JewYkcjkdRx6IZGAEhHRnzcFGEHZcmSmFHoAkZAkAM00uvrkjjr6GEjEloiFLDkIAGQF3Hq1dJl15AYFpCkxoLRlrI71hQghMBvGDBiTGIAREFqavMq7PYSrKKgS5j2r2VqyPJiPVCiqE5YEN07949yMuXL6Nf6S2jIcpVPZERE1nARMKOJfPQDKFa4b7aiOOiPUNvwbOFCkWUPHGLXyYqAlqw0BiPNMk0Ld2VQwbPwhaEd6hmjGutmgGmpberMtxht2vTlRRGFI1MipGSC4PJcRNqcFhCu16MEZ7BZTakwmV3rFQImiZpKVIkCZGJ0Q4OjQwrCcRxZLnFFGn2S0zT09MTEx8ywAbKV5XZST07OugfWHT7m5vru3t+tnHLO0YPH/3oGwdkGXeaks76+hpjBgZPea3GfLeBR+9GlwSHN/TaoDmoEtuBQfnXc49DN6CsO3O2UvnzF0cb6xvuJamrMyxxYZlYM5c/sgkiCpjIdE3+W/xxCVITMQLRxAIw9hghhVUoEeiCV8AiAjAApiAgMkNJJl3pYrfh/PST2U/nPrk4NuYdhd5yz4swBFKqJp+TU5OTYuoVXqnJSaIFJXy28Fa0q4DV/te//b23ujo5NeUxmASsbjdwteBjfJSCqU7NGEaqhYINoXxDcLxH0MVHhQtoFOwKjXgRR6xFByChW2/mk17C8eLSFQl424SoK3YINAEihhdZWAB8R4yMZEJgwIk8etLUEQuOGXiDJI1S+G4KIoBkNjzLNQHoFWSmRWwgUDGyiPGmqQs91QlXVOjCC5kmawkEq9nJ8sRHs/lVlxyFnMgMO9WIqVOjxxVpza7KDsi8duX9LN/YKHGYRVjspt2cW4KkwahpN5HCK1YEykFTU1Oj58+ZM8QSiIxAEYiWBDz26KVIFjOBEaSpy5qXdwzQxsYm0xzzespqablqygAOmy1LrNkFyMzmCIzl6nMXkoVkJD5kCoLCPCewtHNBgREQb1eQr4gAgtjJHcG3+jiSoCXyTLIw1bYq7OQ7eo6EPjMtHtECEDGr5urVq4j10sIYgFTr7XySm1115McexIQzWxwADHS5kU2Ghr2M6vvgfa9pvfnFJDdxzl1XV59KQBYE4Vvbm570+c4JN33bOz/ZbGL052s17dG4KjhbW5tSzwc+z+uTFQP2qh4LvhobGxVAuxc1SjZiWVnpyeyCLEVMXPrwp+2tekooQAkZnxUBEi9+Zp6pOcwNXZAJN4Kw8Bmew4SgCaMmpCZRQoMrvMGjJFDJwJCfKYtsbm7uxrXf4XLl8eFVeEIUQJ3bbWy4IHhu6E7TPv/Ro0fEjo/XD+GY7Wr23b9//8fHXiAcFzt2Z7+DTKGOLloYqQSZZoekSxd1anDDl/GaYHhFk/GakRCxIWhcdc+fKOkCaAqCWhOX0kkDw2uqU9ILg6VJK98JyViA4dUlpU1EXNH1NqCrUwGgVx052GOVZmiwx1NcANMlNje48ngUIaYickiA14wi9ABIGJHRVKNUwyh0KQFMRARR3XWFnpCsHMTs1IzkWEI+TOHb26MkpJTkdu+GzMxx9bKP0HVM3KaxbY6jsytXrkDevXvXzsIKt1CtSYvTwmNJdCFQzGp4QrhpxaYLGV3kI4DUrBXY8qwaPSHs16vGq1ZEV1JYWVmhrkQ3e+Q+BpixmnRhVwQBLOMkViTQwgBJRM39OIWMPXRJT4CWHOscw+JHQCwJ6qT4sEQ4OXK3hYMXsVgxT9piQwRaVrRIEKTxbnl5mVPWnT8SqPObnpK+3ZBEXOa98Ftqdoe2tx5B1K7Crsqr2gTaDLPZQDCDMWyW0xlm4MkXdtnzxdHzXq93ZriO1chhj3fC2Tb47mln8weHfa9kDZwe9MX3HqdkIZNZL452YUqkSK/4tRs9NfVKQ9QOUy9/QqmGIQXAeTSANA2GwohTXuTwJNXLwm2KM0iq82f+5j0sGIwi9dH0zIXRUSlWZCUj/lOkVhhwdPhsZHjk2rUvHj58yE9DLoKue8PDIzU2J+oRw9P19X8sLHgm6MSdWO9TO/jwKm092/AeR/t5TsHM8CBQOvmQ4NTBs6pR1koDsIGPcZwviOEhWR7fwU1CRSz0CRoWjiBGqauTBkAfDBgZWIkZISYhutSxDd4QIMMSAA0W7IDgIwSBApkwRj6YBMhMdzLBSoibPWUVyWrItz0lIYpI4DItiqthKDv6cKHBC6ZCjVeNnsdvwZiOSxNWXejViVjgSCCQBLWnGs61PD3UxIyYULs1C8slylmHhYFd0cURNS6PsSwM5+iuhdbhxMSEXY9liYwQlzfTNTBLzGq1sGDkqWmWEKFERibXELSJXNk5wawF2eZJBNbHHOrY7fhhDqReNXvIZAxGBvAiBUYXUZIIgEYwSwAMwwKJJZEHoyfNoRJ3LAF42SQC9VpEavZHKVEWowyCTK2ZVCJ9gKkQjaWlJU0X+8XFRXsrIbINlJUMmQMpijx65Tonyp6fnc1X1ob0w87ylA8E2Fv5Yc9BL/S38xOf8KptmG8xf360vrrGGI/F8O5sb9t89JYfr66u2TKbGvySwM1NvfIUdsGUVUdHLxgau1q/H6o40fo/rgPaohw1VPgAAAAASUVORK5CYII=)"
      ]
    },
    {
      "cell_type": "markdown",
      "metadata": {
        "id": "rMzbsCm72x-e"
      },
      "source": [
        "![Bildschirmfoto 2021-05-28 um 14.02.47.png](data:image/png;base64,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)"
      ]
    },
    {
      "cell_type": "markdown",
      "metadata": {
        "id": "Bk4GvD2-NPpH"
      },
      "source": [
        "Thus, to only see the pricing information from the Aral Station in Tübingen, the data set is filtered.\n"
      ]
    },
    {
      "cell_type": "code",
      "metadata": {
        "id": "PkskP9llNNqT"
      },
      "source": [
        "my_station = \"ca944555-1ee4-4228-979d-8313690ae950\""
      ],
      "execution_count": null,
      "outputs": []
    },
    {
      "cell_type": "markdown",
      "metadata": {
        "id": "UXhjw7lBNYQh"
      },
      "source": [
        "If we try to figure out the best strategy for our station, than we need to consider stations that are nearby as well. To figure out, which stations are nearby our station and therefore maybe influential on the price, we calculate the geographical distance between the stations:"
      ]
    },
    {
      "cell_type": "code",
      "metadata": {
        "id": "bnQyjXQ2Nl6p"
      },
      "source": [
        "station_pos = (stations[stations.uuid==my_station].latitude.iloc[0], stations[stations.uuid==my_station].longitude.iloc[0])"
      ],
      "execution_count": null,
      "outputs": []
    },
    {
      "cell_type": "code",
      "metadata": {
        "id": "aF4n81g8NoWc"
      },
      "source": [
        "from geopy.distance import geodesic"
      ],
      "execution_count": null,
      "outputs": []
    },
    {
      "cell_type": "code",
      "metadata": {
        "id": "WwAteMpZNp75"
      },
      "source": [
        "stations['distance to my station'] = stations.apply(lambda x: geodesic(station_pos, (x['latitude'], x['longitude'])), axis=1 )"
      ],
      "execution_count": null,
      "outputs": []
    },
    {
      "cell_type": "code",
      "metadata": {
        "id": "h5S1e5oVNrme"
      },
      "source": [
        "station_distance = stations.sort_values('distance to my station', ascending=True)"
      ],
      "execution_count": null,
      "outputs": []
    },
    {
      "cell_type": "code",
      "metadata": {
        "id": "9j12Sx3hNtJN"
      },
      "source": [
        "station_distance"
      ],
      "execution_count": null,
      "outputs": []
    },
    {
      "cell_type": "markdown",
      "metadata": {
        "id": "VhjFisdpNvx8"
      },
      "source": [
        "As we can see, the 3 stations nearby are:\n",
        "\n",
        "51d4b534-a095-1aa0-e100-80009459e03a (Jet gas station in Tübingen);\n",
        "\n",
        "f60a788d-c9f0-434b-a8e0-b49ccd202866 (Sprint gas stations in Tübingen);\n",
        "\n",
        "386fa94f-2434-451c-981e-a7e230e08114 (Esso gas station in Tübingen).\n",
        "\n",
        "Unfortunately, the Sprint gas station does not report any gas prices, therefore the 4th nearest station:\n",
        "\n",
        "4e25d68d-ee62-49be-8abd-c4fc908bbc91 (Esso gas station in Tübingen) is selected.\n",
        "\n",
        "Together with our chosen stations, the nearest four gas stations can be stored in a list:"
      ]
    },
    {
      "cell_type": "code",
      "metadata": {
        "id": "hU1rZBFhNyBe"
      },
      "source": [
        "near_stations = station_distance.iloc[1:5].uuid.tolist()"
      ],
      "execution_count": null,
      "outputs": []
    },
    {
      "cell_type": "code",
      "metadata": {
        "id": "WVE1hwFPN03b"
      },
      "source": [
        "near_stations"
      ],
      "execution_count": null,
      "outputs": []
    },
    {
      "cell_type": "markdown",
      "metadata": {
        "id": "A9F6CbRZN3qJ"
      },
      "source": [
        "Since the Sprint gas station does not report any gas prices, we can eliminate it from the list:"
      ]
    },
    {
      "cell_type": "code",
      "metadata": {
        "id": "LVzjYSD9N3I4"
      },
      "source": [
        "near_stations.pop (2)"
      ],
      "execution_count": null,
      "outputs": []
    },
    {
      "cell_type": "code",
      "metadata": {
        "id": "TfTJ2ejNONGP"
      },
      "source": [
        "print (near_stations)"
      ],
      "execution_count": null,
      "outputs": []
    },
    {
      "cell_type": "markdown",
      "metadata": {
        "id": "O0aMQk_aMNAo"
      },
      "source": [
        "# Downloading the data of three days (currently used)"
      ]
    },
    {
      "cell_type": "markdown",
      "metadata": {
        "id": "zjgGPSGF1HxK"
      },
      "source": [
        "Next the Tankerkoenig data set is downloaded. It contains historical gasoline price data in Germany."
      ]
    },
    {
      "cell_type": "markdown",
      "metadata": {
        "id": "gPO1FvO5OMZo"
      },
      "source": [
        "Download the entire data set (only recommended at the end as it takes like forever and the download needs to be repeated every time Google colab is opened):"
      ]
    },
    {
      "cell_type": "code",
      "metadata": {
        "id": "iXnFATp7OIsg"
      },
      "source": [
        "!git clone https://tankerkoenig@dev.azure.com/tankerkoenig/tankerkoenig-data/_git/tankerkoenig-data"
      ],
      "execution_count": null,
      "outputs": []
    },
    {
      "cell_type": "markdown",
      "metadata": {
        "id": "RPaOt-xXOU-n"
      },
      "source": [
        "Thus, only the data from one day (May 10th, 2021) is downloaded here as \"data1005.csv\":"
      ]
    },
    {
      "cell_type": "code",
      "metadata": {
        "colab": {
          "base_uri": "https://localhost:8080/"
        },
        "id": "X8T57U_pOYcq",
        "outputId": "8a093ac8-839b-4874-da89-d3d272c830df"
      },
      "source": [
        "!wget -O data1005.csv https://dev.azure.com/tankerkoenig/362e70d1-bafa-4cf7-a346-1f3613304973/_apis/git/repositories/0d6e7286-91e4-402c-af56-fa75be1f223d/items?path=%2Fprices%2F2021%2F05%2F2021-05-10-prices.csv&versionDescriptor%5BversionOptions%5D=0&versionDescriptor%5BversionType%5D=0&versionDescriptor%5Bversion%5D=master&resolveLfs=true&%24format=octetStream&api-version=5.0&download=true"
      ],
      "execution_count": 3,
      "outputs": [
        {
          "output_type": "stream",
          "text": [
            "/bin/bash: versionDescriptor%5BversionOptions%5D=0: command not found\n",
            "/bin/bash: line 0: bg: no job control\n",
            "/bin/bash: versionDescriptor%5BversionType%5D=0: command not found\n",
            "/bin/bash: versionDescriptor%5Bversion%5D=master: command not found\n",
            "/bin/bash: api-version=5.0: command not found\n",
            "--2021-06-29 13:08:13--  https://dev.azure.com/tankerkoenig/362e70d1-bafa-4cf7-a346-1f3613304973/_apis/git/repositories/0d6e7286-91e4-402c-af56-fa75be1f223d/items?path=%2Fprices%2F2021%2F05%2F2021-05-10-prices.csv\n",
            "Resolving dev.azure.com (dev.azure.com)... 13.107.42.20, 2620:1ec:21::20\n",
            "Connecting to dev.azure.com (dev.azure.com)|13.107.42.20|:443... connected.\n",
            "HTTP request sent, awaiting response... 200 OK\n",
            "Length: unspecified [application/octet-stream]\n",
            "Saving to: ‘data1005.csv’\n",
            "\n",
            "data1005.csv            [       <=>          ]  25.86M  4.99MB/s    in 5.6s    \n",
            "\n",
            "2021-06-29 13:08:19 (4.60 MB/s) - ‘data1005.csv’ saved [27118492]\n",
            "\n"
          ],
          "name": "stdout"
        }
      ]
    },
    {
      "cell_type": "markdown",
      "metadata": {
        "id": "oE8tU8nXS_ED"
      },
      "source": [
        "Having done that, it is important to have a look at the data set."
      ]
    },
    {
      "cell_type": "code",
      "metadata": {
        "id": "TwXHlZpT1TSK"
      },
      "source": [
        "data1005 = pd.read_csv(\"data1005.csv\")"
      ],
      "execution_count": 4,
      "outputs": []
    },
    {
      "cell_type": "code",
      "metadata": {
        "colab": {
          "base_uri": "https://localhost:8080/",
          "height": 417
        },
        "id": "9sdtPGIrPP2S",
        "outputId": "ccac81b5-7c3a-4a12-b9dc-47d0593ea45e"
      },
      "source": [
        "data1005"
      ],
      "execution_count": 5,
      "outputs": [
        {
          "output_type": "execute_result",
          "data": {
            "text/html": [
              "<div>\n",
              "<style scoped>\n",
              "    .dataframe tbody tr th:only-of-type {\n",
              "        vertical-align: middle;\n",
              "    }\n",
              "\n",
              "    .dataframe tbody tr th {\n",
              "        vertical-align: top;\n",
              "    }\n",
              "\n",
              "    .dataframe thead th {\n",
              "        text-align: right;\n",
              "    }\n",
              "</style>\n",
              "<table border=\"1\" class=\"dataframe\">\n",
              "  <thead>\n",
              "    <tr style=\"text-align: right;\">\n",
              "      <th></th>\n",
              "      <th>date</th>\n",
              "      <th>station_uuid</th>\n",
              "      <th>diesel</th>\n",
              "      <th>e5</th>\n",
              "      <th>e10</th>\n",
              "      <th>dieselchange</th>\n",
              "      <th>e5change</th>\n",
              "      <th>e10change</th>\n",
              "    </tr>\n",
              "  </thead>\n",
              "  <tbody>\n",
              "    <tr>\n",
              "      <th>0</th>\n",
              "      <td>2021-05-10 00:01:14+02</td>\n",
              "      <td>7cb85433-e1a3-4114-31a1-3a544017a218</td>\n",
              "      <td>1.329</td>\n",
              "      <td>1.559</td>\n",
              "      <td>0.000</td>\n",
              "      <td>1</td>\n",
              "      <td>1</td>\n",
              "      <td>0</td>\n",
              "    </tr>\n",
              "    <tr>\n",
              "      <th>1</th>\n",
              "      <td>2021-05-10 00:01:14+02</td>\n",
              "      <td>0d58c4ba-3267-404a-89d6-6ba15a8fc422</td>\n",
              "      <td>1.389</td>\n",
              "      <td>1.589</td>\n",
              "      <td>1.529</td>\n",
              "      <td>1</td>\n",
              "      <td>1</td>\n",
              "      <td>1</td>\n",
              "    </tr>\n",
              "    <tr>\n",
              "      <th>2</th>\n",
              "      <td>2021-05-10 00:01:14+02</td>\n",
              "      <td>f059c970-6882-45ed-97c0-eb544f70b02c</td>\n",
              "      <td>1.389</td>\n",
              "      <td>1.539</td>\n",
              "      <td>0.000</td>\n",
              "      <td>1</td>\n",
              "      <td>0</td>\n",
              "      <td>0</td>\n",
              "    </tr>\n",
              "    <tr>\n",
              "      <th>3</th>\n",
              "      <td>2021-05-10 00:01:14+02</td>\n",
              "      <td>57f207da-80a0-4e61-b98d-d6eef0d79cfe</td>\n",
              "      <td>1.329</td>\n",
              "      <td>1.549</td>\n",
              "      <td>1.489</td>\n",
              "      <td>1</td>\n",
              "      <td>1</td>\n",
              "      <td>1</td>\n",
              "    </tr>\n",
              "    <tr>\n",
              "      <th>4</th>\n",
              "      <td>2021-05-10 00:02:16+02</td>\n",
              "      <td>59ca7896-2c19-4354-97a2-a0f1de18be4f</td>\n",
              "      <td>1.309</td>\n",
              "      <td>1.539</td>\n",
              "      <td>1.479</td>\n",
              "      <td>1</td>\n",
              "      <td>1</td>\n",
              "      <td>1</td>\n",
              "    </tr>\n",
              "    <tr>\n",
              "      <th>...</th>\n",
              "      <td>...</td>\n",
              "      <td>...</td>\n",
              "      <td>...</td>\n",
              "      <td>...</td>\n",
              "      <td>...</td>\n",
              "      <td>...</td>\n",
              "      <td>...</td>\n",
              "      <td>...</td>\n",
              "    </tr>\n",
              "    <tr>\n",
              "      <th>322833</th>\n",
              "      <td>2021-05-10 23:57:07+02</td>\n",
              "      <td>6327cfc5-adad-44a2-a919-ed381bb175b6</td>\n",
              "      <td>1.399</td>\n",
              "      <td>1.629</td>\n",
              "      <td>1.569</td>\n",
              "      <td>1</td>\n",
              "      <td>0</td>\n",
              "      <td>0</td>\n",
              "    </tr>\n",
              "    <tr>\n",
              "      <th>322834</th>\n",
              "      <td>2021-05-10 23:57:07+02</td>\n",
              "      <td>308733a3-f3a6-4259-a10a-8a8e08efa94e</td>\n",
              "      <td>1.449</td>\n",
              "      <td>0.000</td>\n",
              "      <td>0.000</td>\n",
              "      <td>1</td>\n",
              "      <td>0</td>\n",
              "      <td>0</td>\n",
              "    </tr>\n",
              "    <tr>\n",
              "      <th>322835</th>\n",
              "      <td>2021-05-10 23:59:09+02</td>\n",
              "      <td>00299b2b-4fcf-454a-9dfd-871a57bfe4ff</td>\n",
              "      <td>1.279</td>\n",
              "      <td>1.529</td>\n",
              "      <td>1.469</td>\n",
              "      <td>1</td>\n",
              "      <td>1</td>\n",
              "      <td>1</td>\n",
              "    </tr>\n",
              "    <tr>\n",
              "      <th>322836</th>\n",
              "      <td>2021-05-10 23:59:09+02</td>\n",
              "      <td>96e941ed-28a2-40ad-ab26-0a4389d28aa6</td>\n",
              "      <td>1.369</td>\n",
              "      <td>1.529</td>\n",
              "      <td>1.469</td>\n",
              "      <td>0</td>\n",
              "      <td>1</td>\n",
              "      <td>1</td>\n",
              "    </tr>\n",
              "    <tr>\n",
              "      <th>322837</th>\n",
              "      <td>2021-05-10 23:59:09+02</td>\n",
              "      <td>05d469d3-ab70-413f-a4a5-2a011827e8aa</td>\n",
              "      <td>1.339</td>\n",
              "      <td>1.579</td>\n",
              "      <td>1.539</td>\n",
              "      <td>1</td>\n",
              "      <td>1</td>\n",
              "      <td>1</td>\n",
              "    </tr>\n",
              "  </tbody>\n",
              "</table>\n",
              "<p>322838 rows × 8 columns</p>\n",
              "</div>"
            ],
            "text/plain": [
              "                          date  ... e10change\n",
              "0       2021-05-10 00:01:14+02  ...         0\n",
              "1       2021-05-10 00:01:14+02  ...         1\n",
              "2       2021-05-10 00:01:14+02  ...         0\n",
              "3       2021-05-10 00:01:14+02  ...         1\n",
              "4       2021-05-10 00:02:16+02  ...         1\n",
              "...                        ...  ...       ...\n",
              "322833  2021-05-10 23:57:07+02  ...         0\n",
              "322834  2021-05-10 23:57:07+02  ...         0\n",
              "322835  2021-05-10 23:59:09+02  ...         1\n",
              "322836  2021-05-10 23:59:09+02  ...         1\n",
              "322837  2021-05-10 23:59:09+02  ...         1\n",
              "\n",
              "[322838 rows x 8 columns]"
            ]
          },
          "metadata": {
            "tags": []
          },
          "execution_count": 5
        }
      ]
    },
    {
      "cell_type": "markdown",
      "metadata": {
        "id": "f3cs1vEuOL0s"
      },
      "source": [
        "Now, May 11th, 2021 is downloaded"
      ]
    },
    {
      "cell_type": "code",
      "metadata": {
        "colab": {
          "base_uri": "https://localhost:8080/"
        },
        "id": "7bF3rzScL1mA",
        "outputId": "2f32079d-5188-4dce-c7da-1a4108713326"
      },
      "source": [
        "!wget -O data1105.csv https://dev.azure.com/tankerkoenig/362e70d1-bafa-4cf7-a346-1f3613304973/_apis/git/repositories/0d6e7286-91e4-402c-af56-fa75be1f223d/items?path=%2Fprices%2F2021%2F05%2F2021-05-11-prices.csv&versionDescriptor%5BversionOptions%5D=0&versionDescriptor%5BversionType%5D=0&versionDescriptor%5Bversion%5D=master&resolveLfs=true&%24format=octetStream&api-version=5.0&download=true"
      ],
      "execution_count": 6,
      "outputs": [
        {
          "output_type": "stream",
          "text": [
            "/bin/bash: line 0: bg: no job control\n",
            "/bin/bash: api-version=5.0: command not found\n",
            "/bin/bash: versionDescriptor%5BversionOptions%5D=0: command not found\n",
            "/bin/bash: versionDescriptor%5BversionType%5D=0: command not found\n",
            "/bin/bash: versionDescriptor%5Bversion%5D=master: command not found\n",
            "--2021-06-29 13:08:20--  https://dev.azure.com/tankerkoenig/362e70d1-bafa-4cf7-a346-1f3613304973/_apis/git/repositories/0d6e7286-91e4-402c-af56-fa75be1f223d/items?path=%2Fprices%2F2021%2F05%2F2021-05-11-prices.csv\n",
            "Resolving dev.azure.com (dev.azure.com)... 13.107.42.20, 2620:1ec:21::20\n",
            "Connecting to dev.azure.com (dev.azure.com)|13.107.42.20|:443... connected.\n",
            "HTTP request sent, awaiting response... 200 OK\n",
            "Length: unspecified [application/octet-stream]\n",
            "Saving to: ‘data1105.csv’\n",
            "\n",
            "data1105.csv            [     <=>            ]  25.70M  4.71MB/s    in 6.7s    \n",
            "\n",
            "2021-06-29 13:08:28 (3.86 MB/s) - ‘data1105.csv’ saved [26945289]\n",
            "\n"
          ],
          "name": "stdout"
        }
      ]
    },
    {
      "cell_type": "code",
      "metadata": {
        "id": "0lBdgztvORsd"
      },
      "source": [
        "data1105 = pd.read_csv (\"data1105.csv\")"
      ],
      "execution_count": 7,
      "outputs": []
    },
    {
      "cell_type": "code",
      "metadata": {
        "colab": {
          "base_uri": "https://localhost:8080/",
          "height": 417
        },
        "id": "eHAGdCC1PTVK",
        "outputId": "2de3bcac-f6cf-49b1-9f18-beb38562794a"
      },
      "source": [
        "data1105"
      ],
      "execution_count": 8,
      "outputs": [
        {
          "output_type": "execute_result",
          "data": {
            "text/html": [
              "<div>\n",
              "<style scoped>\n",
              "    .dataframe tbody tr th:only-of-type {\n",
              "        vertical-align: middle;\n",
              "    }\n",
              "\n",
              "    .dataframe tbody tr th {\n",
              "        vertical-align: top;\n",
              "    }\n",
              "\n",
              "    .dataframe thead th {\n",
              "        text-align: right;\n",
              "    }\n",
              "</style>\n",
              "<table border=\"1\" class=\"dataframe\">\n",
              "  <thead>\n",
              "    <tr style=\"text-align: right;\">\n",
              "      <th></th>\n",
              "      <th>date</th>\n",
              "      <th>station_uuid</th>\n",
              "      <th>diesel</th>\n",
              "      <th>e5</th>\n",
              "      <th>e10</th>\n",
              "      <th>dieselchange</th>\n",
              "      <th>e5change</th>\n",
              "      <th>e10change</th>\n",
              "    </tr>\n",
              "  </thead>\n",
              "  <tbody>\n",
              "    <tr>\n",
              "      <th>0</th>\n",
              "      <td>2021-05-11 00:00:11+02</td>\n",
              "      <td>cee140c2-e424-426e-afaa-cd6706163b56</td>\n",
              "      <td>1.359</td>\n",
              "      <td>1.569</td>\n",
              "      <td>1.509</td>\n",
              "      <td>1</td>\n",
              "      <td>1</td>\n",
              "      <td>1</td>\n",
              "    </tr>\n",
              "    <tr>\n",
              "      <th>1</th>\n",
              "      <td>2021-05-11 00:00:11+02</td>\n",
              "      <td>4be6cac8-e125-41eb-ac4f-4103f8735107</td>\n",
              "      <td>1.294</td>\n",
              "      <td>0.000</td>\n",
              "      <td>0.000</td>\n",
              "      <td>1</td>\n",
              "      <td>0</td>\n",
              "      <td>0</td>\n",
              "    </tr>\n",
              "    <tr>\n",
              "      <th>2</th>\n",
              "      <td>2021-05-11 00:00:11+02</td>\n",
              "      <td>0ff87eee-daf2-4966-a573-515d1458883a</td>\n",
              "      <td>1.309</td>\n",
              "      <td>1.509</td>\n",
              "      <td>1.449</td>\n",
              "      <td>1</td>\n",
              "      <td>1</td>\n",
              "      <td>1</td>\n",
              "    </tr>\n",
              "    <tr>\n",
              "      <th>3</th>\n",
              "      <td>2021-05-11 00:01:08+02</td>\n",
              "      <td>0d58c4ba-3267-404a-89d6-6ba15a8fc422</td>\n",
              "      <td>1.389</td>\n",
              "      <td>1.599</td>\n",
              "      <td>1.539</td>\n",
              "      <td>1</td>\n",
              "      <td>1</td>\n",
              "      <td>1</td>\n",
              "    </tr>\n",
              "    <tr>\n",
              "      <th>4</th>\n",
              "      <td>2021-05-11 00:01:08+02</td>\n",
              "      <td>dfc32f99-aa65-4fd4-b16e-a2cc53f9be15</td>\n",
              "      <td>1.389</td>\n",
              "      <td>1.599</td>\n",
              "      <td>1.539</td>\n",
              "      <td>1</td>\n",
              "      <td>1</td>\n",
              "      <td>1</td>\n",
              "    </tr>\n",
              "    <tr>\n",
              "      <th>...</th>\n",
              "      <td>...</td>\n",
              "      <td>...</td>\n",
              "      <td>...</td>\n",
              "      <td>...</td>\n",
              "      <td>...</td>\n",
              "      <td>...</td>\n",
              "      <td>...</td>\n",
              "      <td>...</td>\n",
              "    </tr>\n",
              "    <tr>\n",
              "      <th>320771</th>\n",
              "      <td>2021-05-11 23:59:09+02</td>\n",
              "      <td>c0acae4e-d4e5-4d2d-adb5-5c72f838e7ed</td>\n",
              "      <td>1.329</td>\n",
              "      <td>1.579</td>\n",
              "      <td>1.519</td>\n",
              "      <td>1</td>\n",
              "      <td>1</td>\n",
              "      <td>1</td>\n",
              "    </tr>\n",
              "    <tr>\n",
              "      <th>320772</th>\n",
              "      <td>2021-05-11 23:59:09+02</td>\n",
              "      <td>cee140c2-e424-426e-afaa-cd6706163b56</td>\n",
              "      <td>1.339</td>\n",
              "      <td>1.579</td>\n",
              "      <td>1.519</td>\n",
              "      <td>1</td>\n",
              "      <td>1</td>\n",
              "      <td>1</td>\n",
              "    </tr>\n",
              "    <tr>\n",
              "      <th>320773</th>\n",
              "      <td>2021-05-11 23:59:09+02</td>\n",
              "      <td>00299b2b-4fcf-454a-9dfd-871a57bfe4ff</td>\n",
              "      <td>1.279</td>\n",
              "      <td>1.529</td>\n",
              "      <td>1.469</td>\n",
              "      <td>1</td>\n",
              "      <td>1</td>\n",
              "      <td>1</td>\n",
              "    </tr>\n",
              "    <tr>\n",
              "      <th>320774</th>\n",
              "      <td>2021-05-11 23:59:09+02</td>\n",
              "      <td>65b83b5f-f0c5-4db0-8be1-e111cd066276</td>\n",
              "      <td>1.279</td>\n",
              "      <td>1.529</td>\n",
              "      <td>1.469</td>\n",
              "      <td>1</td>\n",
              "      <td>1</td>\n",
              "      <td>1</td>\n",
              "    </tr>\n",
              "    <tr>\n",
              "      <th>320775</th>\n",
              "      <td>2021-05-11 23:59:09+02</td>\n",
              "      <td>57f207da-80a0-4e61-b98d-d6eef0d79cfe</td>\n",
              "      <td>1.309</td>\n",
              "      <td>1.529</td>\n",
              "      <td>1.469</td>\n",
              "      <td>1</td>\n",
              "      <td>1</td>\n",
              "      <td>1</td>\n",
              "    </tr>\n",
              "  </tbody>\n",
              "</table>\n",
              "<p>320776 rows × 8 columns</p>\n",
              "</div>"
            ],
            "text/plain": [
              "                          date  ... e10change\n",
              "0       2021-05-11 00:00:11+02  ...         1\n",
              "1       2021-05-11 00:00:11+02  ...         0\n",
              "2       2021-05-11 00:00:11+02  ...         1\n",
              "3       2021-05-11 00:01:08+02  ...         1\n",
              "4       2021-05-11 00:01:08+02  ...         1\n",
              "...                        ...  ...       ...\n",
              "320771  2021-05-11 23:59:09+02  ...         1\n",
              "320772  2021-05-11 23:59:09+02  ...         1\n",
              "320773  2021-05-11 23:59:09+02  ...         1\n",
              "320774  2021-05-11 23:59:09+02  ...         1\n",
              "320775  2021-05-11 23:59:09+02  ...         1\n",
              "\n",
              "[320776 rows x 8 columns]"
            ]
          },
          "metadata": {
            "tags": []
          },
          "execution_count": 8
        }
      ]
    },
    {
      "cell_type": "markdown",
      "metadata": {
        "id": "6GH8HeiG4ovd"
      },
      "source": [
        "and May, 12th"
      ]
    },
    {
      "cell_type": "code",
      "metadata": {
        "colab": {
          "base_uri": "https://localhost:8080/"
        },
        "id": "hJ_aXMXSPgrG",
        "outputId": "8050f58c-4450-4833-af16-d1b16a11008f"
      },
      "source": [
        "!wget -O data1205.csv https://dev.azure.com/tankerkoenig/362e70d1-bafa-4cf7-a346-1f3613304973/_apis/git/repositories/0d6e7286-91e4-402c-af56-fa75be1f223d/items?path=%2Fprices%2F2021%2F05%2F2021-05-12-prices.csv&versionDescriptor%5BversionOptions%5D=0&versionDescriptor%5BversionType%5D=0&versionDescriptor%5Bversion%5D=master&resolveLfs=true&%24format=octetStream&api-version=5.0&download=true"
      ],
      "execution_count": 9,
      "outputs": [
        {
          "output_type": "stream",
          "text": [
            "/bin/bash: line 0: bg: no job control\n",
            "/bin/bash: api-version=5.0: command not found\n",
            "/bin/bash: versionDescriptor%5Bversion%5D=master: command not found\n",
            "/bin/bash: versionDescriptor%5BversionType%5D=0: command not found\n",
            "/bin/bash: versionDescriptor%5BversionOptions%5D=0: command not found\n",
            "--2021-06-29 13:08:29--  https://dev.azure.com/tankerkoenig/362e70d1-bafa-4cf7-a346-1f3613304973/_apis/git/repositories/0d6e7286-91e4-402c-af56-fa75be1f223d/items?path=%2Fprices%2F2021%2F05%2F2021-05-12-prices.csv\n",
            "Resolving dev.azure.com (dev.azure.com)... 13.107.42.20, 2620:1ec:21::20\n",
            "Connecting to dev.azure.com (dev.azure.com)|13.107.42.20|:443... connected.\n",
            "HTTP request sent, awaiting response... 200 OK\n",
            "Length: unspecified [application/octet-stream]\n",
            "Saving to: ‘data1205.csv’\n",
            "\n",
            "data1205.csv            [     <=>            ]  25.90M  4.97MB/s    in 6.9s    \n",
            "\n",
            "2021-06-29 13:08:37 (3.75 MB/s) - ‘data1205.csv’ saved [27162678]\n",
            "\n"
          ],
          "name": "stdout"
        }
      ]
    },
    {
      "cell_type": "code",
      "metadata": {
        "id": "yfuzGzlDPnuH"
      },
      "source": [
        "data1205 = pd.read_csv (\"data1205.csv\")"
      ],
      "execution_count": 10,
      "outputs": []
    },
    {
      "cell_type": "markdown",
      "metadata": {
        "id": "u7U8ciyjO8gx"
      },
      "source": [
        "# Try to download all the data and merge it (only shows data of one day)"
      ]
    },
    {
      "cell_type": "markdown",
      "metadata": {
        "id": "OlZbB_m8K4oY"
      },
      "source": [
        "We try to download all the data between January 1st and May 31st, 2021."
      ]
    },
    {
      "cell_type": "code",
      "metadata": {
        "id": "U_SgV1sA6liJ"
      },
      "source": [
        "from datetime import date, timedelta, datetime\n",
        "import requests\n",
        "\n",
        "start_date = date(2021, 1, 1)\n",
        "end_date = date(2021, 5, 31) # take May 31st as end\n",
        "delta = timedelta(days=1) # delta we want to generate dates for\n",
        "\n",
        "current_date = start_date\n",
        "\n",
        "all_dates = []\n",
        "\n",
        "while current_date <= end_date:\n",
        "  all_dates.append(current_date)\n",
        "  current_date += delta"
      ],
      "execution_count": 65,
      "outputs": []
    },
    {
      "cell_type": "code",
      "metadata": {
        "id": "Vr7FRF9W607L"
      },
      "source": [
        "all_dates"
      ],
      "execution_count": null,
      "outputs": []
    },
    {
      "cell_type": "code",
      "metadata": {
        "colab": {
          "base_uri": "https://localhost:8080/"
        },
        "id": "SAmh464z66IX",
        "outputId": "edaba160-7638-47da-b7a6-fa131ab620b5"
      },
      "source": [
        "from tqdm import tqdm\n",
        "\n",
        "for current_date in tqdm(all_dates):\n",
        "  current_url = 'https://dev.azure.com/tankerkoenig/362e70d1-bafa-4cf7-a346-1f3613304973/_apis/git/repositories/0d6e7286-91e4-402c-af56-fa75be1f223d/items?path=%2Fprices%2F{year}%2F{month:02d}%2F{year}-{month:02d}-{day:02d}-prices.csv'.format(year = current_date.year, month = current_date.month, day = current_date.day)\n",
        "  current_file_name =  '{}-{:02d}-{:02d}.csv'.format(current_date.year, current_date.month, current_date.day)\n",
        "\n",
        "  current_file = requests.get(current_url) # download the csv file\n",
        "\n",
        "  open(current_file_name, 'wb').write(current_file.content) # write it to disk"
      ],
      "execution_count": 68,
      "outputs": [
        {
          "output_type": "stream",
          "text": [
            "100%|██████████| 151/151 [15:49<00:00,  6.29s/it]\n"
          ],
          "name": "stderr"
        }
      ]
    },
    {
      "cell_type": "code",
      "metadata": {
        "id": "vDA6TmfS_bS2"
      },
      "source": [
        "Tankerkoenig = pd.DataFrame()"
      ],
      "execution_count": 70,
      "outputs": []
    },
    {
      "cell_type": "code",
      "metadata": {
        "colab": {
          "base_uri": "https://localhost:8080/"
        },
        "id": "tcjAZdhx9pKB",
        "outputId": "868a7d03-73cd-4940-de89-77bca53d1984"
      },
      "source": [
        "for current_date in tqdm(all_dates):\n",
        "  current_file_name =  '{}-{:02d}-{:02d}.csv'.format(current_date.year, current_date.month, current_date.day)\n",
        "  current_daten = pd.read_csv(current_file_name).drop(['dieselchange', 'e5change', 'e10change'], axis=1) # drop some columns we don't need\n",
        "  current_daten = current_daten[current_daten.station_uuid.isin([my_station, *near_stations])] # drop rows we dont need\n",
        "  Daten = pd.concat([Tankerkoenig, current_daten]) # add it to our dataframe"
      ],
      "execution_count": 100,
      "outputs": [
        {
          "output_type": "stream",
          "text": [
            "100%|██████████| 151/151 [01:21<00:00,  1.84it/s]\n"
          ],
          "name": "stderr"
        }
      ]
    },
    {
      "cell_type": "code",
      "metadata": {
        "colab": {
          "base_uri": "https://localhost:8080/",
          "height": 1000
        },
        "id": "8rcm1pzmD6sp",
        "outputId": "bfab3bd1-065b-4602-e1bc-b0998d072b95"
      },
      "source": [
        "Daten"
      ],
      "execution_count": 101,
      "outputs": [
        {
          "output_type": "execute_result",
          "data": {
            "text/html": [
              "<div>\n",
              "<style scoped>\n",
              "    .dataframe tbody tr th:only-of-type {\n",
              "        vertical-align: middle;\n",
              "    }\n",
              "\n",
              "    .dataframe tbody tr th {\n",
              "        vertical-align: top;\n",
              "    }\n",
              "\n",
              "    .dataframe thead th {\n",
              "        text-align: right;\n",
              "    }\n",
              "</style>\n",
              "<table border=\"1\" class=\"dataframe\">\n",
              "  <thead>\n",
              "    <tr style=\"text-align: right;\">\n",
              "      <th></th>\n",
              "      <th>date</th>\n",
              "      <th>station_uuid</th>\n",
              "      <th>diesel</th>\n",
              "      <th>e5</th>\n",
              "      <th>e10</th>\n",
              "    </tr>\n",
              "  </thead>\n",
              "  <tbody>\n",
              "    <tr>\n",
              "      <th>7245</th>\n",
              "      <td>2021-05-31 05:52:08+02</td>\n",
              "      <td>51d4b534-a095-1aa0-e100-80009459e03a</td>\n",
              "      <td>1.349</td>\n",
              "      <td>1.569</td>\n",
              "      <td>1.509</td>\n",
              "    </tr>\n",
              "    <tr>\n",
              "      <th>15322</th>\n",
              "      <td>2021-05-31 06:52:11+02</td>\n",
              "      <td>51d4b534-a095-1aa0-e100-80009459e03a</td>\n",
              "      <td>1.369</td>\n",
              "      <td>1.589</td>\n",
              "      <td>1.529</td>\n",
              "    </tr>\n",
              "    <tr>\n",
              "      <th>21842</th>\n",
              "      <td>2021-05-31 07:25:08+02</td>\n",
              "      <td>51d4b534-a095-1aa0-e100-80009459e03a</td>\n",
              "      <td>1.319</td>\n",
              "      <td>1.499</td>\n",
              "      <td>1.439</td>\n",
              "    </tr>\n",
              "    <tr>\n",
              "      <th>28312</th>\n",
              "      <td>2021-05-31 07:48:08+02</td>\n",
              "      <td>4e25d68d-ee62-49be-8abd-c4fc908bbc91</td>\n",
              "      <td>1.389</td>\n",
              "      <td>1.609</td>\n",
              "      <td>1.549</td>\n",
              "    </tr>\n",
              "    <tr>\n",
              "      <th>31468</th>\n",
              "      <td>2021-05-31 07:57:06+02</td>\n",
              "      <td>ca944555-1ee4-4228-979d-8313690ae950</td>\n",
              "      <td>1.379</td>\n",
              "      <td>1.559</td>\n",
              "      <td>1.499</td>\n",
              "    </tr>\n",
              "    <tr>\n",
              "      <th>32050</th>\n",
              "      <td>2021-05-31 07:58:07+02</td>\n",
              "      <td>ca944555-1ee4-4228-979d-8313690ae950</td>\n",
              "      <td>1.369</td>\n",
              "      <td>1.549</td>\n",
              "      <td>1.489</td>\n",
              "    </tr>\n",
              "    <tr>\n",
              "      <th>45044</th>\n",
              "      <td>2021-05-31 08:40:08+02</td>\n",
              "      <td>4e25d68d-ee62-49be-8abd-c4fc908bbc91</td>\n",
              "      <td>1.339</td>\n",
              "      <td>1.519</td>\n",
              "      <td>1.459</td>\n",
              "    </tr>\n",
              "    <tr>\n",
              "      <th>55401</th>\n",
              "      <td>2021-05-31 09:09:09+02</td>\n",
              "      <td>ca944555-1ee4-4228-979d-8313690ae950</td>\n",
              "      <td>1.419</td>\n",
              "      <td>1.599</td>\n",
              "      <td>1.539</td>\n",
              "    </tr>\n",
              "    <tr>\n",
              "      <th>61837</th>\n",
              "      <td>2021-05-31 09:27:14+02</td>\n",
              "      <td>51d4b534-a095-1aa0-e100-80009459e03a</td>\n",
              "      <td>1.369</td>\n",
              "      <td>1.549</td>\n",
              "      <td>1.489</td>\n",
              "    </tr>\n",
              "    <tr>\n",
              "      <th>64922</th>\n",
              "      <td>2021-05-31 09:32:08+02</td>\n",
              "      <td>51d4b534-a095-1aa0-e100-80009459e03a</td>\n",
              "      <td>1.329</td>\n",
              "      <td>1.509</td>\n",
              "      <td>1.449</td>\n",
              "    </tr>\n",
              "    <tr>\n",
              "      <th>65239</th>\n",
              "      <td>2021-05-31 09:32:08+02</td>\n",
              "      <td>ca944555-1ee4-4228-979d-8313690ae950</td>\n",
              "      <td>1.409</td>\n",
              "      <td>1.589</td>\n",
              "      <td>1.529</td>\n",
              "    </tr>\n",
              "    <tr>\n",
              "      <th>80592</th>\n",
              "      <td>2021-05-31 10:30:07+02</td>\n",
              "      <td>ca944555-1ee4-4228-979d-8313690ae950</td>\n",
              "      <td>1.389</td>\n",
              "      <td>1.569</td>\n",
              "      <td>1.509</td>\n",
              "    </tr>\n",
              "    <tr>\n",
              "      <th>83344</th>\n",
              "      <td>2021-05-31 10:39:20+02</td>\n",
              "      <td>4e25d68d-ee62-49be-8abd-c4fc908bbc91</td>\n",
              "      <td>1.349</td>\n",
              "      <td>1.529</td>\n",
              "      <td>1.469</td>\n",
              "    </tr>\n",
              "    <tr>\n",
              "      <th>84102</th>\n",
              "      <td>2021-05-31 10:41:15+02</td>\n",
              "      <td>ca944555-1ee4-4228-979d-8313690ae950</td>\n",
              "      <td>1.379</td>\n",
              "      <td>1.559</td>\n",
              "      <td>1.499</td>\n",
              "    </tr>\n",
              "    <tr>\n",
              "      <th>98945</th>\n",
              "      <td>2021-05-31 11:24:07+02</td>\n",
              "      <td>ca944555-1ee4-4228-979d-8313690ae950</td>\n",
              "      <td>1.369</td>\n",
              "      <td>1.549</td>\n",
              "      <td>1.489</td>\n",
              "    </tr>\n",
              "    <tr>\n",
              "      <th>106322</th>\n",
              "      <td>2021-05-31 11:48:09+02</td>\n",
              "      <td>51d4b534-a095-1aa0-e100-80009459e03a</td>\n",
              "      <td>1.329</td>\n",
              "      <td>1.479</td>\n",
              "      <td>1.419</td>\n",
              "    </tr>\n",
              "    <tr>\n",
              "      <th>112002</th>\n",
              "      <td>2021-05-31 12:05:06+02</td>\n",
              "      <td>4e25d68d-ee62-49be-8abd-c4fc908bbc91</td>\n",
              "      <td>1.399</td>\n",
              "      <td>1.579</td>\n",
              "      <td>1.519</td>\n",
              "    </tr>\n",
              "    <tr>\n",
              "      <th>112229</th>\n",
              "      <td>2021-05-31 12:06:06+02</td>\n",
              "      <td>ca944555-1ee4-4228-979d-8313690ae950</td>\n",
              "      <td>1.419</td>\n",
              "      <td>1.599</td>\n",
              "      <td>1.539</td>\n",
              "    </tr>\n",
              "    <tr>\n",
              "      <th>120823</th>\n",
              "      <td>2021-05-31 12:27:08+02</td>\n",
              "      <td>51d4b534-a095-1aa0-e100-80009459e03a</td>\n",
              "      <td>1.369</td>\n",
              "      <td>1.519</td>\n",
              "      <td>1.459</td>\n",
              "    </tr>\n",
              "    <tr>\n",
              "      <th>123248</th>\n",
              "      <td>2021-05-31 12:30:07+02</td>\n",
              "      <td>ca944555-1ee4-4228-979d-8313690ae950</td>\n",
              "      <td>1.419</td>\n",
              "      <td>1.559</td>\n",
              "      <td>1.499</td>\n",
              "    </tr>\n",
              "    <tr>\n",
              "      <th>126465</th>\n",
              "      <td>2021-05-31 12:40:07+02</td>\n",
              "      <td>ca944555-1ee4-4228-979d-8313690ae950</td>\n",
              "      <td>1.409</td>\n",
              "      <td>1.549</td>\n",
              "      <td>1.489</td>\n",
              "    </tr>\n",
              "    <tr>\n",
              "      <th>127995</th>\n",
              "      <td>2021-05-31 12:49:08+02</td>\n",
              "      <td>51d4b534-a095-1aa0-e100-80009459e03a</td>\n",
              "      <td>1.329</td>\n",
              "      <td>1.469</td>\n",
              "      <td>1.409</td>\n",
              "    </tr>\n",
              "    <tr>\n",
              "      <th>130916</th>\n",
              "      <td>2021-05-31 13:08:07+02</td>\n",
              "      <td>ca944555-1ee4-4228-979d-8313690ae950</td>\n",
              "      <td>1.379</td>\n",
              "      <td>1.549</td>\n",
              "      <td>1.489</td>\n",
              "    </tr>\n",
              "    <tr>\n",
              "      <th>137819</th>\n",
              "      <td>2021-05-31 13:30:10+02</td>\n",
              "      <td>ca944555-1ee4-4228-979d-8313690ae950</td>\n",
              "      <td>1.379</td>\n",
              "      <td>1.519</td>\n",
              "      <td>1.459</td>\n",
              "    </tr>\n",
              "    <tr>\n",
              "      <th>140335</th>\n",
              "      <td>2021-05-31 13:39:09+02</td>\n",
              "      <td>ca944555-1ee4-4228-979d-8313690ae950</td>\n",
              "      <td>1.369</td>\n",
              "      <td>1.509</td>\n",
              "      <td>1.449</td>\n",
              "    </tr>\n",
              "    <tr>\n",
              "      <th>164060</th>\n",
              "      <td>2021-05-31 15:03:07+02</td>\n",
              "      <td>ca944555-1ee4-4228-979d-8313690ae950</td>\n",
              "      <td>1.409</td>\n",
              "      <td>1.549</td>\n",
              "      <td>1.489</td>\n",
              "    </tr>\n",
              "    <tr>\n",
              "      <th>166643</th>\n",
              "      <td>2021-05-31 15:10:10+02</td>\n",
              "      <td>4e25d68d-ee62-49be-8abd-c4fc908bbc91</td>\n",
              "      <td>1.349</td>\n",
              "      <td>1.489</td>\n",
              "      <td>1.429</td>\n",
              "    </tr>\n",
              "    <tr>\n",
              "      <th>172923</th>\n",
              "      <td>2021-05-31 15:26:09+02</td>\n",
              "      <td>4e25d68d-ee62-49be-8abd-c4fc908bbc91</td>\n",
              "      <td>1.389</td>\n",
              "      <td>1.529</td>\n",
              "      <td>1.469</td>\n",
              "    </tr>\n",
              "    <tr>\n",
              "      <th>173926</th>\n",
              "      <td>2021-05-31 15:27:08+02</td>\n",
              "      <td>ca944555-1ee4-4228-979d-8313690ae950</td>\n",
              "      <td>1.399</td>\n",
              "      <td>1.539</td>\n",
              "      <td>1.479</td>\n",
              "    </tr>\n",
              "    <tr>\n",
              "      <th>174017</th>\n",
              "      <td>2021-05-31 15:27:08+02</td>\n",
              "      <td>51d4b534-a095-1aa0-e100-80009459e03a</td>\n",
              "      <td>1.369</td>\n",
              "      <td>1.509</td>\n",
              "      <td>1.449</td>\n",
              "    </tr>\n",
              "    <tr>\n",
              "      <th>177559</th>\n",
              "      <td>2021-05-31 15:35:06+02</td>\n",
              "      <td>51d4b534-a095-1aa0-e100-80009459e03a</td>\n",
              "      <td>1.339</td>\n",
              "      <td>1.479</td>\n",
              "      <td>1.419</td>\n",
              "    </tr>\n",
              "    <tr>\n",
              "      <th>179147</th>\n",
              "      <td>2021-05-31 15:39:11+02</td>\n",
              "      <td>4e25d68d-ee62-49be-8abd-c4fc908bbc91</td>\n",
              "      <td>1.349</td>\n",
              "      <td>1.489</td>\n",
              "      <td>1.429</td>\n",
              "    </tr>\n",
              "    <tr>\n",
              "      <th>185396</th>\n",
              "      <td>2021-05-31 16:08:10+02</td>\n",
              "      <td>ca944555-1ee4-4228-979d-8313690ae950</td>\n",
              "      <td>1.369</td>\n",
              "      <td>1.509</td>\n",
              "      <td>1.449</td>\n",
              "    </tr>\n",
              "    <tr>\n",
              "      <th>192405</th>\n",
              "      <td>2021-05-31 16:27:10+02</td>\n",
              "      <td>4e25d68d-ee62-49be-8abd-c4fc908bbc91</td>\n",
              "      <td>1.369</td>\n",
              "      <td>1.509</td>\n",
              "      <td>1.449</td>\n",
              "    </tr>\n",
              "    <tr>\n",
              "      <th>192827</th>\n",
              "      <td>2021-05-31 16:28:10+02</td>\n",
              "      <td>51d4b534-a095-1aa0-e100-80009459e03a</td>\n",
              "      <td>1.329</td>\n",
              "      <td>1.479</td>\n",
              "      <td>1.419</td>\n",
              "    </tr>\n",
              "    <tr>\n",
              "      <th>193363</th>\n",
              "      <td>2021-05-31 16:29:10+02</td>\n",
              "      <td>ca944555-1ee4-4228-979d-8313690ae950</td>\n",
              "      <td>1.359</td>\n",
              "      <td>1.499</td>\n",
              "      <td>1.439</td>\n",
              "    </tr>\n",
              "    <tr>\n",
              "      <th>194939</th>\n",
              "      <td>2021-05-31 16:32:08+02</td>\n",
              "      <td>4e25d68d-ee62-49be-8abd-c4fc908bbc91</td>\n",
              "      <td>1.359</td>\n",
              "      <td>1.499</td>\n",
              "      <td>1.439</td>\n",
              "    </tr>\n",
              "    <tr>\n",
              "      <th>200909</th>\n",
              "      <td>2021-05-31 16:48:10+02</td>\n",
              "      <td>4e25d68d-ee62-49be-8abd-c4fc908bbc91</td>\n",
              "      <td>1.349</td>\n",
              "      <td>1.499</td>\n",
              "      <td>1.439</td>\n",
              "    </tr>\n",
              "    <tr>\n",
              "      <th>201115</th>\n",
              "      <td>2021-05-31 16:49:08+02</td>\n",
              "      <td>51d4b534-a095-1aa0-e100-80009459e03a</td>\n",
              "      <td>1.329</td>\n",
              "      <td>1.469</td>\n",
              "      <td>1.409</td>\n",
              "    </tr>\n",
              "    <tr>\n",
              "      <th>206428</th>\n",
              "      <td>2021-05-31 17:03:11+02</td>\n",
              "      <td>ca944555-1ee4-4228-979d-8313690ae950</td>\n",
              "      <td>1.389</td>\n",
              "      <td>1.529</td>\n",
              "      <td>1.469</td>\n",
              "    </tr>\n",
              "    <tr>\n",
              "      <th>207162</th>\n",
              "      <td>2021-05-31 17:04:07+02</td>\n",
              "      <td>4e25d68d-ee62-49be-8abd-c4fc908bbc91</td>\n",
              "      <td>1.379</td>\n",
              "      <td>1.529</td>\n",
              "      <td>1.469</td>\n",
              "    </tr>\n",
              "    <tr>\n",
              "      <th>216446</th>\n",
              "      <td>2021-05-31 17:27:07+02</td>\n",
              "      <td>51d4b534-a095-1aa0-e100-80009459e03a</td>\n",
              "      <td>1.349</td>\n",
              "      <td>1.489</td>\n",
              "      <td>1.429</td>\n",
              "    </tr>\n",
              "    <tr>\n",
              "      <th>230792</th>\n",
              "      <td>2021-05-31 18:08:11+02</td>\n",
              "      <td>4e25d68d-ee62-49be-8abd-c4fc908bbc91</td>\n",
              "      <td>1.369</td>\n",
              "      <td>1.509</td>\n",
              "      <td>1.449</td>\n",
              "    </tr>\n",
              "    <tr>\n",
              "      <th>240644</th>\n",
              "      <td>2021-05-31 18:35:06+02</td>\n",
              "      <td>51d4b534-a095-1aa0-e100-80009459e03a</td>\n",
              "      <td>1.319</td>\n",
              "      <td>1.469</td>\n",
              "      <td>1.409</td>\n",
              "    </tr>\n",
              "    <tr>\n",
              "      <th>249381</th>\n",
              "      <td>2021-05-31 19:02:08+02</td>\n",
              "      <td>ca944555-1ee4-4228-979d-8313690ae950</td>\n",
              "      <td>1.429</td>\n",
              "      <td>1.569</td>\n",
              "      <td>1.509</td>\n",
              "    </tr>\n",
              "    <tr>\n",
              "      <th>251968</th>\n",
              "      <td>2021-05-31 19:08:11+02</td>\n",
              "      <td>ca944555-1ee4-4228-979d-8313690ae950</td>\n",
              "      <td>1.399</td>\n",
              "      <td>1.549</td>\n",
              "      <td>1.489</td>\n",
              "    </tr>\n",
              "    <tr>\n",
              "      <th>253284</th>\n",
              "      <td>2021-05-31 19:13:09+02</td>\n",
              "      <td>4e25d68d-ee62-49be-8abd-c4fc908bbc91</td>\n",
              "      <td>1.409</td>\n",
              "      <td>1.549</td>\n",
              "      <td>1.489</td>\n",
              "    </tr>\n",
              "    <tr>\n",
              "      <th>258262</th>\n",
              "      <td>2021-05-31 19:24:07+02</td>\n",
              "      <td>ca944555-1ee4-4228-979d-8313690ae950</td>\n",
              "      <td>1.389</td>\n",
              "      <td>1.539</td>\n",
              "      <td>1.479</td>\n",
              "    </tr>\n",
              "    <tr>\n",
              "      <th>258731</th>\n",
              "      <td>2021-05-31 19:27:09+02</td>\n",
              "      <td>51d4b534-a095-1aa0-e100-80009459e03a</td>\n",
              "      <td>1.349</td>\n",
              "      <td>1.499</td>\n",
              "      <td>1.439</td>\n",
              "    </tr>\n",
              "    <tr>\n",
              "      <th>269882</th>\n",
              "      <td>2021-05-31 20:15:09+02</td>\n",
              "      <td>ca944555-1ee4-4228-979d-8313690ae950</td>\n",
              "      <td>1.349</td>\n",
              "      <td>1.499</td>\n",
              "      <td>1.439</td>\n",
              "    </tr>\n",
              "    <tr>\n",
              "      <th>272133</th>\n",
              "      <td>2021-05-31 20:24:09+02</td>\n",
              "      <td>51d4b534-a095-1aa0-e100-80009459e03a</td>\n",
              "      <td>1.319</td>\n",
              "      <td>1.499</td>\n",
              "      <td>1.439</td>\n",
              "    </tr>\n",
              "    <tr>\n",
              "      <th>273474</th>\n",
              "      <td>2021-05-31 20:27:08+02</td>\n",
              "      <td>4e25d68d-ee62-49be-8abd-c4fc908bbc91</td>\n",
              "      <td>1.359</td>\n",
              "      <td>1.509</td>\n",
              "      <td>1.449</td>\n",
              "    </tr>\n",
              "    <tr>\n",
              "      <th>275535</th>\n",
              "      <td>2021-05-31 20:33:09+02</td>\n",
              "      <td>51d4b534-a095-1aa0-e100-80009459e03a</td>\n",
              "      <td>1.319</td>\n",
              "      <td>1.469</td>\n",
              "      <td>1.409</td>\n",
              "    </tr>\n",
              "    <tr>\n",
              "      <th>275990</th>\n",
              "      <td>2021-05-31 20:33:09+02</td>\n",
              "      <td>4e25d68d-ee62-49be-8abd-c4fc908bbc91</td>\n",
              "      <td>1.349</td>\n",
              "      <td>1.499</td>\n",
              "      <td>1.439</td>\n",
              "    </tr>\n",
              "    <tr>\n",
              "      <th>277259</th>\n",
              "      <td>2021-05-31 20:37:05+02</td>\n",
              "      <td>4e25d68d-ee62-49be-8abd-c4fc908bbc91</td>\n",
              "      <td>1.329</td>\n",
              "      <td>1.499</td>\n",
              "      <td>1.439</td>\n",
              "    </tr>\n",
              "    <tr>\n",
              "      <th>277683</th>\n",
              "      <td>2021-05-31 20:39:09+02</td>\n",
              "      <td>4e25d68d-ee62-49be-8abd-c4fc908bbc91</td>\n",
              "      <td>1.329</td>\n",
              "      <td>1.479</td>\n",
              "      <td>1.419</td>\n",
              "    </tr>\n",
              "    <tr>\n",
              "      <th>287519</th>\n",
              "      <td>2021-05-31 22:01:07+02</td>\n",
              "      <td>ca944555-1ee4-4228-979d-8313690ae950</td>\n",
              "      <td>1.389</td>\n",
              "      <td>1.579</td>\n",
              "      <td>1.519</td>\n",
              "    </tr>\n",
              "    <tr>\n",
              "      <th>293019</th>\n",
              "      <td>2021-05-31 23:01:14+02</td>\n",
              "      <td>4e25d68d-ee62-49be-8abd-c4fc908bbc91</td>\n",
              "      <td>1.359</td>\n",
              "      <td>1.509</td>\n",
              "      <td>1.449</td>\n",
              "    </tr>\n",
              "    <tr>\n",
              "      <th>295183</th>\n",
              "      <td>2021-05-31 23:12:08+02</td>\n",
              "      <td>51d4b534-a095-1aa0-e100-80009459e03a</td>\n",
              "      <td>1.359</td>\n",
              "      <td>1.509</td>\n",
              "      <td>1.449</td>\n",
              "    </tr>\n",
              "  </tbody>\n",
              "</table>\n",
              "</div>"
            ],
            "text/plain": [
              "                          date  ...    e10\n",
              "7245    2021-05-31 05:52:08+02  ...  1.509\n",
              "15322   2021-05-31 06:52:11+02  ...  1.529\n",
              "21842   2021-05-31 07:25:08+02  ...  1.439\n",
              "28312   2021-05-31 07:48:08+02  ...  1.549\n",
              "31468   2021-05-31 07:57:06+02  ...  1.499\n",
              "32050   2021-05-31 07:58:07+02  ...  1.489\n",
              "45044   2021-05-31 08:40:08+02  ...  1.459\n",
              "55401   2021-05-31 09:09:09+02  ...  1.539\n",
              "61837   2021-05-31 09:27:14+02  ...  1.489\n",
              "64922   2021-05-31 09:32:08+02  ...  1.449\n",
              "65239   2021-05-31 09:32:08+02  ...  1.529\n",
              "80592   2021-05-31 10:30:07+02  ...  1.509\n",
              "83344   2021-05-31 10:39:20+02  ...  1.469\n",
              "84102   2021-05-31 10:41:15+02  ...  1.499\n",
              "98945   2021-05-31 11:24:07+02  ...  1.489\n",
              "106322  2021-05-31 11:48:09+02  ...  1.419\n",
              "112002  2021-05-31 12:05:06+02  ...  1.519\n",
              "112229  2021-05-31 12:06:06+02  ...  1.539\n",
              "120823  2021-05-31 12:27:08+02  ...  1.459\n",
              "123248  2021-05-31 12:30:07+02  ...  1.499\n",
              "126465  2021-05-31 12:40:07+02  ...  1.489\n",
              "127995  2021-05-31 12:49:08+02  ...  1.409\n",
              "130916  2021-05-31 13:08:07+02  ...  1.489\n",
              "137819  2021-05-31 13:30:10+02  ...  1.459\n",
              "140335  2021-05-31 13:39:09+02  ...  1.449\n",
              "164060  2021-05-31 15:03:07+02  ...  1.489\n",
              "166643  2021-05-31 15:10:10+02  ...  1.429\n",
              "172923  2021-05-31 15:26:09+02  ...  1.469\n",
              "173926  2021-05-31 15:27:08+02  ...  1.479\n",
              "174017  2021-05-31 15:27:08+02  ...  1.449\n",
              "177559  2021-05-31 15:35:06+02  ...  1.419\n",
              "179147  2021-05-31 15:39:11+02  ...  1.429\n",
              "185396  2021-05-31 16:08:10+02  ...  1.449\n",
              "192405  2021-05-31 16:27:10+02  ...  1.449\n",
              "192827  2021-05-31 16:28:10+02  ...  1.419\n",
              "193363  2021-05-31 16:29:10+02  ...  1.439\n",
              "194939  2021-05-31 16:32:08+02  ...  1.439\n",
              "200909  2021-05-31 16:48:10+02  ...  1.439\n",
              "201115  2021-05-31 16:49:08+02  ...  1.409\n",
              "206428  2021-05-31 17:03:11+02  ...  1.469\n",
              "207162  2021-05-31 17:04:07+02  ...  1.469\n",
              "216446  2021-05-31 17:27:07+02  ...  1.429\n",
              "230792  2021-05-31 18:08:11+02  ...  1.449\n",
              "240644  2021-05-31 18:35:06+02  ...  1.409\n",
              "249381  2021-05-31 19:02:08+02  ...  1.509\n",
              "251968  2021-05-31 19:08:11+02  ...  1.489\n",
              "253284  2021-05-31 19:13:09+02  ...  1.489\n",
              "258262  2021-05-31 19:24:07+02  ...  1.479\n",
              "258731  2021-05-31 19:27:09+02  ...  1.439\n",
              "269882  2021-05-31 20:15:09+02  ...  1.439\n",
              "272133  2021-05-31 20:24:09+02  ...  1.439\n",
              "273474  2021-05-31 20:27:08+02  ...  1.449\n",
              "275535  2021-05-31 20:33:09+02  ...  1.409\n",
              "275990  2021-05-31 20:33:09+02  ...  1.439\n",
              "277259  2021-05-31 20:37:05+02  ...  1.439\n",
              "277683  2021-05-31 20:39:09+02  ...  1.419\n",
              "287519  2021-05-31 22:01:07+02  ...  1.519\n",
              "293019  2021-05-31 23:01:14+02  ...  1.449\n",
              "295183  2021-05-31 23:12:08+02  ...  1.449\n",
              "\n",
              "[59 rows x 5 columns]"
            ]
          },
          "metadata": {
            "tags": []
          },
          "execution_count": 101
        }
      ]
    },
    {
      "cell_type": "markdown",
      "metadata": {
        "id": "HjSqI70RF9JH"
      },
      "source": [
        "Only shows data of one day..."
      ]
    },
    {
      "cell_type": "markdown",
      "metadata": {
        "id": "K2gsMaqpPD8c"
      },
      "source": [
        "# Try to merge three days using an array (doesn't work)\n"
      ]
    },
    {
      "cell_type": "markdown",
      "metadata": {
        "id": "5fDS7nONOO5z"
      },
      "source": [
        "Try to merge the three data sets"
      ]
    },
    {
      "cell_type": "markdown",
      "metadata": {
        "id": "G61fLbpqOcpF"
      },
      "source": [
        "An approach is to go through the /Content/ and merge all data sets from there:"
      ]
    },
    {
      "cell_type": "code",
      "metadata": {
        "id": "EJPbNxDoL_lw"
      },
      "source": [
        "import os\n",
        "from fnmatch import fnmatch"
      ],
      "execution_count": 10,
      "outputs": []
    },
    {
      "cell_type": "code",
      "metadata": {
        "id": "FJfR9BsUMI1t"
      },
      "source": [
        "DATA_DIR=\"/content/\""
      ],
      "execution_count": 11,
      "outputs": []
    },
    {
      "cell_type": "code",
      "metadata": {
        "id": "sOC05Za5MItZ"
      },
      "source": [
        "data_array = pd.DataFrame()\n",
        "for path, subdirs, files in os.walk(DATA_DIR):\n",
        "  for name in files: # iterate over all files in the directory (including subdirectories)\n",
        "    if fnmatch(name, \"*.csv\"): # only take csv files\n",
        "      data_array = pd.concat([data_array, pd.read_csv(os.path.join(path, name))])\n",
        "     "
      ],
      "execution_count": null,
      "outputs": []
    },
    {
      "cell_type": "code",
      "metadata": {
        "id": "fSTH2ohrMIRJ"
      },
      "source": [
        "data_array"
      ],
      "execution_count": null,
      "outputs": []
    },
    {
      "cell_type": "markdown",
      "metadata": {
        "id": "Sl7q6YXr4VEB"
      },
      "source": [
        "Unfortunately, the system breaks down in the attempt to execute the function..."
      ]
    },
    {
      "cell_type": "markdown",
      "metadata": {
        "id": "EYP0F8q9PLu1"
      },
      "source": [
        "# Merge three days using concat (works - currently used model)"
      ]
    },
    {
      "cell_type": "markdown",
      "metadata": {
        "id": "xD6nc7-VOibY"
      },
      "source": [
        "Other approach is to merge two data sets using the concat function:"
      ]
    },
    {
      "cell_type": "markdown",
      "metadata": {
        "id": "qaliSoUpUcm8"
      },
      "source": [
        "For purposes of clarity, the data set is renamed to \"prices\":"
      ]
    },
    {
      "cell_type": "code",
      "metadata": {
        "id": "C4bZ8Gv5OnSD"
      },
      "source": [
        "prices = pd.concat ([data1005, data1105, data1205])"
      ],
      "execution_count": 11,
      "outputs": []
    },
    {
      "cell_type": "code",
      "metadata": {
        "id": "fPhcM368UiJJ",
        "colab": {
          "base_uri": "https://localhost:8080/",
          "height": 417
        },
        "outputId": "8ce856b1-b06a-4e31-9c97-9d70da3e7c30"
      },
      "source": [
        "prices"
      ],
      "execution_count": 12,
      "outputs": [
        {
          "output_type": "execute_result",
          "data": {
            "text/html": [
              "<div>\n",
              "<style scoped>\n",
              "    .dataframe tbody tr th:only-of-type {\n",
              "        vertical-align: middle;\n",
              "    }\n",
              "\n",
              "    .dataframe tbody tr th {\n",
              "        vertical-align: top;\n",
              "    }\n",
              "\n",
              "    .dataframe thead th {\n",
              "        text-align: right;\n",
              "    }\n",
              "</style>\n",
              "<table border=\"1\" class=\"dataframe\">\n",
              "  <thead>\n",
              "    <tr style=\"text-align: right;\">\n",
              "      <th></th>\n",
              "      <th>date</th>\n",
              "      <th>station_uuid</th>\n",
              "      <th>diesel</th>\n",
              "      <th>e5</th>\n",
              "      <th>e10</th>\n",
              "      <th>dieselchange</th>\n",
              "      <th>e5change</th>\n",
              "      <th>e10change</th>\n",
              "    </tr>\n",
              "  </thead>\n",
              "  <tbody>\n",
              "    <tr>\n",
              "      <th>0</th>\n",
              "      <td>2021-05-10 00:01:14+02</td>\n",
              "      <td>7cb85433-e1a3-4114-31a1-3a544017a218</td>\n",
              "      <td>1.329</td>\n",
              "      <td>1.559</td>\n",
              "      <td>0.000</td>\n",
              "      <td>1</td>\n",
              "      <td>1</td>\n",
              "      <td>0</td>\n",
              "    </tr>\n",
              "    <tr>\n",
              "      <th>1</th>\n",
              "      <td>2021-05-10 00:01:14+02</td>\n",
              "      <td>0d58c4ba-3267-404a-89d6-6ba15a8fc422</td>\n",
              "      <td>1.389</td>\n",
              "      <td>1.589</td>\n",
              "      <td>1.529</td>\n",
              "      <td>1</td>\n",
              "      <td>1</td>\n",
              "      <td>1</td>\n",
              "    </tr>\n",
              "    <tr>\n",
              "      <th>2</th>\n",
              "      <td>2021-05-10 00:01:14+02</td>\n",
              "      <td>f059c970-6882-45ed-97c0-eb544f70b02c</td>\n",
              "      <td>1.389</td>\n",
              "      <td>1.539</td>\n",
              "      <td>0.000</td>\n",
              "      <td>1</td>\n",
              "      <td>0</td>\n",
              "      <td>0</td>\n",
              "    </tr>\n",
              "    <tr>\n",
              "      <th>3</th>\n",
              "      <td>2021-05-10 00:01:14+02</td>\n",
              "      <td>57f207da-80a0-4e61-b98d-d6eef0d79cfe</td>\n",
              "      <td>1.329</td>\n",
              "      <td>1.549</td>\n",
              "      <td>1.489</td>\n",
              "      <td>1</td>\n",
              "      <td>1</td>\n",
              "      <td>1</td>\n",
              "    </tr>\n",
              "    <tr>\n",
              "      <th>4</th>\n",
              "      <td>2021-05-10 00:02:16+02</td>\n",
              "      <td>59ca7896-2c19-4354-97a2-a0f1de18be4f</td>\n",
              "      <td>1.309</td>\n",
              "      <td>1.539</td>\n",
              "      <td>1.479</td>\n",
              "      <td>1</td>\n",
              "      <td>1</td>\n",
              "      <td>1</td>\n",
              "    </tr>\n",
              "    <tr>\n",
              "      <th>...</th>\n",
              "      <td>...</td>\n",
              "      <td>...</td>\n",
              "      <td>...</td>\n",
              "      <td>...</td>\n",
              "      <td>...</td>\n",
              "      <td>...</td>\n",
              "      <td>...</td>\n",
              "      <td>...</td>\n",
              "    </tr>\n",
              "    <tr>\n",
              "      <th>323359</th>\n",
              "      <td>2021-05-12 23:59:08+02</td>\n",
              "      <td>00299b2b-4fcf-454a-9dfd-871a57bfe4ff</td>\n",
              "      <td>1.279</td>\n",
              "      <td>1.529</td>\n",
              "      <td>1.469</td>\n",
              "      <td>1</td>\n",
              "      <td>1</td>\n",
              "      <td>1</td>\n",
              "    </tr>\n",
              "    <tr>\n",
              "      <th>323360</th>\n",
              "      <td>2021-05-12 23:59:08+02</td>\n",
              "      <td>b2610757-acd4-43a2-b30e-8cd71bef813e</td>\n",
              "      <td>1.289</td>\n",
              "      <td>1.479</td>\n",
              "      <td>1.439</td>\n",
              "      <td>1</td>\n",
              "      <td>1</td>\n",
              "      <td>1</td>\n",
              "    </tr>\n",
              "    <tr>\n",
              "      <th>323361</th>\n",
              "      <td>2021-05-12 23:59:08+02</td>\n",
              "      <td>57f207da-80a0-4e61-b98d-d6eef0d79cfe</td>\n",
              "      <td>1.319</td>\n",
              "      <td>1.529</td>\n",
              "      <td>1.469</td>\n",
              "      <td>1</td>\n",
              "      <td>1</td>\n",
              "      <td>1</td>\n",
              "    </tr>\n",
              "    <tr>\n",
              "      <th>323362</th>\n",
              "      <td>2021-05-12 23:59:08+02</td>\n",
              "      <td>373714ef-2e3f-4bce-96bb-676fc4a1e5df</td>\n",
              "      <td>1.279</td>\n",
              "      <td>1.499</td>\n",
              "      <td>1.439</td>\n",
              "      <td>1</td>\n",
              "      <td>1</td>\n",
              "      <td>1</td>\n",
              "    </tr>\n",
              "    <tr>\n",
              "      <th>323363</th>\n",
              "      <td>2021-05-12 23:59:08+02</td>\n",
              "      <td>05d469d3-ab70-413f-a4a5-2a011827e8aa</td>\n",
              "      <td>1.359</td>\n",
              "      <td>1.559</td>\n",
              "      <td>1.519</td>\n",
              "      <td>1</td>\n",
              "      <td>1</td>\n",
              "      <td>1</td>\n",
              "    </tr>\n",
              "  </tbody>\n",
              "</table>\n",
              "<p>966978 rows × 8 columns</p>\n",
              "</div>"
            ],
            "text/plain": [
              "                          date  ... e10change\n",
              "0       2021-05-10 00:01:14+02  ...         0\n",
              "1       2021-05-10 00:01:14+02  ...         1\n",
              "2       2021-05-10 00:01:14+02  ...         0\n",
              "3       2021-05-10 00:01:14+02  ...         1\n",
              "4       2021-05-10 00:02:16+02  ...         1\n",
              "...                        ...  ...       ...\n",
              "323359  2021-05-12 23:59:08+02  ...         1\n",
              "323360  2021-05-12 23:59:08+02  ...         1\n",
              "323361  2021-05-12 23:59:08+02  ...         1\n",
              "323362  2021-05-12 23:59:08+02  ...         1\n",
              "323363  2021-05-12 23:59:08+02  ...         1\n",
              "\n",
              "[966978 rows x 8 columns]"
            ]
          },
          "metadata": {
            "tags": []
          },
          "execution_count": 12
        }
      ]
    },
    {
      "cell_type": "code",
      "metadata": {
        "colab": {
          "base_uri": "https://localhost:8080/",
          "height": 357
        },
        "id": "RkAwB1T7Uncs",
        "outputId": "4f716cf9-2d0b-4f84-a406-4d5c57825187"
      },
      "source": [
        "prices.sample (10)"
      ],
      "execution_count": 13,
      "outputs": [
        {
          "output_type": "execute_result",
          "data": {
            "text/html": [
              "<div>\n",
              "<style scoped>\n",
              "    .dataframe tbody tr th:only-of-type {\n",
              "        vertical-align: middle;\n",
              "    }\n",
              "\n",
              "    .dataframe tbody tr th {\n",
              "        vertical-align: top;\n",
              "    }\n",
              "\n",
              "    .dataframe thead th {\n",
              "        text-align: right;\n",
              "    }\n",
              "</style>\n",
              "<table border=\"1\" class=\"dataframe\">\n",
              "  <thead>\n",
              "    <tr style=\"text-align: right;\">\n",
              "      <th></th>\n",
              "      <th>date</th>\n",
              "      <th>station_uuid</th>\n",
              "      <th>diesel</th>\n",
              "      <th>e5</th>\n",
              "      <th>e10</th>\n",
              "      <th>dieselchange</th>\n",
              "      <th>e5change</th>\n",
              "      <th>e10change</th>\n",
              "    </tr>\n",
              "  </thead>\n",
              "  <tbody>\n",
              "    <tr>\n",
              "      <th>237352</th>\n",
              "      <td>2021-05-11 17:30:08+02</td>\n",
              "      <td>633b2d57-6be7-4ab2-b9de-47bd4fcbde64</td>\n",
              "      <td>1.299</td>\n",
              "      <td>1.519</td>\n",
              "      <td>1.459</td>\n",
              "      <td>0</td>\n",
              "      <td>1</td>\n",
              "      <td>1</td>\n",
              "    </tr>\n",
              "    <tr>\n",
              "      <th>13167</th>\n",
              "      <td>2021-05-11 06:12:09+02</td>\n",
              "      <td>1c83d418-4448-4503-a768-7139beb717a0</td>\n",
              "      <td>1.239</td>\n",
              "      <td>1.459</td>\n",
              "      <td>1.409</td>\n",
              "      <td>1</td>\n",
              "      <td>1</td>\n",
              "      <td>1</td>\n",
              "    </tr>\n",
              "    <tr>\n",
              "      <th>220934</th>\n",
              "      <td>2021-05-10 16:59:08+02</td>\n",
              "      <td>53f0c29d-1c15-4fbf-84f6-4bbb48b65e2e</td>\n",
              "      <td>1.279</td>\n",
              "      <td>1.489</td>\n",
              "      <td>1.459</td>\n",
              "      <td>0</td>\n",
              "      <td>1</td>\n",
              "      <td>1</td>\n",
              "    </tr>\n",
              "    <tr>\n",
              "      <th>235835</th>\n",
              "      <td>2021-05-10 17:28:10+02</td>\n",
              "      <td>e1a15081-261d-9107-e040-0b0a3dfe563c</td>\n",
              "      <td>1.349</td>\n",
              "      <td>1.499</td>\n",
              "      <td>1.439</td>\n",
              "      <td>1</td>\n",
              "      <td>1</td>\n",
              "      <td>1</td>\n",
              "    </tr>\n",
              "    <tr>\n",
              "      <th>206386</th>\n",
              "      <td>2021-05-10 16:24:09+02</td>\n",
              "      <td>16506808-eef3-478d-af60-51a9b42c8fce</td>\n",
              "      <td>1.349</td>\n",
              "      <td>1.589</td>\n",
              "      <td>1.529</td>\n",
              "      <td>0</td>\n",
              "      <td>1</td>\n",
              "      <td>1</td>\n",
              "    </tr>\n",
              "    <tr>\n",
              "      <th>65163</th>\n",
              "      <td>2021-05-11 09:19:08+02</td>\n",
              "      <td>2d2889b6-69ee-49c1-8b9b-ad4cc278b7b9</td>\n",
              "      <td>1.319</td>\n",
              "      <td>1.509</td>\n",
              "      <td>1.449</td>\n",
              "      <td>0</td>\n",
              "      <td>1</td>\n",
              "      <td>1</td>\n",
              "    </tr>\n",
              "    <tr>\n",
              "      <th>213219</th>\n",
              "      <td>2021-05-10 16:38:07+02</td>\n",
              "      <td>29a9547b-cfd7-4770-b343-6d4aa8478c3d</td>\n",
              "      <td>1.299</td>\n",
              "      <td>1.519</td>\n",
              "      <td>1.459</td>\n",
              "      <td>1</td>\n",
              "      <td>0</td>\n",
              "      <td>0</td>\n",
              "    </tr>\n",
              "    <tr>\n",
              "      <th>287633</th>\n",
              "      <td>2021-05-11 19:55:07+02</td>\n",
              "      <td>c45a2d79-ad33-4e2e-abb7-bebf173f4f31</td>\n",
              "      <td>1.289</td>\n",
              "      <td>1.499</td>\n",
              "      <td>1.439</td>\n",
              "      <td>1</td>\n",
              "      <td>1</td>\n",
              "      <td>1</td>\n",
              "    </tr>\n",
              "    <tr>\n",
              "      <th>117048</th>\n",
              "      <td>2021-05-12 11:47:15+02</td>\n",
              "      <td>72aad5fb-3487-4c7f-ab4d-21afa908a17a</td>\n",
              "      <td>1.289</td>\n",
              "      <td>1.539</td>\n",
              "      <td>1.479</td>\n",
              "      <td>1</td>\n",
              "      <td>1</td>\n",
              "      <td>1</td>\n",
              "    </tr>\n",
              "    <tr>\n",
              "      <th>38607</th>\n",
              "      <td>2021-05-11 08:08:10+02</td>\n",
              "      <td>c6730f5a-478d-46aa-9514-d1e0df21f277</td>\n",
              "      <td>1.359</td>\n",
              "      <td>1.579</td>\n",
              "      <td>1.519</td>\n",
              "      <td>1</td>\n",
              "      <td>0</td>\n",
              "      <td>0</td>\n",
              "    </tr>\n",
              "  </tbody>\n",
              "</table>\n",
              "</div>"
            ],
            "text/plain": [
              "                          date  ... e10change\n",
              "237352  2021-05-11 17:30:08+02  ...         1\n",
              "13167   2021-05-11 06:12:09+02  ...         1\n",
              "220934  2021-05-10 16:59:08+02  ...         1\n",
              "235835  2021-05-10 17:28:10+02  ...         1\n",
              "206386  2021-05-10 16:24:09+02  ...         1\n",
              "65163   2021-05-11 09:19:08+02  ...         1\n",
              "213219  2021-05-10 16:38:07+02  ...         0\n",
              "287633  2021-05-11 19:55:07+02  ...         1\n",
              "117048  2021-05-12 11:47:15+02  ...         1\n",
              "38607   2021-05-11 08:08:10+02  ...         0\n",
              "\n",
              "[10 rows x 8 columns]"
            ]
          },
          "metadata": {
            "tags": []
          },
          "execution_count": 13
        }
      ]
    },
    {
      "cell_type": "markdown",
      "metadata": {
        "id": "8rGcx3ZGTUME"
      },
      "source": [
        "The next step to be done is adjusting the data set.\n",
        "Now that we have successfully implemented and renamed it to \"prices\", we can look at the data and prepare it for further analysis. \n",
        "\n",
        "Data Types"
      ]
    },
    {
      "cell_type": "code",
      "metadata": {
        "colab": {
          "base_uri": "https://localhost:8080/"
        },
        "id": "uLGRcd2SUSkX",
        "outputId": "0ef721f9-8912-4602-9c3c-32618921830d"
      },
      "source": [
        "prices.dtypes"
      ],
      "execution_count": 14,
      "outputs": [
        {
          "output_type": "execute_result",
          "data": {
            "text/plain": [
              "date             object\n",
              "station_uuid     object\n",
              "diesel          float64\n",
              "e5              float64\n",
              "e10             float64\n",
              "dieselchange      int64\n",
              "e5change          int64\n",
              "e10change         int64\n",
              "dtype: object"
            ]
          },
          "metadata": {
            "tags": []
          },
          "execution_count": 14
        }
      ]
    },
    {
      "cell_type": "markdown",
      "metadata": {
        "id": "aOaMyrZVVCZJ"
      },
      "source": [
        "The data type for \"date\" is an object. For further analysis we need to convert it into a datetime"
      ]
    },
    {
      "cell_type": "code",
      "metadata": {
        "id": "rY17BKydVAy_"
      },
      "source": [
        "prices.date= pd.to_datetime(prices.date, infer_datetime_format=True)"
      ],
      "execution_count": 15,
      "outputs": []
    },
    {
      "cell_type": "code",
      "metadata": {
        "colab": {
          "base_uri": "https://localhost:8080/"
        },
        "id": "s7aP6G-LV4ux",
        "outputId": "4fb0af2c-34e6-405c-eacb-e001aebd847a"
      },
      "source": [
        "prices.dtypes"
      ],
      "execution_count": 16,
      "outputs": [
        {
          "output_type": "execute_result",
          "data": {
            "text/plain": [
              "date            datetime64[ns, pytz.FixedOffset(120)]\n",
              "station_uuid                                   object\n",
              "diesel                                        float64\n",
              "e5                                            float64\n",
              "e10                                           float64\n",
              "dieselchange                                    int64\n",
              "e5change                                        int64\n",
              "e10change                                       int64\n",
              "dtype: object"
            ]
          },
          "metadata": {
            "tags": []
          },
          "execution_count": 16
        }
      ]
    },
    {
      "cell_type": "code",
      "metadata": {
        "colab": {
          "base_uri": "https://localhost:8080/",
          "height": 417
        },
        "id": "aB4wGqNJWEam",
        "outputId": "3a18fae8-b1cd-4ee9-9b63-e48a149bca1e"
      },
      "source": [
        "prices"
      ],
      "execution_count": 17,
      "outputs": [
        {
          "output_type": "execute_result",
          "data": {
            "text/html": [
              "<div>\n",
              "<style scoped>\n",
              "    .dataframe tbody tr th:only-of-type {\n",
              "        vertical-align: middle;\n",
              "    }\n",
              "\n",
              "    .dataframe tbody tr th {\n",
              "        vertical-align: top;\n",
              "    }\n",
              "\n",
              "    .dataframe thead th {\n",
              "        text-align: right;\n",
              "    }\n",
              "</style>\n",
              "<table border=\"1\" class=\"dataframe\">\n",
              "  <thead>\n",
              "    <tr style=\"text-align: right;\">\n",
              "      <th></th>\n",
              "      <th>date</th>\n",
              "      <th>station_uuid</th>\n",
              "      <th>diesel</th>\n",
              "      <th>e5</th>\n",
              "      <th>e10</th>\n",
              "      <th>dieselchange</th>\n",
              "      <th>e5change</th>\n",
              "      <th>e10change</th>\n",
              "    </tr>\n",
              "  </thead>\n",
              "  <tbody>\n",
              "    <tr>\n",
              "      <th>0</th>\n",
              "      <td>2021-05-10 00:01:14+02:00</td>\n",
              "      <td>7cb85433-e1a3-4114-31a1-3a544017a218</td>\n",
              "      <td>1.329</td>\n",
              "      <td>1.559</td>\n",
              "      <td>0.000</td>\n",
              "      <td>1</td>\n",
              "      <td>1</td>\n",
              "      <td>0</td>\n",
              "    </tr>\n",
              "    <tr>\n",
              "      <th>1</th>\n",
              "      <td>2021-05-10 00:01:14+02:00</td>\n",
              "      <td>0d58c4ba-3267-404a-89d6-6ba15a8fc422</td>\n",
              "      <td>1.389</td>\n",
              "      <td>1.589</td>\n",
              "      <td>1.529</td>\n",
              "      <td>1</td>\n",
              "      <td>1</td>\n",
              "      <td>1</td>\n",
              "    </tr>\n",
              "    <tr>\n",
              "      <th>2</th>\n",
              "      <td>2021-05-10 00:01:14+02:00</td>\n",
              "      <td>f059c970-6882-45ed-97c0-eb544f70b02c</td>\n",
              "      <td>1.389</td>\n",
              "      <td>1.539</td>\n",
              "      <td>0.000</td>\n",
              "      <td>1</td>\n",
              "      <td>0</td>\n",
              "      <td>0</td>\n",
              "    </tr>\n",
              "    <tr>\n",
              "      <th>3</th>\n",
              "      <td>2021-05-10 00:01:14+02:00</td>\n",
              "      <td>57f207da-80a0-4e61-b98d-d6eef0d79cfe</td>\n",
              "      <td>1.329</td>\n",
              "      <td>1.549</td>\n",
              "      <td>1.489</td>\n",
              "      <td>1</td>\n",
              "      <td>1</td>\n",
              "      <td>1</td>\n",
              "    </tr>\n",
              "    <tr>\n",
              "      <th>4</th>\n",
              "      <td>2021-05-10 00:02:16+02:00</td>\n",
              "      <td>59ca7896-2c19-4354-97a2-a0f1de18be4f</td>\n",
              "      <td>1.309</td>\n",
              "      <td>1.539</td>\n",
              "      <td>1.479</td>\n",
              "      <td>1</td>\n",
              "      <td>1</td>\n",
              "      <td>1</td>\n",
              "    </tr>\n",
              "    <tr>\n",
              "      <th>...</th>\n",
              "      <td>...</td>\n",
              "      <td>...</td>\n",
              "      <td>...</td>\n",
              "      <td>...</td>\n",
              "      <td>...</td>\n",
              "      <td>...</td>\n",
              "      <td>...</td>\n",
              "      <td>...</td>\n",
              "    </tr>\n",
              "    <tr>\n",
              "      <th>323359</th>\n",
              "      <td>2021-05-12 23:59:08+02:00</td>\n",
              "      <td>00299b2b-4fcf-454a-9dfd-871a57bfe4ff</td>\n",
              "      <td>1.279</td>\n",
              "      <td>1.529</td>\n",
              "      <td>1.469</td>\n",
              "      <td>1</td>\n",
              "      <td>1</td>\n",
              "      <td>1</td>\n",
              "    </tr>\n",
              "    <tr>\n",
              "      <th>323360</th>\n",
              "      <td>2021-05-12 23:59:08+02:00</td>\n",
              "      <td>b2610757-acd4-43a2-b30e-8cd71bef813e</td>\n",
              "      <td>1.289</td>\n",
              "      <td>1.479</td>\n",
              "      <td>1.439</td>\n",
              "      <td>1</td>\n",
              "      <td>1</td>\n",
              "      <td>1</td>\n",
              "    </tr>\n",
              "    <tr>\n",
              "      <th>323361</th>\n",
              "      <td>2021-05-12 23:59:08+02:00</td>\n",
              "      <td>57f207da-80a0-4e61-b98d-d6eef0d79cfe</td>\n",
              "      <td>1.319</td>\n",
              "      <td>1.529</td>\n",
              "      <td>1.469</td>\n",
              "      <td>1</td>\n",
              "      <td>1</td>\n",
              "      <td>1</td>\n",
              "    </tr>\n",
              "    <tr>\n",
              "      <th>323362</th>\n",
              "      <td>2021-05-12 23:59:08+02:00</td>\n",
              "      <td>373714ef-2e3f-4bce-96bb-676fc4a1e5df</td>\n",
              "      <td>1.279</td>\n",
              "      <td>1.499</td>\n",
              "      <td>1.439</td>\n",
              "      <td>1</td>\n",
              "      <td>1</td>\n",
              "      <td>1</td>\n",
              "    </tr>\n",
              "    <tr>\n",
              "      <th>323363</th>\n",
              "      <td>2021-05-12 23:59:08+02:00</td>\n",
              "      <td>05d469d3-ab70-413f-a4a5-2a011827e8aa</td>\n",
              "      <td>1.359</td>\n",
              "      <td>1.559</td>\n",
              "      <td>1.519</td>\n",
              "      <td>1</td>\n",
              "      <td>1</td>\n",
              "      <td>1</td>\n",
              "    </tr>\n",
              "  </tbody>\n",
              "</table>\n",
              "<p>966978 rows × 8 columns</p>\n",
              "</div>"
            ],
            "text/plain": [
              "                            date  ... e10change\n",
              "0      2021-05-10 00:01:14+02:00  ...         0\n",
              "1      2021-05-10 00:01:14+02:00  ...         1\n",
              "2      2021-05-10 00:01:14+02:00  ...         0\n",
              "3      2021-05-10 00:01:14+02:00  ...         1\n",
              "4      2021-05-10 00:02:16+02:00  ...         1\n",
              "...                          ...  ...       ...\n",
              "323359 2021-05-12 23:59:08+02:00  ...         1\n",
              "323360 2021-05-12 23:59:08+02:00  ...         1\n",
              "323361 2021-05-12 23:59:08+02:00  ...         1\n",
              "323362 2021-05-12 23:59:08+02:00  ...         1\n",
              "323363 2021-05-12 23:59:08+02:00  ...         1\n",
              "\n",
              "[966978 rows x 8 columns]"
            ]
          },
          "metadata": {
            "tags": []
          },
          "execution_count": 17
        }
      ]
    },
    {
      "cell_type": "markdown",
      "metadata": {
        "id": "ZBSd8uQWWLs0"
      },
      "source": [
        "For further analysis, we need to group the information by \"station_uuid\" and also eliminate the second and timezone of the \"date\" as it is not necessarry to the analysis and the same for all stations since they are all in Germany which is only in one timezone."
      ]
    },
    {
      "cell_type": "markdown",
      "metadata": {
        "id": "SZG2bK-jOD0f"
      },
      "source": [
        "Eliminate the Timezone Information:"
      ]
    },
    {
      "cell_type": "code",
      "metadata": {
        "id": "OupgI5YiYmNP"
      },
      "source": [
        "prices.date = prices.date.dt.tz_localize(None)"
      ],
      "execution_count": 18,
      "outputs": []
    },
    {
      "cell_type": "code",
      "metadata": {
        "colab": {
          "base_uri": "https://localhost:8080/"
        },
        "id": "F8Y2dR8qZxpQ",
        "outputId": "bb8a799b-0b1a-47fc-b876-0fbb2cd510f5"
      },
      "source": [
        "prices.dtypes"
      ],
      "execution_count": 19,
      "outputs": [
        {
          "output_type": "execute_result",
          "data": {
            "text/plain": [
              "date            datetime64[ns]\n",
              "station_uuid            object\n",
              "diesel                 float64\n",
              "e5                     float64\n",
              "e10                    float64\n",
              "dieselchange             int64\n",
              "e5change                 int64\n",
              "e10change                int64\n",
              "dtype: object"
            ]
          },
          "metadata": {
            "tags": []
          },
          "execution_count": 19
        }
      ]
    },
    {
      "cell_type": "code",
      "metadata": {
        "colab": {
          "base_uri": "https://localhost:8080/",
          "height": 417
        },
        "id": "CljeIAypXdi0",
        "outputId": "938b8158-6b3e-42c8-9788-14673baa819c"
      },
      "source": [
        "prices"
      ],
      "execution_count": 20,
      "outputs": [
        {
          "output_type": "execute_result",
          "data": {
            "text/html": [
              "<div>\n",
              "<style scoped>\n",
              "    .dataframe tbody tr th:only-of-type {\n",
              "        vertical-align: middle;\n",
              "    }\n",
              "\n",
              "    .dataframe tbody tr th {\n",
              "        vertical-align: top;\n",
              "    }\n",
              "\n",
              "    .dataframe thead th {\n",
              "        text-align: right;\n",
              "    }\n",
              "</style>\n",
              "<table border=\"1\" class=\"dataframe\">\n",
              "  <thead>\n",
              "    <tr style=\"text-align: right;\">\n",
              "      <th></th>\n",
              "      <th>date</th>\n",
              "      <th>station_uuid</th>\n",
              "      <th>diesel</th>\n",
              "      <th>e5</th>\n",
              "      <th>e10</th>\n",
              "      <th>dieselchange</th>\n",
              "      <th>e5change</th>\n",
              "      <th>e10change</th>\n",
              "    </tr>\n",
              "  </thead>\n",
              "  <tbody>\n",
              "    <tr>\n",
              "      <th>0</th>\n",
              "      <td>2021-05-10 00:01:14</td>\n",
              "      <td>7cb85433-e1a3-4114-31a1-3a544017a218</td>\n",
              "      <td>1.329</td>\n",
              "      <td>1.559</td>\n",
              "      <td>0.000</td>\n",
              "      <td>1</td>\n",
              "      <td>1</td>\n",
              "      <td>0</td>\n",
              "    </tr>\n",
              "    <tr>\n",
              "      <th>1</th>\n",
              "      <td>2021-05-10 00:01:14</td>\n",
              "      <td>0d58c4ba-3267-404a-89d6-6ba15a8fc422</td>\n",
              "      <td>1.389</td>\n",
              "      <td>1.589</td>\n",
              "      <td>1.529</td>\n",
              "      <td>1</td>\n",
              "      <td>1</td>\n",
              "      <td>1</td>\n",
              "    </tr>\n",
              "    <tr>\n",
              "      <th>2</th>\n",
              "      <td>2021-05-10 00:01:14</td>\n",
              "      <td>f059c970-6882-45ed-97c0-eb544f70b02c</td>\n",
              "      <td>1.389</td>\n",
              "      <td>1.539</td>\n",
              "      <td>0.000</td>\n",
              "      <td>1</td>\n",
              "      <td>0</td>\n",
              "      <td>0</td>\n",
              "    </tr>\n",
              "    <tr>\n",
              "      <th>3</th>\n",
              "      <td>2021-05-10 00:01:14</td>\n",
              "      <td>57f207da-80a0-4e61-b98d-d6eef0d79cfe</td>\n",
              "      <td>1.329</td>\n",
              "      <td>1.549</td>\n",
              "      <td>1.489</td>\n",
              "      <td>1</td>\n",
              "      <td>1</td>\n",
              "      <td>1</td>\n",
              "    </tr>\n",
              "    <tr>\n",
              "      <th>4</th>\n",
              "      <td>2021-05-10 00:02:16</td>\n",
              "      <td>59ca7896-2c19-4354-97a2-a0f1de18be4f</td>\n",
              "      <td>1.309</td>\n",
              "      <td>1.539</td>\n",
              "      <td>1.479</td>\n",
              "      <td>1</td>\n",
              "      <td>1</td>\n",
              "      <td>1</td>\n",
              "    </tr>\n",
              "    <tr>\n",
              "      <th>...</th>\n",
              "      <td>...</td>\n",
              "      <td>...</td>\n",
              "      <td>...</td>\n",
              "      <td>...</td>\n",
              "      <td>...</td>\n",
              "      <td>...</td>\n",
              "      <td>...</td>\n",
              "      <td>...</td>\n",
              "    </tr>\n",
              "    <tr>\n",
              "      <th>323359</th>\n",
              "      <td>2021-05-12 23:59:08</td>\n",
              "      <td>00299b2b-4fcf-454a-9dfd-871a57bfe4ff</td>\n",
              "      <td>1.279</td>\n",
              "      <td>1.529</td>\n",
              "      <td>1.469</td>\n",
              "      <td>1</td>\n",
              "      <td>1</td>\n",
              "      <td>1</td>\n",
              "    </tr>\n",
              "    <tr>\n",
              "      <th>323360</th>\n",
              "      <td>2021-05-12 23:59:08</td>\n",
              "      <td>b2610757-acd4-43a2-b30e-8cd71bef813e</td>\n",
              "      <td>1.289</td>\n",
              "      <td>1.479</td>\n",
              "      <td>1.439</td>\n",
              "      <td>1</td>\n",
              "      <td>1</td>\n",
              "      <td>1</td>\n",
              "    </tr>\n",
              "    <tr>\n",
              "      <th>323361</th>\n",
              "      <td>2021-05-12 23:59:08</td>\n",
              "      <td>57f207da-80a0-4e61-b98d-d6eef0d79cfe</td>\n",
              "      <td>1.319</td>\n",
              "      <td>1.529</td>\n",
              "      <td>1.469</td>\n",
              "      <td>1</td>\n",
              "      <td>1</td>\n",
              "      <td>1</td>\n",
              "    </tr>\n",
              "    <tr>\n",
              "      <th>323362</th>\n",
              "      <td>2021-05-12 23:59:08</td>\n",
              "      <td>373714ef-2e3f-4bce-96bb-676fc4a1e5df</td>\n",
              "      <td>1.279</td>\n",
              "      <td>1.499</td>\n",
              "      <td>1.439</td>\n",
              "      <td>1</td>\n",
              "      <td>1</td>\n",
              "      <td>1</td>\n",
              "    </tr>\n",
              "    <tr>\n",
              "      <th>323363</th>\n",
              "      <td>2021-05-12 23:59:08</td>\n",
              "      <td>05d469d3-ab70-413f-a4a5-2a011827e8aa</td>\n",
              "      <td>1.359</td>\n",
              "      <td>1.559</td>\n",
              "      <td>1.519</td>\n",
              "      <td>1</td>\n",
              "      <td>1</td>\n",
              "      <td>1</td>\n",
              "    </tr>\n",
              "  </tbody>\n",
              "</table>\n",
              "<p>966978 rows × 8 columns</p>\n",
              "</div>"
            ],
            "text/plain": [
              "                      date  ... e10change\n",
              "0      2021-05-10 00:01:14  ...         0\n",
              "1      2021-05-10 00:01:14  ...         1\n",
              "2      2021-05-10 00:01:14  ...         0\n",
              "3      2021-05-10 00:01:14  ...         1\n",
              "4      2021-05-10 00:02:16  ...         1\n",
              "...                    ...  ...       ...\n",
              "323359 2021-05-12 23:59:08  ...         1\n",
              "323360 2021-05-12 23:59:08  ...         1\n",
              "323361 2021-05-12 23:59:08  ...         1\n",
              "323362 2021-05-12 23:59:08  ...         1\n",
              "323363 2021-05-12 23:59:08  ...         1\n",
              "\n",
              "[966978 rows x 8 columns]"
            ]
          },
          "metadata": {
            "tags": []
          },
          "execution_count": 20
        }
      ]
    },
    {
      "cell_type": "markdown",
      "metadata": {
        "id": "AD0zS-60OXdc"
      },
      "source": [
        "Despite being the data set for a single day, it is still rather large. To make the data set more understandable and easier to analyse the data is grouped by gas stations (Station_uuid) and corresponding hourly averages are implemented. "
      ]
    },
    {
      "cell_type": "code",
      "metadata": {
        "id": "IIILZ5_CWKNX"
      },
      "source": [
        "prices_resampled = prices.groupby(\"station_uuid\").resample(\"1h\", on=\"date\").mean()"
      ],
      "execution_count": 21,
      "outputs": []
    },
    {
      "cell_type": "code",
      "metadata": {
        "id": "2skdAwEXWx1s",
        "colab": {
          "base_uri": "https://localhost:8080/",
          "height": 447
        },
        "outputId": "f1a76df6-111c-4e43-85e7-4b921cb3a003"
      },
      "source": [
        "prices_resampled"
      ],
      "execution_count": 22,
      "outputs": [
        {
          "output_type": "execute_result",
          "data": {
            "text/html": [
              "<div>\n",
              "<style scoped>\n",
              "    .dataframe tbody tr th:only-of-type {\n",
              "        vertical-align: middle;\n",
              "    }\n",
              "\n",
              "    .dataframe tbody tr th {\n",
              "        vertical-align: top;\n",
              "    }\n",
              "\n",
              "    .dataframe thead th {\n",
              "        text-align: right;\n",
              "    }\n",
              "</style>\n",
              "<table border=\"1\" class=\"dataframe\">\n",
              "  <thead>\n",
              "    <tr style=\"text-align: right;\">\n",
              "      <th></th>\n",
              "      <th></th>\n",
              "      <th>diesel</th>\n",
              "      <th>e5</th>\n",
              "      <th>e10</th>\n",
              "      <th>dieselchange</th>\n",
              "      <th>e5change</th>\n",
              "      <th>e10change</th>\n",
              "    </tr>\n",
              "    <tr>\n",
              "      <th>station_uuid</th>\n",
              "      <th>date</th>\n",
              "      <th></th>\n",
              "      <th></th>\n",
              "      <th></th>\n",
              "      <th></th>\n",
              "      <th></th>\n",
              "      <th></th>\n",
              "    </tr>\n",
              "  </thead>\n",
              "  <tbody>\n",
              "    <tr>\n",
              "      <th rowspan=\"5\" valign=\"top\">00006210-0037-4444-8888-acdc00006210</th>\n",
              "      <th>2021-05-10 08:00:00</th>\n",
              "      <td>1.284000</td>\n",
              "      <td>1.499</td>\n",
              "      <td>1.439</td>\n",
              "      <td>0.500000</td>\n",
              "      <td>0.500000</td>\n",
              "      <td>0.500000</td>\n",
              "    </tr>\n",
              "    <tr>\n",
              "      <th>2021-05-10 09:00:00</th>\n",
              "      <td>1.304000</td>\n",
              "      <td>1.514</td>\n",
              "      <td>1.459</td>\n",
              "      <td>1.000000</td>\n",
              "      <td>0.500000</td>\n",
              "      <td>0.500000</td>\n",
              "    </tr>\n",
              "    <tr>\n",
              "      <th>2021-05-10 10:00:00</th>\n",
              "      <td>1.319000</td>\n",
              "      <td>1.529</td>\n",
              "      <td>1.469</td>\n",
              "      <td>0.000000</td>\n",
              "      <td>0.000000</td>\n",
              "      <td>1.000000</td>\n",
              "    </tr>\n",
              "    <tr>\n",
              "      <th>2021-05-10 11:00:00</th>\n",
              "      <td>1.295667</td>\n",
              "      <td>1.499</td>\n",
              "      <td>1.439</td>\n",
              "      <td>0.666667</td>\n",
              "      <td>0.333333</td>\n",
              "      <td>0.333333</td>\n",
              "    </tr>\n",
              "    <tr>\n",
              "      <th>2021-05-10 12:00:00</th>\n",
              "      <td>1.319000</td>\n",
              "      <td>1.529</td>\n",
              "      <td>1.479</td>\n",
              "      <td>1.000000</td>\n",
              "      <td>1.000000</td>\n",
              "      <td>1.000000</td>\n",
              "    </tr>\n",
              "    <tr>\n",
              "      <th>...</th>\n",
              "      <th>...</th>\n",
              "      <td>...</td>\n",
              "      <td>...</td>\n",
              "      <td>...</td>\n",
              "      <td>...</td>\n",
              "      <td>...</td>\n",
              "      <td>...</td>\n",
              "    </tr>\n",
              "    <tr>\n",
              "      <th rowspan=\"5\" valign=\"top\">fffd3828-c4e3-1035-8eef-40618651be9a</th>\n",
              "      <th>2021-05-12 19:00:00</th>\n",
              "      <td>NaN</td>\n",
              "      <td>NaN</td>\n",
              "      <td>NaN</td>\n",
              "      <td>NaN</td>\n",
              "      <td>NaN</td>\n",
              "      <td>NaN</td>\n",
              "    </tr>\n",
              "    <tr>\n",
              "      <th>2021-05-12 20:00:00</th>\n",
              "      <td>NaN</td>\n",
              "      <td>NaN</td>\n",
              "      <td>NaN</td>\n",
              "      <td>NaN</td>\n",
              "      <td>NaN</td>\n",
              "      <td>NaN</td>\n",
              "    </tr>\n",
              "    <tr>\n",
              "      <th>2021-05-12 21:00:00</th>\n",
              "      <td>NaN</td>\n",
              "      <td>NaN</td>\n",
              "      <td>NaN</td>\n",
              "      <td>NaN</td>\n",
              "      <td>NaN</td>\n",
              "      <td>NaN</td>\n",
              "    </tr>\n",
              "    <tr>\n",
              "      <th>2021-05-12 22:00:00</th>\n",
              "      <td>NaN</td>\n",
              "      <td>NaN</td>\n",
              "      <td>NaN</td>\n",
              "      <td>NaN</td>\n",
              "      <td>NaN</td>\n",
              "      <td>NaN</td>\n",
              "    </tr>\n",
              "    <tr>\n",
              "      <th>2021-05-12 23:00:00</th>\n",
              "      <td>1.329000</td>\n",
              "      <td>1.539</td>\n",
              "      <td>0.000</td>\n",
              "      <td>1.000000</td>\n",
              "      <td>1.000000</td>\n",
              "      <td>0.000000</td>\n",
              "    </tr>\n",
              "  </tbody>\n",
              "</table>\n",
              "<p>914332 rows × 6 columns</p>\n",
              "</div>"
            ],
            "text/plain": [
              "                                                            diesel  ...  e10change\n",
              "station_uuid                         date                           ...           \n",
              "00006210-0037-4444-8888-acdc00006210 2021-05-10 08:00:00  1.284000  ...   0.500000\n",
              "                                     2021-05-10 09:00:00  1.304000  ...   0.500000\n",
              "                                     2021-05-10 10:00:00  1.319000  ...   1.000000\n",
              "                                     2021-05-10 11:00:00  1.295667  ...   0.333333\n",
              "                                     2021-05-10 12:00:00  1.319000  ...   1.000000\n",
              "...                                                            ...  ...        ...\n",
              "fffd3828-c4e3-1035-8eef-40618651be9a 2021-05-12 19:00:00       NaN  ...        NaN\n",
              "                                     2021-05-12 20:00:00       NaN  ...        NaN\n",
              "                                     2021-05-12 21:00:00       NaN  ...        NaN\n",
              "                                     2021-05-12 22:00:00       NaN  ...        NaN\n",
              "                                     2021-05-12 23:00:00  1.329000  ...   0.000000\n",
              "\n",
              "[914332 rows x 6 columns]"
            ]
          },
          "metadata": {
            "tags": []
          },
          "execution_count": 22
        }
      ]
    },
    {
      "cell_type": "markdown",
      "metadata": {
        "id": "QjK3GZR1XO1i"
      },
      "source": [
        "Elimination of Null values:"
      ]
    },
    {
      "cell_type": "code",
      "metadata": {
        "colab": {
          "base_uri": "https://localhost:8080/"
        },
        "id": "BTvqckXCX9-0",
        "outputId": "67708c88-b912-43b9-eba6-d0285c5fc5be"
      },
      "source": [
        "prices_resampled.isnull().sum()"
      ],
      "execution_count": 23,
      "outputs": [
        {
          "output_type": "execute_result",
          "data": {
            "text/plain": [
              "diesel          352033\n",
              "e5              352033\n",
              "e10             352033\n",
              "dieselchange    352033\n",
              "e5change        352033\n",
              "e10change       352033\n",
              "dtype: int64"
            ]
          },
          "metadata": {
            "tags": []
          },
          "execution_count": 23
        }
      ]
    },
    {
      "cell_type": "code",
      "metadata": {
        "id": "Rgdz6LJAW46Q"
      },
      "source": [
        "prices_resampled = prices_resampled.dropna()"
      ],
      "execution_count": 24,
      "outputs": []
    },
    {
      "cell_type": "code",
      "metadata": {
        "id": "lGVEjHAXX2PQ",
        "colab": {
          "base_uri": "https://localhost:8080/",
          "height": 447
        },
        "outputId": "f3558760-5de7-4574-bf60-81466842cce4"
      },
      "source": [
        "prices_resampled"
      ],
      "execution_count": 25,
      "outputs": [
        {
          "output_type": "execute_result",
          "data": {
            "text/html": [
              "<div>\n",
              "<style scoped>\n",
              "    .dataframe tbody tr th:only-of-type {\n",
              "        vertical-align: middle;\n",
              "    }\n",
              "\n",
              "    .dataframe tbody tr th {\n",
              "        vertical-align: top;\n",
              "    }\n",
              "\n",
              "    .dataframe thead th {\n",
              "        text-align: right;\n",
              "    }\n",
              "</style>\n",
              "<table border=\"1\" class=\"dataframe\">\n",
              "  <thead>\n",
              "    <tr style=\"text-align: right;\">\n",
              "      <th></th>\n",
              "      <th></th>\n",
              "      <th>diesel</th>\n",
              "      <th>e5</th>\n",
              "      <th>e10</th>\n",
              "      <th>dieselchange</th>\n",
              "      <th>e5change</th>\n",
              "      <th>e10change</th>\n",
              "    </tr>\n",
              "    <tr>\n",
              "      <th>station_uuid</th>\n",
              "      <th>date</th>\n",
              "      <th></th>\n",
              "      <th></th>\n",
              "      <th></th>\n",
              "      <th></th>\n",
              "      <th></th>\n",
              "      <th></th>\n",
              "    </tr>\n",
              "  </thead>\n",
              "  <tbody>\n",
              "    <tr>\n",
              "      <th rowspan=\"5\" valign=\"top\">00006210-0037-4444-8888-acdc00006210</th>\n",
              "      <th>2021-05-10 08:00:00</th>\n",
              "      <td>1.284000</td>\n",
              "      <td>1.499000</td>\n",
              "      <td>1.439</td>\n",
              "      <td>0.500000</td>\n",
              "      <td>0.500000</td>\n",
              "      <td>0.500000</td>\n",
              "    </tr>\n",
              "    <tr>\n",
              "      <th>2021-05-10 09:00:00</th>\n",
              "      <td>1.304000</td>\n",
              "      <td>1.514000</td>\n",
              "      <td>1.459</td>\n",
              "      <td>1.000000</td>\n",
              "      <td>0.500000</td>\n",
              "      <td>0.500000</td>\n",
              "    </tr>\n",
              "    <tr>\n",
              "      <th>2021-05-10 10:00:00</th>\n",
              "      <td>1.319000</td>\n",
              "      <td>1.529000</td>\n",
              "      <td>1.469</td>\n",
              "      <td>0.000000</td>\n",
              "      <td>0.000000</td>\n",
              "      <td>1.000000</td>\n",
              "    </tr>\n",
              "    <tr>\n",
              "      <th>2021-05-10 11:00:00</th>\n",
              "      <td>1.295667</td>\n",
              "      <td>1.499000</td>\n",
              "      <td>1.439</td>\n",
              "      <td>0.666667</td>\n",
              "      <td>0.333333</td>\n",
              "      <td>0.333333</td>\n",
              "    </tr>\n",
              "    <tr>\n",
              "      <th>2021-05-10 12:00:00</th>\n",
              "      <td>1.319000</td>\n",
              "      <td>1.529000</td>\n",
              "      <td>1.479</td>\n",
              "      <td>1.000000</td>\n",
              "      <td>1.000000</td>\n",
              "      <td>1.000000</td>\n",
              "    </tr>\n",
              "    <tr>\n",
              "      <th>...</th>\n",
              "      <th>...</th>\n",
              "      <td>...</td>\n",
              "      <td>...</td>\n",
              "      <td>...</td>\n",
              "      <td>...</td>\n",
              "      <td>...</td>\n",
              "      <td>...</td>\n",
              "    </tr>\n",
              "    <tr>\n",
              "      <th rowspan=\"5\" valign=\"top\">fffd3828-c4e3-1035-8eef-40618651be9a</th>\n",
              "      <th>2021-05-12 12:00:00</th>\n",
              "      <td>1.272333</td>\n",
              "      <td>1.492333</td>\n",
              "      <td>0.000</td>\n",
              "      <td>0.666667</td>\n",
              "      <td>1.000000</td>\n",
              "      <td>0.000000</td>\n",
              "    </tr>\n",
              "    <tr>\n",
              "      <th>2021-05-12 13:00:00</th>\n",
              "      <td>1.294000</td>\n",
              "      <td>1.524000</td>\n",
              "      <td>0.000</td>\n",
              "      <td>1.000000</td>\n",
              "      <td>1.000000</td>\n",
              "      <td>0.000000</td>\n",
              "    </tr>\n",
              "    <tr>\n",
              "      <th>2021-05-12 14:00:00</th>\n",
              "      <td>1.269000</td>\n",
              "      <td>1.479000</td>\n",
              "      <td>0.000</td>\n",
              "      <td>0.000000</td>\n",
              "      <td>1.000000</td>\n",
              "      <td>0.000000</td>\n",
              "    </tr>\n",
              "    <tr>\n",
              "      <th>2021-05-12 16:00:00</th>\n",
              "      <td>1.289000</td>\n",
              "      <td>1.479000</td>\n",
              "      <td>0.000</td>\n",
              "      <td>1.000000</td>\n",
              "      <td>0.000000</td>\n",
              "      <td>0.000000</td>\n",
              "    </tr>\n",
              "    <tr>\n",
              "      <th>2021-05-12 23:00:00</th>\n",
              "      <td>1.329000</td>\n",
              "      <td>1.539000</td>\n",
              "      <td>0.000</td>\n",
              "      <td>1.000000</td>\n",
              "      <td>1.000000</td>\n",
              "      <td>0.000000</td>\n",
              "    </tr>\n",
              "  </tbody>\n",
              "</table>\n",
              "<p>562299 rows × 6 columns</p>\n",
              "</div>"
            ],
            "text/plain": [
              "                                                            diesel  ...  e10change\n",
              "station_uuid                         date                           ...           \n",
              "00006210-0037-4444-8888-acdc00006210 2021-05-10 08:00:00  1.284000  ...   0.500000\n",
              "                                     2021-05-10 09:00:00  1.304000  ...   0.500000\n",
              "                                     2021-05-10 10:00:00  1.319000  ...   1.000000\n",
              "                                     2021-05-10 11:00:00  1.295667  ...   0.333333\n",
              "                                     2021-05-10 12:00:00  1.319000  ...   1.000000\n",
              "...                                                            ...  ...        ...\n",
              "fffd3828-c4e3-1035-8eef-40618651be9a 2021-05-12 12:00:00  1.272333  ...   0.000000\n",
              "                                     2021-05-12 13:00:00  1.294000  ...   0.000000\n",
              "                                     2021-05-12 14:00:00  1.269000  ...   0.000000\n",
              "                                     2021-05-12 16:00:00  1.289000  ...   0.000000\n",
              "                                     2021-05-12 23:00:00  1.329000  ...   0.000000\n",
              "\n",
              "[562299 rows x 6 columns]"
            ]
          },
          "metadata": {
            "tags": []
          },
          "execution_count": 25
        }
      ]
    },
    {
      "cell_type": "code",
      "metadata": {
        "id": "WyCTXF3bTSOh"
      },
      "source": [
        "prices_resampled = prices_resampled.reset_index()"
      ],
      "execution_count": 26,
      "outputs": []
    },
    {
      "cell_type": "code",
      "metadata": {
        "colab": {
          "base_uri": "https://localhost:8080/",
          "height": 417
        },
        "id": "hYP6pTqqY-8l",
        "outputId": "b5a862f7-a563-482b-976b-e421c2164f89"
      },
      "source": [
        "prices_resampled"
      ],
      "execution_count": 27,
      "outputs": [
        {
          "output_type": "execute_result",
          "data": {
            "text/html": [
              "<div>\n",
              "<style scoped>\n",
              "    .dataframe tbody tr th:only-of-type {\n",
              "        vertical-align: middle;\n",
              "    }\n",
              "\n",
              "    .dataframe tbody tr th {\n",
              "        vertical-align: top;\n",
              "    }\n",
              "\n",
              "    .dataframe thead th {\n",
              "        text-align: right;\n",
              "    }\n",
              "</style>\n",
              "<table border=\"1\" class=\"dataframe\">\n",
              "  <thead>\n",
              "    <tr style=\"text-align: right;\">\n",
              "      <th></th>\n",
              "      <th>station_uuid</th>\n",
              "      <th>date</th>\n",
              "      <th>diesel</th>\n",
              "      <th>e5</th>\n",
              "      <th>e10</th>\n",
              "      <th>dieselchange</th>\n",
              "      <th>e5change</th>\n",
              "      <th>e10change</th>\n",
              "    </tr>\n",
              "  </thead>\n",
              "  <tbody>\n",
              "    <tr>\n",
              "      <th>0</th>\n",
              "      <td>00006210-0037-4444-8888-acdc00006210</td>\n",
              "      <td>2021-05-10 08:00:00</td>\n",
              "      <td>1.284000</td>\n",
              "      <td>1.499000</td>\n",
              "      <td>1.439</td>\n",
              "      <td>0.500000</td>\n",
              "      <td>0.500000</td>\n",
              "      <td>0.500000</td>\n",
              "    </tr>\n",
              "    <tr>\n",
              "      <th>1</th>\n",
              "      <td>00006210-0037-4444-8888-acdc00006210</td>\n",
              "      <td>2021-05-10 09:00:00</td>\n",
              "      <td>1.304000</td>\n",
              "      <td>1.514000</td>\n",
              "      <td>1.459</td>\n",
              "      <td>1.000000</td>\n",
              "      <td>0.500000</td>\n",
              "      <td>0.500000</td>\n",
              "    </tr>\n",
              "    <tr>\n",
              "      <th>2</th>\n",
              "      <td>00006210-0037-4444-8888-acdc00006210</td>\n",
              "      <td>2021-05-10 10:00:00</td>\n",
              "      <td>1.319000</td>\n",
              "      <td>1.529000</td>\n",
              "      <td>1.469</td>\n",
              "      <td>0.000000</td>\n",
              "      <td>0.000000</td>\n",
              "      <td>1.000000</td>\n",
              "    </tr>\n",
              "    <tr>\n",
              "      <th>3</th>\n",
              "      <td>00006210-0037-4444-8888-acdc00006210</td>\n",
              "      <td>2021-05-10 11:00:00</td>\n",
              "      <td>1.295667</td>\n",
              "      <td>1.499000</td>\n",
              "      <td>1.439</td>\n",
              "      <td>0.666667</td>\n",
              "      <td>0.333333</td>\n",
              "      <td>0.333333</td>\n",
              "    </tr>\n",
              "    <tr>\n",
              "      <th>4</th>\n",
              "      <td>00006210-0037-4444-8888-acdc00006210</td>\n",
              "      <td>2021-05-10 12:00:00</td>\n",
              "      <td>1.319000</td>\n",
              "      <td>1.529000</td>\n",
              "      <td>1.479</td>\n",
              "      <td>1.000000</td>\n",
              "      <td>1.000000</td>\n",
              "      <td>1.000000</td>\n",
              "    </tr>\n",
              "    <tr>\n",
              "      <th>...</th>\n",
              "      <td>...</td>\n",
              "      <td>...</td>\n",
              "      <td>...</td>\n",
              "      <td>...</td>\n",
              "      <td>...</td>\n",
              "      <td>...</td>\n",
              "      <td>...</td>\n",
              "      <td>...</td>\n",
              "    </tr>\n",
              "    <tr>\n",
              "      <th>562294</th>\n",
              "      <td>fffd3828-c4e3-1035-8eef-40618651be9a</td>\n",
              "      <td>2021-05-12 12:00:00</td>\n",
              "      <td>1.272333</td>\n",
              "      <td>1.492333</td>\n",
              "      <td>0.000</td>\n",
              "      <td>0.666667</td>\n",
              "      <td>1.000000</td>\n",
              "      <td>0.000000</td>\n",
              "    </tr>\n",
              "    <tr>\n",
              "      <th>562295</th>\n",
              "      <td>fffd3828-c4e3-1035-8eef-40618651be9a</td>\n",
              "      <td>2021-05-12 13:00:00</td>\n",
              "      <td>1.294000</td>\n",
              "      <td>1.524000</td>\n",
              "      <td>0.000</td>\n",
              "      <td>1.000000</td>\n",
              "      <td>1.000000</td>\n",
              "      <td>0.000000</td>\n",
              "    </tr>\n",
              "    <tr>\n",
              "      <th>562296</th>\n",
              "      <td>fffd3828-c4e3-1035-8eef-40618651be9a</td>\n",
              "      <td>2021-05-12 14:00:00</td>\n",
              "      <td>1.269000</td>\n",
              "      <td>1.479000</td>\n",
              "      <td>0.000</td>\n",
              "      <td>0.000000</td>\n",
              "      <td>1.000000</td>\n",
              "      <td>0.000000</td>\n",
              "    </tr>\n",
              "    <tr>\n",
              "      <th>562297</th>\n",
              "      <td>fffd3828-c4e3-1035-8eef-40618651be9a</td>\n",
              "      <td>2021-05-12 16:00:00</td>\n",
              "      <td>1.289000</td>\n",
              "      <td>1.479000</td>\n",
              "      <td>0.000</td>\n",
              "      <td>1.000000</td>\n",
              "      <td>0.000000</td>\n",
              "      <td>0.000000</td>\n",
              "    </tr>\n",
              "    <tr>\n",
              "      <th>562298</th>\n",
              "      <td>fffd3828-c4e3-1035-8eef-40618651be9a</td>\n",
              "      <td>2021-05-12 23:00:00</td>\n",
              "      <td>1.329000</td>\n",
              "      <td>1.539000</td>\n",
              "      <td>0.000</td>\n",
              "      <td>1.000000</td>\n",
              "      <td>1.000000</td>\n",
              "      <td>0.000000</td>\n",
              "    </tr>\n",
              "  </tbody>\n",
              "</table>\n",
              "<p>562299 rows × 8 columns</p>\n",
              "</div>"
            ],
            "text/plain": [
              "                                station_uuid  ... e10change\n",
              "0       00006210-0037-4444-8888-acdc00006210  ...  0.500000\n",
              "1       00006210-0037-4444-8888-acdc00006210  ...  0.500000\n",
              "2       00006210-0037-4444-8888-acdc00006210  ...  1.000000\n",
              "3       00006210-0037-4444-8888-acdc00006210  ...  0.333333\n",
              "4       00006210-0037-4444-8888-acdc00006210  ...  1.000000\n",
              "...                                      ...  ...       ...\n",
              "562294  fffd3828-c4e3-1035-8eef-40618651be9a  ...  0.000000\n",
              "562295  fffd3828-c4e3-1035-8eef-40618651be9a  ...  0.000000\n",
              "562296  fffd3828-c4e3-1035-8eef-40618651be9a  ...  0.000000\n",
              "562297  fffd3828-c4e3-1035-8eef-40618651be9a  ...  0.000000\n",
              "562298  fffd3828-c4e3-1035-8eef-40618651be9a  ...  0.000000\n",
              "\n",
              "[562299 rows x 8 columns]"
            ]
          },
          "metadata": {
            "tags": []
          },
          "execution_count": 27
        }
      ]
    },
    {
      "cell_type": "markdown",
      "metadata": {
        "id": "0yco7cokMeFN"
      },
      "source": [
        "# Information about our and the nearest stations"
      ]
    },
    {
      "cell_type": "markdown",
      "metadata": {
        "id": "crOMoE26NcXB"
      },
      "source": [
        "First we can look at the data from our gas station:"
      ]
    },
    {
      "cell_type": "code",
      "metadata": {
        "id": "Fc4BSUCfPt65"
      },
      "source": [
        "prices_resampled_station = prices_resampled[(prices_resampled.station_uuid == \"ca944555-1ee4-4228-979d-8313690ae950\")]"
      ],
      "execution_count": 34,
      "outputs": []
    },
    {
      "cell_type": "code",
      "metadata": {
        "colab": {
          "base_uri": "https://localhost:8080/",
          "height": 1000
        },
        "id": "AMz5Kry-R9y9",
        "outputId": "542fbd8d-5927-43de-a412-c304715bbc7d"
      },
      "source": [
        "prices_resampled_station"
      ],
      "execution_count": 35,
      "outputs": [
        {
          "output_type": "execute_result",
          "data": {
            "text/html": [
              "<div>\n",
              "<style scoped>\n",
              "    .dataframe tbody tr th:only-of-type {\n",
              "        vertical-align: middle;\n",
              "    }\n",
              "\n",
              "    .dataframe tbody tr th {\n",
              "        vertical-align: top;\n",
              "    }\n",
              "\n",
              "    .dataframe thead th {\n",
              "        text-align: right;\n",
              "    }\n",
              "</style>\n",
              "<table border=\"1\" class=\"dataframe\">\n",
              "  <thead>\n",
              "    <tr style=\"text-align: right;\">\n",
              "      <th></th>\n",
              "      <th>station_uuid</th>\n",
              "      <th>date</th>\n",
              "      <th>diesel</th>\n",
              "      <th>e5</th>\n",
              "      <th>e10</th>\n",
              "      <th>dieselchange</th>\n",
              "      <th>e5change</th>\n",
              "      <th>e10change</th>\n",
              "    </tr>\n",
              "  </thead>\n",
              "  <tbody>\n",
              "    <tr>\n",
              "      <th>444621</th>\n",
              "      <td>ca944555-1ee4-4228-979d-8313690ae950</td>\n",
              "      <td>2021-05-10 07:00:00</td>\n",
              "      <td>1.399000</td>\n",
              "      <td>1.619000</td>\n",
              "      <td>1.559000</td>\n",
              "      <td>1.000000</td>\n",
              "      <td>0.000000</td>\n",
              "      <td>0.000000</td>\n",
              "    </tr>\n",
              "    <tr>\n",
              "      <th>444622</th>\n",
              "      <td>ca944555-1ee4-4228-979d-8313690ae950</td>\n",
              "      <td>2021-05-10 08:00:00</td>\n",
              "      <td>1.395667</td>\n",
              "      <td>1.592333</td>\n",
              "      <td>1.532333</td>\n",
              "      <td>0.333333</td>\n",
              "      <td>0.666667</td>\n",
              "      <td>0.666667</td>\n",
              "    </tr>\n",
              "    <tr>\n",
              "      <th>444623</th>\n",
              "      <td>ca944555-1ee4-4228-979d-8313690ae950</td>\n",
              "      <td>2021-05-10 09:00:00</td>\n",
              "      <td>1.439000</td>\n",
              "      <td>1.634000</td>\n",
              "      <td>1.574000</td>\n",
              "      <td>0.500000</td>\n",
              "      <td>1.000000</td>\n",
              "      <td>1.000000</td>\n",
              "    </tr>\n",
              "    <tr>\n",
              "      <th>444624</th>\n",
              "      <td>ca944555-1ee4-4228-979d-8313690ae950</td>\n",
              "      <td>2021-05-10 10:00:00</td>\n",
              "      <td>1.411000</td>\n",
              "      <td>1.615000</td>\n",
              "      <td>1.555000</td>\n",
              "      <td>0.600000</td>\n",
              "      <td>0.600000</td>\n",
              "      <td>0.600000</td>\n",
              "    </tr>\n",
              "    <tr>\n",
              "      <th>444625</th>\n",
              "      <td>ca944555-1ee4-4228-979d-8313690ae950</td>\n",
              "      <td>2021-05-10 11:00:00</td>\n",
              "      <td>1.349000</td>\n",
              "      <td>1.569000</td>\n",
              "      <td>1.509000</td>\n",
              "      <td>1.000000</td>\n",
              "      <td>1.000000</td>\n",
              "      <td>1.000000</td>\n",
              "    </tr>\n",
              "    <tr>\n",
              "      <th>444626</th>\n",
              "      <td>ca944555-1ee4-4228-979d-8313690ae950</td>\n",
              "      <td>2021-05-10 12:00:00</td>\n",
              "      <td>1.399000</td>\n",
              "      <td>1.599000</td>\n",
              "      <td>1.539000</td>\n",
              "      <td>0.500000</td>\n",
              "      <td>1.000000</td>\n",
              "      <td>1.000000</td>\n",
              "    </tr>\n",
              "    <tr>\n",
              "      <th>444627</th>\n",
              "      <td>ca944555-1ee4-4228-979d-8313690ae950</td>\n",
              "      <td>2021-05-10 13:00:00</td>\n",
              "      <td>1.359000</td>\n",
              "      <td>1.549000</td>\n",
              "      <td>1.489000</td>\n",
              "      <td>0.250000</td>\n",
              "      <td>0.750000</td>\n",
              "      <td>0.750000</td>\n",
              "    </tr>\n",
              "    <tr>\n",
              "      <th>444628</th>\n",
              "      <td>ca944555-1ee4-4228-979d-8313690ae950</td>\n",
              "      <td>2021-05-10 15:00:00</td>\n",
              "      <td>1.399000</td>\n",
              "      <td>1.564000</td>\n",
              "      <td>1.504000</td>\n",
              "      <td>0.500000</td>\n",
              "      <td>1.000000</td>\n",
              "      <td>1.000000</td>\n",
              "    </tr>\n",
              "    <tr>\n",
              "      <th>444629</th>\n",
              "      <td>ca944555-1ee4-4228-979d-8313690ae950</td>\n",
              "      <td>2021-05-10 16:00:00</td>\n",
              "      <td>1.364000</td>\n",
              "      <td>1.529000</td>\n",
              "      <td>1.469000</td>\n",
              "      <td>1.000000</td>\n",
              "      <td>0.500000</td>\n",
              "      <td>0.500000</td>\n",
              "    </tr>\n",
              "    <tr>\n",
              "      <th>444630</th>\n",
              "      <td>ca944555-1ee4-4228-979d-8313690ae950</td>\n",
              "      <td>2021-05-10 17:00:00</td>\n",
              "      <td>1.375667</td>\n",
              "      <td>1.552333</td>\n",
              "      <td>1.492333</td>\n",
              "      <td>1.000000</td>\n",
              "      <td>0.666667</td>\n",
              "      <td>0.666667</td>\n",
              "    </tr>\n",
              "    <tr>\n",
              "      <th>444631</th>\n",
              "      <td>ca944555-1ee4-4228-979d-8313690ae950</td>\n",
              "      <td>2021-05-10 18:00:00</td>\n",
              "      <td>1.359000</td>\n",
              "      <td>1.529000</td>\n",
              "      <td>1.469000</td>\n",
              "      <td>0.000000</td>\n",
              "      <td>1.000000</td>\n",
              "      <td>1.000000</td>\n",
              "    </tr>\n",
              "    <tr>\n",
              "      <th>444632</th>\n",
              "      <td>ca944555-1ee4-4228-979d-8313690ae950</td>\n",
              "      <td>2021-05-10 19:00:00</td>\n",
              "      <td>1.389000</td>\n",
              "      <td>1.565667</td>\n",
              "      <td>1.505667</td>\n",
              "      <td>1.000000</td>\n",
              "      <td>0.666667</td>\n",
              "      <td>0.666667</td>\n",
              "    </tr>\n",
              "    <tr>\n",
              "      <th>444633</th>\n",
              "      <td>ca944555-1ee4-4228-979d-8313690ae950</td>\n",
              "      <td>2021-05-10 20:00:00</td>\n",
              "      <td>1.364000</td>\n",
              "      <td>1.549000</td>\n",
              "      <td>1.489000</td>\n",
              "      <td>1.000000</td>\n",
              "      <td>0.500000</td>\n",
              "      <td>0.500000</td>\n",
              "    </tr>\n",
              "    <tr>\n",
              "      <th>444634</th>\n",
              "      <td>ca944555-1ee4-4228-979d-8313690ae950</td>\n",
              "      <td>2021-05-10 22:00:00</td>\n",
              "      <td>1.439000</td>\n",
              "      <td>1.629000</td>\n",
              "      <td>1.569000</td>\n",
              "      <td>1.000000</td>\n",
              "      <td>1.000000</td>\n",
              "      <td>1.000000</td>\n",
              "    </tr>\n",
              "    <tr>\n",
              "      <th>444635</th>\n",
              "      <td>ca944555-1ee4-4228-979d-8313690ae950</td>\n",
              "      <td>2021-05-11 07:00:00</td>\n",
              "      <td>1.399000</td>\n",
              "      <td>1.619000</td>\n",
              "      <td>1.559000</td>\n",
              "      <td>1.000000</td>\n",
              "      <td>1.000000</td>\n",
              "      <td>1.000000</td>\n",
              "    </tr>\n",
              "    <tr>\n",
              "      <th>444636</th>\n",
              "      <td>ca944555-1ee4-4228-979d-8313690ae950</td>\n",
              "      <td>2021-05-11 08:00:00</td>\n",
              "      <td>1.375667</td>\n",
              "      <td>1.585667</td>\n",
              "      <td>1.525667</td>\n",
              "      <td>0.666667</td>\n",
              "      <td>1.000000</td>\n",
              "      <td>1.000000</td>\n",
              "    </tr>\n",
              "    <tr>\n",
              "      <th>444637</th>\n",
              "      <td>ca944555-1ee4-4228-979d-8313690ae950</td>\n",
              "      <td>2021-05-11 09:00:00</td>\n",
              "      <td>1.394000</td>\n",
              "      <td>1.614000</td>\n",
              "      <td>1.554000</td>\n",
              "      <td>1.000000</td>\n",
              "      <td>1.000000</td>\n",
              "      <td>1.000000</td>\n",
              "    </tr>\n",
              "    <tr>\n",
              "      <th>444638</th>\n",
              "      <td>ca944555-1ee4-4228-979d-8313690ae950</td>\n",
              "      <td>2021-05-11 10:00:00</td>\n",
              "      <td>1.366500</td>\n",
              "      <td>1.589000</td>\n",
              "      <td>1.529000</td>\n",
              "      <td>0.750000</td>\n",
              "      <td>0.750000</td>\n",
              "      <td>0.750000</td>\n",
              "    </tr>\n",
              "    <tr>\n",
              "      <th>444639</th>\n",
              "      <td>ca944555-1ee4-4228-979d-8313690ae950</td>\n",
              "      <td>2021-05-11 11:00:00</td>\n",
              "      <td>1.339000</td>\n",
              "      <td>1.559000</td>\n",
              "      <td>1.499000</td>\n",
              "      <td>1.000000</td>\n",
              "      <td>1.000000</td>\n",
              "      <td>1.000000</td>\n",
              "    </tr>\n",
              "    <tr>\n",
              "      <th>444640</th>\n",
              "      <td>ca944555-1ee4-4228-979d-8313690ae950</td>\n",
              "      <td>2021-05-11 12:00:00</td>\n",
              "      <td>1.389000</td>\n",
              "      <td>1.599000</td>\n",
              "      <td>1.539000</td>\n",
              "      <td>0.500000</td>\n",
              "      <td>1.000000</td>\n",
              "      <td>1.000000</td>\n",
              "    </tr>\n",
              "    <tr>\n",
              "      <th>444641</th>\n",
              "      <td>ca944555-1ee4-4228-979d-8313690ae950</td>\n",
              "      <td>2021-05-11 13:00:00</td>\n",
              "      <td>1.355667</td>\n",
              "      <td>1.539000</td>\n",
              "      <td>1.479000</td>\n",
              "      <td>0.666667</td>\n",
              "      <td>1.000000</td>\n",
              "      <td>1.000000</td>\n",
              "    </tr>\n",
              "    <tr>\n",
              "      <th>444642</th>\n",
              "      <td>ca944555-1ee4-4228-979d-8313690ae950</td>\n",
              "      <td>2021-05-11 15:00:00</td>\n",
              "      <td>1.384000</td>\n",
              "      <td>1.564000</td>\n",
              "      <td>1.504000</td>\n",
              "      <td>1.000000</td>\n",
              "      <td>1.000000</td>\n",
              "      <td>1.000000</td>\n",
              "    </tr>\n",
              "    <tr>\n",
              "      <th>444643</th>\n",
              "      <td>ca944555-1ee4-4228-979d-8313690ae950</td>\n",
              "      <td>2021-05-11 16:00:00</td>\n",
              "      <td>1.349000</td>\n",
              "      <td>1.529000</td>\n",
              "      <td>1.469000</td>\n",
              "      <td>1.000000</td>\n",
              "      <td>1.000000</td>\n",
              "      <td>1.000000</td>\n",
              "    </tr>\n",
              "    <tr>\n",
              "      <th>444644</th>\n",
              "      <td>ca944555-1ee4-4228-979d-8313690ae950</td>\n",
              "      <td>2021-05-11 17:00:00</td>\n",
              "      <td>1.374000</td>\n",
              "      <td>1.554000</td>\n",
              "      <td>1.494000</td>\n",
              "      <td>1.000000</td>\n",
              "      <td>1.000000</td>\n",
              "      <td>1.000000</td>\n",
              "    </tr>\n",
              "    <tr>\n",
              "      <th>444645</th>\n",
              "      <td>ca944555-1ee4-4228-979d-8313690ae950</td>\n",
              "      <td>2021-05-11 18:00:00</td>\n",
              "      <td>1.349000</td>\n",
              "      <td>1.529000</td>\n",
              "      <td>1.469000</td>\n",
              "      <td>1.000000</td>\n",
              "      <td>1.000000</td>\n",
              "      <td>1.000000</td>\n",
              "    </tr>\n",
              "    <tr>\n",
              "      <th>444646</th>\n",
              "      <td>ca944555-1ee4-4228-979d-8313690ae950</td>\n",
              "      <td>2021-05-11 19:00:00</td>\n",
              "      <td>1.389000</td>\n",
              "      <td>1.569000</td>\n",
              "      <td>1.509000</td>\n",
              "      <td>1.000000</td>\n",
              "      <td>1.000000</td>\n",
              "      <td>1.000000</td>\n",
              "    </tr>\n",
              "    <tr>\n",
              "      <th>444647</th>\n",
              "      <td>ca944555-1ee4-4228-979d-8313690ae950</td>\n",
              "      <td>2021-05-11 20:00:00</td>\n",
              "      <td>1.379000</td>\n",
              "      <td>1.564000</td>\n",
              "      <td>1.504000</td>\n",
              "      <td>0.500000</td>\n",
              "      <td>0.500000</td>\n",
              "      <td>0.500000</td>\n",
              "    </tr>\n",
              "    <tr>\n",
              "      <th>444648</th>\n",
              "      <td>ca944555-1ee4-4228-979d-8313690ae950</td>\n",
              "      <td>2021-05-11 22:00:00</td>\n",
              "      <td>1.459000</td>\n",
              "      <td>1.639000</td>\n",
              "      <td>1.579000</td>\n",
              "      <td>1.000000</td>\n",
              "      <td>1.000000</td>\n",
              "      <td>1.000000</td>\n",
              "    </tr>\n",
              "    <tr>\n",
              "      <th>444649</th>\n",
              "      <td>ca944555-1ee4-4228-979d-8313690ae950</td>\n",
              "      <td>2021-05-12 07:00:00</td>\n",
              "      <td>1.379000</td>\n",
              "      <td>1.559000</td>\n",
              "      <td>1.499000</td>\n",
              "      <td>1.000000</td>\n",
              "      <td>1.000000</td>\n",
              "      <td>1.000000</td>\n",
              "    </tr>\n",
              "    <tr>\n",
              "      <th>444650</th>\n",
              "      <td>ca944555-1ee4-4228-979d-8313690ae950</td>\n",
              "      <td>2021-05-12 08:00:00</td>\n",
              "      <td>1.369000</td>\n",
              "      <td>1.549000</td>\n",
              "      <td>1.489000</td>\n",
              "      <td>1.000000</td>\n",
              "      <td>1.000000</td>\n",
              "      <td>1.000000</td>\n",
              "    </tr>\n",
              "    <tr>\n",
              "      <th>444651</th>\n",
              "      <td>ca944555-1ee4-4228-979d-8313690ae950</td>\n",
              "      <td>2021-05-12 09:00:00</td>\n",
              "      <td>1.419000</td>\n",
              "      <td>1.594000</td>\n",
              "      <td>1.534000</td>\n",
              "      <td>0.500000</td>\n",
              "      <td>1.000000</td>\n",
              "      <td>1.000000</td>\n",
              "    </tr>\n",
              "    <tr>\n",
              "      <th>444652</th>\n",
              "      <td>ca944555-1ee4-4228-979d-8313690ae950</td>\n",
              "      <td>2021-05-12 10:00:00</td>\n",
              "      <td>1.396500</td>\n",
              "      <td>1.569000</td>\n",
              "      <td>1.509000</td>\n",
              "      <td>0.750000</td>\n",
              "      <td>0.750000</td>\n",
              "      <td>0.750000</td>\n",
              "    </tr>\n",
              "    <tr>\n",
              "      <th>444653</th>\n",
              "      <td>ca944555-1ee4-4228-979d-8313690ae950</td>\n",
              "      <td>2021-05-12 11:00:00</td>\n",
              "      <td>1.359000</td>\n",
              "      <td>1.539000</td>\n",
              "      <td>1.479000</td>\n",
              "      <td>1.000000</td>\n",
              "      <td>0.500000</td>\n",
              "      <td>0.500000</td>\n",
              "    </tr>\n",
              "    <tr>\n",
              "      <th>444654</th>\n",
              "      <td>ca944555-1ee4-4228-979d-8313690ae950</td>\n",
              "      <td>2021-05-12 12:00:00</td>\n",
              "      <td>1.394000</td>\n",
              "      <td>1.579000</td>\n",
              "      <td>1.519000</td>\n",
              "      <td>1.000000</td>\n",
              "      <td>1.000000</td>\n",
              "      <td>1.000000</td>\n",
              "    </tr>\n",
              "    <tr>\n",
              "      <th>444655</th>\n",
              "      <td>ca944555-1ee4-4228-979d-8313690ae950</td>\n",
              "      <td>2021-05-12 13:00:00</td>\n",
              "      <td>1.352333</td>\n",
              "      <td>1.539000</td>\n",
              "      <td>1.479000</td>\n",
              "      <td>1.000000</td>\n",
              "      <td>0.666667</td>\n",
              "      <td>0.666667</td>\n",
              "    </tr>\n",
              "    <tr>\n",
              "      <th>444656</th>\n",
              "      <td>ca944555-1ee4-4228-979d-8313690ae950</td>\n",
              "      <td>2021-05-12 15:00:00</td>\n",
              "      <td>1.374000</td>\n",
              "      <td>1.554000</td>\n",
              "      <td>1.494000</td>\n",
              "      <td>1.000000</td>\n",
              "      <td>1.000000</td>\n",
              "      <td>1.000000</td>\n",
              "    </tr>\n",
              "    <tr>\n",
              "      <th>444657</th>\n",
              "      <td>ca944555-1ee4-4228-979d-8313690ae950</td>\n",
              "      <td>2021-05-12 16:00:00</td>\n",
              "      <td>1.339000</td>\n",
              "      <td>1.519000</td>\n",
              "      <td>1.459000</td>\n",
              "      <td>1.000000</td>\n",
              "      <td>1.000000</td>\n",
              "      <td>1.000000</td>\n",
              "    </tr>\n",
              "    <tr>\n",
              "      <th>444658</th>\n",
              "      <td>ca944555-1ee4-4228-979d-8313690ae950</td>\n",
              "      <td>2021-05-12 17:00:00</td>\n",
              "      <td>1.364000</td>\n",
              "      <td>1.544000</td>\n",
              "      <td>1.484000</td>\n",
              "      <td>1.000000</td>\n",
              "      <td>1.000000</td>\n",
              "      <td>1.000000</td>\n",
              "    </tr>\n",
              "    <tr>\n",
              "      <th>444659</th>\n",
              "      <td>ca944555-1ee4-4228-979d-8313690ae950</td>\n",
              "      <td>2021-05-12 18:00:00</td>\n",
              "      <td>1.349000</td>\n",
              "      <td>1.539000</td>\n",
              "      <td>1.479000</td>\n",
              "      <td>1.000000</td>\n",
              "      <td>0.000000</td>\n",
              "      <td>0.000000</td>\n",
              "    </tr>\n",
              "    <tr>\n",
              "      <th>444660</th>\n",
              "      <td>ca944555-1ee4-4228-979d-8313690ae950</td>\n",
              "      <td>2021-05-12 19:00:00</td>\n",
              "      <td>1.389000</td>\n",
              "      <td>1.569000</td>\n",
              "      <td>1.509000</td>\n",
              "      <td>0.333333</td>\n",
              "      <td>1.000000</td>\n",
              "      <td>1.000000</td>\n",
              "    </tr>\n",
              "    <tr>\n",
              "      <th>444661</th>\n",
              "      <td>ca944555-1ee4-4228-979d-8313690ae950</td>\n",
              "      <td>2021-05-12 20:00:00</td>\n",
              "      <td>1.374000</td>\n",
              "      <td>1.559000</td>\n",
              "      <td>1.499000</td>\n",
              "      <td>1.000000</td>\n",
              "      <td>0.000000</td>\n",
              "      <td>0.000000</td>\n",
              "    </tr>\n",
              "    <tr>\n",
              "      <th>444662</th>\n",
              "      <td>ca944555-1ee4-4228-979d-8313690ae950</td>\n",
              "      <td>2021-05-12 22:00:00</td>\n",
              "      <td>1.429000</td>\n",
              "      <td>1.619000</td>\n",
              "      <td>1.559000</td>\n",
              "      <td>1.000000</td>\n",
              "      <td>1.000000</td>\n",
              "      <td>1.000000</td>\n",
              "    </tr>\n",
              "  </tbody>\n",
              "</table>\n",
              "</div>"
            ],
            "text/plain": [
              "                                station_uuid  ... e10change\n",
              "444621  ca944555-1ee4-4228-979d-8313690ae950  ...  0.000000\n",
              "444622  ca944555-1ee4-4228-979d-8313690ae950  ...  0.666667\n",
              "444623  ca944555-1ee4-4228-979d-8313690ae950  ...  1.000000\n",
              "444624  ca944555-1ee4-4228-979d-8313690ae950  ...  0.600000\n",
              "444625  ca944555-1ee4-4228-979d-8313690ae950  ...  1.000000\n",
              "444626  ca944555-1ee4-4228-979d-8313690ae950  ...  1.000000\n",
              "444627  ca944555-1ee4-4228-979d-8313690ae950  ...  0.750000\n",
              "444628  ca944555-1ee4-4228-979d-8313690ae950  ...  1.000000\n",
              "444629  ca944555-1ee4-4228-979d-8313690ae950  ...  0.500000\n",
              "444630  ca944555-1ee4-4228-979d-8313690ae950  ...  0.666667\n",
              "444631  ca944555-1ee4-4228-979d-8313690ae950  ...  1.000000\n",
              "444632  ca944555-1ee4-4228-979d-8313690ae950  ...  0.666667\n",
              "444633  ca944555-1ee4-4228-979d-8313690ae950  ...  0.500000\n",
              "444634  ca944555-1ee4-4228-979d-8313690ae950  ...  1.000000\n",
              "444635  ca944555-1ee4-4228-979d-8313690ae950  ...  1.000000\n",
              "444636  ca944555-1ee4-4228-979d-8313690ae950  ...  1.000000\n",
              "444637  ca944555-1ee4-4228-979d-8313690ae950  ...  1.000000\n",
              "444638  ca944555-1ee4-4228-979d-8313690ae950  ...  0.750000\n",
              "444639  ca944555-1ee4-4228-979d-8313690ae950  ...  1.000000\n",
              "444640  ca944555-1ee4-4228-979d-8313690ae950  ...  1.000000\n",
              "444641  ca944555-1ee4-4228-979d-8313690ae950  ...  1.000000\n",
              "444642  ca944555-1ee4-4228-979d-8313690ae950  ...  1.000000\n",
              "444643  ca944555-1ee4-4228-979d-8313690ae950  ...  1.000000\n",
              "444644  ca944555-1ee4-4228-979d-8313690ae950  ...  1.000000\n",
              "444645  ca944555-1ee4-4228-979d-8313690ae950  ...  1.000000\n",
              "444646  ca944555-1ee4-4228-979d-8313690ae950  ...  1.000000\n",
              "444647  ca944555-1ee4-4228-979d-8313690ae950  ...  0.500000\n",
              "444648  ca944555-1ee4-4228-979d-8313690ae950  ...  1.000000\n",
              "444649  ca944555-1ee4-4228-979d-8313690ae950  ...  1.000000\n",
              "444650  ca944555-1ee4-4228-979d-8313690ae950  ...  1.000000\n",
              "444651  ca944555-1ee4-4228-979d-8313690ae950  ...  1.000000\n",
              "444652  ca944555-1ee4-4228-979d-8313690ae950  ...  0.750000\n",
              "444653  ca944555-1ee4-4228-979d-8313690ae950  ...  0.500000\n",
              "444654  ca944555-1ee4-4228-979d-8313690ae950  ...  1.000000\n",
              "444655  ca944555-1ee4-4228-979d-8313690ae950  ...  0.666667\n",
              "444656  ca944555-1ee4-4228-979d-8313690ae950  ...  1.000000\n",
              "444657  ca944555-1ee4-4228-979d-8313690ae950  ...  1.000000\n",
              "444658  ca944555-1ee4-4228-979d-8313690ae950  ...  1.000000\n",
              "444659  ca944555-1ee4-4228-979d-8313690ae950  ...  0.000000\n",
              "444660  ca944555-1ee4-4228-979d-8313690ae950  ...  1.000000\n",
              "444661  ca944555-1ee4-4228-979d-8313690ae950  ...  0.000000\n",
              "444662  ca944555-1ee4-4228-979d-8313690ae950  ...  1.000000\n",
              "\n",
              "[42 rows x 8 columns]"
            ]
          },
          "metadata": {
            "tags": []
          },
          "execution_count": 35
        }
      ]
    },
    {
      "cell_type": "markdown",
      "metadata": {
        "id": "Jy2oJGvr9WRq"
      },
      "source": [
        "The information can also be visualised in a line graph:"
      ]
    },
    {
      "cell_type": "code",
      "metadata": {
        "id": "4Gt9rKXmYVL8",
        "colab": {
          "base_uri": "https://localhost:8080/",
          "height": 297
        },
        "outputId": "5c75736b-d641-4750-ebfa-067f3cd27f68"
      },
      "source": [
        "prices_resampled_station.plot(kind='line', x='date', y=['diesel', 'e5', 'e10'])"
      ],
      "execution_count": 36,
      "outputs": [
        {
          "output_type": "execute_result",
          "data": {
            "text/plain": [
              "<matplotlib.axes._subplots.AxesSubplot at 0x7fa4ac5a5290>"
            ]
          },
          "metadata": {
            "tags": []
          },
          "execution_count": 36
        },
        {
          "output_type": "display_data",
          "data": {
            "image/png": "[encoded data removed]",
            "text/plain": [
              "<Figure size 432x288 with 1 Axes>"
            ]
          },
          "metadata": {
            "tags": [],
            "needs_background": "light"
          }
        }
      ]
    },
    {
      "cell_type": "markdown",
      "metadata": {
        "id": "DLY8XITOayjC"
      },
      "source": [
        "The station list doesn't work until now. Only shows the data of the first station"
      ]
    },
    {
      "cell_type": "code",
      "metadata": {
        "id": "RS3XNUIUQPa0"
      },
      "source": [
        "prices_resampled_stationlist = prices_resampled_station[prices_resampled_station.station_uuid.isin(near_stations)]"
      ],
      "execution_count": 98,
      "outputs": []
    },
    {
      "cell_type": "code",
      "metadata": {
        "colab": {
          "base_uri": "https://localhost:8080/",
          "height": 49
        },
        "id": "Y2IV8ZJE5zmN",
        "outputId": "f27a70ca-3a13-41d8-eef4-26b296f716c2"
      },
      "source": [
        "prices_resampled_stationlist"
      ],
      "execution_count": 99,
      "outputs": [
        {
          "output_type": "execute_result",
          "data": {
            "text/html": [
              "<div>\n",
              "<style scoped>\n",
              "    .dataframe tbody tr th:only-of-type {\n",
              "        vertical-align: middle;\n",
              "    }\n",
              "\n",
              "    .dataframe tbody tr th {\n",
              "        vertical-align: top;\n",
              "    }\n",
              "\n",
              "    .dataframe thead th {\n",
              "        text-align: right;\n",
              "    }\n",
              "</style>\n",
              "<table border=\"1\" class=\"dataframe\">\n",
              "  <thead>\n",
              "    <tr style=\"text-align: right;\">\n",
              "      <th></th>\n",
              "      <th>station_uuid</th>\n",
              "      <th>date</th>\n",
              "      <th>diesel</th>\n",
              "      <th>e5</th>\n",
              "      <th>e10</th>\n",
              "      <th>dieselchange</th>\n",
              "      <th>e5change</th>\n",
              "      <th>e10change</th>\n",
              "    </tr>\n",
              "  </thead>\n",
              "  <tbody>\n",
              "  </tbody>\n",
              "</table>\n",
              "</div>"
            ],
            "text/plain": [
              "Empty DataFrame\n",
              "Columns: [station_uuid, date, diesel, e5, e10, dieselchange, e5change, e10change]\n",
              "Index: []"
            ]
          },
          "metadata": {
            "tags": []
          },
          "execution_count": 99
        }
      ]
    },
    {
      "cell_type": "markdown",
      "metadata": {
        "id": "nmHsz5xh5hvy"
      },
      "source": [
        "But this one works"
      ]
    },
    {
      "cell_type": "markdown",
      "metadata": {
        "id": "9woefBIsOfWS"
      },
      "source": [
        "Here we can see the data about our and the three competitors that were chosen earlier"
      ]
    },
    {
      "cell_type": "code",
      "metadata": {
        "id": "yjDqET2_QpH9"
      },
      "source": [
        "prices_resampled_stations = prices_resampled[(prices_resampled.station_uuid == \"ca944555-1ee4-4228-979d-8313690ae950\") | (prices_resampled.station_uuid == \"51d4b534-a095-1aa0-e100-80009459e03a\") | (prices_resampled.station_uuid == \"4e25d68d-ee62-49be-8abd-c4fc908bbc91\") | (prices_resampled.station_uuid == \"386fa94f-2434-451c-981e-a7e230e08114\")]"
      ],
      "execution_count": 60,
      "outputs": []
    },
    {
      "cell_type": "code",
      "metadata": {
        "colab": {
          "base_uri": "https://localhost:8080/",
          "height": 417
        },
        "id": "OvLT8nSqTD99",
        "outputId": "14d0b34d-cf87-48af-d317-650478f25e57"
      },
      "source": [
        "prices_resampled_stations"
      ],
      "execution_count": 61,
      "outputs": [
        {
          "output_type": "execute_result",
          "data": {
            "text/html": [
              "<div>\n",
              "<style scoped>\n",
              "    .dataframe tbody tr th:only-of-type {\n",
              "        vertical-align: middle;\n",
              "    }\n",
              "\n",
              "    .dataframe tbody tr th {\n",
              "        vertical-align: top;\n",
              "    }\n",
              "\n",
              "    .dataframe thead th {\n",
              "        text-align: right;\n",
              "    }\n",
              "</style>\n",
              "<table border=\"1\" class=\"dataframe\">\n",
              "  <thead>\n",
              "    <tr style=\"text-align: right;\">\n",
              "      <th></th>\n",
              "      <th>station_uuid</th>\n",
              "      <th>date</th>\n",
              "      <th>diesel</th>\n",
              "      <th>e5</th>\n",
              "      <th>e10</th>\n",
              "      <th>dieselchange</th>\n",
              "      <th>e5change</th>\n",
              "      <th>e10change</th>\n",
              "    </tr>\n",
              "  </thead>\n",
              "  <tbody>\n",
              "    <tr>\n",
              "      <th>141451</th>\n",
              "      <td>386fa94f-2434-451c-981e-a7e230e08114</td>\n",
              "      <td>2021-05-10 05:00:00</td>\n",
              "      <td>1.439</td>\n",
              "      <td>1.6190</td>\n",
              "      <td>1.5590</td>\n",
              "      <td>1.000000</td>\n",
              "      <td>1.0</td>\n",
              "      <td>1.0</td>\n",
              "    </tr>\n",
              "    <tr>\n",
              "      <th>141452</th>\n",
              "      <td>386fa94f-2434-451c-981e-a7e230e08114</td>\n",
              "      <td>2021-05-10 06:00:00</td>\n",
              "      <td>1.369</td>\n",
              "      <td>1.5740</td>\n",
              "      <td>1.5140</td>\n",
              "      <td>0.500000</td>\n",
              "      <td>1.0</td>\n",
              "      <td>1.0</td>\n",
              "    </tr>\n",
              "    <tr>\n",
              "      <th>141453</th>\n",
              "      <td>386fa94f-2434-451c-981e-a7e230e08114</td>\n",
              "      <td>2021-05-10 07:00:00</td>\n",
              "      <td>1.369</td>\n",
              "      <td>1.5865</td>\n",
              "      <td>1.5265</td>\n",
              "      <td>0.000000</td>\n",
              "      <td>1.0</td>\n",
              "      <td>1.0</td>\n",
              "    </tr>\n",
              "    <tr>\n",
              "      <th>141454</th>\n",
              "      <td>386fa94f-2434-451c-981e-a7e230e08114</td>\n",
              "      <td>2021-05-10 09:00:00</td>\n",
              "      <td>1.369</td>\n",
              "      <td>1.5890</td>\n",
              "      <td>1.5290</td>\n",
              "      <td>0.000000</td>\n",
              "      <td>1.0</td>\n",
              "      <td>1.0</td>\n",
              "    </tr>\n",
              "    <tr>\n",
              "      <th>141455</th>\n",
              "      <td>386fa94f-2434-451c-981e-a7e230e08114</td>\n",
              "      <td>2021-05-10 10:00:00</td>\n",
              "      <td>1.354</td>\n",
              "      <td>1.5690</td>\n",
              "      <td>1.5090</td>\n",
              "      <td>0.500000</td>\n",
              "      <td>1.0</td>\n",
              "      <td>1.0</td>\n",
              "    </tr>\n",
              "    <tr>\n",
              "      <th>...</th>\n",
              "      <td>...</td>\n",
              "      <td>...</td>\n",
              "      <td>...</td>\n",
              "      <td>...</td>\n",
              "      <td>...</td>\n",
              "      <td>...</td>\n",
              "      <td>...</td>\n",
              "      <td>...</td>\n",
              "    </tr>\n",
              "    <tr>\n",
              "      <th>444658</th>\n",
              "      <td>ca944555-1ee4-4228-979d-8313690ae950</td>\n",
              "      <td>2021-05-12 17:00:00</td>\n",
              "      <td>1.364</td>\n",
              "      <td>1.5440</td>\n",
              "      <td>1.4840</td>\n",
              "      <td>1.000000</td>\n",
              "      <td>1.0</td>\n",
              "      <td>1.0</td>\n",
              "    </tr>\n",
              "    <tr>\n",
              "      <th>444659</th>\n",
              "      <td>ca944555-1ee4-4228-979d-8313690ae950</td>\n",
              "      <td>2021-05-12 18:00:00</td>\n",
              "      <td>1.349</td>\n",
              "      <td>1.5390</td>\n",
              "      <td>1.4790</td>\n",
              "      <td>1.000000</td>\n",
              "      <td>0.0</td>\n",
              "      <td>0.0</td>\n",
              "    </tr>\n",
              "    <tr>\n",
              "      <th>444660</th>\n",
              "      <td>ca944555-1ee4-4228-979d-8313690ae950</td>\n",
              "      <td>2021-05-12 19:00:00</td>\n",
              "      <td>1.389</td>\n",
              "      <td>1.5690</td>\n",
              "      <td>1.5090</td>\n",
              "      <td>0.333333</td>\n",
              "      <td>1.0</td>\n",
              "      <td>1.0</td>\n",
              "    </tr>\n",
              "    <tr>\n",
              "      <th>444661</th>\n",
              "      <td>ca944555-1ee4-4228-979d-8313690ae950</td>\n",
              "      <td>2021-05-12 20:00:00</td>\n",
              "      <td>1.374</td>\n",
              "      <td>1.5590</td>\n",
              "      <td>1.4990</td>\n",
              "      <td>1.000000</td>\n",
              "      <td>0.0</td>\n",
              "      <td>0.0</td>\n",
              "    </tr>\n",
              "    <tr>\n",
              "      <th>444662</th>\n",
              "      <td>ca944555-1ee4-4228-979d-8313690ae950</td>\n",
              "      <td>2021-05-12 22:00:00</td>\n",
              "      <td>1.429</td>\n",
              "      <td>1.6190</td>\n",
              "      <td>1.5590</td>\n",
              "      <td>1.000000</td>\n",
              "      <td>1.0</td>\n",
              "      <td>1.0</td>\n",
              "    </tr>\n",
              "  </tbody>\n",
              "</table>\n",
              "<p>172 rows × 8 columns</p>\n",
              "</div>"
            ],
            "text/plain": [
              "                                station_uuid  ... e10change\n",
              "141451  386fa94f-2434-451c-981e-a7e230e08114  ...       1.0\n",
              "141452  386fa94f-2434-451c-981e-a7e230e08114  ...       1.0\n",
              "141453  386fa94f-2434-451c-981e-a7e230e08114  ...       1.0\n",
              "141454  386fa94f-2434-451c-981e-a7e230e08114  ...       1.0\n",
              "141455  386fa94f-2434-451c-981e-a7e230e08114  ...       1.0\n",
              "...                                      ...  ...       ...\n",
              "444658  ca944555-1ee4-4228-979d-8313690ae950  ...       1.0\n",
              "444659  ca944555-1ee4-4228-979d-8313690ae950  ...       0.0\n",
              "444660  ca944555-1ee4-4228-979d-8313690ae950  ...       1.0\n",
              "444661  ca944555-1ee4-4228-979d-8313690ae950  ...       0.0\n",
              "444662  ca944555-1ee4-4228-979d-8313690ae950  ...       1.0\n",
              "\n",
              "[172 rows x 8 columns]"
            ]
          },
          "metadata": {
            "tags": []
          },
          "execution_count": 61
        }
      ]
    },
    {
      "cell_type": "markdown",
      "metadata": {
        "id": "FkLZ5WOtTdBY"
      },
      "source": [
        "This can be also visualized in a line graph:"
      ]
    },
    {
      "cell_type": "code",
      "metadata": {
        "id": "nkLoSx10UnhN"
      },
      "source": [
        "import seaborn as sns"
      ],
      "execution_count": 62,
      "outputs": []
    },
    {
      "cell_type": "code",
      "metadata": {
        "colab": {
          "base_uri": "https://localhost:8080/",
          "height": 339
        },
        "id": "vFhMW7aoTszb",
        "outputId": "18da72fd-4cfd-40bc-9dc7-2a50c58e1081"
      },
      "source": [
        "sns.relplot(x='date', col='variable',y='value', hue='station_uuid', kind='line',\n",
        "            data=pd.melt(prices_resampled_stations, value_vars=['diesel', 'e5', 'e10'], id_vars=['date', 'station_uuid']))"
      ],
      "execution_count": 63,
      "outputs": [
        {
          "output_type": "execute_result",
          "data": {
            "text/plain": [
              "<seaborn.axisgrid.FacetGrid at 0x7fa4aba2ea90>"
            ]
          },
          "metadata": {
            "tags": []
          },
          "execution_count": 63
        },
        {
          "output_type": "display_data",
          "data": {
            "image/png": "[encoded data removed]",
            "text/plain": [
              "<Figure size 1331.12x360 with 3 Axes>"
            ]
          },
          "metadata": {
            "tags": [],
            "needs_background": "light"
          }
        }
      ]
    },
    {
      "cell_type": "markdown",
      "metadata": {
        "id": "zkD-zYDZOWU-"
      },
      "source": [
        "# Models"
      ]
    },
    {
      "cell_type": "markdown",
      "metadata": {
        "id": "cztQ4EYJUK4V"
      },
      "source": [
        "For further analysis, data of the oil price will be included"
      ]
    },
    {
      "cell_type": "markdown",
      "metadata": {
        "id": "oM3NbLeYhSYy"
      },
      "source": [
        "RANDOM FOREST"
      ]
    },
    {
      "cell_type": "markdown",
      "metadata": {
        "id": "3K4Hk0ABg4S2"
      },
      "source": [
        "Für den Random Forest teil kann man sagen \"Neural networks can be good, but random forests learn faster & better\""
      ]
    },
    {
      "cell_type": "code",
      "metadata": {
        "id": "D0jqvv6IhBbr"
      },
      "source": [
        ""
      ],
      "execution_count": null,
      "outputs": []
    }
  ]
}